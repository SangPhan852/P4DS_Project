{
 "cells": [
  {
   "attachments": {},
   "cell_type": "markdown",
   "metadata": {},
   "source": [
    "<center>\n",
    "\n",
    "# **Đồ án cuối kì**\n",
    "\n",
    "# **Môn Lập trình cho khoa học dữ liệu**\n",
    "\n",
    "## **Chủ đề: Phân tích chứng bệnh béo phì dựa trên<br>thói quen ăn uống và điều kiện thể chất**\n",
    "\n",
    "</center>"
   ]
  },
  {
   "attachments": {},
   "cell_type": "markdown",
   "metadata": {},
   "source": [
    "<center>\n",
    "\n",
    "# **Mục lục**\n",
    "\n",
    "</center>"
   ]
  },
  {
   "attachments": {},
   "cell_type": "markdown",
   "metadata": {},
   "source": [
    "# **Các thư viện sử dụng**"
   ]
  },
  {
   "cell_type": "code",
   "execution_count": 2,
   "metadata": {},
   "outputs": [],
   "source": [
    "# Libraries and Modules used\n",
    "import numpy as np\n",
    "import pandas as pd\n",
    "import matplotlib.pyplot as plt\n",
    "\n"
   ]
  },
  {
   "attachments": {},
   "cell_type": "markdown",
   "metadata": {},
   "source": [
    "---"
   ]
  },
  {
   "attachments": {},
   "cell_type": "markdown",
   "metadata": {},
   "source": [
    "# **Mô tả tập dữ liệu**"
   ]
  },
  {
   "attachments": {},
   "cell_type": "markdown",
   "metadata": {},
   "source": [
    "- Tập dữ liệu này được thu thập từ [Kaggle](https://www.kaggle.com/datasets/ankurbajaj9/obesity-levels?select=ObesityDataSet_raw_and_data_sinthetic.csv). Nhìn chung, tập dữ liệu mô tả sự dự đoán về mức độ béo phì của khoảng hơn 2000 người ở Mexico, Peru và Colombia vào năm 2019, dựa trên thói quen ăn uống và điều kiện thể chất của họ.\n",
    "\n",
    "- Tập dữ liệu này là một tập dữ liệu mở được công bố dưới bản quyền [***Creative Commons CC-BY license***](https://creativecommons.org/licenses/by/4.0/), cho phép sử dụng không hạn chế dưới mọi hình thức, miễn là người dùng giữ nguyên tập dữ liệu gốc.\n",
    "\n",
    "- 77% của dữ liệu được tổng hợp bằng công cụ Weka và bộ lọc SMOTE, trong khi đó 23% của dữ liệu được thu thập trực tiếp từ người dùng thông qua 1 nền tảng web.\n",
    "\n",
    "- Qua việc xử lý và phân tích tập dữ liệu này, chúng ta có thể xây dựng nên các mô hình tính toán dự đoán mức độ béo phì của mỗi cá nhân, cũng như là tạo ra những hệ thống khuyến nghị nhằm kiểm soát nguy cơ béo phì trong cộng đồng."
   ]
  },
  {
   "attachments": {},
   "cell_type": "markdown",
   "metadata": {},
   "source": [
    "---"
   ]
  },
  {
   "attachments": {},
   "cell_type": "markdown",
   "metadata": {},
   "source": [
    "# **Tiền xử lý dữ liệu**"
   ]
  },
  {
   "attachments": {},
   "cell_type": "markdown",
   "metadata": {},
   "source": [
    "## Đọc dữ liệu vào Dataframe"
   ]
  },
  {
   "cell_type": "code",
   "execution_count": 3,
   "metadata": {},
   "outputs": [
    {
     "data": {
      "text/html": [
       "<div>\n",
       "<style scoped>\n",
       "    .dataframe tbody tr th:only-of-type {\n",
       "        vertical-align: middle;\n",
       "    }\n",
       "\n",
       "    .dataframe tbody tr th {\n",
       "        vertical-align: top;\n",
       "    }\n",
       "\n",
       "    .dataframe thead th {\n",
       "        text-align: right;\n",
       "    }\n",
       "</style>\n",
       "<table border=\"1\" class=\"dataframe\">\n",
       "  <thead>\n",
       "    <tr style=\"text-align: right;\">\n",
       "      <th></th>\n",
       "      <th>Gender</th>\n",
       "      <th>Age</th>\n",
       "      <th>Height</th>\n",
       "      <th>Weight</th>\n",
       "      <th>family_history_with_overweight</th>\n",
       "      <th>FAVC</th>\n",
       "      <th>FCVC</th>\n",
       "      <th>NCP</th>\n",
       "      <th>CAEC</th>\n",
       "      <th>SMOKE</th>\n",
       "      <th>CH2O</th>\n",
       "      <th>SCC</th>\n",
       "      <th>FAF</th>\n",
       "      <th>TUE</th>\n",
       "      <th>CALC</th>\n",
       "      <th>MTRANS</th>\n",
       "      <th>NObeyesdad</th>\n",
       "    </tr>\n",
       "  </thead>\n",
       "  <tbody>\n",
       "    <tr>\n",
       "      <th>0</th>\n",
       "      <td>Female</td>\n",
       "      <td>21.000000</td>\n",
       "      <td>1.620000</td>\n",
       "      <td>64.000000</td>\n",
       "      <td>yes</td>\n",
       "      <td>no</td>\n",
       "      <td>2.0</td>\n",
       "      <td>3.0</td>\n",
       "      <td>Sometimes</td>\n",
       "      <td>no</td>\n",
       "      <td>2.000000</td>\n",
       "      <td>no</td>\n",
       "      <td>0.000000</td>\n",
       "      <td>1.000000</td>\n",
       "      <td>no</td>\n",
       "      <td>Public_Transportation</td>\n",
       "      <td>Normal_Weight</td>\n",
       "    </tr>\n",
       "    <tr>\n",
       "      <th>1</th>\n",
       "      <td>Female</td>\n",
       "      <td>21.000000</td>\n",
       "      <td>1.520000</td>\n",
       "      <td>56.000000</td>\n",
       "      <td>yes</td>\n",
       "      <td>no</td>\n",
       "      <td>3.0</td>\n",
       "      <td>3.0</td>\n",
       "      <td>Sometimes</td>\n",
       "      <td>yes</td>\n",
       "      <td>3.000000</td>\n",
       "      <td>yes</td>\n",
       "      <td>3.000000</td>\n",
       "      <td>0.000000</td>\n",
       "      <td>Sometimes</td>\n",
       "      <td>Public_Transportation</td>\n",
       "      <td>Normal_Weight</td>\n",
       "    </tr>\n",
       "    <tr>\n",
       "      <th>2</th>\n",
       "      <td>Male</td>\n",
       "      <td>23.000000</td>\n",
       "      <td>1.800000</td>\n",
       "      <td>77.000000</td>\n",
       "      <td>yes</td>\n",
       "      <td>no</td>\n",
       "      <td>2.0</td>\n",
       "      <td>3.0</td>\n",
       "      <td>Sometimes</td>\n",
       "      <td>no</td>\n",
       "      <td>2.000000</td>\n",
       "      <td>no</td>\n",
       "      <td>2.000000</td>\n",
       "      <td>1.000000</td>\n",
       "      <td>Frequently</td>\n",
       "      <td>Public_Transportation</td>\n",
       "      <td>Normal_Weight</td>\n",
       "    </tr>\n",
       "    <tr>\n",
       "      <th>3</th>\n",
       "      <td>Male</td>\n",
       "      <td>27.000000</td>\n",
       "      <td>1.800000</td>\n",
       "      <td>87.000000</td>\n",
       "      <td>no</td>\n",
       "      <td>no</td>\n",
       "      <td>3.0</td>\n",
       "      <td>3.0</td>\n",
       "      <td>Sometimes</td>\n",
       "      <td>no</td>\n",
       "      <td>2.000000</td>\n",
       "      <td>no</td>\n",
       "      <td>2.000000</td>\n",
       "      <td>0.000000</td>\n",
       "      <td>Frequently</td>\n",
       "      <td>Walking</td>\n",
       "      <td>Overweight_Level_I</td>\n",
       "    </tr>\n",
       "    <tr>\n",
       "      <th>4</th>\n",
       "      <td>Male</td>\n",
       "      <td>22.000000</td>\n",
       "      <td>1.780000</td>\n",
       "      <td>89.800000</td>\n",
       "      <td>no</td>\n",
       "      <td>no</td>\n",
       "      <td>2.0</td>\n",
       "      <td>1.0</td>\n",
       "      <td>Sometimes</td>\n",
       "      <td>no</td>\n",
       "      <td>2.000000</td>\n",
       "      <td>no</td>\n",
       "      <td>0.000000</td>\n",
       "      <td>0.000000</td>\n",
       "      <td>Sometimes</td>\n",
       "      <td>Public_Transportation</td>\n",
       "      <td>Overweight_Level_II</td>\n",
       "    </tr>\n",
       "    <tr>\n",
       "      <th>...</th>\n",
       "      <td>...</td>\n",
       "      <td>...</td>\n",
       "      <td>...</td>\n",
       "      <td>...</td>\n",
       "      <td>...</td>\n",
       "      <td>...</td>\n",
       "      <td>...</td>\n",
       "      <td>...</td>\n",
       "      <td>...</td>\n",
       "      <td>...</td>\n",
       "      <td>...</td>\n",
       "      <td>...</td>\n",
       "      <td>...</td>\n",
       "      <td>...</td>\n",
       "      <td>...</td>\n",
       "      <td>...</td>\n",
       "      <td>...</td>\n",
       "    </tr>\n",
       "    <tr>\n",
       "      <th>2106</th>\n",
       "      <td>Female</td>\n",
       "      <td>20.976842</td>\n",
       "      <td>1.710730</td>\n",
       "      <td>131.408528</td>\n",
       "      <td>yes</td>\n",
       "      <td>yes</td>\n",
       "      <td>3.0</td>\n",
       "      <td>3.0</td>\n",
       "      <td>Sometimes</td>\n",
       "      <td>no</td>\n",
       "      <td>1.728139</td>\n",
       "      <td>no</td>\n",
       "      <td>1.676269</td>\n",
       "      <td>0.906247</td>\n",
       "      <td>Sometimes</td>\n",
       "      <td>Public_Transportation</td>\n",
       "      <td>Obesity_Type_III</td>\n",
       "    </tr>\n",
       "    <tr>\n",
       "      <th>2107</th>\n",
       "      <td>Female</td>\n",
       "      <td>21.982942</td>\n",
       "      <td>1.748584</td>\n",
       "      <td>133.742943</td>\n",
       "      <td>yes</td>\n",
       "      <td>yes</td>\n",
       "      <td>3.0</td>\n",
       "      <td>3.0</td>\n",
       "      <td>Sometimes</td>\n",
       "      <td>no</td>\n",
       "      <td>2.005130</td>\n",
       "      <td>no</td>\n",
       "      <td>1.341390</td>\n",
       "      <td>0.599270</td>\n",
       "      <td>Sometimes</td>\n",
       "      <td>Public_Transportation</td>\n",
       "      <td>Obesity_Type_III</td>\n",
       "    </tr>\n",
       "    <tr>\n",
       "      <th>2108</th>\n",
       "      <td>Female</td>\n",
       "      <td>22.524036</td>\n",
       "      <td>1.752206</td>\n",
       "      <td>133.689352</td>\n",
       "      <td>yes</td>\n",
       "      <td>yes</td>\n",
       "      <td>3.0</td>\n",
       "      <td>3.0</td>\n",
       "      <td>Sometimes</td>\n",
       "      <td>no</td>\n",
       "      <td>2.054193</td>\n",
       "      <td>no</td>\n",
       "      <td>1.414209</td>\n",
       "      <td>0.646288</td>\n",
       "      <td>Sometimes</td>\n",
       "      <td>Public_Transportation</td>\n",
       "      <td>Obesity_Type_III</td>\n",
       "    </tr>\n",
       "    <tr>\n",
       "      <th>2109</th>\n",
       "      <td>Female</td>\n",
       "      <td>24.361936</td>\n",
       "      <td>1.739450</td>\n",
       "      <td>133.346641</td>\n",
       "      <td>yes</td>\n",
       "      <td>yes</td>\n",
       "      <td>3.0</td>\n",
       "      <td>3.0</td>\n",
       "      <td>Sometimes</td>\n",
       "      <td>no</td>\n",
       "      <td>2.852339</td>\n",
       "      <td>no</td>\n",
       "      <td>1.139107</td>\n",
       "      <td>0.586035</td>\n",
       "      <td>Sometimes</td>\n",
       "      <td>Public_Transportation</td>\n",
       "      <td>Obesity_Type_III</td>\n",
       "    </tr>\n",
       "    <tr>\n",
       "      <th>2110</th>\n",
       "      <td>Female</td>\n",
       "      <td>23.664709</td>\n",
       "      <td>1.738836</td>\n",
       "      <td>133.472641</td>\n",
       "      <td>yes</td>\n",
       "      <td>yes</td>\n",
       "      <td>3.0</td>\n",
       "      <td>3.0</td>\n",
       "      <td>Sometimes</td>\n",
       "      <td>no</td>\n",
       "      <td>2.863513</td>\n",
       "      <td>no</td>\n",
       "      <td>1.026452</td>\n",
       "      <td>0.714137</td>\n",
       "      <td>Sometimes</td>\n",
       "      <td>Public_Transportation</td>\n",
       "      <td>Obesity_Type_III</td>\n",
       "    </tr>\n",
       "  </tbody>\n",
       "</table>\n",
       "<p>2111 rows × 17 columns</p>\n",
       "</div>"
      ],
      "text/plain": [
       "      Gender        Age    Height      Weight family_history_with_overweight  \\\n",
       "0     Female  21.000000  1.620000   64.000000                            yes   \n",
       "1     Female  21.000000  1.520000   56.000000                            yes   \n",
       "2       Male  23.000000  1.800000   77.000000                            yes   \n",
       "3       Male  27.000000  1.800000   87.000000                             no   \n",
       "4       Male  22.000000  1.780000   89.800000                             no   \n",
       "...      ...        ...       ...         ...                            ...   \n",
       "2106  Female  20.976842  1.710730  131.408528                            yes   \n",
       "2107  Female  21.982942  1.748584  133.742943                            yes   \n",
       "2108  Female  22.524036  1.752206  133.689352                            yes   \n",
       "2109  Female  24.361936  1.739450  133.346641                            yes   \n",
       "2110  Female  23.664709  1.738836  133.472641                            yes   \n",
       "\n",
       "     FAVC  FCVC  NCP       CAEC SMOKE      CH2O  SCC       FAF       TUE  \\\n",
       "0      no   2.0  3.0  Sometimes    no  2.000000   no  0.000000  1.000000   \n",
       "1      no   3.0  3.0  Sometimes   yes  3.000000  yes  3.000000  0.000000   \n",
       "2      no   2.0  3.0  Sometimes    no  2.000000   no  2.000000  1.000000   \n",
       "3      no   3.0  3.0  Sometimes    no  2.000000   no  2.000000  0.000000   \n",
       "4      no   2.0  1.0  Sometimes    no  2.000000   no  0.000000  0.000000   \n",
       "...   ...   ...  ...        ...   ...       ...  ...       ...       ...   \n",
       "2106  yes   3.0  3.0  Sometimes    no  1.728139   no  1.676269  0.906247   \n",
       "2107  yes   3.0  3.0  Sometimes    no  2.005130   no  1.341390  0.599270   \n",
       "2108  yes   3.0  3.0  Sometimes    no  2.054193   no  1.414209  0.646288   \n",
       "2109  yes   3.0  3.0  Sometimes    no  2.852339   no  1.139107  0.586035   \n",
       "2110  yes   3.0  3.0  Sometimes    no  2.863513   no  1.026452  0.714137   \n",
       "\n",
       "            CALC                 MTRANS           NObeyesdad  \n",
       "0             no  Public_Transportation        Normal_Weight  \n",
       "1      Sometimes  Public_Transportation        Normal_Weight  \n",
       "2     Frequently  Public_Transportation        Normal_Weight  \n",
       "3     Frequently                Walking   Overweight_Level_I  \n",
       "4      Sometimes  Public_Transportation  Overweight_Level_II  \n",
       "...          ...                    ...                  ...  \n",
       "2106   Sometimes  Public_Transportation     Obesity_Type_III  \n",
       "2107   Sometimes  Public_Transportation     Obesity_Type_III  \n",
       "2108   Sometimes  Public_Transportation     Obesity_Type_III  \n",
       "2109   Sometimes  Public_Transportation     Obesity_Type_III  \n",
       "2110   Sometimes  Public_Transportation     Obesity_Type_III  \n",
       "\n",
       "[2111 rows x 17 columns]"
      ]
     },
     "execution_count": 3,
     "metadata": {},
     "output_type": "execute_result"
    }
   ],
   "source": [
    "obe_df = pd.read_csv('obesity.csv', encoding='utf-8')\n",
    "obe_df"
   ]
  },
  {
   "attachments": {},
   "cell_type": "markdown",
   "metadata": {},
   "source": [
    "## Số dòng và số cột của tập dữ liệu"
   ]
  },
  {
   "cell_type": "code",
   "execution_count": 4,
   "metadata": {},
   "outputs": [
    {
     "name": "stdout",
     "output_type": "stream",
     "text": [
      "Số dòng: 2111\n",
      "Số cột 17\n"
     ]
    }
   ],
   "source": [
    "row = obe_df.shape[0]\n",
    "col = obe_df.shape[1]\n",
    "print('Số dòng:', row)\n",
    "print('Số cột', col)"
   ]
  },
  {
   "attachments": {},
   "cell_type": "markdown",
   "metadata": {},
   "source": [
    "## Ý nghĩa của mỗi dòng"
   ]
  },
  {
   "attachments": {},
   "cell_type": "markdown",
   "metadata": {},
   "source": [
    "- Mỗi dòng là thông tin cá nhân và thông tin về thói quen ăn uống cũng như là điều kiện thể chất của mỗi người được khảo sát."
   ]
  },
  {
   "attachments": {},
   "cell_type": "markdown",
   "metadata": {},
   "source": [
    "## Kiểm tra các dòng bị trùng lắp"
   ]
  },
  {
   "attachments": {},
   "cell_type": "markdown",
   "metadata": {},
   "source": [
    "- Tập dữ liệu ở đây không có cột ID, hoặc đặc trưng nào đó tương tự như ID để phân biệt các người được khảo sát. Cho nên rất có thể sẽ có những dòng chứa thông tin và chỉ số của những người khác nhau nhưng giống hệt nhau."
   ]
  },
  {
   "attachments": {},
   "cell_type": "markdown",
   "metadata": {},
   "source": [
    "- Kiểm tra"
   ]
  },
  {
   "cell_type": "code",
   "execution_count": 5,
   "metadata": {},
   "outputs": [
    {
     "name": "stdout",
     "output_type": "stream",
     "text": [
      "Số dòng bị trùng lắp: 24\n"
     ]
    },
    {
     "data": {
      "text/html": [
       "<div>\n",
       "<style scoped>\n",
       "    .dataframe tbody tr th:only-of-type {\n",
       "        vertical-align: middle;\n",
       "    }\n",
       "\n",
       "    .dataframe tbody tr th {\n",
       "        vertical-align: top;\n",
       "    }\n",
       "\n",
       "    .dataframe thead th {\n",
       "        text-align: right;\n",
       "    }\n",
       "</style>\n",
       "<table border=\"1\" class=\"dataframe\">\n",
       "  <thead>\n",
       "    <tr style=\"text-align: right;\">\n",
       "      <th></th>\n",
       "      <th>Gender</th>\n",
       "      <th>Age</th>\n",
       "      <th>Height</th>\n",
       "      <th>Weight</th>\n",
       "      <th>family_history_with_overweight</th>\n",
       "      <th>FAVC</th>\n",
       "      <th>FCVC</th>\n",
       "      <th>NCP</th>\n",
       "      <th>CAEC</th>\n",
       "      <th>SMOKE</th>\n",
       "      <th>CH2O</th>\n",
       "      <th>SCC</th>\n",
       "      <th>FAF</th>\n",
       "      <th>TUE</th>\n",
       "      <th>CALC</th>\n",
       "      <th>MTRANS</th>\n",
       "      <th>NObeyesdad</th>\n",
       "    </tr>\n",
       "  </thead>\n",
       "  <tbody>\n",
       "    <tr>\n",
       "      <th>98</th>\n",
       "      <td>Female</td>\n",
       "      <td>21.0</td>\n",
       "      <td>1.52</td>\n",
       "      <td>42.0</td>\n",
       "      <td>no</td>\n",
       "      <td>no</td>\n",
       "      <td>3.0</td>\n",
       "      <td>1.0</td>\n",
       "      <td>Frequently</td>\n",
       "      <td>no</td>\n",
       "      <td>1.0</td>\n",
       "      <td>no</td>\n",
       "      <td>0.0</td>\n",
       "      <td>0.0</td>\n",
       "      <td>Sometimes</td>\n",
       "      <td>Public_Transportation</td>\n",
       "      <td>Insufficient_Weight</td>\n",
       "    </tr>\n",
       "    <tr>\n",
       "      <th>106</th>\n",
       "      <td>Female</td>\n",
       "      <td>25.0</td>\n",
       "      <td>1.57</td>\n",
       "      <td>55.0</td>\n",
       "      <td>no</td>\n",
       "      <td>yes</td>\n",
       "      <td>2.0</td>\n",
       "      <td>1.0</td>\n",
       "      <td>Sometimes</td>\n",
       "      <td>no</td>\n",
       "      <td>2.0</td>\n",
       "      <td>no</td>\n",
       "      <td>2.0</td>\n",
       "      <td>0.0</td>\n",
       "      <td>Sometimes</td>\n",
       "      <td>Public_Transportation</td>\n",
       "      <td>Normal_Weight</td>\n",
       "    </tr>\n",
       "    <tr>\n",
       "      <th>174</th>\n",
       "      <td>Male</td>\n",
       "      <td>21.0</td>\n",
       "      <td>1.62</td>\n",
       "      <td>70.0</td>\n",
       "      <td>no</td>\n",
       "      <td>yes</td>\n",
       "      <td>2.0</td>\n",
       "      <td>1.0</td>\n",
       "      <td>no</td>\n",
       "      <td>no</td>\n",
       "      <td>3.0</td>\n",
       "      <td>no</td>\n",
       "      <td>1.0</td>\n",
       "      <td>0.0</td>\n",
       "      <td>Sometimes</td>\n",
       "      <td>Public_Transportation</td>\n",
       "      <td>Overweight_Level_I</td>\n",
       "    </tr>\n",
       "    <tr>\n",
       "      <th>179</th>\n",
       "      <td>Male</td>\n",
       "      <td>21.0</td>\n",
       "      <td>1.62</td>\n",
       "      <td>70.0</td>\n",
       "      <td>no</td>\n",
       "      <td>yes</td>\n",
       "      <td>2.0</td>\n",
       "      <td>1.0</td>\n",
       "      <td>no</td>\n",
       "      <td>no</td>\n",
       "      <td>3.0</td>\n",
       "      <td>no</td>\n",
       "      <td>1.0</td>\n",
       "      <td>0.0</td>\n",
       "      <td>Sometimes</td>\n",
       "      <td>Public_Transportation</td>\n",
       "      <td>Overweight_Level_I</td>\n",
       "    </tr>\n",
       "    <tr>\n",
       "      <th>184</th>\n",
       "      <td>Male</td>\n",
       "      <td>21.0</td>\n",
       "      <td>1.62</td>\n",
       "      <td>70.0</td>\n",
       "      <td>no</td>\n",
       "      <td>yes</td>\n",
       "      <td>2.0</td>\n",
       "      <td>1.0</td>\n",
       "      <td>no</td>\n",
       "      <td>no</td>\n",
       "      <td>3.0</td>\n",
       "      <td>no</td>\n",
       "      <td>1.0</td>\n",
       "      <td>0.0</td>\n",
       "      <td>Sometimes</td>\n",
       "      <td>Public_Transportation</td>\n",
       "      <td>Overweight_Level_I</td>\n",
       "    </tr>\n",
       "    <tr>\n",
       "      <th>209</th>\n",
       "      <td>Female</td>\n",
       "      <td>22.0</td>\n",
       "      <td>1.69</td>\n",
       "      <td>65.0</td>\n",
       "      <td>yes</td>\n",
       "      <td>yes</td>\n",
       "      <td>2.0</td>\n",
       "      <td>3.0</td>\n",
       "      <td>Sometimes</td>\n",
       "      <td>no</td>\n",
       "      <td>2.0</td>\n",
       "      <td>no</td>\n",
       "      <td>1.0</td>\n",
       "      <td>1.0</td>\n",
       "      <td>Sometimes</td>\n",
       "      <td>Public_Transportation</td>\n",
       "      <td>Normal_Weight</td>\n",
       "    </tr>\n",
       "    <tr>\n",
       "      <th>309</th>\n",
       "      <td>Female</td>\n",
       "      <td>16.0</td>\n",
       "      <td>1.66</td>\n",
       "      <td>58.0</td>\n",
       "      <td>no</td>\n",
       "      <td>no</td>\n",
       "      <td>2.0</td>\n",
       "      <td>1.0</td>\n",
       "      <td>Sometimes</td>\n",
       "      <td>no</td>\n",
       "      <td>1.0</td>\n",
       "      <td>no</td>\n",
       "      <td>0.0</td>\n",
       "      <td>1.0</td>\n",
       "      <td>no</td>\n",
       "      <td>Walking</td>\n",
       "      <td>Normal_Weight</td>\n",
       "    </tr>\n",
       "    <tr>\n",
       "      <th>460</th>\n",
       "      <td>Female</td>\n",
       "      <td>18.0</td>\n",
       "      <td>1.62</td>\n",
       "      <td>55.0</td>\n",
       "      <td>yes</td>\n",
       "      <td>yes</td>\n",
       "      <td>2.0</td>\n",
       "      <td>3.0</td>\n",
       "      <td>Frequently</td>\n",
       "      <td>no</td>\n",
       "      <td>1.0</td>\n",
       "      <td>no</td>\n",
       "      <td>1.0</td>\n",
       "      <td>1.0</td>\n",
       "      <td>no</td>\n",
       "      <td>Public_Transportation</td>\n",
       "      <td>Normal_Weight</td>\n",
       "    </tr>\n",
       "    <tr>\n",
       "      <th>467</th>\n",
       "      <td>Male</td>\n",
       "      <td>22.0</td>\n",
       "      <td>1.74</td>\n",
       "      <td>75.0</td>\n",
       "      <td>yes</td>\n",
       "      <td>yes</td>\n",
       "      <td>3.0</td>\n",
       "      <td>3.0</td>\n",
       "      <td>Frequently</td>\n",
       "      <td>no</td>\n",
       "      <td>1.0</td>\n",
       "      <td>no</td>\n",
       "      <td>1.0</td>\n",
       "      <td>0.0</td>\n",
       "      <td>no</td>\n",
       "      <td>Automobile</td>\n",
       "      <td>Normal_Weight</td>\n",
       "    </tr>\n",
       "    <tr>\n",
       "      <th>496</th>\n",
       "      <td>Male</td>\n",
       "      <td>18.0</td>\n",
       "      <td>1.72</td>\n",
       "      <td>53.0</td>\n",
       "      <td>yes</td>\n",
       "      <td>yes</td>\n",
       "      <td>2.0</td>\n",
       "      <td>3.0</td>\n",
       "      <td>Sometimes</td>\n",
       "      <td>no</td>\n",
       "      <td>2.0</td>\n",
       "      <td>no</td>\n",
       "      <td>0.0</td>\n",
       "      <td>2.0</td>\n",
       "      <td>Sometimes</td>\n",
       "      <td>Public_Transportation</td>\n",
       "      <td>Insufficient_Weight</td>\n",
       "    </tr>\n",
       "    <tr>\n",
       "      <th>527</th>\n",
       "      <td>Female</td>\n",
       "      <td>21.0</td>\n",
       "      <td>1.52</td>\n",
       "      <td>42.0</td>\n",
       "      <td>no</td>\n",
       "      <td>yes</td>\n",
       "      <td>3.0</td>\n",
       "      <td>1.0</td>\n",
       "      <td>Frequently</td>\n",
       "      <td>no</td>\n",
       "      <td>1.0</td>\n",
       "      <td>no</td>\n",
       "      <td>0.0</td>\n",
       "      <td>0.0</td>\n",
       "      <td>Sometimes</td>\n",
       "      <td>Public_Transportation</td>\n",
       "      <td>Insufficient_Weight</td>\n",
       "    </tr>\n",
       "    <tr>\n",
       "      <th>659</th>\n",
       "      <td>Female</td>\n",
       "      <td>21.0</td>\n",
       "      <td>1.52</td>\n",
       "      <td>42.0</td>\n",
       "      <td>no</td>\n",
       "      <td>yes</td>\n",
       "      <td>3.0</td>\n",
       "      <td>1.0</td>\n",
       "      <td>Frequently</td>\n",
       "      <td>no</td>\n",
       "      <td>1.0</td>\n",
       "      <td>no</td>\n",
       "      <td>0.0</td>\n",
       "      <td>0.0</td>\n",
       "      <td>Sometimes</td>\n",
       "      <td>Public_Transportation</td>\n",
       "      <td>Insufficient_Weight</td>\n",
       "    </tr>\n",
       "    <tr>\n",
       "      <th>663</th>\n",
       "      <td>Female</td>\n",
       "      <td>21.0</td>\n",
       "      <td>1.52</td>\n",
       "      <td>42.0</td>\n",
       "      <td>no</td>\n",
       "      <td>yes</td>\n",
       "      <td>3.0</td>\n",
       "      <td>1.0</td>\n",
       "      <td>Frequently</td>\n",
       "      <td>no</td>\n",
       "      <td>1.0</td>\n",
       "      <td>no</td>\n",
       "      <td>0.0</td>\n",
       "      <td>0.0</td>\n",
       "      <td>Sometimes</td>\n",
       "      <td>Public_Transportation</td>\n",
       "      <td>Insufficient_Weight</td>\n",
       "    </tr>\n",
       "    <tr>\n",
       "      <th>763</th>\n",
       "      <td>Male</td>\n",
       "      <td>21.0</td>\n",
       "      <td>1.62</td>\n",
       "      <td>70.0</td>\n",
       "      <td>no</td>\n",
       "      <td>yes</td>\n",
       "      <td>2.0</td>\n",
       "      <td>1.0</td>\n",
       "      <td>no</td>\n",
       "      <td>no</td>\n",
       "      <td>3.0</td>\n",
       "      <td>no</td>\n",
       "      <td>1.0</td>\n",
       "      <td>0.0</td>\n",
       "      <td>Sometimes</td>\n",
       "      <td>Public_Transportation</td>\n",
       "      <td>Overweight_Level_I</td>\n",
       "    </tr>\n",
       "    <tr>\n",
       "      <th>764</th>\n",
       "      <td>Male</td>\n",
       "      <td>21.0</td>\n",
       "      <td>1.62</td>\n",
       "      <td>70.0</td>\n",
       "      <td>no</td>\n",
       "      <td>yes</td>\n",
       "      <td>2.0</td>\n",
       "      <td>1.0</td>\n",
       "      <td>no</td>\n",
       "      <td>no</td>\n",
       "      <td>3.0</td>\n",
       "      <td>no</td>\n",
       "      <td>1.0</td>\n",
       "      <td>0.0</td>\n",
       "      <td>Sometimes</td>\n",
       "      <td>Public_Transportation</td>\n",
       "      <td>Overweight_Level_I</td>\n",
       "    </tr>\n",
       "    <tr>\n",
       "      <th>824</th>\n",
       "      <td>Male</td>\n",
       "      <td>21.0</td>\n",
       "      <td>1.62</td>\n",
       "      <td>70.0</td>\n",
       "      <td>no</td>\n",
       "      <td>yes</td>\n",
       "      <td>2.0</td>\n",
       "      <td>1.0</td>\n",
       "      <td>no</td>\n",
       "      <td>no</td>\n",
       "      <td>3.0</td>\n",
       "      <td>no</td>\n",
       "      <td>1.0</td>\n",
       "      <td>0.0</td>\n",
       "      <td>Sometimes</td>\n",
       "      <td>Public_Transportation</td>\n",
       "      <td>Overweight_Level_I</td>\n",
       "    </tr>\n",
       "    <tr>\n",
       "      <th>830</th>\n",
       "      <td>Male</td>\n",
       "      <td>21.0</td>\n",
       "      <td>1.62</td>\n",
       "      <td>70.0</td>\n",
       "      <td>no</td>\n",
       "      <td>yes</td>\n",
       "      <td>2.0</td>\n",
       "      <td>1.0</td>\n",
       "      <td>no</td>\n",
       "      <td>no</td>\n",
       "      <td>3.0</td>\n",
       "      <td>no</td>\n",
       "      <td>1.0</td>\n",
       "      <td>0.0</td>\n",
       "      <td>Sometimes</td>\n",
       "      <td>Public_Transportation</td>\n",
       "      <td>Overweight_Level_I</td>\n",
       "    </tr>\n",
       "    <tr>\n",
       "      <th>831</th>\n",
       "      <td>Male</td>\n",
       "      <td>21.0</td>\n",
       "      <td>1.62</td>\n",
       "      <td>70.0</td>\n",
       "      <td>no</td>\n",
       "      <td>yes</td>\n",
       "      <td>2.0</td>\n",
       "      <td>1.0</td>\n",
       "      <td>no</td>\n",
       "      <td>no</td>\n",
       "      <td>3.0</td>\n",
       "      <td>no</td>\n",
       "      <td>1.0</td>\n",
       "      <td>0.0</td>\n",
       "      <td>Sometimes</td>\n",
       "      <td>Public_Transportation</td>\n",
       "      <td>Overweight_Level_I</td>\n",
       "    </tr>\n",
       "    <tr>\n",
       "      <th>832</th>\n",
       "      <td>Male</td>\n",
       "      <td>21.0</td>\n",
       "      <td>1.62</td>\n",
       "      <td>70.0</td>\n",
       "      <td>no</td>\n",
       "      <td>yes</td>\n",
       "      <td>2.0</td>\n",
       "      <td>1.0</td>\n",
       "      <td>no</td>\n",
       "      <td>no</td>\n",
       "      <td>3.0</td>\n",
       "      <td>no</td>\n",
       "      <td>1.0</td>\n",
       "      <td>0.0</td>\n",
       "      <td>Sometimes</td>\n",
       "      <td>Public_Transportation</td>\n",
       "      <td>Overweight_Level_I</td>\n",
       "    </tr>\n",
       "    <tr>\n",
       "      <th>833</th>\n",
       "      <td>Male</td>\n",
       "      <td>21.0</td>\n",
       "      <td>1.62</td>\n",
       "      <td>70.0</td>\n",
       "      <td>no</td>\n",
       "      <td>yes</td>\n",
       "      <td>2.0</td>\n",
       "      <td>1.0</td>\n",
       "      <td>no</td>\n",
       "      <td>no</td>\n",
       "      <td>3.0</td>\n",
       "      <td>no</td>\n",
       "      <td>1.0</td>\n",
       "      <td>0.0</td>\n",
       "      <td>Sometimes</td>\n",
       "      <td>Public_Transportation</td>\n",
       "      <td>Overweight_Level_I</td>\n",
       "    </tr>\n",
       "    <tr>\n",
       "      <th>834</th>\n",
       "      <td>Male</td>\n",
       "      <td>21.0</td>\n",
       "      <td>1.62</td>\n",
       "      <td>70.0</td>\n",
       "      <td>no</td>\n",
       "      <td>yes</td>\n",
       "      <td>2.0</td>\n",
       "      <td>1.0</td>\n",
       "      <td>no</td>\n",
       "      <td>no</td>\n",
       "      <td>3.0</td>\n",
       "      <td>no</td>\n",
       "      <td>1.0</td>\n",
       "      <td>0.0</td>\n",
       "      <td>Sometimes</td>\n",
       "      <td>Public_Transportation</td>\n",
       "      <td>Overweight_Level_I</td>\n",
       "    </tr>\n",
       "    <tr>\n",
       "      <th>921</th>\n",
       "      <td>Male</td>\n",
       "      <td>21.0</td>\n",
       "      <td>1.62</td>\n",
       "      <td>70.0</td>\n",
       "      <td>no</td>\n",
       "      <td>yes</td>\n",
       "      <td>2.0</td>\n",
       "      <td>1.0</td>\n",
       "      <td>no</td>\n",
       "      <td>no</td>\n",
       "      <td>3.0</td>\n",
       "      <td>no</td>\n",
       "      <td>1.0</td>\n",
       "      <td>0.0</td>\n",
       "      <td>Sometimes</td>\n",
       "      <td>Public_Transportation</td>\n",
       "      <td>Overweight_Level_I</td>\n",
       "    </tr>\n",
       "    <tr>\n",
       "      <th>922</th>\n",
       "      <td>Male</td>\n",
       "      <td>21.0</td>\n",
       "      <td>1.62</td>\n",
       "      <td>70.0</td>\n",
       "      <td>no</td>\n",
       "      <td>yes</td>\n",
       "      <td>2.0</td>\n",
       "      <td>1.0</td>\n",
       "      <td>no</td>\n",
       "      <td>no</td>\n",
       "      <td>3.0</td>\n",
       "      <td>no</td>\n",
       "      <td>1.0</td>\n",
       "      <td>0.0</td>\n",
       "      <td>Sometimes</td>\n",
       "      <td>Public_Transportation</td>\n",
       "      <td>Overweight_Level_I</td>\n",
       "    </tr>\n",
       "    <tr>\n",
       "      <th>923</th>\n",
       "      <td>Male</td>\n",
       "      <td>21.0</td>\n",
       "      <td>1.62</td>\n",
       "      <td>70.0</td>\n",
       "      <td>no</td>\n",
       "      <td>yes</td>\n",
       "      <td>2.0</td>\n",
       "      <td>1.0</td>\n",
       "      <td>no</td>\n",
       "      <td>no</td>\n",
       "      <td>3.0</td>\n",
       "      <td>no</td>\n",
       "      <td>1.0</td>\n",
       "      <td>0.0</td>\n",
       "      <td>Sometimes</td>\n",
       "      <td>Public_Transportation</td>\n",
       "      <td>Overweight_Level_I</td>\n",
       "    </tr>\n",
       "  </tbody>\n",
       "</table>\n",
       "</div>"
      ],
      "text/plain": [
       "     Gender   Age  Height  Weight family_history_with_overweight FAVC  FCVC  \\\n",
       "98   Female  21.0    1.52    42.0                             no   no   3.0   \n",
       "106  Female  25.0    1.57    55.0                             no  yes   2.0   \n",
       "174    Male  21.0    1.62    70.0                             no  yes   2.0   \n",
       "179    Male  21.0    1.62    70.0                             no  yes   2.0   \n",
       "184    Male  21.0    1.62    70.0                             no  yes   2.0   \n",
       "209  Female  22.0    1.69    65.0                            yes  yes   2.0   \n",
       "309  Female  16.0    1.66    58.0                             no   no   2.0   \n",
       "460  Female  18.0    1.62    55.0                            yes  yes   2.0   \n",
       "467    Male  22.0    1.74    75.0                            yes  yes   3.0   \n",
       "496    Male  18.0    1.72    53.0                            yes  yes   2.0   \n",
       "527  Female  21.0    1.52    42.0                             no  yes   3.0   \n",
       "659  Female  21.0    1.52    42.0                             no  yes   3.0   \n",
       "663  Female  21.0    1.52    42.0                             no  yes   3.0   \n",
       "763    Male  21.0    1.62    70.0                             no  yes   2.0   \n",
       "764    Male  21.0    1.62    70.0                             no  yes   2.0   \n",
       "824    Male  21.0    1.62    70.0                             no  yes   2.0   \n",
       "830    Male  21.0    1.62    70.0                             no  yes   2.0   \n",
       "831    Male  21.0    1.62    70.0                             no  yes   2.0   \n",
       "832    Male  21.0    1.62    70.0                             no  yes   2.0   \n",
       "833    Male  21.0    1.62    70.0                             no  yes   2.0   \n",
       "834    Male  21.0    1.62    70.0                             no  yes   2.0   \n",
       "921    Male  21.0    1.62    70.0                             no  yes   2.0   \n",
       "922    Male  21.0    1.62    70.0                             no  yes   2.0   \n",
       "923    Male  21.0    1.62    70.0                             no  yes   2.0   \n",
       "\n",
       "     NCP        CAEC SMOKE  CH2O SCC  FAF  TUE       CALC  \\\n",
       "98   1.0  Frequently    no   1.0  no  0.0  0.0  Sometimes   \n",
       "106  1.0   Sometimes    no   2.0  no  2.0  0.0  Sometimes   \n",
       "174  1.0          no    no   3.0  no  1.0  0.0  Sometimes   \n",
       "179  1.0          no    no   3.0  no  1.0  0.0  Sometimes   \n",
       "184  1.0          no    no   3.0  no  1.0  0.0  Sometimes   \n",
       "209  3.0   Sometimes    no   2.0  no  1.0  1.0  Sometimes   \n",
       "309  1.0   Sometimes    no   1.0  no  0.0  1.0         no   \n",
       "460  3.0  Frequently    no   1.0  no  1.0  1.0         no   \n",
       "467  3.0  Frequently    no   1.0  no  1.0  0.0         no   \n",
       "496  3.0   Sometimes    no   2.0  no  0.0  2.0  Sometimes   \n",
       "527  1.0  Frequently    no   1.0  no  0.0  0.0  Sometimes   \n",
       "659  1.0  Frequently    no   1.0  no  0.0  0.0  Sometimes   \n",
       "663  1.0  Frequently    no   1.0  no  0.0  0.0  Sometimes   \n",
       "763  1.0          no    no   3.0  no  1.0  0.0  Sometimes   \n",
       "764  1.0          no    no   3.0  no  1.0  0.0  Sometimes   \n",
       "824  1.0          no    no   3.0  no  1.0  0.0  Sometimes   \n",
       "830  1.0          no    no   3.0  no  1.0  0.0  Sometimes   \n",
       "831  1.0          no    no   3.0  no  1.0  0.0  Sometimes   \n",
       "832  1.0          no    no   3.0  no  1.0  0.0  Sometimes   \n",
       "833  1.0          no    no   3.0  no  1.0  0.0  Sometimes   \n",
       "834  1.0          no    no   3.0  no  1.0  0.0  Sometimes   \n",
       "921  1.0          no    no   3.0  no  1.0  0.0  Sometimes   \n",
       "922  1.0          no    no   3.0  no  1.0  0.0  Sometimes   \n",
       "923  1.0          no    no   3.0  no  1.0  0.0  Sometimes   \n",
       "\n",
       "                    MTRANS           NObeyesdad  \n",
       "98   Public_Transportation  Insufficient_Weight  \n",
       "106  Public_Transportation        Normal_Weight  \n",
       "174  Public_Transportation   Overweight_Level_I  \n",
       "179  Public_Transportation   Overweight_Level_I  \n",
       "184  Public_Transportation   Overweight_Level_I  \n",
       "209  Public_Transportation        Normal_Weight  \n",
       "309                Walking        Normal_Weight  \n",
       "460  Public_Transportation        Normal_Weight  \n",
       "467             Automobile        Normal_Weight  \n",
       "496  Public_Transportation  Insufficient_Weight  \n",
       "527  Public_Transportation  Insufficient_Weight  \n",
       "659  Public_Transportation  Insufficient_Weight  \n",
       "663  Public_Transportation  Insufficient_Weight  \n",
       "763  Public_Transportation   Overweight_Level_I  \n",
       "764  Public_Transportation   Overweight_Level_I  \n",
       "824  Public_Transportation   Overweight_Level_I  \n",
       "830  Public_Transportation   Overweight_Level_I  \n",
       "831  Public_Transportation   Overweight_Level_I  \n",
       "832  Public_Transportation   Overweight_Level_I  \n",
       "833  Public_Transportation   Overweight_Level_I  \n",
       "834  Public_Transportation   Overweight_Level_I  \n",
       "921  Public_Transportation   Overweight_Level_I  \n",
       "922  Public_Transportation   Overweight_Level_I  \n",
       "923  Public_Transportation   Overweight_Level_I  "
      ]
     },
     "execution_count": 5,
     "metadata": {},
     "output_type": "execute_result"
    }
   ],
   "source": [
    "duplicated = obe_df.duplicated()\n",
    "duplicated_line = obe_df[duplicated == True]\n",
    "print('Số dòng bị trùng lắp:', len(duplicated_line))\n",
    "duplicated_line"
   ]
  },
  {
   "attachments": {},
   "cell_type": "markdown",
   "metadata": {},
   "source": [
    "- Ở đây có 24 dòng bị trùng lắp, có thể đây là thông tin của những người khác nhau hoàn toàn (hoặc có thể giống nhau). Tuy nhiên, ta có thể cho rằng đây là những người riêng biệt và xử lý như bình thường mà không cần loại bỏ các dòng bị trùng lắp này."
   ]
  },
  {
   "attachments": {},
   "cell_type": "markdown",
   "metadata": {},
   "source": [
    "## Ý nghĩa của mỗi cột"
   ]
  },
  {
   "cell_type": "code",
   "execution_count": 6,
   "metadata": {},
   "outputs": [
    {
     "data": {
      "text/html": [
       "<div>\n",
       "<style scoped>\n",
       "    .dataframe tbody tr th:only-of-type {\n",
       "        vertical-align: middle;\n",
       "    }\n",
       "\n",
       "    .dataframe tbody tr th {\n",
       "        vertical-align: top;\n",
       "    }\n",
       "\n",
       "    .dataframe thead th {\n",
       "        text-align: right;\n",
       "    }\n",
       "</style>\n",
       "<table border=\"1\" class=\"dataframe\">\n",
       "  <thead>\n",
       "    <tr style=\"text-align: right;\">\n",
       "      <th></th>\n",
       "      <th>Đặc trưng</th>\n",
       "      <th>Mô tả</th>\n",
       "    </tr>\n",
       "  </thead>\n",
       "  <tbody>\n",
       "    <tr>\n",
       "      <th>0</th>\n",
       "      <td>Gender</td>\n",
       "      <td>Giới tính</td>\n",
       "    </tr>\n",
       "    <tr>\n",
       "      <th>1</th>\n",
       "      <td>Age</td>\n",
       "      <td>Tuổi</td>\n",
       "    </tr>\n",
       "    <tr>\n",
       "      <th>2</th>\n",
       "      <td>Height</td>\n",
       "      <td>Chiều cao</td>\n",
       "    </tr>\n",
       "    <tr>\n",
       "      <th>3</th>\n",
       "      <td>Weight</td>\n",
       "      <td>Cân nặng</td>\n",
       "    </tr>\n",
       "    <tr>\n",
       "      <th>4</th>\n",
       "      <td>family_history_with_overweight</td>\n",
       "      <td>Gia đình có tiền sử bị thừa cân hay không</td>\n",
       "    </tr>\n",
       "    <tr>\n",
       "      <th>5</th>\n",
       "      <td>FAVC</td>\n",
       "      <td>Có thường xuyên ăn thức ăn nhanh hay không</td>\n",
       "    </tr>\n",
       "    <tr>\n",
       "      <th>6</th>\n",
       "      <td>FCVC</td>\n",
       "      <td>Tần suất ăn rau củ</td>\n",
       "    </tr>\n",
       "    <tr>\n",
       "      <th>7</th>\n",
       "      <td>NCP</td>\n",
       "      <td>Số bữa ăn chính</td>\n",
       "    </tr>\n",
       "    <tr>\n",
       "      <th>8</th>\n",
       "      <td>CAEC</td>\n",
       "      <td>Có ăn vặt giữa các bữa ăn chính hay không</td>\n",
       "    </tr>\n",
       "    <tr>\n",
       "      <th>9</th>\n",
       "      <td>SMOKE</td>\n",
       "      <td>Có hút thuốc hay không</td>\n",
       "    </tr>\n",
       "    <tr>\n",
       "      <th>10</th>\n",
       "      <td>CH2O</td>\n",
       "      <td>Lượng nước uống mỗi ngày</td>\n",
       "    </tr>\n",
       "    <tr>\n",
       "      <th>11</th>\n",
       "      <td>SCC</td>\n",
       "      <td>Có kiểm soát lượng calo tiêu thụ hay không</td>\n",
       "    </tr>\n",
       "    <tr>\n",
       "      <th>12</th>\n",
       "      <td>FAF</td>\n",
       "      <td>Tần suất hoạt động thể chất</td>\n",
       "    </tr>\n",
       "    <tr>\n",
       "      <th>13</th>\n",
       "      <td>TUE</td>\n",
       "      <td>Thời gian sử dụng thiết bị công nghệ mỗi ngày</td>\n",
       "    </tr>\n",
       "    <tr>\n",
       "      <th>14</th>\n",
       "      <td>CALC</td>\n",
       "      <td>Có uống rượu không</td>\n",
       "    </tr>\n",
       "    <tr>\n",
       "      <th>15</th>\n",
       "      <td>MTRANS</td>\n",
       "      <td>Phương tiện giao thông sử dụng</td>\n",
       "    </tr>\n",
       "    <tr>\n",
       "      <th>16</th>\n",
       "      <td>NObeyesdad</td>\n",
       "      <td>Mức độ béo phì</td>\n",
       "    </tr>\n",
       "  </tbody>\n",
       "</table>\n",
       "</div>"
      ],
      "text/plain": [
       "                         Đặc trưng  \\\n",
       "0                           Gender   \n",
       "1                              Age   \n",
       "2                           Height   \n",
       "3                           Weight   \n",
       "4   family_history_with_overweight   \n",
       "5                             FAVC   \n",
       "6                             FCVC   \n",
       "7                              NCP   \n",
       "8                             CAEC   \n",
       "9                            SMOKE   \n",
       "10                            CH2O   \n",
       "11                             SCC   \n",
       "12                             FAF   \n",
       "13                             TUE   \n",
       "14                            CALC   \n",
       "15                          MTRANS   \n",
       "16                      NObeyesdad   \n",
       "\n",
       "                                            Mô tả  \n",
       "0                                       Giới tính  \n",
       "1                                            Tuổi  \n",
       "2                                       Chiều cao  \n",
       "3                                        Cân nặng  \n",
       "4       Gia đình có tiền sử bị thừa cân hay không  \n",
       "5      Có thường xuyên ăn thức ăn nhanh hay không  \n",
       "6                              Tần suất ăn rau củ  \n",
       "7                                 Số bữa ăn chính  \n",
       "8       Có ăn vặt giữa các bữa ăn chính hay không  \n",
       "9                          Có hút thuốc hay không  \n",
       "10                       Lượng nước uống mỗi ngày  \n",
       "11     Có kiểm soát lượng calo tiêu thụ hay không  \n",
       "12                    Tần suất hoạt động thể chất  \n",
       "13  Thời gian sử dụng thiết bị công nghệ mỗi ngày  \n",
       "14                             Có uống rượu không  \n",
       "15                 Phương tiện giao thông sử dụng  \n",
       "16                                 Mức độ béo phì  "
      ]
     },
     "execution_count": 6,
     "metadata": {},
     "output_type": "execute_result"
    }
   ],
   "source": [
    "des_df = pd.read_csv('description.csv')\n",
    "des_df = des_df.iloc[:, :2]\n",
    "des_df"
   ]
  },
  {
   "attachments": {},
   "cell_type": "markdown",
   "metadata": {},
   "source": [
    "- Các đặc trưng liên quan đến thói quen ăn uống:"
   ]
  },
  {
   "cell_type": "code",
   "execution_count": 7,
   "metadata": {},
   "outputs": [
    {
     "data": {
      "text/html": [
       "<div>\n",
       "<style scoped>\n",
       "    .dataframe tbody tr th:only-of-type {\n",
       "        vertical-align: middle;\n",
       "    }\n",
       "\n",
       "    .dataframe tbody tr th {\n",
       "        vertical-align: top;\n",
       "    }\n",
       "\n",
       "    .dataframe thead th {\n",
       "        text-align: right;\n",
       "    }\n",
       "</style>\n",
       "<table border=\"1\" class=\"dataframe\">\n",
       "  <thead>\n",
       "    <tr style=\"text-align: right;\">\n",
       "      <th></th>\n",
       "      <th>Đặc trưng</th>\n",
       "      <th>Mô tả</th>\n",
       "    </tr>\n",
       "  </thead>\n",
       "  <tbody>\n",
       "    <tr>\n",
       "      <th>0</th>\n",
       "      <td>FAVC</td>\n",
       "      <td>Có thường xuyên ăn thức ăn nhanh hay không</td>\n",
       "    </tr>\n",
       "    <tr>\n",
       "      <th>1</th>\n",
       "      <td>FCVC</td>\n",
       "      <td>Tần suất ăn rau củ</td>\n",
       "    </tr>\n",
       "    <tr>\n",
       "      <th>2</th>\n",
       "      <td>NCP</td>\n",
       "      <td>Số bữa ăn chính</td>\n",
       "    </tr>\n",
       "    <tr>\n",
       "      <th>3</th>\n",
       "      <td>CAEC</td>\n",
       "      <td>Có ăn vặt giữa các bữa ăn chính hay không</td>\n",
       "    </tr>\n",
       "    <tr>\n",
       "      <th>4</th>\n",
       "      <td>CH2O</td>\n",
       "      <td>Lượng nước uống mỗi ngày</td>\n",
       "    </tr>\n",
       "    <tr>\n",
       "      <th>5</th>\n",
       "      <td>CALC</td>\n",
       "      <td>Có uống rượu không</td>\n",
       "    </tr>\n",
       "  </tbody>\n",
       "</table>\n",
       "</div>"
      ],
      "text/plain": [
       "  Đặc trưng                                       Mô tả\n",
       "0      FAVC  Có thường xuyên ăn thức ăn nhanh hay không\n",
       "1      FCVC                          Tần suất ăn rau củ\n",
       "2       NCP                             Số bữa ăn chính\n",
       "3      CAEC   Có ăn vặt giữa các bữa ăn chính hay không\n",
       "4      CH2O                    Lượng nước uống mỗi ngày\n",
       "5      CALC                          Có uống rượu không"
      ]
     },
     "execution_count": 7,
     "metadata": {},
     "output_type": "execute_result"
    }
   ],
   "source": [
    "eh_df = des_df.iloc[[5,6,7,8,10,14], [0,1]]\n",
    "eh_df.reset_index().iloc[:, 1:]"
   ]
  },
  {
   "attachments": {},
   "cell_type": "markdown",
   "metadata": {},
   "source": [
    "- Các đặc trưng liên quan đến điều kiện thể chất:"
   ]
  },
  {
   "cell_type": "code",
   "execution_count": 8,
   "metadata": {},
   "outputs": [
    {
     "data": {
      "text/html": [
       "<div>\n",
       "<style scoped>\n",
       "    .dataframe tbody tr th:only-of-type {\n",
       "        vertical-align: middle;\n",
       "    }\n",
       "\n",
       "    .dataframe tbody tr th {\n",
       "        vertical-align: top;\n",
       "    }\n",
       "\n",
       "    .dataframe thead th {\n",
       "        text-align: right;\n",
       "    }\n",
       "</style>\n",
       "<table border=\"1\" class=\"dataframe\">\n",
       "  <thead>\n",
       "    <tr style=\"text-align: right;\">\n",
       "      <th></th>\n",
       "      <th>Đặc trưng</th>\n",
       "      <th>Mô tả</th>\n",
       "    </tr>\n",
       "  </thead>\n",
       "  <tbody>\n",
       "    <tr>\n",
       "      <th>0</th>\n",
       "      <td>SCC</td>\n",
       "      <td>Có kiểm soát lượng calo tiêu thụ hay không</td>\n",
       "    </tr>\n",
       "    <tr>\n",
       "      <th>1</th>\n",
       "      <td>FAF</td>\n",
       "      <td>Tần suất hoạt động thể chất</td>\n",
       "    </tr>\n",
       "    <tr>\n",
       "      <th>2</th>\n",
       "      <td>TUE</td>\n",
       "      <td>Thời gian sử dụng thiết bị công nghệ mỗi ngày</td>\n",
       "    </tr>\n",
       "    <tr>\n",
       "      <th>3</th>\n",
       "      <td>MTRANS</td>\n",
       "      <td>Phương tiện giao thông sử dụng</td>\n",
       "    </tr>\n",
       "  </tbody>\n",
       "</table>\n",
       "</div>"
      ],
      "text/plain": [
       "  Đặc trưng                                          Mô tả\n",
       "0       SCC     Có kiểm soát lượng calo tiêu thụ hay không\n",
       "1       FAF                    Tần suất hoạt động thể chất\n",
       "2       TUE  Thời gian sử dụng thiết bị công nghệ mỗi ngày\n",
       "3    MTRANS                 Phương tiện giao thông sử dụng"
      ]
     },
     "execution_count": 8,
     "metadata": {},
     "output_type": "execute_result"
    }
   ],
   "source": [
    "pc_df = des_df.iloc[[11,12,13,15], [0,1]]\n",
    "pc_df.reset_index().iloc[:, 1:]"
   ]
  },
  {
   "attachments": {},
   "cell_type": "markdown",
   "metadata": {},
   "source": [
    "## Kiểm tra kiểu dữ liệu của các cột và điều chỉnh cho phù hợp"
   ]
  },
  {
   "attachments": {},
   "cell_type": "markdown",
   "metadata": {},
   "source": [
    "- Kiểm tra kiểu dữ liệu của từng cột"
   ]
  },
  {
   "cell_type": "code",
   "execution_count": 9,
   "metadata": {},
   "outputs": [
    {
     "data": {
      "text/plain": [
       "Gender                             object\n",
       "Age                               float64\n",
       "Height                            float64\n",
       "Weight                            float64\n",
       "family_history_with_overweight     object\n",
       "FAVC                               object\n",
       "FCVC                              float64\n",
       "NCP                               float64\n",
       "CAEC                               object\n",
       "SMOKE                              object\n",
       "CH2O                              float64\n",
       "SCC                                object\n",
       "FAF                               float64\n",
       "TUE                               float64\n",
       "CALC                               object\n",
       "MTRANS                             object\n",
       "NObeyesdad                         object\n",
       "dtype: object"
      ]
     },
     "execution_count": 9,
     "metadata": {},
     "output_type": "execute_result"
    }
   ],
   "source": [
    "obe_df.dtypes"
   ]
  },
  {
   "attachments": {},
   "cell_type": "markdown",
   "metadata": {},
   "source": [
    "---"
   ]
  },
  {
   "cell_type": "code",
   "execution_count": 10,
   "metadata": {},
   "outputs": [
    {
     "data": {
      "text/plain": [
       "array([21.      , 23.      , 27.      , ..., 22.524036, 24.361936,\n",
       "       23.664709])"
      ]
     },
     "execution_count": 10,
     "metadata": {},
     "output_type": "execute_result"
    }
   ],
   "source": [
    "obe_df['Age'].unique()"
   ]
  },
  {
   "attachments": {},
   "cell_type": "markdown",
   "metadata": {},
   "source": [
    "- Ta thấy ở cột Age, có những hàng đang không phải là kiểu số nguyên nên ta sẽ làm tròn xuống (vì chưa đủ tuổi) của tuổi tác và sau đó ép kiểu về int."
   ]
  },
  {
   "cell_type": "code",
   "execution_count": 11,
   "metadata": {},
   "outputs": [
    {
     "data": {
      "text/plain": [
       "0       21\n",
       "1       21\n",
       "2       23\n",
       "3       27\n",
       "4       22\n",
       "        ..\n",
       "2106    20\n",
       "2107    21\n",
       "2108    22\n",
       "2109    24\n",
       "2110    23\n",
       "Name: Age, Length: 2111, dtype: int32"
      ]
     },
     "execution_count": 11,
     "metadata": {},
     "output_type": "execute_result"
    }
   ],
   "source": [
    "obe_df['Age'] = np.floor(obe_df['Age'])\n",
    "obe_df['Age'] = obe_df['Age'].astype(int)\n",
    "obe_df['Age']"
   ]
  },
  {
   "attachments": {},
   "cell_type": "markdown",
   "metadata": {},
   "source": [
    "---"
   ]
  },
  {
   "cell_type": "code",
   "execution_count": 12,
   "metadata": {},
   "outputs": [
    {
     "data": {
      "text/plain": [
       "array([1.62    , 1.52    , 1.8     , ..., 1.752206, 1.73945 , 1.738836])"
      ]
     },
     "execution_count": 12,
     "metadata": {},
     "output_type": "execute_result"
    }
   ],
   "source": [
    "obe_df['Height'].unique()"
   ]
  },
  {
   "attachments": {},
   "cell_type": "markdown",
   "metadata": {},
   "source": [
    "- ..."
   ]
  },
  {
   "cell_type": "code",
   "execution_count": 13,
   "metadata": {},
   "outputs": [
    {
     "data": {
      "text/plain": [
       "0       1.62\n",
       "1       1.52\n",
       "2       1.80\n",
       "3       1.80\n",
       "4       1.78\n",
       "        ... \n",
       "2106    1.71\n",
       "2107    1.75\n",
       "2108    1.75\n",
       "2109    1.74\n",
       "2110    1.74\n",
       "Name: Height, Length: 2111, dtype: float64"
      ]
     },
     "execution_count": 13,
     "metadata": {},
     "output_type": "execute_result"
    }
   ],
   "source": [
    "obe_df['Height'] = np.round(obe_df['Height'], 2)\n",
    "obe_df['Height']"
   ]
  },
  {
   "attachments": {},
   "cell_type": "markdown",
   "metadata": {},
   "source": [
    "---"
   ]
  },
  {
   "cell_type": "code",
   "execution_count": 14,
   "metadata": {},
   "outputs": [
    {
     "data": {
      "text/plain": [
       "array([ 64.      ,  56.      ,  77.      , ..., 133.689352, 133.346641,\n",
       "       133.472641])"
      ]
     },
     "execution_count": 14,
     "metadata": {},
     "output_type": "execute_result"
    }
   ],
   "source": [
    "obe_df['Weight'].unique()"
   ]
  },
  {
   "attachments": {},
   "cell_type": "markdown",
   "metadata": {},
   "source": [
    "- ..."
   ]
  },
  {
   "cell_type": "code",
   "execution_count": 15,
   "metadata": {},
   "outputs": [
    {
     "data": {
      "text/plain": [
       "0        64.0\n",
       "1        56.0\n",
       "2        77.0\n",
       "3        87.0\n",
       "4        89.8\n",
       "        ...  \n",
       "2106    131.4\n",
       "2107    133.7\n",
       "2108    133.7\n",
       "2109    133.3\n",
       "2110    133.5\n",
       "Name: Weight, Length: 2111, dtype: float64"
      ]
     },
     "execution_count": 15,
     "metadata": {},
     "output_type": "execute_result"
    }
   ],
   "source": [
    "obe_df['Weight'] = np.round(obe_df['Weight'], 1)\n",
    "obe_df['Weight']"
   ]
  },
  {
   "attachments": {},
   "cell_type": "markdown",
   "metadata": {},
   "source": [
    "---"
   ]
  },
  {
   "cell_type": "code",
   "execution_count": 16,
   "metadata": {},
   "outputs": [
    {
     "data": {
      "text/plain": [
       "array([2.      , 3.      , 1.      , 2.450218, 2.880161, 2.00876 ,\n",
       "       2.596579, 2.591439, 2.392665, 1.123939, 2.027574, 2.658112,\n",
       "       2.88626 , 2.714447, 2.750715, 1.4925  , 2.205439, 2.059138,\n",
       "       2.310423, 2.823179, 2.052932, 2.596364, 2.767731, 2.815157,\n",
       "       2.737762, 2.568063, 2.524428, 2.971574, 1.0816  , 1.270448,\n",
       "       1.344854, 2.959658, 2.725282, 2.844607, 2.44004 , 2.432302,\n",
       "       2.592247, 2.449267, 2.929889, 2.015258, 1.031149, 1.592183,\n",
       "       1.21498 , 1.522001, 2.703436, 2.362918, 2.14084 , 2.5596  ,\n",
       "       2.336044, 1.813234, 2.724285, 2.71897 , 1.133844, 1.757466,\n",
       "       2.979383, 2.204914, 2.927218, 2.88853 , 2.890535, 2.530066,\n",
       "       2.241606, 1.003566, 2.652779, 2.897899, 2.483979, 2.945967,\n",
       "       2.478891, 2.784464, 1.005578, 2.938031, 2.842102, 1.889199,\n",
       "       2.943749, 2.33998 , 1.950742, 2.277436, 2.371338, 2.984425,\n",
       "       2.977018, 2.663421, 2.753752, 2.318355, 2.594653, 2.886157,\n",
       "       2.967853, 2.619835, 1.053534, 2.530233, 2.8813  , 2.824559,\n",
       "       2.762325, 2.070964, 2.68601 , 2.794197, 2.720701, 2.880792,\n",
       "       2.674431, 2.55996 , 1.212908, 1.140615, 2.562409, 2.004146,\n",
       "       2.690754, 2.051283, 2.19005 , 2.21498 , 2.91548 , 2.708965,\n",
       "       2.853513, 2.580872, 2.508835, 2.896562, 2.911877, 2.910733,\n",
       "       2.966126, 2.613249, 2.627031, 2.919751, 2.494451, 1.69427 ,\n",
       "       1.601236, 1.204855, 1.052699, 2.910345, 2.866383, 2.913486,\n",
       "       2.432886, 2.883745, 2.707666, 2.919584, 2.969205, 2.486189,\n",
       "       1.642241, 1.567101, 1.036414, 1.649974, 1.118436, 2.673638,\n",
       "       2.120185, 2.34222 , 2.86099 , 2.559571, 2.424977, 1.786841,\n",
       "       1.303878, 1.889883, 2.984004, 2.749268, 1.202075, 1.871213,\n",
       "       2.341133, 1.450218, 1.206276, 2.81646 , 1.758394, 2.577427,\n",
       "       2.052152, 2.954996, 2.555401, 2.108711, 2.915279, 1.570089,\n",
       "       1.94313 , 2.903545, 1.75375 , 2.543563, 2.39728 , 2.37464 ,\n",
       "       2.278644, 1.620845, 2.061952, 2.838969, 2.652958, 1.27785 ,\n",
       "       1.729824, 1.452524, 2.303367, 2.948425, 2.291846, 1.906194,\n",
       "       1.834155, 2.048582, 2.948248, 2.869436, 2.293705, 2.510583,\n",
       "       2.366949, 2.615788, 2.217267, 2.801514, 2.188722, 2.971351,\n",
       "       2.086093, 1.901611, 1.977298, 2.446872, 2.839048, 2.21232 ,\n",
       "       2.427689, 2.357496, 1.078529, 1.064162, 1.993101, 2.620963,\n",
       "       2.95118 , 2.021446, 2.000466, 2.5621  , 2.96008 , 2.53915 ,\n",
       "       2.244142, 2.253371, 2.851664, 1.31415 , 1.321028, 2.253998,\n",
       "       2.778079, 2.838037, 2.814453, 2.013782, 2.459976, 2.643183,\n",
       "       2.22399 , 2.104105, 1.972545, 2.286481, 2.971588, 2.872121,\n",
       "       2.109162, 2.178889, 1.142468, 2.047069, 2.843709, 2.416044,\n",
       "       2.146598, 1.766849, 1.188089, 1.910176, 2.956671, 2.002796,\n",
       "       2.288604, 2.277077, 2.138334, 2.029634, 2.048216, 2.8557  ,\n",
       "       2.995599, 2.987148, 1.887951, 2.786008, 2.342323, 1.874935,\n",
       "       2.213135, 2.273548, 2.780699, 1.687569, 1.989905, 1.947405,\n",
       "       2.162519, 2.923916, 2.99448 , 2.507841, 1.836554, 1.773265,\n",
       "       2.388168, 2.286146, 2.487167, 2.185938, 2.206399, 1.952987,\n",
       "       2.908757, 2.628791, 2.749629, 1.595746, 2.885178, 2.372494,\n",
       "       2.153639, 2.793561, 2.992329, 2.927409, 2.706134, 2.010684,\n",
       "       2.300408, 2.119643, 2.901924, 2.451009, 2.754646, 2.417635,\n",
       "       2.512719, 1.771693, 1.57223 , 2.661556, 2.097373, 2.061461,\n",
       "       1.317729, 1.882235, 2.951591, 2.067817, 2.54527 , 2.694281,\n",
       "       2.821977, 2.252472, 2.033745, 2.595128, 2.759286, 1.925064,\n",
       "       2.846981, 2.650629, 2.631565, 2.522399, 2.784471, 1.650505,\n",
       "       1.961347, 2.133955, 2.684528, 2.265973, 1.306844, 2.258795,\n",
       "       2.689929, 2.712747, 2.353603, 2.598051, 1.718156, 2.795086,\n",
       "       2.030256, 2.493448, 2.442536, 2.003951, 1.34138 , 2.607335,\n",
       "       2.061384, 2.696381, 1.116068, 2.116432, 2.031246, 2.884212,\n",
       "       2.444599, 2.976975, 2.766036, 1.096455, 2.129969, 2.019674,\n",
       "       2.735297, 1.588782, 2.01054 , 2.689577, 2.413156, 2.923433,\n",
       "       2.882522, 1.973499, 2.156065, 2.992205, 2.944287, 1.780746,\n",
       "       2.164062, 2.247704, 2.011656, 2.03414 , 2.746408, 2.1239  ,\n",
       "       2.332074, 2.748243, 2.303656, 1.904732, 1.979944, 2.407817,\n",
       "       2.734314, 2.784383, 2.009952, 2.008656, 1.122127, 1.963965,\n",
       "       2.319776, 1.899116, 2.042762, 2.129668, 2.182401, 2.802696,\n",
       "       2.492758, 2.733129, 2.294067, 2.315932, 2.802128, 2.79606 ,\n",
       "       2.086898, 2.333503, 1.653081, 2.535315, 2.765769, 2.215464,\n",
       "       2.63165 , 2.942154, 2.716909, 1.83746 , 1.936479, 2.045027,\n",
       "       2.760607, 2.09449 , 2.907062, 2.399531, 1.521604, 2.501683,\n",
       "       2.76802 , 2.742796, 2.325623, 2.076689, 2.271306, 2.33361 ,\n",
       "       2.13683 , 2.909853, 2.490507, 1.063449, 2.699282, 2.4277  ,\n",
       "       2.87599 , 2.177243, 2.846452, 2.19011 , 2.069267, 1.362441,\n",
       "       2.09663 , 2.928234, 2.496455, 1.70825 , 2.262171, 2.740633,\n",
       "       1.081585, 2.587789, 2.252653, 2.036613, 2.609123, 1.036159,\n",
       "       1.851262, 2.501236, 2.031185, 2.014194, 2.028225, 2.037585,\n",
       "       1.853314, 1.00876 , 2.103335, 2.060922, 2.058687, 2.533605,\n",
       "       2.457547, 2.983851, 2.061969, 2.450784, 2.972426, 2.467002,\n",
       "       2.934671, 2.043359, 2.787589, 2.150054, 2.977585, 2.274491,\n",
       "       1.557287, 2.152264, 2.08841 , 2.180047, 1.826885, 1.754401,\n",
       "       1.524428, 1.164062, 2.123159, 2.259679, 2.044326, 2.843456,\n",
       "       2.864776, 2.871137, 2.282803, 2.020502, 2.020785, 2.737149,\n",
       "       1.899793, 2.274164, 1.897796, 2.85916 , 2.340405, 2.921576,\n",
       "       2.92711 , 2.805533, 2.902469, 2.845961, 2.252698, 2.02091 ,\n",
       "       2.108163, 1.518966, 2.260543, 2.522183, 2.186322, 2.76632 ,\n",
       "       2.071622, 1.918251, 1.967061, 2.964419, 2.640801, 2.870152,\n",
       "       2.482575, 2.290095, 2.074843, 2.14128 , 2.334474, 2.693859,\n",
       "       2.607747, 2.66889 , 2.921225, 1.492834, 1.220024, 2.667676,\n",
       "       2.569075, 2.949242, 2.104772, 2.871768, 2.540949, 2.222282,\n",
       "       2.04516 , 2.094184, 1.123672, 2.049112, 1.880534, 1.203754,\n",
       "       2.73691 , 2.736628, 2.121909, 2.642744, 2.387426, 1.996638,\n",
       "       2.107854, 2.253707, 2.393837, 2.348745, 2.312825, 2.490776,\n",
       "       2.078082, 2.805512, 1.276858, 2.396265, 2.663866, 2.685484,\n",
       "       2.055209, 2.025479, 2.002564, 2.385502, 2.465575, 2.818502,\n",
       "       2.081238, 1.368978, 1.712848, 1.3307  , 1.961069, 2.976509,\n",
       "       2.319648, 1.261288, 2.76533 , 2.317734, 1.588114, 2.549782,\n",
       "       2.206276, 2.18354 , 2.962415, 1.99124 , 2.408561, 2.758394,\n",
       "       2.956297, 1.369529, 1.392665, 2.630401, 2.869778, 1.868212,\n",
       "       1.108663, 2.907744, 2.95801 , 2.197261, 2.048962, 2.139196,\n",
       "       2.72989 , 1.994679, 2.403421, 2.964319, 1.617093, 1.631144,\n",
       "       2.317459, 2.501224, 2.983042, 2.323351, 1.428289, 1.992889,\n",
       "       1.562804, 1.794825, 2.305349, 2.576449, 2.754645, 2.633855,\n",
       "       2.200588, 2.499108, 2.05687 , 2.247795, 2.239634, 2.09283 ,\n",
       "       2.9673  , 2.225731, 2.178308, 2.065752, 2.263245, 2.443538,\n",
       "       2.744994, 2.630137, 2.113843, 2.821727, 2.312528, 2.938801,\n",
       "       2.050619, 1.457758, 2.19331 , 2.028571, 1.455602, 2.177896,\n",
       "       2.252382, 2.668949, 2.723953, 2.736298, 2.722161, 2.871016,\n",
       "       2.96405 , 2.653721, 2.859097, 1.572036, 1.387489, 2.941929,\n",
       "       2.973569, 2.041376, 2.02472 , 2.133964, 2.702457, 1.760038,\n",
       "       1.996646, 2.644094, 2.475892, 2.941627, 2.998441, 2.397284,\n",
       "       2.382705, 2.176317, 2.877743, 2.303041, 2.323003, 1.99953 ,\n",
       "       1.585183, 2.281963, 2.561638, 2.600217, 2.79166 , 2.08868 ,\n",
       "       2.206119, 2.328469, 2.002784, 1.975675, 2.002076, 2.218599,\n",
       "       2.392179, 2.381164, 2.008245, 2.155182, 2.969233, 2.765063,\n",
       "       2.195964, 2.619987, 2.918113, 2.889485, 2.939727, 1.264234,\n",
       "       1.517912, 2.23372 , 1.475906, 2.032883, 2.046651, 2.667229,\n",
       "       2.819934, 2.954417, 2.826251, 2.95841 , 2.935157, 2.870895,\n",
       "       2.869833, 1.878251, 1.750809, 1.168856, 1.443674, 2.826036,\n",
       "       2.9553  , 2.774562, 2.772027, 2.499626, 2.108638, 2.467548,\n",
       "       2.585942, 2.14961 , 2.938616, 2.535154, 2.611222, 1.800122,\n",
       "       1.482722, 1.735664, 1.655684, 2.598207, 2.225149, 2.519592,\n",
       "       2.111887, 2.970983, 2.907542, 1.451337, 1.537505, 1.893428,\n",
       "       2.007845, 2.487781, 2.541785, 2.813775, 2.562687, 2.922511,\n",
       "       2.836055, 2.880759, 2.766441, 2.997524, 2.320201, 2.181057,\n",
       "       1.924632, 1.397468, 2.191429, 2.100177, 2.075321, 1.626369,\n",
       "       1.263216, 1.067909, 2.310751, 2.294259, 2.57649 , 2.679664,\n",
       "       2.938687, 2.654792, 2.731368, 2.22259 , 2.432355, 2.497548,\n",
       "       2.671238, 2.57691 , 2.341999, 2.117121, 2.247037, 2.244654,\n",
       "       2.128574, 2.068834, 2.073224, 2.145114, 2.997951, 2.911312,\n",
       "       2.159033, 2.175276, 2.21965 , 2.203962, 1.947495, 2.262292,\n",
       "       2.219186, 2.314175, 2.423291, 2.637202, 2.974006, 2.347942,\n",
       "       2.654076, 2.739   , 2.591292, 2.611847, 2.766612, 2.777165,\n",
       "       2.232836, 2.571274, 2.49619 , 2.151335, 2.01695 , 2.927187,\n",
       "       1.412566, 1.289315, 1.624366, 1.528331, 2.037042, 2.191108,\n",
       "       1.431346, 1.84199 , 2.499388, 2.230742, 2.240757, 2.996186,\n",
       "       2.649406, 2.525884, 2.736647, 2.684335, 2.425503, 1.469384,\n",
       "       2.906269, 2.808027, 2.636719, 2.996717, 2.880483, 2.885693,\n",
       "       2.913452, 2.919526, 2.724121, 2.801992, 2.748971, 2.680375])"
      ]
     },
     "execution_count": 16,
     "metadata": {},
     "output_type": "execute_result"
    }
   ],
   "source": [
    "obe_df['FCVC'].unique()"
   ]
  },
  {
   "attachments": {},
   "cell_type": "markdown",
   "metadata": {},
   "source": [
    "- ..."
   ]
  },
  {
   "cell_type": "code",
   "execution_count": 17,
   "metadata": {},
   "outputs": [
    {
     "data": {
      "text/plain": [
       "0       Sometimes\n",
       "1          Always\n",
       "2       Sometimes\n",
       "3          Always\n",
       "4       Sometimes\n",
       "          ...    \n",
       "2106       Always\n",
       "2107       Always\n",
       "2108       Always\n",
       "2109       Always\n",
       "2110       Always\n",
       "Name: FCVC, Length: 2111, dtype: object"
      ]
     },
     "execution_count": 17,
     "metadata": {},
     "output_type": "execute_result"
    }
   ],
   "source": [
    "obe_df['FCVC'] = np.round(obe_df['FCVC'], 0)\n",
    "obe_df['FCVC'] = obe_df['FCVC'].astype(int)\n",
    "obe_df['FCVC'] = obe_df['FCVC'].replace([1, 2, 3], ['Rarely', 'Sometimes', 'Always'])\n",
    "obe_df['FCVC']"
   ]
  },
  {
   "attachments": {},
   "cell_type": "markdown",
   "metadata": {},
   "source": [
    "---"
   ]
  },
  {
   "cell_type": "code",
   "execution_count": 18,
   "metadata": {},
   "outputs": [
    {
     "data": {
      "text/plain": [
       "array([3.      , 1.      , 4.      , 3.28926 , 3.995147, 1.72626 ,\n",
       "       2.581015, 1.600812, 1.73762 , 1.10548 , 2.0846  , 1.894384,\n",
       "       2.857787, 3.765526, 3.285167, 3.691226, 3.156153, 1.07976 ,\n",
       "       3.559841, 3.891994, 3.240578, 3.904858, 3.11158 , 3.590039,\n",
       "       2.057935, 3.558637, 2.000986, 3.821168, 3.897078, 3.092116,\n",
       "       3.286431, 3.592415, 3.754599, 3.566082, 3.725797, 3.520555,\n",
       "       3.731212, 1.259803, 1.273128, 3.304123, 3.647154, 3.300666,\n",
       "       3.535016, 1.717608, 2.884479, 3.626815, 1.473088, 3.16645 ,\n",
       "       3.494849, 2.99321 , 2.127797, 3.90779 , 3.699594, 3.179995,\n",
       "       1.075553, 3.238258, 3.804944, 1.630846, 3.762778, 3.371832,\n",
       "       2.705445, 3.34175 , 2.217651, 2.893778, 3.502604, 3.998766,\n",
       "       3.193671, 1.69608 , 2.812377, 1.612747, 1.082304, 1.882158,\n",
       "       2.326233, 1.989398, 1.735493, 2.974568, 3.715118, 3.489918,\n",
       "       3.378859, 3.263201, 3.994588, 3.24934 , 3.087544, 1.163666,\n",
       "       3.409363, 3.281391, 3.98525 , 3.207071, 3.471536, 3.488342,\n",
       "       3.443456, 3.03779 , 3.642802, 2.645858, 3.420618, 2.64155 ,\n",
       "       3.887906, 3.435905, 3.747163, 2.625475, 3.098399, 3.12544 ,\n",
       "       3.96981 , 3.712183, 3.832911, 3.576103, 3.56544 , 3.266644,\n",
       "       3.433908, 3.531038, 3.998618, 1.226342, 1.060796, 3.595761,\n",
       "       3.737914, 3.697831, 3.21043 , 3.45259 , 3.205587, 1.513835,\n",
       "       2.779379, 3.732126, 3.937099, 3.047959, 2.975362, 1.394539,\n",
       "       3.131032, 1.578521, 3.985442, 3.623364, 3.36313 , 1.146052,\n",
       "       3.981997, 1.9154  , 2.105616, 3.714833, 3.292386, 1.104642,\n",
       "       3.654061, 1.296156, 2.656588, 2.809716, 2.77684 , 1.999014,\n",
       "       2.644692, 2.449723, 2.794156, 1.146794, 1.131695, 2.488189,\n",
       "       3.999591, 3.612941, 3.950553, 2.951837, 2.799979, 2.228113,\n",
       "       3.042774, 1.198643, 1.555557, 3.987707, 3.995957, 1.047197,\n",
       "       1.193589, 3.390143, 3.546352, 3.266501, 3.554974, 2.372311,\n",
       "       2.10601 , 3.715306, 3.376717, 1.211606, 3.98955 , 3.171082,\n",
       "       3.105007, 1.590982, 1.704828, 2.725012, 2.372339, 1.097312,\n",
       "       1.068196, 1.411685, 2.752318, 2.737571, 2.973504, 2.608055,\n",
       "       2.625942, 1.411808, 1.095223, 3.30846 , 3.821461, 2.658639,\n",
       "       2.339614, 1.713762, 2.743277, 3.051804, 3.245148, 3.563744,\n",
       "       3.829101, 3.058539, 3.196043, 1.391778, 1.13715 , 3.322522,\n",
       "       3.269088, 2.938135, 1.259628, 2.965494, 2.845307, 3.095663,\n",
       "       3.483449, 3.156309, 3.728377, 3.60885 , 3.370362, 2.39007 ,\n",
       "       1.101404, 2.756405, 3.054899, 3.118013, 3.335876, 3.205009,\n",
       "       3.648194, 1.865238, 2.118153, 2.961113, 2.400943, 2.870005,\n",
       "       1.030416, 2.696051, 2.762883, 2.401341, 2.298612, 3.618722,\n",
       "       2.562895, 2.849848, 2.805436, 3.715148, 3.788602, 1.893811,\n",
       "       1.010319, 2.669766, 1.322087, 2.041558, 2.468421, 2.110937,\n",
       "       3.071028, 3.292956, 2.283673, 1.124977, 2.9948  , 2.983297,\n",
       "       1.890213, 1.888067, 2.256119, 2.6648  , 2.547086, 2.812283,\n",
       "       2.278652, 1.240046, 1.660768, 2.597608, 2.044035, 2.038373,\n",
       "       1.474836, 3.986652, 2.720642, 1.976744, 2.679724, 1.619796,\n",
       "       2.59257 , 1.546665, 3.339914, 3.884861, 2.358298, 1.802305,\n",
       "       2.7976  , 2.627173, 1.032887, 3.014808, 2.271734, 2.122545,\n",
       "       2.902766, 2.687502, 1.178708, 2.279546, 2.677693, 3.53009 ,\n",
       "       1.835543, 2.853676, 2.337035, 1.631184, 1.005391, 3.250467,\n",
       "       2.948721, 1.80993 , 1.94671 , 2.9796  , 2.994198, 2.579291,\n",
       "       2.449067, 1.532833, 2.961706, 1.152521, 1.729553, 1.346987,\n",
       "       1.977221, 2.443812, 2.491315, 2.843319, 2.157164, 2.601675,\n",
       "       1.171027, 3.362758, 1.672706, 2.714115, 2.521546, 1.338033,\n",
       "       1.081805, 3.087119, 2.909117, 1.466393, 1.471053, 2.983201,\n",
       "       2.783336, 1.863012, 3.053598, 3.165837, 2.741413, 1.058123,\n",
       "       2.997414, 1.672958, 1.680838, 3.070386, 2.608416, 1.599464,\n",
       "       2.815255, 2.395785, 2.844138, 2.716106, 1.402771, 2.865657,\n",
       "       1.836226, 2.884848, 2.375026, 2.9774  , 2.693646, 2.832018,\n",
       "       2.270163, 2.646717, 1.193729, 1.477581, 3.209508, 2.756622,\n",
       "       2.658478, 1.971472, 1.818026, 1.820779, 1.724887, 3.129155,\n",
       "       3.856434, 2.753418, 2.116195, 2.049908, 1.044628, 2.98212 ,\n",
       "       1.009426, 2.667711, 3.000974, 2.698883, 2.598079, 2.837388,\n",
       "       2.946063, 1.873484, 2.473911, 1.79558 , 2.623079, 2.174968,\n",
       "       2.676148, 3.394788, 2.137068, 2.937607, 1.313403, 2.113575,\n",
       "       2.092179, 2.974204, 1.001633, 1.2919  , 1.139317, 2.029858,\n",
       "       2.977543, 1.476204, 2.57038 , 2.879541, 1.458507, 1.105617,\n",
       "       1.854536, 1.08687 , 1.25535 , 2.870661, 1.482103, 1.81698 ,\n",
       "       2.582591, 2.164839, 2.141839, 2.877583, 2.95833 , 2.119826,\n",
       "       2.992606, 2.050121, 1.923607, 2.27374 , 1.418985, 1.320768,\n",
       "       2.964024, 2.933409, 2.962004, 1.271624, 1.00061 , 1.068443,\n",
       "       2.952821, 1.851088, 2.119682, 2.970675, 2.966803, 1.508685,\n",
       "       2.209314, 1.114564, 2.036794, 2.988539, 1.630506, 2.977999,\n",
       "       2.733077, 2.427137, 1.867836, 1.548407, 2.937989, 1.237454,\n",
       "       1.169173, 2.391753, 2.475444, 2.478794, 2.070033, 2.282392,\n",
       "       1.049534, 1.66338 , 1.672751, 1.734762, 1.92822 , 2.475228,\n",
       "       2.093831, 1.231915, 1.374791, 1.326982, 2.900915, 1.317884,\n",
       "       2.977909, 1.355752, 1.015488, 2.986172, 2.993623, 1.001383,\n",
       "       1.001542, 2.590283, 1.773916, 2.989112, 1.496776, 2.994046,\n",
       "       1.000283, 1.000414, 1.135278, 2.463113, 1.782109, 2.376374,\n",
       "       2.976098, 2.968098, 1.792695, 1.116401, 2.984523, 2.978103,\n",
       "       1.578751, 1.874532, 2.735706, 1.014916, 2.622055, 2.806566,\n",
       "       1.355354, 1.478334, 1.130751, 1.099151, 2.358455, 1.706551,\n",
       "       1.24884 , 1.250548, 1.202179, 1.194815, 2.880817, 2.918124,\n",
       "       1.073421, 1.416309, 2.18162 , 2.152733, 1.046144, 1.974233,\n",
       "       2.880794, 2.765213, 2.967089, 2.37985 , 2.655265, 1.941307,\n",
       "       1.709546, 2.883984, 2.935381, 2.961192, 2.973476, 2.392811,\n",
       "       1.293342, 2.930044, 2.129909, 2.831771, 2.595126, 2.52751 ,\n",
       "       2.120936, 1.468948, 3.990925, 2.834253, 3.734323, 2.049565,\n",
       "       2.272214, 2.218285, 1.418833, 1.109956, 3.914454, 3.169089,\n",
       "       2.419656, 2.175432, 2.806298, 2.987652, 2.842848, 1.134321,\n",
       "       1.924168, 2.701689, 2.992903, 2.658837, 2.80742 , 1.834472,\n",
       "       2.123138, 1.265463, 1.340361, 3.989492, 2.650088, 2.89292 ,\n",
       "       2.938902, 2.986637, 2.701521, 2.014671, 1.971659, 1.311797,\n",
       "       1.262831, 3.770379, 2.87747 , 2.175153, 2.13229 , 2.993634,\n",
       "       2.999346, 2.976211, 2.842035, 1.09749 , 1.91863 , 2.510135,\n",
       "       2.65772 , 2.604998, 2.567567, 2.434347, 1.845858, 1.627555,\n",
       "       1.569176, 2.371658, 2.378211, 2.301129, 2.454432, 2.915921,\n",
       "       2.992083, 2.849347, 2.954446, 3.755976, 2.902639, 2.372705,\n",
       "       2.100918, 2.272801, 2.692889, 2.280545, 2.675411, 1.487674,\n",
       "       1.02075 , 1.240424, 1.154318, 3.219347, 3.656401, 3.220181,\n",
       "       2.850948, 2.187145, 2.415522, 2.138375, 1.077331, 2.888193,\n",
       "       2.574108, 2.740492, 2.956422, 2.749334, 2.993856, 2.993084,\n",
       "       2.989791, 2.920373, 2.911568, 1.134042, 1.120102, 2.040582,\n",
       "       2.015675, 2.711238, 2.695396, 2.996834, 2.996444, 2.894142,\n",
       "       2.683061, 2.806341, 2.791366, 1.703299, 1.685134, 2.269799,\n",
       "       2.142328, 1.437959, 1.343117, 1.213431, 1.089048])"
      ]
     },
     "execution_count": 18,
     "metadata": {},
     "output_type": "execute_result"
    }
   ],
   "source": [
    "obe_df['NCP'].unique()"
   ]
  },
  {
   "attachments": {},
   "cell_type": "markdown",
   "metadata": {},
   "source": [
    "- ..."
   ]
  },
  {
   "cell_type": "code",
   "execution_count": 19,
   "metadata": {},
   "outputs": [
    {
     "data": {
      "text/plain": [
       "0       3\n",
       "1       3\n",
       "2       3\n",
       "3       3\n",
       "4       1\n",
       "       ..\n",
       "2106    3\n",
       "2107    3\n",
       "2108    3\n",
       "2109    3\n",
       "2110    3\n",
       "Name: NCP, Length: 2111, dtype: int32"
      ]
     },
     "execution_count": 19,
     "metadata": {},
     "output_type": "execute_result"
    }
   ],
   "source": [
    "obe_df['NCP'] = np.round(obe_df['NCP'], 0)\n",
    "obe_df['NCP'] = obe_df['NCP'].astype(int)\n",
    "obe_df['NCP']"
   ]
  },
  {
   "attachments": {},
   "cell_type": "markdown",
   "metadata": {},
   "source": [
    "---"
   ]
  },
  {
   "cell_type": "code",
   "execution_count": 20,
   "metadata": {},
   "outputs": [
    {
     "data": {
      "text/plain": [
       "array([2.      , 3.      , 1.      , ..., 2.054193, 2.852339, 2.863513])"
      ]
     },
     "execution_count": 20,
     "metadata": {},
     "output_type": "execute_result"
    }
   ],
   "source": [
    "obe_df['CH2O'].unique()"
   ]
  },
  {
   "attachments": {},
   "cell_type": "markdown",
   "metadata": {},
   "source": [
    "- ..."
   ]
  },
  {
   "cell_type": "code",
   "execution_count": 21,
   "metadata": {},
   "outputs": [
    {
     "data": {
      "text/plain": [
       "0       2.0\n",
       "1       3.0\n",
       "2       2.0\n",
       "3       2.0\n",
       "4       2.0\n",
       "       ... \n",
       "2106    1.7\n",
       "2107    2.0\n",
       "2108    2.1\n",
       "2109    2.9\n",
       "2110    2.9\n",
       "Name: CH2O, Length: 2111, dtype: float64"
      ]
     },
     "execution_count": 21,
     "metadata": {},
     "output_type": "execute_result"
    }
   ],
   "source": [
    "obe_df['CH2O'] = np.round(obe_df['CH2O'], 1)\n",
    "obe_df['CH2O']"
   ]
  },
  {
   "attachments": {},
   "cell_type": "markdown",
   "metadata": {},
   "source": [
    "---"
   ]
  },
  {
   "cell_type": "code",
   "execution_count": 22,
   "metadata": {},
   "outputs": [
    {
     "data": {
      "text/plain": [
       "array([0.      , 3.      , 2.      , ..., 1.414209, 1.139107, 1.026452])"
      ]
     },
     "execution_count": 22,
     "metadata": {},
     "output_type": "execute_result"
    }
   ],
   "source": [
    "obe_df['FAF'].unique()"
   ]
  },
  {
   "attachments": {},
   "cell_type": "markdown",
   "metadata": {},
   "source": [
    "- ..."
   ]
  },
  {
   "cell_type": "code",
   "execution_count": 23,
   "metadata": {},
   "outputs": [
    {
     "data": {
      "text/plain": [
       "0       no physical activity\n",
       "1                   5-6 days\n",
       "2                   3-4 days\n",
       "3                   3-4 days\n",
       "4       no physical activity\n",
       "                ...         \n",
       "2106                3-4 days\n",
       "2107                1-2 days\n",
       "2108                1-2 days\n",
       "2109                1-2 days\n",
       "2110                1-2 days\n",
       "Name: FAF, Length: 2111, dtype: object"
      ]
     },
     "execution_count": 23,
     "metadata": {},
     "output_type": "execute_result"
    }
   ],
   "source": [
    "obe_df['FAF'] = np.round(obe_df['FAF'], 0)\n",
    "obe_df['FAF'] = obe_df['FAF'].astype(int)\n",
    "obe_df['FAF'] = obe_df['FAF'].replace([0, 1, 2, 3], ['no physical activity', '1-2 days', '3-4 days', '5-6 days'])\n",
    "obe_df['FAF']"
   ]
  },
  {
   "attachments": {},
   "cell_type": "markdown",
   "metadata": {},
   "source": [
    "---"
   ]
  },
  {
   "cell_type": "code",
   "execution_count": 24,
   "metadata": {},
   "outputs": [
    {
     "data": {
      "text/plain": [
       "array([1.      , 0.      , 2.      , ..., 0.646288, 0.586035, 0.714137])"
      ]
     },
     "execution_count": 24,
     "metadata": {},
     "output_type": "execute_result"
    }
   ],
   "source": [
    "obe_df['TUE'].unique()"
   ]
  },
  {
   "attachments": {},
   "cell_type": "markdown",
   "metadata": {},
   "source": [
    "- ..."
   ]
  },
  {
   "cell_type": "code",
   "execution_count": 25,
   "metadata": {},
   "outputs": [
    {
     "data": {
      "text/plain": [
       "0       3-5 hours\n",
       "1       0-2 hours\n",
       "2       3-5 hours\n",
       "3       0-2 hours\n",
       "4       0-2 hours\n",
       "          ...    \n",
       "2106    3-5 hours\n",
       "2107    3-5 hours\n",
       "2108    3-5 hours\n",
       "2109    3-5 hours\n",
       "2110    3-5 hours\n",
       "Name: TUE, Length: 2111, dtype: object"
      ]
     },
     "execution_count": 25,
     "metadata": {},
     "output_type": "execute_result"
    }
   ],
   "source": [
    "obe_df['TUE'] = np.round(obe_df['TUE'], 0)\n",
    "obe_df['TUE'] = obe_df['TUE'].astype(int)\n",
    "obe_df['TUE'] = obe_df['TUE'].replace([0, 1, 2], ['0-2 hours', '3-5 hours', 'more than 5 hours'])\n",
    "obe_df['TUE']"
   ]
  },
  {
   "attachments": {},
   "cell_type": "markdown",
   "metadata": {},
   "source": [
    "---"
   ]
  },
  {
   "attachments": {},
   "cell_type": "markdown",
   "metadata": {},
   "source": [
    "- Kiểm tra các cột còn lại"
   ]
  },
  {
   "cell_type": "code",
   "execution_count": 26,
   "metadata": {},
   "outputs": [
    {
     "data": {
      "text/plain": [
       "array(['Female', 'Male'], dtype=object)"
      ]
     },
     "execution_count": 26,
     "metadata": {},
     "output_type": "execute_result"
    }
   ],
   "source": [
    "obe_df['Gender'].unique()"
   ]
  },
  {
   "cell_type": "code",
   "execution_count": 27,
   "metadata": {},
   "outputs": [
    {
     "data": {
      "text/plain": [
       "array(['yes', 'no'], dtype=object)"
      ]
     },
     "execution_count": 27,
     "metadata": {},
     "output_type": "execute_result"
    }
   ],
   "source": [
    "obe_df['family_history_with_overweight'].unique()"
   ]
  },
  {
   "cell_type": "code",
   "execution_count": 28,
   "metadata": {},
   "outputs": [
    {
     "data": {
      "text/plain": [
       "array(['no', 'yes'], dtype=object)"
      ]
     },
     "execution_count": 28,
     "metadata": {},
     "output_type": "execute_result"
    }
   ],
   "source": [
    "obe_df['FAVC'].unique()"
   ]
  },
  {
   "cell_type": "code",
   "execution_count": 29,
   "metadata": {},
   "outputs": [
    {
     "data": {
      "text/plain": [
       "array(['Sometimes', 'Frequently', 'Always', 'no'], dtype=object)"
      ]
     },
     "execution_count": 29,
     "metadata": {},
     "output_type": "execute_result"
    }
   ],
   "source": [
    "obe_df['CAEC'].unique()"
   ]
  },
  {
   "cell_type": "code",
   "execution_count": 30,
   "metadata": {},
   "outputs": [
    {
     "data": {
      "text/plain": [
       "array(['no', 'yes'], dtype=object)"
      ]
     },
     "execution_count": 30,
     "metadata": {},
     "output_type": "execute_result"
    }
   ],
   "source": [
    "obe_df['SMOKE'].unique()"
   ]
  },
  {
   "cell_type": "code",
   "execution_count": 31,
   "metadata": {},
   "outputs": [
    {
     "data": {
      "text/plain": [
       "array(['no', 'yes'], dtype=object)"
      ]
     },
     "execution_count": 31,
     "metadata": {},
     "output_type": "execute_result"
    }
   ],
   "source": [
    "obe_df['SCC'].unique()"
   ]
  },
  {
   "cell_type": "code",
   "execution_count": 32,
   "metadata": {},
   "outputs": [
    {
     "data": {
      "text/plain": [
       "array(['no', 'Sometimes', 'Frequently', 'Always'], dtype=object)"
      ]
     },
     "execution_count": 32,
     "metadata": {},
     "output_type": "execute_result"
    }
   ],
   "source": [
    "obe_df['CALC'].unique()"
   ]
  },
  {
   "cell_type": "code",
   "execution_count": 33,
   "metadata": {},
   "outputs": [
    {
     "data": {
      "text/plain": [
       "array(['Public_Transportation', 'Walking', 'Automobile', 'Motorbike',\n",
       "       'Bike'], dtype=object)"
      ]
     },
     "execution_count": 33,
     "metadata": {},
     "output_type": "execute_result"
    }
   ],
   "source": [
    "obe_df['MTRANS'].unique()"
   ]
  },
  {
   "cell_type": "code",
   "execution_count": 34,
   "metadata": {},
   "outputs": [
    {
     "data": {
      "text/plain": [
       "array(['Normal_Weight', 'Overweight_Level_I', 'Overweight_Level_II',\n",
       "       'Obesity_Type_I', 'Insufficient_Weight', 'Obesity_Type_II',\n",
       "       'Obesity_Type_III'], dtype=object)"
      ]
     },
     "execution_count": 34,
     "metadata": {},
     "output_type": "execute_result"
    }
   ],
   "source": [
    "obe_df['NObeyesdad'].unique()"
   ]
  },
  {
   "attachments": {},
   "cell_type": "markdown",
   "metadata": {},
   "source": [
    "- Các cột dữ liệu còn lại có kiểu dữ liệu và giá trị phù hợp cho nên ta sẽ không cần điều chỉnh nữa."
   ]
  },
  {
   "attachments": {},
   "cell_type": "markdown",
   "metadata": {},
   "source": [
    "- Kiểm tra lại kiểu dữ liệu của từng cột"
   ]
  },
  {
   "cell_type": "code",
   "execution_count": 35,
   "metadata": {},
   "outputs": [
    {
     "data": {
      "text/plain": [
       "Gender                             object\n",
       "Age                                 int32\n",
       "Height                            float64\n",
       "Weight                            float64\n",
       "family_history_with_overweight     object\n",
       "FAVC                               object\n",
       "FCVC                               object\n",
       "NCP                                 int32\n",
       "CAEC                               object\n",
       "SMOKE                              object\n",
       "CH2O                              float64\n",
       "SCC                                object\n",
       "FAF                                object\n",
       "TUE                                object\n",
       "CALC                               object\n",
       "MTRANS                             object\n",
       "NObeyesdad                         object\n",
       "dtype: object"
      ]
     },
     "execution_count": 35,
     "metadata": {},
     "output_type": "execute_result"
    }
   ],
   "source": [
    "obe_df.dtypes"
   ]
  },
  {
   "attachments": {},
   "cell_type": "markdown",
   "metadata": {},
   "source": [
    "- Kiểm tra lại toàn bộ tập dữ liệu"
   ]
  },
  {
   "cell_type": "code",
   "execution_count": 36,
   "metadata": {},
   "outputs": [
    {
     "data": {
      "text/html": [
       "<div>\n",
       "<style scoped>\n",
       "    .dataframe tbody tr th:only-of-type {\n",
       "        vertical-align: middle;\n",
       "    }\n",
       "\n",
       "    .dataframe tbody tr th {\n",
       "        vertical-align: top;\n",
       "    }\n",
       "\n",
       "    .dataframe thead th {\n",
       "        text-align: right;\n",
       "    }\n",
       "</style>\n",
       "<table border=\"1\" class=\"dataframe\">\n",
       "  <thead>\n",
       "    <tr style=\"text-align: right;\">\n",
       "      <th></th>\n",
       "      <th>Gender</th>\n",
       "      <th>Age</th>\n",
       "      <th>Height</th>\n",
       "      <th>Weight</th>\n",
       "      <th>family_history_with_overweight</th>\n",
       "      <th>FAVC</th>\n",
       "      <th>FCVC</th>\n",
       "      <th>NCP</th>\n",
       "      <th>CAEC</th>\n",
       "      <th>SMOKE</th>\n",
       "      <th>CH2O</th>\n",
       "      <th>SCC</th>\n",
       "      <th>FAF</th>\n",
       "      <th>TUE</th>\n",
       "      <th>CALC</th>\n",
       "      <th>MTRANS</th>\n",
       "      <th>NObeyesdad</th>\n",
       "    </tr>\n",
       "  </thead>\n",
       "  <tbody>\n",
       "    <tr>\n",
       "      <th>0</th>\n",
       "      <td>Female</td>\n",
       "      <td>21</td>\n",
       "      <td>1.62</td>\n",
       "      <td>64.0</td>\n",
       "      <td>yes</td>\n",
       "      <td>no</td>\n",
       "      <td>Sometimes</td>\n",
       "      <td>3</td>\n",
       "      <td>Sometimes</td>\n",
       "      <td>no</td>\n",
       "      <td>2.0</td>\n",
       "      <td>no</td>\n",
       "      <td>no physical activity</td>\n",
       "      <td>3-5 hours</td>\n",
       "      <td>no</td>\n",
       "      <td>Public_Transportation</td>\n",
       "      <td>Normal_Weight</td>\n",
       "    </tr>\n",
       "    <tr>\n",
       "      <th>1</th>\n",
       "      <td>Female</td>\n",
       "      <td>21</td>\n",
       "      <td>1.52</td>\n",
       "      <td>56.0</td>\n",
       "      <td>yes</td>\n",
       "      <td>no</td>\n",
       "      <td>Always</td>\n",
       "      <td>3</td>\n",
       "      <td>Sometimes</td>\n",
       "      <td>yes</td>\n",
       "      <td>3.0</td>\n",
       "      <td>yes</td>\n",
       "      <td>5-6 days</td>\n",
       "      <td>0-2 hours</td>\n",
       "      <td>Sometimes</td>\n",
       "      <td>Public_Transportation</td>\n",
       "      <td>Normal_Weight</td>\n",
       "    </tr>\n",
       "    <tr>\n",
       "      <th>2</th>\n",
       "      <td>Male</td>\n",
       "      <td>23</td>\n",
       "      <td>1.80</td>\n",
       "      <td>77.0</td>\n",
       "      <td>yes</td>\n",
       "      <td>no</td>\n",
       "      <td>Sometimes</td>\n",
       "      <td>3</td>\n",
       "      <td>Sometimes</td>\n",
       "      <td>no</td>\n",
       "      <td>2.0</td>\n",
       "      <td>no</td>\n",
       "      <td>3-4 days</td>\n",
       "      <td>3-5 hours</td>\n",
       "      <td>Frequently</td>\n",
       "      <td>Public_Transportation</td>\n",
       "      <td>Normal_Weight</td>\n",
       "    </tr>\n",
       "    <tr>\n",
       "      <th>3</th>\n",
       "      <td>Male</td>\n",
       "      <td>27</td>\n",
       "      <td>1.80</td>\n",
       "      <td>87.0</td>\n",
       "      <td>no</td>\n",
       "      <td>no</td>\n",
       "      <td>Always</td>\n",
       "      <td>3</td>\n",
       "      <td>Sometimes</td>\n",
       "      <td>no</td>\n",
       "      <td>2.0</td>\n",
       "      <td>no</td>\n",
       "      <td>3-4 days</td>\n",
       "      <td>0-2 hours</td>\n",
       "      <td>Frequently</td>\n",
       "      <td>Walking</td>\n",
       "      <td>Overweight_Level_I</td>\n",
       "    </tr>\n",
       "    <tr>\n",
       "      <th>4</th>\n",
       "      <td>Male</td>\n",
       "      <td>22</td>\n",
       "      <td>1.78</td>\n",
       "      <td>89.8</td>\n",
       "      <td>no</td>\n",
       "      <td>no</td>\n",
       "      <td>Sometimes</td>\n",
       "      <td>1</td>\n",
       "      <td>Sometimes</td>\n",
       "      <td>no</td>\n",
       "      <td>2.0</td>\n",
       "      <td>no</td>\n",
       "      <td>no physical activity</td>\n",
       "      <td>0-2 hours</td>\n",
       "      <td>Sometimes</td>\n",
       "      <td>Public_Transportation</td>\n",
       "      <td>Overweight_Level_II</td>\n",
       "    </tr>\n",
       "    <tr>\n",
       "      <th>...</th>\n",
       "      <td>...</td>\n",
       "      <td>...</td>\n",
       "      <td>...</td>\n",
       "      <td>...</td>\n",
       "      <td>...</td>\n",
       "      <td>...</td>\n",
       "      <td>...</td>\n",
       "      <td>...</td>\n",
       "      <td>...</td>\n",
       "      <td>...</td>\n",
       "      <td>...</td>\n",
       "      <td>...</td>\n",
       "      <td>...</td>\n",
       "      <td>...</td>\n",
       "      <td>...</td>\n",
       "      <td>...</td>\n",
       "      <td>...</td>\n",
       "    </tr>\n",
       "    <tr>\n",
       "      <th>2106</th>\n",
       "      <td>Female</td>\n",
       "      <td>20</td>\n",
       "      <td>1.71</td>\n",
       "      <td>131.4</td>\n",
       "      <td>yes</td>\n",
       "      <td>yes</td>\n",
       "      <td>Always</td>\n",
       "      <td>3</td>\n",
       "      <td>Sometimes</td>\n",
       "      <td>no</td>\n",
       "      <td>1.7</td>\n",
       "      <td>no</td>\n",
       "      <td>3-4 days</td>\n",
       "      <td>3-5 hours</td>\n",
       "      <td>Sometimes</td>\n",
       "      <td>Public_Transportation</td>\n",
       "      <td>Obesity_Type_III</td>\n",
       "    </tr>\n",
       "    <tr>\n",
       "      <th>2107</th>\n",
       "      <td>Female</td>\n",
       "      <td>21</td>\n",
       "      <td>1.75</td>\n",
       "      <td>133.7</td>\n",
       "      <td>yes</td>\n",
       "      <td>yes</td>\n",
       "      <td>Always</td>\n",
       "      <td>3</td>\n",
       "      <td>Sometimes</td>\n",
       "      <td>no</td>\n",
       "      <td>2.0</td>\n",
       "      <td>no</td>\n",
       "      <td>1-2 days</td>\n",
       "      <td>3-5 hours</td>\n",
       "      <td>Sometimes</td>\n",
       "      <td>Public_Transportation</td>\n",
       "      <td>Obesity_Type_III</td>\n",
       "    </tr>\n",
       "    <tr>\n",
       "      <th>2108</th>\n",
       "      <td>Female</td>\n",
       "      <td>22</td>\n",
       "      <td>1.75</td>\n",
       "      <td>133.7</td>\n",
       "      <td>yes</td>\n",
       "      <td>yes</td>\n",
       "      <td>Always</td>\n",
       "      <td>3</td>\n",
       "      <td>Sometimes</td>\n",
       "      <td>no</td>\n",
       "      <td>2.1</td>\n",
       "      <td>no</td>\n",
       "      <td>1-2 days</td>\n",
       "      <td>3-5 hours</td>\n",
       "      <td>Sometimes</td>\n",
       "      <td>Public_Transportation</td>\n",
       "      <td>Obesity_Type_III</td>\n",
       "    </tr>\n",
       "    <tr>\n",
       "      <th>2109</th>\n",
       "      <td>Female</td>\n",
       "      <td>24</td>\n",
       "      <td>1.74</td>\n",
       "      <td>133.3</td>\n",
       "      <td>yes</td>\n",
       "      <td>yes</td>\n",
       "      <td>Always</td>\n",
       "      <td>3</td>\n",
       "      <td>Sometimes</td>\n",
       "      <td>no</td>\n",
       "      <td>2.9</td>\n",
       "      <td>no</td>\n",
       "      <td>1-2 days</td>\n",
       "      <td>3-5 hours</td>\n",
       "      <td>Sometimes</td>\n",
       "      <td>Public_Transportation</td>\n",
       "      <td>Obesity_Type_III</td>\n",
       "    </tr>\n",
       "    <tr>\n",
       "      <th>2110</th>\n",
       "      <td>Female</td>\n",
       "      <td>23</td>\n",
       "      <td>1.74</td>\n",
       "      <td>133.5</td>\n",
       "      <td>yes</td>\n",
       "      <td>yes</td>\n",
       "      <td>Always</td>\n",
       "      <td>3</td>\n",
       "      <td>Sometimes</td>\n",
       "      <td>no</td>\n",
       "      <td>2.9</td>\n",
       "      <td>no</td>\n",
       "      <td>1-2 days</td>\n",
       "      <td>3-5 hours</td>\n",
       "      <td>Sometimes</td>\n",
       "      <td>Public_Transportation</td>\n",
       "      <td>Obesity_Type_III</td>\n",
       "    </tr>\n",
       "  </tbody>\n",
       "</table>\n",
       "<p>2111 rows × 17 columns</p>\n",
       "</div>"
      ],
      "text/plain": [
       "      Gender  Age  Height  Weight family_history_with_overweight FAVC  \\\n",
       "0     Female   21    1.62    64.0                            yes   no   \n",
       "1     Female   21    1.52    56.0                            yes   no   \n",
       "2       Male   23    1.80    77.0                            yes   no   \n",
       "3       Male   27    1.80    87.0                             no   no   \n",
       "4       Male   22    1.78    89.8                             no   no   \n",
       "...      ...  ...     ...     ...                            ...  ...   \n",
       "2106  Female   20    1.71   131.4                            yes  yes   \n",
       "2107  Female   21    1.75   133.7                            yes  yes   \n",
       "2108  Female   22    1.75   133.7                            yes  yes   \n",
       "2109  Female   24    1.74   133.3                            yes  yes   \n",
       "2110  Female   23    1.74   133.5                            yes  yes   \n",
       "\n",
       "           FCVC  NCP       CAEC SMOKE  CH2O  SCC                   FAF  \\\n",
       "0     Sometimes    3  Sometimes    no   2.0   no  no physical activity   \n",
       "1        Always    3  Sometimes   yes   3.0  yes              5-6 days   \n",
       "2     Sometimes    3  Sometimes    no   2.0   no              3-4 days   \n",
       "3        Always    3  Sometimes    no   2.0   no              3-4 days   \n",
       "4     Sometimes    1  Sometimes    no   2.0   no  no physical activity   \n",
       "...         ...  ...        ...   ...   ...  ...                   ...   \n",
       "2106     Always    3  Sometimes    no   1.7   no              3-4 days   \n",
       "2107     Always    3  Sometimes    no   2.0   no              1-2 days   \n",
       "2108     Always    3  Sometimes    no   2.1   no              1-2 days   \n",
       "2109     Always    3  Sometimes    no   2.9   no              1-2 days   \n",
       "2110     Always    3  Sometimes    no   2.9   no              1-2 days   \n",
       "\n",
       "            TUE        CALC                 MTRANS           NObeyesdad  \n",
       "0     3-5 hours          no  Public_Transportation        Normal_Weight  \n",
       "1     0-2 hours   Sometimes  Public_Transportation        Normal_Weight  \n",
       "2     3-5 hours  Frequently  Public_Transportation        Normal_Weight  \n",
       "3     0-2 hours  Frequently                Walking   Overweight_Level_I  \n",
       "4     0-2 hours   Sometimes  Public_Transportation  Overweight_Level_II  \n",
       "...         ...         ...                    ...                  ...  \n",
       "2106  3-5 hours   Sometimes  Public_Transportation     Obesity_Type_III  \n",
       "2107  3-5 hours   Sometimes  Public_Transportation     Obesity_Type_III  \n",
       "2108  3-5 hours   Sometimes  Public_Transportation     Obesity_Type_III  \n",
       "2109  3-5 hours   Sometimes  Public_Transportation     Obesity_Type_III  \n",
       "2110  3-5 hours   Sometimes  Public_Transportation     Obesity_Type_III  \n",
       "\n",
       "[2111 rows x 17 columns]"
      ]
     },
     "execution_count": 36,
     "metadata": {},
     "output_type": "execute_result"
    }
   ],
   "source": [
    "obe_df"
   ]
  },
  {
   "attachments": {},
   "cell_type": "markdown",
   "metadata": {},
   "source": [
    "---"
   ]
  },
  {
   "attachments": {},
   "cell_type": "markdown",
   "metadata": {},
   "source": [
    "## Tìm sự phân phối của các cột dữ liệu kiểu số"
   ]
  },
  {
   "attachments": {},
   "cell_type": "markdown",
   "metadata": {},
   "source": [
    "- Chọn những cột có kiểu dữ liệu số để tính phần trăm giá trị bị mất, giá trị nhỏ nhất, giá trị lớn nhất của mỗi cột dữ liệu."
   ]
  },
  {
   "cell_type": "code",
   "execution_count": 37,
   "metadata": {},
   "outputs": [
    {
     "data": {
      "text/html": [
       "<div>\n",
       "<style scoped>\n",
       "    .dataframe tbody tr th:only-of-type {\n",
       "        vertical-align: middle;\n",
       "    }\n",
       "\n",
       "    .dataframe tbody tr th {\n",
       "        vertical-align: top;\n",
       "    }\n",
       "\n",
       "    .dataframe thead th {\n",
       "        text-align: right;\n",
       "    }\n",
       "</style>\n",
       "<table border=\"1\" class=\"dataframe\">\n",
       "  <thead>\n",
       "    <tr style=\"text-align: right;\">\n",
       "      <th></th>\n",
       "      <th>Age</th>\n",
       "      <th>Height</th>\n",
       "      <th>Weight</th>\n",
       "      <th>NCP</th>\n",
       "      <th>CH2O</th>\n",
       "    </tr>\n",
       "  </thead>\n",
       "  <tbody>\n",
       "    <tr>\n",
       "      <th>mising percentage</th>\n",
       "      <td>0.0</td>\n",
       "      <td>0.00</td>\n",
       "      <td>0.0</td>\n",
       "      <td>0.0</td>\n",
       "      <td>0.0</td>\n",
       "    </tr>\n",
       "    <tr>\n",
       "      <th>min</th>\n",
       "      <td>14.0</td>\n",
       "      <td>1.45</td>\n",
       "      <td>39.0</td>\n",
       "      <td>1.0</td>\n",
       "      <td>1.0</td>\n",
       "    </tr>\n",
       "    <tr>\n",
       "      <th>max</th>\n",
       "      <td>61.0</td>\n",
       "      <td>1.98</td>\n",
       "      <td>173.0</td>\n",
       "      <td>4.0</td>\n",
       "      <td>3.0</td>\n",
       "    </tr>\n",
       "  </tbody>\n",
       "</table>\n",
       "</div>"
      ],
      "text/plain": [
       "                    Age  Height  Weight  NCP  CH2O\n",
       "mising percentage   0.0    0.00     0.0  0.0   0.0\n",
       "min                14.0    1.45    39.0  1.0   1.0\n",
       "max                61.0    1.98   173.0  4.0   3.0"
      ]
     },
     "execution_count": 37,
     "metadata": {},
     "output_type": "execute_result"
    }
   ],
   "source": [
    "num_df = obe_df.select_dtypes(include = 'number')\n",
    "\n",
    "mising_percentage = (num_df.isna().sum() / row) * 100       # tỉ lệ giá trị bị thiếu\n",
    "min_values = np.min(num_df)                                 # các giá trị nhỏ nhất\n",
    "max_values = np.max(num_df)                                 # các giá trị lớn nhất\n",
    "\n",
    "num_cols_distribution = pd.DataFrame(data = np.array((mising_percentage, min_values, max_values)),\n",
    "                                                      columns = num_df.columns,\n",
    "                                                      index = ['mising percentage', 'min', 'max'])\n",
    "num_cols_distribution"
   ]
  },
  {
   "attachments": {},
   "cell_type": "markdown",
   "metadata": {},
   "source": [
    "- Có vẻ như không có gì bất thường đối với dữ liệu của các cột dữ liệu kiểu số."
   ]
  },
  {
   "attachments": {},
   "cell_type": "markdown",
   "metadata": {},
   "source": [
    "## Tìm sự phân phối của các cột dữ liệu kiểu phân loại"
   ]
  },
  {
   "attachments": {},
   "cell_type": "markdown",
   "metadata": {},
   "source": [
    "- Chọn những cột có kiểu dữ liệu phân loại để tính phần trăm giá trị bị mất, tìm số giá trị riêng biệt, và các giá trị riêng biệt của mỗi cột dữ liệu."
   ]
  },
  {
   "cell_type": "code",
   "execution_count": 38,
   "metadata": {},
   "outputs": [
    {
     "data": {
      "text/html": [
       "<div>\n",
       "<style scoped>\n",
       "    .dataframe tbody tr th:only-of-type {\n",
       "        vertical-align: middle;\n",
       "    }\n",
       "\n",
       "    .dataframe tbody tr th {\n",
       "        vertical-align: top;\n",
       "    }\n",
       "\n",
       "    .dataframe thead th {\n",
       "        text-align: right;\n",
       "    }\n",
       "</style>\n",
       "<table border=\"1\" class=\"dataframe\">\n",
       "  <thead>\n",
       "    <tr style=\"text-align: right;\">\n",
       "      <th></th>\n",
       "      <th>Gender</th>\n",
       "      <th>family_history_with_overweight</th>\n",
       "      <th>FAVC</th>\n",
       "      <th>FCVC</th>\n",
       "      <th>CAEC</th>\n",
       "      <th>SMOKE</th>\n",
       "      <th>SCC</th>\n",
       "      <th>FAF</th>\n",
       "      <th>TUE</th>\n",
       "      <th>CALC</th>\n",
       "      <th>MTRANS</th>\n",
       "      <th>NObeyesdad</th>\n",
       "    </tr>\n",
       "  </thead>\n",
       "  <tbody>\n",
       "    <tr>\n",
       "      <th>mising percentage</th>\n",
       "      <td>0.0</td>\n",
       "      <td>0.0</td>\n",
       "      <td>0.0</td>\n",
       "      <td>0.0</td>\n",
       "      <td>0.0</td>\n",
       "      <td>0.0</td>\n",
       "      <td>0.0</td>\n",
       "      <td>0.0</td>\n",
       "      <td>0.0</td>\n",
       "      <td>0.0</td>\n",
       "      <td>0.0</td>\n",
       "      <td>0.0</td>\n",
       "    </tr>\n",
       "    <tr>\n",
       "      <th>num_diff_vals</th>\n",
       "      <td>2</td>\n",
       "      <td>2</td>\n",
       "      <td>2</td>\n",
       "      <td>3</td>\n",
       "      <td>4</td>\n",
       "      <td>2</td>\n",
       "      <td>2</td>\n",
       "      <td>4</td>\n",
       "      <td>3</td>\n",
       "      <td>4</td>\n",
       "      <td>5</td>\n",
       "      <td>7</td>\n",
       "    </tr>\n",
       "    <tr>\n",
       "      <th>diff_vals</th>\n",
       "      <td>[Female, Male]</td>\n",
       "      <td>[yes, no]</td>\n",
       "      <td>[no, yes]</td>\n",
       "      <td>[Sometimes, Always, Rarely]</td>\n",
       "      <td>[Sometimes, Frequently, Always, no]</td>\n",
       "      <td>[no, yes]</td>\n",
       "      <td>[no, yes]</td>\n",
       "      <td>[no physical activity, 5-6 days, 3-4 days, 1-2...</td>\n",
       "      <td>[3-5 hours, 0-2 hours, more than 5 hours]</td>\n",
       "      <td>[no, Sometimes, Frequently, Always]</td>\n",
       "      <td>[Public_Transportation, Walking, Automobile, M...</td>\n",
       "      <td>[Normal_Weight, Overweight_Level_I, Overweight...</td>\n",
       "    </tr>\n",
       "  </tbody>\n",
       "</table>\n",
       "</div>"
      ],
      "text/plain": [
       "                           Gender family_history_with_overweight       FAVC  \\\n",
       "mising percentage             0.0                            0.0        0.0   \n",
       "num_diff_vals                   2                              2          2   \n",
       "diff_vals          [Female, Male]                      [yes, no]  [no, yes]   \n",
       "\n",
       "                                          FCVC  \\\n",
       "mising percentage                          0.0   \n",
       "num_diff_vals                                3   \n",
       "diff_vals          [Sometimes, Always, Rarely]   \n",
       "\n",
       "                                                  CAEC      SMOKE        SCC  \\\n",
       "mising percentage                                  0.0        0.0        0.0   \n",
       "num_diff_vals                                        4          2          2   \n",
       "diff_vals          [Sometimes, Frequently, Always, no]  [no, yes]  [no, yes]   \n",
       "\n",
       "                                                                 FAF  \\\n",
       "mising percentage                                                0.0   \n",
       "num_diff_vals                                                      4   \n",
       "diff_vals          [no physical activity, 5-6 days, 3-4 days, 1-2...   \n",
       "\n",
       "                                                         TUE  \\\n",
       "mising percentage                                        0.0   \n",
       "num_diff_vals                                              3   \n",
       "diff_vals          [3-5 hours, 0-2 hours, more than 5 hours]   \n",
       "\n",
       "                                                  CALC  \\\n",
       "mising percentage                                  0.0   \n",
       "num_diff_vals                                        4   \n",
       "diff_vals          [no, Sometimes, Frequently, Always]   \n",
       "\n",
       "                                                              MTRANS  \\\n",
       "mising percentage                                                0.0   \n",
       "num_diff_vals                                                      5   \n",
       "diff_vals          [Public_Transportation, Walking, Automobile, M...   \n",
       "\n",
       "                                                          NObeyesdad  \n",
       "mising percentage                                                0.0  \n",
       "num_diff_vals                                                      7  \n",
       "diff_vals          [Normal_Weight, Overweight_Level_I, Overweight...  "
      ]
     },
     "execution_count": 38,
     "metadata": {},
     "output_type": "execute_result"
    }
   ],
   "source": [
    "cat_df = obe_df.select_dtypes(include = 'object')\n",
    "\n",
    "mising_percentage = (cat_df.isna().sum() / row) * 100           # tỉ lệ giá trị bị thiếu\n",
    "num_diff_vals = cat_df.dropna().nunique()                       # số giá trị khác nhau\n",
    "diff_vals = cat_df.apply(lambda col: col.dropna().unique())     # các giá trị khác nhau\n",
    "\n",
    "cat_cols_distribution = pd.DataFrame(data = np.array((mising_percentage, num_diff_vals, diff_vals)),\n",
    "                                     columns = cat_df.columns,\n",
    "                                     index = ['mising percentage', 'num_diff_vals', 'diff_vals'])\n",
    "cat_cols_distribution"
   ]
  },
  {
   "attachments": {},
   "cell_type": "markdown",
   "metadata": {},
   "source": [
    "- Có vẻ như không có gì bất thường đối với dữ liệu của các cột dữ liệu kiểu phân loại."
   ]
  },
  {
   "attachments": {},
   "cell_type": "markdown",
   "metadata": {},
   "source": [
    "## Xử lý các dòng bị thiếu dữ liệu"
   ]
  },
  {
   "attachments": {},
   "cell_type": "markdown",
   "metadata": {},
   "source": [
    "- Ở đây tỉ lệ giá trị bị thiếu của tất cả các cột đều là 0%, cho nên không cần xử lý các dòng bị thiếu dữ liệu."
   ]
  },
  {
   "attachments": {},
   "cell_type": "markdown",
   "metadata": {},
   "source": [
    "---"
   ]
  },
  {
   "attachments": {},
   "cell_type": "markdown",
   "metadata": {},
   "source": [
    "# **Phân tích dữ liệu**"
   ]
  },
  {
   "attachments": {},
   "cell_type": "markdown",
   "metadata": {},
   "source": [
    "## **Câu hỏi số 1**"
   ]
  },
  {
   "attachments": {},
   "cell_type": "markdown",
   "metadata": {},
   "source": [
    "- (Nhập câu hỏi)\n",
    "- (Lợi ích của việc tìm câu trả lời cho câu hỏi này)"
   ]
  },
  {
   "attachments": {},
   "cell_type": "markdown",
   "metadata": {},
   "source": [
    "### Tiền xử lý"
   ]
  },
  {
   "cell_type": "code",
   "execution_count": 39,
   "metadata": {},
   "outputs": [
    {
     "data": {
      "text/html": [
       "<div>\n",
       "<style scoped>\n",
       "    .dataframe tbody tr th:only-of-type {\n",
       "        vertical-align: middle;\n",
       "    }\n",
       "\n",
       "    .dataframe tbody tr th {\n",
       "        vertical-align: top;\n",
       "    }\n",
       "\n",
       "    .dataframe thead th {\n",
       "        text-align: right;\n",
       "    }\n",
       "</style>\n",
       "<table border=\"1\" class=\"dataframe\">\n",
       "  <thead>\n",
       "    <tr style=\"text-align: right;\">\n",
       "      <th></th>\n",
       "      <th>Gender</th>\n",
       "      <th>Age</th>\n",
       "      <th>Height</th>\n",
       "      <th>Weight</th>\n",
       "      <th>family_history_with_overweight</th>\n",
       "      <th>FAVC</th>\n",
       "      <th>FCVC</th>\n",
       "      <th>NCP</th>\n",
       "      <th>CAEC</th>\n",
       "      <th>SMOKE</th>\n",
       "      <th>CH2O</th>\n",
       "      <th>SCC</th>\n",
       "      <th>FAF</th>\n",
       "      <th>TUE</th>\n",
       "      <th>CALC</th>\n",
       "      <th>MTRANS</th>\n",
       "      <th>NObeyesdad</th>\n",
       "    </tr>\n",
       "  </thead>\n",
       "  <tbody>\n",
       "    <tr>\n",
       "      <th>0</th>\n",
       "      <td>Female</td>\n",
       "      <td>21</td>\n",
       "      <td>1.62</td>\n",
       "      <td>64.0</td>\n",
       "      <td>yes</td>\n",
       "      <td>no</td>\n",
       "      <td>Sometimes</td>\n",
       "      <td>3</td>\n",
       "      <td>Sometimes</td>\n",
       "      <td>no</td>\n",
       "      <td>2.0</td>\n",
       "      <td>no</td>\n",
       "      <td>no physical activity</td>\n",
       "      <td>3-5 hours</td>\n",
       "      <td>no</td>\n",
       "      <td>Public_Transportation</td>\n",
       "      <td>Normal_Weight</td>\n",
       "    </tr>\n",
       "    <tr>\n",
       "      <th>1</th>\n",
       "      <td>Female</td>\n",
       "      <td>21</td>\n",
       "      <td>1.52</td>\n",
       "      <td>56.0</td>\n",
       "      <td>yes</td>\n",
       "      <td>no</td>\n",
       "      <td>Always</td>\n",
       "      <td>3</td>\n",
       "      <td>Sometimes</td>\n",
       "      <td>yes</td>\n",
       "      <td>3.0</td>\n",
       "      <td>yes</td>\n",
       "      <td>5-6 days</td>\n",
       "      <td>0-2 hours</td>\n",
       "      <td>Sometimes</td>\n",
       "      <td>Public_Transportation</td>\n",
       "      <td>Normal_Weight</td>\n",
       "    </tr>\n",
       "    <tr>\n",
       "      <th>2</th>\n",
       "      <td>Male</td>\n",
       "      <td>23</td>\n",
       "      <td>1.80</td>\n",
       "      <td>77.0</td>\n",
       "      <td>yes</td>\n",
       "      <td>no</td>\n",
       "      <td>Sometimes</td>\n",
       "      <td>3</td>\n",
       "      <td>Sometimes</td>\n",
       "      <td>no</td>\n",
       "      <td>2.0</td>\n",
       "      <td>no</td>\n",
       "      <td>3-4 days</td>\n",
       "      <td>3-5 hours</td>\n",
       "      <td>Frequently</td>\n",
       "      <td>Public_Transportation</td>\n",
       "      <td>Normal_Weight</td>\n",
       "    </tr>\n",
       "    <tr>\n",
       "      <th>5</th>\n",
       "      <td>Male</td>\n",
       "      <td>29</td>\n",
       "      <td>1.62</td>\n",
       "      <td>53.0</td>\n",
       "      <td>no</td>\n",
       "      <td>yes</td>\n",
       "      <td>Sometimes</td>\n",
       "      <td>3</td>\n",
       "      <td>Sometimes</td>\n",
       "      <td>no</td>\n",
       "      <td>2.0</td>\n",
       "      <td>no</td>\n",
       "      <td>no physical activity</td>\n",
       "      <td>0-2 hours</td>\n",
       "      <td>Sometimes</td>\n",
       "      <td>Automobile</td>\n",
       "      <td>Normal_Weight</td>\n",
       "    </tr>\n",
       "    <tr>\n",
       "      <th>6</th>\n",
       "      <td>Female</td>\n",
       "      <td>23</td>\n",
       "      <td>1.50</td>\n",
       "      <td>55.0</td>\n",
       "      <td>yes</td>\n",
       "      <td>yes</td>\n",
       "      <td>Always</td>\n",
       "      <td>3</td>\n",
       "      <td>Sometimes</td>\n",
       "      <td>no</td>\n",
       "      <td>2.0</td>\n",
       "      <td>no</td>\n",
       "      <td>1-2 days</td>\n",
       "      <td>0-2 hours</td>\n",
       "      <td>Sometimes</td>\n",
       "      <td>Motorbike</td>\n",
       "      <td>Normal_Weight</td>\n",
       "    </tr>\n",
       "    <tr>\n",
       "      <th>...</th>\n",
       "      <td>...</td>\n",
       "      <td>...</td>\n",
       "      <td>...</td>\n",
       "      <td>...</td>\n",
       "      <td>...</td>\n",
       "      <td>...</td>\n",
       "      <td>...</td>\n",
       "      <td>...</td>\n",
       "      <td>...</td>\n",
       "      <td>...</td>\n",
       "      <td>...</td>\n",
       "      <td>...</td>\n",
       "      <td>...</td>\n",
       "      <td>...</td>\n",
       "      <td>...</td>\n",
       "      <td>...</td>\n",
       "      <td>...</td>\n",
       "    </tr>\n",
       "    <tr>\n",
       "      <th>491</th>\n",
       "      <td>Male</td>\n",
       "      <td>25</td>\n",
       "      <td>1.66</td>\n",
       "      <td>68.0</td>\n",
       "      <td>no</td>\n",
       "      <td>yes</td>\n",
       "      <td>Sometimes</td>\n",
       "      <td>3</td>\n",
       "      <td>Sometimes</td>\n",
       "      <td>yes</td>\n",
       "      <td>1.0</td>\n",
       "      <td>no</td>\n",
       "      <td>1-2 days</td>\n",
       "      <td>3-5 hours</td>\n",
       "      <td>Sometimes</td>\n",
       "      <td>Public_Transportation</td>\n",
       "      <td>Normal_Weight</td>\n",
       "    </tr>\n",
       "    <tr>\n",
       "      <th>493</th>\n",
       "      <td>Male</td>\n",
       "      <td>20</td>\n",
       "      <td>1.80</td>\n",
       "      <td>65.0</td>\n",
       "      <td>no</td>\n",
       "      <td>yes</td>\n",
       "      <td>Sometimes</td>\n",
       "      <td>3</td>\n",
       "      <td>Frequently</td>\n",
       "      <td>no</td>\n",
       "      <td>1.0</td>\n",
       "      <td>no</td>\n",
       "      <td>3-4 days</td>\n",
       "      <td>0-2 hours</td>\n",
       "      <td>Sometimes</td>\n",
       "      <td>Motorbike</td>\n",
       "      <td>Normal_Weight</td>\n",
       "    </tr>\n",
       "    <tr>\n",
       "      <th>494</th>\n",
       "      <td>Female</td>\n",
       "      <td>18</td>\n",
       "      <td>1.67</td>\n",
       "      <td>66.0</td>\n",
       "      <td>no</td>\n",
       "      <td>yes</td>\n",
       "      <td>Always</td>\n",
       "      <td>3</td>\n",
       "      <td>Sometimes</td>\n",
       "      <td>no</td>\n",
       "      <td>2.0</td>\n",
       "      <td>no</td>\n",
       "      <td>no physical activity</td>\n",
       "      <td>0-2 hours</td>\n",
       "      <td>Sometimes</td>\n",
       "      <td>Public_Transportation</td>\n",
       "      <td>Normal_Weight</td>\n",
       "    </tr>\n",
       "    <tr>\n",
       "      <th>495</th>\n",
       "      <td>Male</td>\n",
       "      <td>19</td>\n",
       "      <td>1.80</td>\n",
       "      <td>60.0</td>\n",
       "      <td>yes</td>\n",
       "      <td>yes</td>\n",
       "      <td>Always</td>\n",
       "      <td>1</td>\n",
       "      <td>Always</td>\n",
       "      <td>no</td>\n",
       "      <td>1.0</td>\n",
       "      <td>yes</td>\n",
       "      <td>no physical activity</td>\n",
       "      <td>0-2 hours</td>\n",
       "      <td>no</td>\n",
       "      <td>Motorbike</td>\n",
       "      <td>Normal_Weight</td>\n",
       "    </tr>\n",
       "    <tr>\n",
       "      <th>497</th>\n",
       "      <td>Male</td>\n",
       "      <td>20</td>\n",
       "      <td>1.56</td>\n",
       "      <td>45.0</td>\n",
       "      <td>no</td>\n",
       "      <td>no</td>\n",
       "      <td>Sometimes</td>\n",
       "      <td>3</td>\n",
       "      <td>Sometimes</td>\n",
       "      <td>no</td>\n",
       "      <td>2.0</td>\n",
       "      <td>no</td>\n",
       "      <td>1-2 days</td>\n",
       "      <td>3-5 hours</td>\n",
       "      <td>Sometimes</td>\n",
       "      <td>Public_Transportation</td>\n",
       "      <td>Normal_Weight</td>\n",
       "    </tr>\n",
       "  </tbody>\n",
       "</table>\n",
       "<p>287 rows × 17 columns</p>\n",
       "</div>"
      ],
      "text/plain": [
       "     Gender  Age  Height  Weight family_history_with_overweight FAVC  \\\n",
       "0    Female   21    1.62    64.0                            yes   no   \n",
       "1    Female   21    1.52    56.0                            yes   no   \n",
       "2      Male   23    1.80    77.0                            yes   no   \n",
       "5      Male   29    1.62    53.0                             no  yes   \n",
       "6    Female   23    1.50    55.0                            yes  yes   \n",
       "..      ...  ...     ...     ...                            ...  ...   \n",
       "491    Male   25    1.66    68.0                             no  yes   \n",
       "493    Male   20    1.80    65.0                             no  yes   \n",
       "494  Female   18    1.67    66.0                             no  yes   \n",
       "495    Male   19    1.80    60.0                            yes  yes   \n",
       "497    Male   20    1.56    45.0                             no   no   \n",
       "\n",
       "          FCVC  NCP        CAEC SMOKE  CH2O  SCC                   FAF  \\\n",
       "0    Sometimes    3   Sometimes    no   2.0   no  no physical activity   \n",
       "1       Always    3   Sometimes   yes   3.0  yes              5-6 days   \n",
       "2    Sometimes    3   Sometimes    no   2.0   no              3-4 days   \n",
       "5    Sometimes    3   Sometimes    no   2.0   no  no physical activity   \n",
       "6       Always    3   Sometimes    no   2.0   no              1-2 days   \n",
       "..         ...  ...         ...   ...   ...  ...                   ...   \n",
       "491  Sometimes    3   Sometimes   yes   1.0   no              1-2 days   \n",
       "493  Sometimes    3  Frequently    no   1.0   no              3-4 days   \n",
       "494     Always    3   Sometimes    no   2.0   no  no physical activity   \n",
       "495     Always    1      Always    no   1.0  yes  no physical activity   \n",
       "497  Sometimes    3   Sometimes    no   2.0   no              1-2 days   \n",
       "\n",
       "           TUE        CALC                 MTRANS     NObeyesdad  \n",
       "0    3-5 hours          no  Public_Transportation  Normal_Weight  \n",
       "1    0-2 hours   Sometimes  Public_Transportation  Normal_Weight  \n",
       "2    3-5 hours  Frequently  Public_Transportation  Normal_Weight  \n",
       "5    0-2 hours   Sometimes             Automobile  Normal_Weight  \n",
       "6    0-2 hours   Sometimes              Motorbike  Normal_Weight  \n",
       "..         ...         ...                    ...            ...  \n",
       "491  3-5 hours   Sometimes  Public_Transportation  Normal_Weight  \n",
       "493  0-2 hours   Sometimes              Motorbike  Normal_Weight  \n",
       "494  0-2 hours   Sometimes  Public_Transportation  Normal_Weight  \n",
       "495  0-2 hours          no              Motorbike  Normal_Weight  \n",
       "497  3-5 hours   Sometimes  Public_Transportation  Normal_Weight  \n",
       "\n",
       "[287 rows x 17 columns]"
      ]
     },
     "execution_count": 39,
     "metadata": {},
     "output_type": "execute_result"
    }
   ],
   "source": [
    "normal = obe_df[obe_df['NObeyesdad'] == 'Normal_Weight']\n",
    "normal"
   ]
  },
  {
   "attachments": {},
   "cell_type": "markdown",
   "metadata": {},
   "source": [
    "### Phân tích"
   ]
  },
  {
   "cell_type": "code",
   "execution_count": 40,
   "metadata": {},
   "outputs": [
    {
     "data": {
      "text/plain": [
       "14     1\n",
       "16     6\n",
       "17    18\n",
       "18    43\n",
       "19    34\n",
       "20    30\n",
       "21    45\n",
       "22    25\n",
       "23    28\n",
       "24    10\n",
       "25    11\n",
       "26    10\n",
       "27     3\n",
       "29     3\n",
       "30     2\n",
       "31     2\n",
       "32     1\n",
       "33     6\n",
       "34     1\n",
       "35     1\n",
       "36     1\n",
       "38     4\n",
       "51     1\n",
       "61     1\n",
       "Name: Age, dtype: int64"
      ]
     },
     "execution_count": 40,
     "metadata": {},
     "output_type": "execute_result"
    }
   ],
   "source": [
    "most_FAVC = []\n",
    "most_FCVC = []\n",
    "most_NCP  = []\n",
    "most_CAEC = []\n",
    "most_CH2O = []\n",
    "most_CALC = []\n",
    "\n",
    "normal['Age'].value_counts().sort_index()"
   ]
  },
  {
   "cell_type": "code",
   "execution_count": 41,
   "metadata": {},
   "outputs": [],
   "source": [
    "most_SCC = []\n",
    "most_FAF = []\n",
    "most_TUE = []\n",
    "most_MTRANS = []"
   ]
  },
  {
   "attachments": {},
   "cell_type": "markdown",
   "metadata": {},
   "source": [
    "### Trực quan hóa"
   ]
  },
  {
   "cell_type": "code",
   "execution_count": null,
   "metadata": {},
   "outputs": [],
   "source": []
  },
  {
   "attachments": {},
   "cell_type": "markdown",
   "metadata": {},
   "source": [
    "### Trả lời câu hỏi"
   ]
  },
  {
   "attachments": {},
   "cell_type": "markdown",
   "metadata": {},
   "source": [
    "- (Nhập câu trả lời và giải thích)"
   ]
  },
  {
   "attachments": {},
   "cell_type": "markdown",
   "metadata": {},
   "source": [
    "---"
   ]
  },
  {
   "attachments": {},
   "cell_type": "markdown",
   "metadata": {},
   "source": [
    "## **Câu hỏi số 2**"
   ]
  },
  {
   "attachments": {},
   "cell_type": "markdown",
   "metadata": {},
   "source": [
    "- (Nhập câu hỏi)\n",
    "- (Lợi ích của việc tìm câu trả lời cho câu hỏi này)"
   ]
  },
  {
   "attachments": {},
   "cell_type": "markdown",
   "metadata": {},
   "source": [
    "### Tiền xử lý"
   ]
  },
  {
   "cell_type": "code",
   "execution_count": null,
   "metadata": {},
   "outputs": [],
   "source": []
  },
  {
   "attachments": {},
   "cell_type": "markdown",
   "metadata": {},
   "source": [
    "### Phân tích"
   ]
  },
  {
   "cell_type": "code",
   "execution_count": null,
   "metadata": {},
   "outputs": [],
   "source": []
  },
  {
   "attachments": {},
   "cell_type": "markdown",
   "metadata": {},
   "source": [
    "### Trực quan hóa"
   ]
  },
  {
   "cell_type": "code",
   "execution_count": null,
   "metadata": {},
   "outputs": [],
   "source": []
  },
  {
   "attachments": {},
   "cell_type": "markdown",
   "metadata": {},
   "source": [
    "### Trả lời câu hỏi"
   ]
  },
  {
   "attachments": {},
   "cell_type": "markdown",
   "metadata": {},
   "source": [
    "- (Nhập câu trả lời và giải thích)"
   ]
  },
  {
   "attachments": {},
   "cell_type": "markdown",
   "metadata": {},
   "source": [
    "---"
   ]
  },
  {
   "attachments": {},
   "cell_type": "markdown",
   "metadata": {},
   "source": [
    "## **Câu hỏi số 3**"
   ]
  },
  {
   "attachments": {},
   "cell_type": "markdown",
   "metadata": {},
   "source": [
    "- (Nhập câu hỏi)\n",
    "- (Lợi ích của việc tìm câu trả lời cho câu hỏi này)"
   ]
  },
  {
   "attachments": {},
   "cell_type": "markdown",
   "metadata": {},
   "source": [
    "### Tiền xử lý"
   ]
  },
  {
   "cell_type": "code",
   "execution_count": null,
   "metadata": {},
   "outputs": [],
   "source": []
  },
  {
   "attachments": {},
   "cell_type": "markdown",
   "metadata": {},
   "source": [
    "### Phân tích"
   ]
  },
  {
   "cell_type": "code",
   "execution_count": null,
   "metadata": {},
   "outputs": [],
   "source": []
  },
  {
   "attachments": {},
   "cell_type": "markdown",
   "metadata": {},
   "source": [
    "### Trực quan hóa"
   ]
  },
  {
   "cell_type": "code",
   "execution_count": null,
   "metadata": {},
   "outputs": [],
   "source": []
  },
  {
   "attachments": {},
   "cell_type": "markdown",
   "metadata": {},
   "source": [
    "### Trả lời câu hỏi"
   ]
  },
  {
   "attachments": {},
   "cell_type": "markdown",
   "metadata": {},
   "source": [
    "- (Nhập câu trả lời và giải thích)"
   ]
  },
  {
   "attachments": {},
   "cell_type": "markdown",
   "metadata": {},
   "source": [
    "---"
   ]
  },
  {
   "attachments": {},
   "cell_type": "markdown",
   "metadata": {},
   "source": [
    "## **Câu hỏi số 4**"
   ]
  },
  {
   "attachments": {},
   "cell_type": "markdown",
   "metadata": {},
   "source": [
    "- (Nhập câu hỏi)\n",
    "- (Lợi ích của việc tìm câu trả lời cho câu hỏi này)"
   ]
  },
  {
   "attachments": {},
   "cell_type": "markdown",
   "metadata": {},
   "source": [
    "### Tiền xử lý"
   ]
  },
  {
   "cell_type": "code",
   "execution_count": null,
   "metadata": {},
   "outputs": [],
   "source": []
  },
  {
   "attachments": {},
   "cell_type": "markdown",
   "metadata": {},
   "source": [
    "### Phân tích"
   ]
  },
  {
   "cell_type": "code",
   "execution_count": null,
   "metadata": {},
   "outputs": [],
   "source": []
  },
  {
   "attachments": {},
   "cell_type": "markdown",
   "metadata": {},
   "source": [
    "### Trực quan hóa"
   ]
  },
  {
   "cell_type": "code",
   "execution_count": null,
   "metadata": {},
   "outputs": [],
   "source": []
  },
  {
   "attachments": {},
   "cell_type": "markdown",
   "metadata": {},
   "source": [
    "### Trả lời câu hỏi"
   ]
  },
  {
   "attachments": {},
   "cell_type": "markdown",
   "metadata": {},
   "source": [
    "- (Nhập câu trả lời và giải thích)"
   ]
  },
  {
   "attachments": {},
   "cell_type": "markdown",
   "metadata": {},
   "source": [
    "---"
   ]
  },
  {
   "attachments": {},
   "cell_type": "markdown",
   "metadata": {},
   "source": [
    "# **Đôi điều về đồ án**"
   ]
  },
  {
   "attachments": {},
   "cell_type": "markdown",
   "metadata": {},
   "source": [
    "- Mỗi thành viên gặp khó khăn gì?\n",
    "- Mỗi thành viên học được những gì?\n",
    "- Nếu có thêm thời gian, sẽ làm những gì?"
   ]
  },
  {
   "attachments": {},
   "cell_type": "markdown",
   "metadata": {},
   "source": [
    "---"
   ]
  },
  {
   "attachments": {},
   "cell_type": "markdown",
   "metadata": {},
   "source": [
    "# **Các nguồn tham khảo**"
   ]
  },
  {
   "attachments": {},
   "cell_type": "markdown",
   "metadata": {},
   "source": [
    "https://www.kaggle.com/datasets/ankurbajaj9/obesity-levels?select=ObesityDataSet_raw_and_data_sinthetic.csv\n",
    "\n"
   ]
  }
 ],
 "metadata": {
  "kernelspec": {
   "display_name": "Python 3",
   "language": "python",
   "name": "python3"
  },
  "language_info": {
   "codemirror_mode": {
    "name": "ipython",
    "version": 3
   },
   "file_extension": ".py",
   "mimetype": "text/x-python",
   "name": "python",
   "nbconvert_exporter": "python",
   "pygments_lexer": "ipython3",
   "version": "3.10.5 (tags/v3.10.5:f377153, Jun  6 2022, 16:14:13) [MSC v.1929 64 bit (AMD64)]"
  },
  "orig_nbformat": 4,
  "vscode": {
   "interpreter": {
    "hash": "31fd7f76f8009355209fe3881fbaf958d9747068dc2a273c2a9f3914650997fe"
   }
  }
 },
 "nbformat": 4,
 "nbformat_minor": 2
}
