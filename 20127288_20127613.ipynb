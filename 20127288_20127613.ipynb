{
 "cells": [
  {
   "attachments": {},
   "cell_type": "markdown",
   "metadata": {},
   "source": [
    "<center>\n",
    "\n",
    "# **Đồ án cuối kì**\n",
    "\n",
    "# **Môn Lập trình cho khoa học dữ liệu**\n",
    "\n",
    "## **Chủ đề: Các vụ án mạng ở Mỹ từ năm 2016 đến năm 2020**\n",
    "\n",
    "</center>"
   ]
  },
  {
   "attachments": {},
   "cell_type": "markdown",
   "metadata": {},
   "source": [
    "<center>\n",
    "\n",
    "# **Mục lục**\n",
    "\n",
    "</center>"
   ]
  },
  {
   "cell_type": "markdown",
   "metadata": {},
   "source": []
  },
  {
   "attachments": {},
   "cell_type": "markdown",
   "metadata": {},
   "source": [
    "# **Các thư viện sử dụng**"
   ]
  },
  {
   "cell_type": "code",
   "execution_count": 30,
   "metadata": {},
   "outputs": [],
   "source": [
    "# Libraries and Modules used\n",
    "import numpy as np\n",
    "import pandas as pd\n",
    "import matplotlib.pyplot as plt\n"
   ]
  },
  {
   "attachments": {},
   "cell_type": "markdown",
   "metadata": {},
   "source": [
    "---"
   ]
  },
  {
   "attachments": {},
   "cell_type": "markdown",
   "metadata": {},
   "source": [
    "# **Mô tả tập dữ liệu**"
   ]
  },
  {
   "attachments": {},
   "cell_type": "markdown",
   "metadata": {},
   "source": [
    "- Tập dữ liệu này được thu thập từ [**Murder Accountability Project**](https://www.murderdata.org/p/data-docs.html), do Thomas Hargrove sáng lập và công bố. Nhìn chung, tập dữ liệu mô tả về các vụ án giết người được xảy ra ở khắp mọi bang trên nước Mỹ từ năm 1976 đến năm 2020.\n",
    "\n",
    "- Tập dữ liệu này là một tập dữ liệu mở được công bố dưới bản quyền [***Creative Commons CC-BY license***](https://creativecommons.org/licenses/by/4.0/), cho phép sử dụng không hạn chế dưới mọi hình thức, miễn là người dùng giữ nguyên tập dữ liệu gốc.\n",
    "\n",
    "- Tập dữ liệu bao gồm những vụ án mạng được tổng hợp từ báo cáo của FBI và dữ liệu của Freedom of Information Act về các vụ án mạng không được báo cáo cho Justice Department.\n",
    "\n",
    "- Do tập dữ liệu có kích cỡ quá lớn (khoảng 290MB) nên nhóm chúng em chỉ lọc lấy những vụ án từ năm 2016 đến năm 2020."
   ]
  },
  {
   "attachments": {},
   "cell_type": "markdown",
   "metadata": {},
   "source": [
    "---"
   ]
  },
  {
   "attachments": {},
   "cell_type": "markdown",
   "metadata": {},
   "source": [
    "# **Tiền xử lý dữ liệu**"
   ]
  },
  {
   "attachments": {},
   "cell_type": "markdown",
   "metadata": {},
   "source": [
    "## Đọc dữ liệu vào Dataframe"
   ]
  },
  {
   "cell_type": "code",
   "execution_count": 31,
   "metadata": {},
   "outputs": [
    {
     "name": "stderr",
     "output_type": "stream",
     "text": [
      "C:\\Users\\phuon\\AppData\\Local\\Temp\\ipykernel_18364\\3899079463.py:1: DtypeWarning: Columns (9) have mixed types. Specify dtype option on import or set low_memory=False.\n",
      "  homi_df = pd.read_csv('homicide.csv')\n"
     ]
    },
    {
     "data": {
      "text/html": [
       "<div>\n",
       "<style scoped>\n",
       "    .dataframe tbody tr th:only-of-type {\n",
       "        vertical-align: middle;\n",
       "    }\n",
       "\n",
       "    .dataframe tbody tr th {\n",
       "        vertical-align: top;\n",
       "    }\n",
       "\n",
       "    .dataframe thead th {\n",
       "        text-align: right;\n",
       "    }\n",
       "</style>\n",
       "<table border=\"1\" class=\"dataframe\">\n",
       "  <thead>\n",
       "    <tr style=\"text-align: right;\">\n",
       "      <th></th>\n",
       "      <th>ID</th>\n",
       "      <th>CNTYFIPS</th>\n",
       "      <th>Ori</th>\n",
       "      <th>State</th>\n",
       "      <th>Agency</th>\n",
       "      <th>Agentype</th>\n",
       "      <th>Source</th>\n",
       "      <th>Solved</th>\n",
       "      <th>Year</th>\n",
       "      <th>StateName</th>\n",
       "      <th>...</th>\n",
       "      <th>OffRace</th>\n",
       "      <th>OffEthnic</th>\n",
       "      <th>Weapon</th>\n",
       "      <th>Relationship</th>\n",
       "      <th>Circumstance</th>\n",
       "      <th>Subcircum</th>\n",
       "      <th>VicCount</th>\n",
       "      <th>OffCount</th>\n",
       "      <th>FileDate</th>\n",
       "      <th>MSA</th>\n",
       "    </tr>\n",
       "  </thead>\n",
       "  <tbody>\n",
       "    <tr>\n",
       "      <th>0</th>\n",
       "      <td>201604266AL06201</td>\n",
       "      <td>Tallapoosa, AL</td>\n",
       "      <td>AL06201</td>\n",
       "      <td>Alabama</td>\n",
       "      <td>Alexander City</td>\n",
       "      <td>Municipal police</td>\n",
       "      <td>MAP</td>\n",
       "      <td>Yes</td>\n",
       "      <td>2016</td>\n",
       "      <td>NaN</td>\n",
       "      <td>...</td>\n",
       "      <td>White</td>\n",
       "      <td>Unknown or not reported</td>\n",
       "      <td>Firearm, type not stated</td>\n",
       "      <td>Relationship not determined</td>\n",
       "      <td>Circumstances undetermined</td>\n",
       "      <td>NaN</td>\n",
       "      <td>0</td>\n",
       "      <td>0</td>\n",
       "      <td>92517.0</td>\n",
       "      <td>Rural Alabama</td>\n",
       "    </tr>\n",
       "    <tr>\n",
       "      <th>1</th>\n",
       "      <td>201604265AL05003</td>\n",
       "      <td>Marshall, AL</td>\n",
       "      <td>AL05003</td>\n",
       "      <td>Alabama</td>\n",
       "      <td>Arab</td>\n",
       "      <td>Municipal police</td>\n",
       "      <td>MAP</td>\n",
       "      <td>Yes</td>\n",
       "      <td>2016</td>\n",
       "      <td>NaN</td>\n",
       "      <td>...</td>\n",
       "      <td>White</td>\n",
       "      <td>Unknown or not reported</td>\n",
       "      <td>Handgun - pistol, revolver, etc</td>\n",
       "      <td>Relationship not determined</td>\n",
       "      <td>Other negligent handling of gun</td>\n",
       "      <td>NaN</td>\n",
       "      <td>0</td>\n",
       "      <td>0</td>\n",
       "      <td>92517.0</td>\n",
       "      <td>Rural Alabama</td>\n",
       "    </tr>\n",
       "    <tr>\n",
       "      <th>2</th>\n",
       "      <td>201604529AL04301</td>\n",
       "      <td>Lee, AL</td>\n",
       "      <td>AL04301</td>\n",
       "      <td>Alabama</td>\n",
       "      <td>Auburn</td>\n",
       "      <td>Municipal police</td>\n",
       "      <td>MAP</td>\n",
       "      <td>Yes</td>\n",
       "      <td>2016</td>\n",
       "      <td>NaN</td>\n",
       "      <td>...</td>\n",
       "      <td>Black</td>\n",
       "      <td>Unknown or not reported</td>\n",
       "      <td>Firearm, type not stated</td>\n",
       "      <td>Other family</td>\n",
       "      <td>Other - not specified</td>\n",
       "      <td>NaN</td>\n",
       "      <td>0</td>\n",
       "      <td>0</td>\n",
       "      <td>92517.0</td>\n",
       "      <td>Auburn-Opelika, AL</td>\n",
       "    </tr>\n",
       "    <tr>\n",
       "      <th>3</th>\n",
       "      <td>201604593AL04301</td>\n",
       "      <td>Lee, AL</td>\n",
       "      <td>AL04301</td>\n",
       "      <td>Alabama</td>\n",
       "      <td>Auburn</td>\n",
       "      <td>Municipal police</td>\n",
       "      <td>MAP</td>\n",
       "      <td>Yes</td>\n",
       "      <td>2016</td>\n",
       "      <td>NaN</td>\n",
       "      <td>...</td>\n",
       "      <td>Black</td>\n",
       "      <td>Unknown or not reported</td>\n",
       "      <td>Firearm, type not stated</td>\n",
       "      <td>Relationship not determined</td>\n",
       "      <td>Other - not specified</td>\n",
       "      <td>NaN</td>\n",
       "      <td>0</td>\n",
       "      <td>0</td>\n",
       "      <td>92517.0</td>\n",
       "      <td>Auburn-Opelika, AL</td>\n",
       "    </tr>\n",
       "    <tr>\n",
       "      <th>4</th>\n",
       "      <td>201604594AL04301</td>\n",
       "      <td>Lee, AL</td>\n",
       "      <td>AL04301</td>\n",
       "      <td>Alabama</td>\n",
       "      <td>Auburn</td>\n",
       "      <td>Municipal police</td>\n",
       "      <td>MAP</td>\n",
       "      <td>Yes</td>\n",
       "      <td>2016</td>\n",
       "      <td>NaN</td>\n",
       "      <td>...</td>\n",
       "      <td>Black</td>\n",
       "      <td>Unknown or not reported</td>\n",
       "      <td>Firearm, type not stated</td>\n",
       "      <td>Relationship not determined</td>\n",
       "      <td>Other - not specified</td>\n",
       "      <td>NaN</td>\n",
       "      <td>0</td>\n",
       "      <td>0</td>\n",
       "      <td>92517.0</td>\n",
       "      <td>Auburn-Opelika, AL</td>\n",
       "    </tr>\n",
       "    <tr>\n",
       "      <th>...</th>\n",
       "      <td>...</td>\n",
       "      <td>...</td>\n",
       "      <td>...</td>\n",
       "      <td>...</td>\n",
       "      <td>...</td>\n",
       "      <td>...</td>\n",
       "      <td>...</td>\n",
       "      <td>...</td>\n",
       "      <td>...</td>\n",
       "      <td>...</td>\n",
       "      <td>...</td>\n",
       "      <td>...</td>\n",
       "      <td>...</td>\n",
       "      <td>...</td>\n",
       "      <td>...</td>\n",
       "      <td>...</td>\n",
       "      <td>...</td>\n",
       "      <td>...</td>\n",
       "      <td>...</td>\n",
       "      <td>...</td>\n",
       "      <td>...</td>\n",
       "    </tr>\n",
       "    <tr>\n",
       "      <th>92086</th>\n",
       "      <td>202003001WY01700</td>\n",
       "      <td>Sheridan, WY</td>\n",
       "      <td>WY01700</td>\n",
       "      <td>Wyoming</td>\n",
       "      <td>Sheridan County</td>\n",
       "      <td>Sheriff</td>\n",
       "      <td>FBI</td>\n",
       "      <td>Yes</td>\n",
       "      <td>2020</td>\n",
       "      <td>WYOMIN</td>\n",
       "      <td>...</td>\n",
       "      <td>American Indian or Alaskan Native</td>\n",
       "      <td>Not of Hispanic origin</td>\n",
       "      <td>Handgun - pistol, revolver, etc</td>\n",
       "      <td>Sister</td>\n",
       "      <td>Brawl due to influence of alcohol</td>\n",
       "      <td>NaN</td>\n",
       "      <td>2</td>\n",
       "      <td>0</td>\n",
       "      <td>83121.0</td>\n",
       "      <td>Rural Wyoming</td>\n",
       "    </tr>\n",
       "    <tr>\n",
       "      <th>92087</th>\n",
       "      <td>202003001WY01700</td>\n",
       "      <td>Sheridan, WY</td>\n",
       "      <td>WY01700</td>\n",
       "      <td>Wyoming</td>\n",
       "      <td>Sheridan County</td>\n",
       "      <td>Sheriff</td>\n",
       "      <td>FBI</td>\n",
       "      <td>Yes</td>\n",
       "      <td>2020</td>\n",
       "      <td>WYOMIN</td>\n",
       "      <td>...</td>\n",
       "      <td>American Indian or Alaskan Native</td>\n",
       "      <td>Not of Hispanic origin</td>\n",
       "      <td>Handgun - pistol, revolver, etc</td>\n",
       "      <td>Sister</td>\n",
       "      <td>Brawl due to influence of alcohol</td>\n",
       "      <td>NaN</td>\n",
       "      <td>2</td>\n",
       "      <td>0</td>\n",
       "      <td>83121.0</td>\n",
       "      <td>Rural Wyoming</td>\n",
       "    </tr>\n",
       "    <tr>\n",
       "      <th>92088</th>\n",
       "      <td>202005001WY01101</td>\n",
       "      <td>Laramie, WY</td>\n",
       "      <td>WY01101</td>\n",
       "      <td>Wyoming</td>\n",
       "      <td>Cheyenne</td>\n",
       "      <td>Municipal police</td>\n",
       "      <td>FBI</td>\n",
       "      <td>Yes</td>\n",
       "      <td>2020</td>\n",
       "      <td>WYOMIN</td>\n",
       "      <td>...</td>\n",
       "      <td>White</td>\n",
       "      <td>Not of Hispanic origin</td>\n",
       "      <td>Firearm, type not stated</td>\n",
       "      <td>Other - known to victim</td>\n",
       "      <td>Other arguments</td>\n",
       "      <td>NaN</td>\n",
       "      <td>0</td>\n",
       "      <td>0</td>\n",
       "      <td>83121.0</td>\n",
       "      <td>Cheyenne, WY</td>\n",
       "    </tr>\n",
       "    <tr>\n",
       "      <th>92089</th>\n",
       "      <td>202005001WY01100</td>\n",
       "      <td>Laramie, WY</td>\n",
       "      <td>WY01100</td>\n",
       "      <td>Wyoming</td>\n",
       "      <td>Laramie County</td>\n",
       "      <td>Sheriff</td>\n",
       "      <td>FBI</td>\n",
       "      <td>Yes</td>\n",
       "      <td>2020</td>\n",
       "      <td>WYOMIN</td>\n",
       "      <td>...</td>\n",
       "      <td>White</td>\n",
       "      <td>Hispanic origin</td>\n",
       "      <td>Handgun - pistol, revolver, etc</td>\n",
       "      <td>Boyfriend</td>\n",
       "      <td>Other arguments</td>\n",
       "      <td>NaN</td>\n",
       "      <td>0</td>\n",
       "      <td>0</td>\n",
       "      <td>83121.0</td>\n",
       "      <td>Cheyenne, WY</td>\n",
       "    </tr>\n",
       "    <tr>\n",
       "      <th>92090</th>\n",
       "      <td>202011001WY00702</td>\n",
       "      <td>Fremont, WY</td>\n",
       "      <td>WY00702</td>\n",
       "      <td>Wyoming</td>\n",
       "      <td>Riverton</td>\n",
       "      <td>Municipal police</td>\n",
       "      <td>FBI</td>\n",
       "      <td>Yes</td>\n",
       "      <td>2020</td>\n",
       "      <td>WYOMIN</td>\n",
       "      <td>...</td>\n",
       "      <td>White</td>\n",
       "      <td>Not of Hispanic origin</td>\n",
       "      <td>Handgun - pistol, revolver, etc</td>\n",
       "      <td>Wife</td>\n",
       "      <td>Other negligent handling of gun</td>\n",
       "      <td>NaN</td>\n",
       "      <td>0</td>\n",
       "      <td>0</td>\n",
       "      <td>83121.0</td>\n",
       "      <td>Rural Wyoming</td>\n",
       "    </tr>\n",
       "  </tbody>\n",
       "</table>\n",
       "<p>92091 rows × 31 columns</p>\n",
       "</div>"
      ],
      "text/plain": [
       "                     ID        CNTYFIPS      Ori    State           Agency  \\\n",
       "0      201604266AL06201  Tallapoosa, AL  AL06201  Alabama   Alexander City   \n",
       "1      201604265AL05003    Marshall, AL  AL05003  Alabama             Arab   \n",
       "2      201604529AL04301         Lee, AL  AL04301  Alabama           Auburn   \n",
       "3      201604593AL04301         Lee, AL  AL04301  Alabama           Auburn   \n",
       "4      201604594AL04301         Lee, AL  AL04301  Alabama           Auburn   \n",
       "...                 ...             ...      ...      ...              ...   \n",
       "92086  202003001WY01700    Sheridan, WY  WY01700  Wyoming  Sheridan County   \n",
       "92087  202003001WY01700    Sheridan, WY  WY01700  Wyoming  Sheridan County   \n",
       "92088  202005001WY01101     Laramie, WY  WY01101  Wyoming         Cheyenne   \n",
       "92089  202005001WY01100     Laramie, WY  WY01100  Wyoming   Laramie County   \n",
       "92090  202011001WY00702     Fremont, WY  WY00702  Wyoming         Riverton   \n",
       "\n",
       "               Agentype Source Solved  Year StateName  ...  \\\n",
       "0      Municipal police    MAP    Yes  2016       NaN  ...   \n",
       "1      Municipal police    MAP    Yes  2016       NaN  ...   \n",
       "2      Municipal police    MAP    Yes  2016       NaN  ...   \n",
       "3      Municipal police    MAP    Yes  2016       NaN  ...   \n",
       "4      Municipal police    MAP    Yes  2016       NaN  ...   \n",
       "...                 ...    ...    ...   ...       ...  ...   \n",
       "92086           Sheriff    FBI    Yes  2020    WYOMIN  ...   \n",
       "92087           Sheriff    FBI    Yes  2020    WYOMIN  ...   \n",
       "92088  Municipal police    FBI    Yes  2020    WYOMIN  ...   \n",
       "92089           Sheriff    FBI    Yes  2020    WYOMIN  ...   \n",
       "92090  Municipal police    FBI    Yes  2020    WYOMIN  ...   \n",
       "\n",
       "                                 OffRace                OffEthnic  \\\n",
       "0                                  White  Unknown or not reported   \n",
       "1                                  White  Unknown or not reported   \n",
       "2                                  Black  Unknown or not reported   \n",
       "3                                  Black  Unknown or not reported   \n",
       "4                                  Black  Unknown or not reported   \n",
       "...                                  ...                      ...   \n",
       "92086  American Indian or Alaskan Native   Not of Hispanic origin   \n",
       "92087  American Indian or Alaskan Native   Not of Hispanic origin   \n",
       "92088                              White   Not of Hispanic origin   \n",
       "92089                              White          Hispanic origin   \n",
       "92090                              White   Not of Hispanic origin   \n",
       "\n",
       "                                Weapon                 Relationship  \\\n",
       "0             Firearm, type not stated  Relationship not determined   \n",
       "1      Handgun - pistol, revolver, etc  Relationship not determined   \n",
       "2             Firearm, type not stated                 Other family   \n",
       "3             Firearm, type not stated  Relationship not determined   \n",
       "4             Firearm, type not stated  Relationship not determined   \n",
       "...                                ...                          ...   \n",
       "92086  Handgun - pistol, revolver, etc                       Sister   \n",
       "92087  Handgun - pistol, revolver, etc                       Sister   \n",
       "92088         Firearm, type not stated      Other - known to victim   \n",
       "92089  Handgun - pistol, revolver, etc                    Boyfriend   \n",
       "92090  Handgun - pistol, revolver, etc                         Wife   \n",
       "\n",
       "                            Circumstance  Subcircum VicCount OffCount  \\\n",
       "0             Circumstances undetermined        NaN        0        0   \n",
       "1        Other negligent handling of gun        NaN        0        0   \n",
       "2                  Other - not specified        NaN        0        0   \n",
       "3                  Other - not specified        NaN        0        0   \n",
       "4                  Other - not specified        NaN        0        0   \n",
       "...                                  ...        ...      ...      ...   \n",
       "92086  Brawl due to influence of alcohol        NaN        2        0   \n",
       "92087  Brawl due to influence of alcohol        NaN        2        0   \n",
       "92088                    Other arguments        NaN        0        0   \n",
       "92089                    Other arguments        NaN        0        0   \n",
       "92090    Other negligent handling of gun        NaN        0        0   \n",
       "\n",
       "      FileDate                 MSA  \n",
       "0      92517.0       Rural Alabama  \n",
       "1      92517.0       Rural Alabama  \n",
       "2      92517.0  Auburn-Opelika, AL  \n",
       "3      92517.0  Auburn-Opelika, AL  \n",
       "4      92517.0  Auburn-Opelika, AL  \n",
       "...        ...                 ...  \n",
       "92086  83121.0       Rural Wyoming  \n",
       "92087  83121.0       Rural Wyoming  \n",
       "92088  83121.0        Cheyenne, WY  \n",
       "92089  83121.0        Cheyenne, WY  \n",
       "92090  83121.0       Rural Wyoming  \n",
       "\n",
       "[92091 rows x 31 columns]"
      ]
     },
     "execution_count": 31,
     "metadata": {},
     "output_type": "execute_result"
    }
   ],
   "source": [
    "homi_df = pd.read_csv('homicide.csv')\n",
    "homi_df"
   ]
  },
  {
   "attachments": {},
   "cell_type": "markdown",
   "metadata": {},
   "source": [
    "## Số dòng và số cột của tập dữ liệu"
   ]
  },
  {
   "cell_type": "code",
   "execution_count": 32,
   "metadata": {},
   "outputs": [
    {
     "name": "stdout",
     "output_type": "stream",
     "text": [
      "Số dòng: 92091\n",
      "Số cột 31\n"
     ]
    }
   ],
   "source": [
    "row = homi_df.shape[0]\n",
    "col = homi_df.shape[1]\n",
    "print('Số dòng:', row)\n",
    "print('Số cột', col)"
   ]
  },
  {
   "attachments": {},
   "cell_type": "markdown",
   "metadata": {},
   "source": [
    "## Ý nghĩa của mỗi dòng"
   ]
  },
  {
   "attachments": {},
   "cell_type": "markdown",
   "metadata": {},
   "source": [
    "Mỗi dòng là thông tin của 1 vụ án bao gồm thời gian, địa điểm và thông tin liên quan đến nạn nhân và hung thủ."
   ]
  },
  {
   "attachments": {},
   "cell_type": "markdown",
   "metadata": {},
   "source": [
    "## Kiểm tra các dòng bị trùng lắp"
   ]
  },
  {
   "attachments": {},
   "cell_type": "markdown",
   "metadata": {},
   "source": [
    "- Thực hiện xóa các dòng bị trùng lắp do trong đó có nhiều nạn nhân liên quan tới cùng 1 vụ án."
   ]
  },
  {
   "cell_type": "code",
   "execution_count": 33,
   "metadata": {},
   "outputs": [],
   "source": [
    "homi_df = homi_df.drop_duplicates() "
   ]
  },
  {
   "cell_type": "code",
   "execution_count": 34,
   "metadata": {},
   "outputs": [
    {
     "name": "stdout",
     "output_type": "stream",
     "text": [
      "Số dòng bị trùng: 0\n"
     ]
    }
   ],
   "source": [
    "duplicated = homi_df.duplicated()\n",
    "print('Số dòng bị trùng:', len(duplicated[duplicated==True]))"
   ]
  },
  {
   "attachments": {},
   "cell_type": "markdown",
   "metadata": {},
   "source": [
    "## Ý nghĩa của mỗi cột"
   ]
  },
  {
   "cell_type": "code",
   "execution_count": 35,
   "metadata": {},
   "outputs": [
    {
     "data": {
      "text/html": [
       "<div>\n",
       "<style scoped>\n",
       "    .dataframe tbody tr th:only-of-type {\n",
       "        vertical-align: middle;\n",
       "    }\n",
       "\n",
       "    .dataframe tbody tr th {\n",
       "        vertical-align: top;\n",
       "    }\n",
       "\n",
       "    .dataframe thead th {\n",
       "        text-align: right;\n",
       "    }\n",
       "</style>\n",
       "<table border=\"1\" class=\"dataframe\">\n",
       "  <thead>\n",
       "    <tr style=\"text-align: right;\">\n",
       "      <th></th>\n",
       "      <th>Đặc trưng</th>\n",
       "      <th>Mô tả</th>\n",
       "    </tr>\n",
       "  </thead>\n",
       "  <tbody>\n",
       "    <tr>\n",
       "      <th>0</th>\n",
       "      <td>ID</td>\n",
       "      <td>ID của vụ án</td>\n",
       "    </tr>\n",
       "    <tr>\n",
       "      <th>1</th>\n",
       "      <td>CNTYFIPS</td>\n",
       "      <td>Mã Federal Information Processing Standards (FIPS) cho bang và hạt của cơ quan hành pháp</td>\n",
       "    </tr>\n",
       "    <tr>\n",
       "      <th>2</th>\n",
       "      <td>Ori</td>\n",
       "      <td>Mã của cơ quan hành pháp</td>\n",
       "    </tr>\n",
       "    <tr>\n",
       "      <th>3</th>\n",
       "      <td>State</td>\n",
       "      <td>Tên bang</td>\n",
       "    </tr>\n",
       "    <tr>\n",
       "      <th>4</th>\n",
       "      <td>Agency</td>\n",
       "      <td>Tên cơ quan hành pháp</td>\n",
       "    </tr>\n",
       "    <tr>\n",
       "      <th>5</th>\n",
       "      <td>Agentype</td>\n",
       "      <td>Phân loại cơ quan hành pháp</td>\n",
       "    </tr>\n",
       "    <tr>\n",
       "      <th>6</th>\n",
       "      <td>Source</td>\n",
       "      <td>Nguồn thông tin</td>\n",
       "    </tr>\n",
       "    <tr>\n",
       "      <th>7</th>\n",
       "      <td>Solved</td>\n",
       "      <td>Vụ án có được phá tại thời điểm thực hiện báo cáo hay không</td>\n",
       "    </tr>\n",
       "    <tr>\n",
       "      <th>8</th>\n",
       "      <td>Year</td>\n",
       "      <td>Năm xảy ra vụ án</td>\n",
       "    </tr>\n",
       "    <tr>\n",
       "      <th>9</th>\n",
       "      <td>StateName</td>\n",
       "      <td>Tên bang</td>\n",
       "    </tr>\n",
       "    <tr>\n",
       "      <th>10</th>\n",
       "      <td>Month</td>\n",
       "      <td>Tháng xảy ra vụ án</td>\n",
       "    </tr>\n",
       "    <tr>\n",
       "      <th>11</th>\n",
       "      <td>Incident</td>\n",
       "      <td>Thứ tự của vụ án trong tháng</td>\n",
       "    </tr>\n",
       "    <tr>\n",
       "      <th>12</th>\n",
       "      <td>ActionType</td>\n",
       "      <td>Loại của báo cáo</td>\n",
       "    </tr>\n",
       "    <tr>\n",
       "      <th>13</th>\n",
       "      <td>Homicide</td>\n",
       "      <td>Loại giết người</td>\n",
       "    </tr>\n",
       "    <tr>\n",
       "      <th>14</th>\n",
       "      <td>Situation</td>\n",
       "      <td>Tình huống của vụ án (1 nạn nhân hoặc nhiều nạn nhân và 1 hung thủ hoặc nhiều hung thủ)</td>\n",
       "    </tr>\n",
       "    <tr>\n",
       "      <th>15</th>\n",
       "      <td>VicAge</td>\n",
       "      <td>Tuổi của nạn nhân</td>\n",
       "    </tr>\n",
       "    <tr>\n",
       "      <th>16</th>\n",
       "      <td>VicSex</td>\n",
       "      <td>Giới tính của nạn nhân</td>\n",
       "    </tr>\n",
       "    <tr>\n",
       "      <th>17</th>\n",
       "      <td>VicRace</td>\n",
       "      <td>Chủng tộc của nạn nhân</td>\n",
       "    </tr>\n",
       "    <tr>\n",
       "      <th>18</th>\n",
       "      <td>VicEthnic</td>\n",
       "      <td>Dân tộc của nạn nhân</td>\n",
       "    </tr>\n",
       "    <tr>\n",
       "      <th>19</th>\n",
       "      <td>OffAge</td>\n",
       "      <td>Tuổi của hung thủ</td>\n",
       "    </tr>\n",
       "    <tr>\n",
       "      <th>20</th>\n",
       "      <td>OffSex</td>\n",
       "      <td>Giới tính của hung thủ</td>\n",
       "    </tr>\n",
       "    <tr>\n",
       "      <th>21</th>\n",
       "      <td>OffRace</td>\n",
       "      <td>Chủng tộc của hung thủ</td>\n",
       "    </tr>\n",
       "    <tr>\n",
       "      <th>22</th>\n",
       "      <td>OffEthnic</td>\n",
       "      <td>Dân tộc của hung thủ</td>\n",
       "    </tr>\n",
       "    <tr>\n",
       "      <th>23</th>\n",
       "      <td>Weapon</td>\n",
       "      <td>Hung khí gây án</td>\n",
       "    </tr>\n",
       "    <tr>\n",
       "      <th>24</th>\n",
       "      <td>Relationship</td>\n",
       "      <td>Quan hệ giữa nạn nhân và hung thủ</td>\n",
       "    </tr>\n",
       "    <tr>\n",
       "      <th>25</th>\n",
       "      <td>Circumstance</td>\n",
       "      <td>Hoàn cảnh gây án</td>\n",
       "    </tr>\n",
       "    <tr>\n",
       "      <th>26</th>\n",
       "      <td>Subcircum</td>\n",
       "      <td>Hoàn cảnh mà nạn nhân được xem là 1 tội phạm hình sự</td>\n",
       "    </tr>\n",
       "    <tr>\n",
       "      <th>27</th>\n",
       "      <td>VicCount</td>\n",
       "      <td>Số nạn nhân liên can (không kể nạn nhân trong bản báo cáo hiện tại)</td>\n",
       "    </tr>\n",
       "    <tr>\n",
       "      <th>28</th>\n",
       "      <td>OffCount</td>\n",
       "      <td>Số hung thủ liên can (không kể hung thủ trong bản báo cáo hiện tại)</td>\n",
       "    </tr>\n",
       "    <tr>\n",
       "      <th>29</th>\n",
       "      <td>FileDate</td>\n",
       "      <td>Ngày vụ án được báo cáo</td>\n",
       "    </tr>\n",
       "    <tr>\n",
       "      <th>30</th>\n",
       "      <td>MSA</td>\n",
       "      <td>Mã Federal Information Processing Standards (FIPS) của Khu Đô Thị</td>\n",
       "    </tr>\n",
       "  </tbody>\n",
       "</table>\n",
       "</div>"
      ],
      "text/plain": [
       "       Đặc trưng  \\\n",
       "0             ID   \n",
       "1       CNTYFIPS   \n",
       "2            Ori   \n",
       "3          State   \n",
       "4         Agency   \n",
       "5       Agentype   \n",
       "6         Source   \n",
       "7         Solved   \n",
       "8           Year   \n",
       "9      StateName   \n",
       "10         Month   \n",
       "11      Incident   \n",
       "12    ActionType   \n",
       "13      Homicide   \n",
       "14     Situation   \n",
       "15        VicAge   \n",
       "16        VicSex   \n",
       "17       VicRace   \n",
       "18     VicEthnic   \n",
       "19        OffAge   \n",
       "20        OffSex   \n",
       "21       OffRace   \n",
       "22     OffEthnic   \n",
       "23        Weapon   \n",
       "24  Relationship   \n",
       "25  Circumstance   \n",
       "26     Subcircum   \n",
       "27      VicCount   \n",
       "28      OffCount   \n",
       "29      FileDate   \n",
       "30           MSA   \n",
       "\n",
       "                                                                                       Mô tả  \n",
       "0                                                                               ID của vụ án  \n",
       "1   Mã Federal Information Processing Standards (FIPS) cho bang và hạt của cơ quan hành pháp  \n",
       "2                                                                   Mã của cơ quan hành pháp  \n",
       "3                                                                                   Tên bang  \n",
       "4                                                                      Tên cơ quan hành pháp  \n",
       "5                                                                Phân loại cơ quan hành pháp  \n",
       "6                                                                            Nguồn thông tin  \n",
       "7                                Vụ án có được phá tại thời điểm thực hiện báo cáo hay không  \n",
       "8                                                                           Năm xảy ra vụ án  \n",
       "9                                                                                   Tên bang  \n",
       "10                                                                        Tháng xảy ra vụ án  \n",
       "11                                                              Thứ tự của vụ án trong tháng  \n",
       "12                                                                          Loại của báo cáo  \n",
       "13                                                                           Loại giết người  \n",
       "14   Tình huống của vụ án (1 nạn nhân hoặc nhiều nạn nhân và 1 hung thủ hoặc nhiều hung thủ)  \n",
       "15                                                                         Tuổi của nạn nhân  \n",
       "16                                                                    Giới tính của nạn nhân  \n",
       "17                                                                    Chủng tộc của nạn nhân  \n",
       "18                                                                      Dân tộc của nạn nhân  \n",
       "19                                                                         Tuổi của hung thủ  \n",
       "20                                                                    Giới tính của hung thủ  \n",
       "21                                                                    Chủng tộc của hung thủ  \n",
       "22                                                                      Dân tộc của hung thủ  \n",
       "23                                                                           Hung khí gây án  \n",
       "24                                                         Quan hệ giữa nạn nhân và hung thủ  \n",
       "25                                                                          Hoàn cảnh gây án  \n",
       "26                                      Hoàn cảnh mà nạn nhân được xem là 1 tội phạm hình sự  \n",
       "27                       Số nạn nhân liên can (không kể nạn nhân trong bản báo cáo hiện tại)  \n",
       "28                       Số hung thủ liên can (không kể hung thủ trong bản báo cáo hiện tại)  \n",
       "29                                                                   Ngày vụ án được báo cáo  \n",
       "30                         Mã Federal Information Processing Standards (FIPS) của Khu Đô Thị  "
      ]
     },
     "execution_count": 35,
     "metadata": {},
     "output_type": "execute_result"
    }
   ],
   "source": [
    "des_df = pd.read_csv('description.csv')\n",
    "pd.set_option('display.max_colwidth', None)\n",
    "des_df"
   ]
  },
  {
   "attachments": {},
   "cell_type": "markdown",
   "metadata": {},
   "source": [
    "## Kiểm tra kiểu dữ liệu của các cột và điều chỉnh cho phù hợp"
   ]
  },
  {
   "attachments": {},
   "cell_type": "markdown",
   "metadata": {},
   "source": [
    "- Kiểm tra kiểu dữ liệu của từng cột"
   ]
  },
  {
   "cell_type": "code",
   "execution_count": 36,
   "metadata": {},
   "outputs": [
    {
     "data": {
      "text/plain": [
       "ID               object\n",
       "CNTYFIPS         object\n",
       "Ori              object\n",
       "State            object\n",
       "Agency           object\n",
       "Agentype         object\n",
       "Source           object\n",
       "Solved           object\n",
       "Year              int64\n",
       "StateName        object\n",
       "Month            object\n",
       "Incident          int64\n",
       "ActionType       object\n",
       "Homicide         object\n",
       "Situation        object\n",
       "VicAge            int64\n",
       "VicSex           object\n",
       "VicRace          object\n",
       "VicEthnic        object\n",
       "OffAge            int64\n",
       "OffSex           object\n",
       "OffRace          object\n",
       "OffEthnic        object\n",
       "Weapon           object\n",
       "Relationship     object\n",
       "Circumstance     object\n",
       "Subcircum        object\n",
       "VicCount          int64\n",
       "OffCount          int64\n",
       "FileDate        float64\n",
       "MSA              object\n",
       "dtype: object"
      ]
     },
     "execution_count": 36,
     "metadata": {},
     "output_type": "execute_result"
    }
   ],
   "source": [
    "homi_df.dtypes"
   ]
  },
  {
   "attachments": {},
   "cell_type": "markdown",
   "metadata": {},
   "source": [
    "---"
   ]
  },
  {
   "cell_type": "code",
   "execution_count": 37,
   "metadata": {},
   "outputs": [
    {
     "data": {
      "text/plain": [
       "array([nan, 'FLA', 'ALABAM', 'ALASKA', 'ARIZON', 'ARKANS', 'CALIFO',\n",
       "       'COLORA', 'CONNEC', 'DELAWA', 'FEDERA', 'DISTRI', 'FLORID',\n",
       "       'GEORGI', 'HAWAII', 'IDAHO', 'ILLINO', 'INDIAN', 'IOWA', 'KANSAS',\n",
       "       'KENTUC', 'LOUISI', 'MAINE', 'MARYLA', 'MASSAC', 'MICHIG',\n",
       "       'MINNES', 'MISSIS', 'MISSOU', 'MONTAN', 'NEBRAS', 'NEVADA',\n",
       "       'NEW HA', 'NEW JE', 'NEW ME', 'NEW YO', 'NORTH', 'OHIO', 'OKLAHO',\n",
       "       'OREGON', 'PENNSY', 'RHODE', 'SOUTH', 'TENNES', 'TEXAS', 'UTAH',\n",
       "       'VERMON', 'VIRGIN', 'WASHIN', 'WEST V', 'WISCON', 'WYOMIN'],\n",
       "      dtype=object)"
      ]
     },
     "execution_count": 37,
     "metadata": {},
     "output_type": "execute_result"
    }
   ],
   "source": [
    "homi_df['StateName'].unique()"
   ]
  },
  {
   "cell_type": "code",
   "execution_count": 38,
   "metadata": {},
   "outputs": [
    {
     "data": {
      "text/plain": [
       "array([<class 'float'>, <class 'str'>], dtype=object)"
      ]
     },
     "execution_count": 38,
     "metadata": {},
     "output_type": "execute_result"
    }
   ],
   "source": [
    "dtype = homi_df['StateName'].apply(lambda i: type(i))\n",
    "dtype.unique()"
   ]
  },
  {
   "cell_type": "code",
   "execution_count": 39,
   "metadata": {},
   "outputs": [
    {
     "data": {
      "text/plain": [
       "69378"
      ]
     },
     "execution_count": 39,
     "metadata": {},
     "output_type": "execute_result"
    }
   ],
   "source": [
    "len(homi_df[homi_df['StateName'].isna()])"
   ]
  },
  {
   "attachments": {},
   "cell_type": "markdown",
   "metadata": {},
   "source": [
    "- Ta thấy cột `StateName` chứa dữ liệu hỗn hợp với dữ liệu `nan` là float và tên các bang là string. Tuy nhiên có đến 69378 dòng là nan. Hơn nữa, tên bang cũng đã được lưu trong cột dữ liệu `State`. Cho nên, ta có thể xóa cột dữ liệu này (ở bước ***Xử lý các dòng bị thiếu dữ liệu***)."
   ]
  },
  {
   "cell_type": "markdown",
   "metadata": {},
   "source": [
    "---"
   ]
  },
  {
   "cell_type": "code",
   "execution_count": 40,
   "metadata": {},
   "outputs": [
    {
     "data": {
      "text/plain": [
       "array([  0,   1,   2,   3,   4,   5,   6,   7,   8,   9,  10,  11,  12,\n",
       "        13,  14,  15,  16,  17,  18,  19,  20,  21,  22,  23,  24,  25,\n",
       "        26,  27,  28,  29,  30,  31,  32,  33,  34,  35,  36,  37,  38,\n",
       "        39,  40,  41,  42,  43,  44,  45,  46,  47,  48,  49,  50,  51,\n",
       "        52,  53,  54,  55,  56,  57,  58,  59,  60,  61,  62,  63,  64,\n",
       "        65,  66,  67,  68,  69,  70,  71,  72,  73,  74,  75,  76,  77,\n",
       "        78,  79,  80,  81,  82,  83,  84,  85,  86,  87,  88,  89,  90,\n",
       "        91,  92,  93,  94,  95,  96,  97,  98,  99, 999], dtype=int64)"
      ]
     },
     "execution_count": 40,
     "metadata": {},
     "output_type": "execute_result"
    }
   ],
   "source": [
    "np.sort(homi_df['VicAge'].unique())"
   ]
  },
  {
   "attachments": {},
   "cell_type": "markdown",
   "metadata": {},
   "source": [
    "- Ta thấy có những dòng mà tuổi của nạn nhân là 999. Ở đây, do kiểu dữ liệu của cột VicAge là số nguyên cho nên tác giả dùng 1 con số đặc biệt để biểu thị cho giá trị không biết của tuổi nạn nhân, cụ thể là 999. Việc này có thể xem bình thường cho nên không cần thay đổi gì cả."
   ]
  },
  {
   "attachments": {},
   "cell_type": "markdown",
   "metadata": {},
   "source": [
    "---"
   ]
  },
  {
   "cell_type": "code",
   "execution_count": 41,
   "metadata": {},
   "outputs": [
    {
     "data": {
      "text/plain": [
       "array([  0,   1,   3,   4,   5,   6,   7,   8,   9,  10,  11,  12,  13,\n",
       "        14,  15,  16,  17,  18,  19,  20,  21,  22,  23,  24,  25,  26,\n",
       "        27,  28,  29,  30,  31,  32,  33,  34,  35,  36,  37,  38,  39,\n",
       "        40,  41,  42,  43,  44,  45,  46,  47,  48,  49,  50,  51,  52,\n",
       "        53,  54,  55,  56,  57,  58,  59,  60,  61,  62,  63,  64,  65,\n",
       "        66,  67,  68,  69,  70,  71,  72,  73,  74,  75,  76,  77,  78,\n",
       "        79,  80,  81,  82,  83,  84,  85,  86,  87,  88,  89,  90,  91,\n",
       "        92,  93,  94,  95,  96,  97,  98,  99, 999], dtype=int64)"
      ]
     },
     "execution_count": 41,
     "metadata": {},
     "output_type": "execute_result"
    }
   ],
   "source": [
    "np.sort(homi_df['OffAge'].unique())"
   ]
  },
  {
   "attachments": {},
   "cell_type": "markdown",
   "metadata": {},
   "source": [
    "- Đối với cột OffAge thì lý giải cũng tương tự như đối với cột VicAge."
   ]
  },
  {
   "attachments": {},
   "cell_type": "markdown",
   "metadata": {},
   "source": [
    "---"
   ]
  },
  {
   "cell_type": "code",
   "execution_count": 42,
   "metadata": {},
   "outputs": [
    {
     "data": {
      "text/plain": [
       "array([nan, 'Felon killed in commission of a crime',\n",
       "       'Felon attacked police officer', 'Felon attacked a civilian',\n",
       "       'Not enough information to determine',\n",
       "       'Felon attacked fellow police officer', 'Felon resisted arrest',\n",
       "       'Felon attempted flight from a crime'], dtype=object)"
      ]
     },
     "execution_count": 42,
     "metadata": {},
     "output_type": "execute_result"
    }
   ],
   "source": [
    "homi_df['Subcircum'].unique()"
   ]
  },
  {
   "cell_type": "code",
   "execution_count": 43,
   "metadata": {},
   "outputs": [
    {
     "data": {
      "text/plain": [
       "array([<class 'float'>, <class 'str'>], dtype=object)"
      ]
     },
     "execution_count": 43,
     "metadata": {},
     "output_type": "execute_result"
    }
   ],
   "source": [
    "dtype = homi_df['Subcircum'].apply(lambda i: type(i))\n",
    "dtype.unique()"
   ]
  },
  {
   "attachments": {},
   "cell_type": "markdown",
   "metadata": {},
   "source": [
    "- Ta thấy cột `Subcircum` cũng chứa dữ liệu hỗn hợp như cột StateName. Tuy nhiên, các dòng chứa dữ liệu khác `nan` có vai trò làm rõ cho hoàn cảnh gây án. Do đó, chúng ta sẽ không bỏ cột này đi, và thay các giá trị `nan` bằng `Not specified`."
   ]
  },
  {
   "cell_type": "code",
   "execution_count": 44,
   "metadata": {},
   "outputs": [
    {
     "data": {
      "text/plain": [
       "87367"
      ]
     },
     "execution_count": 44,
     "metadata": {},
     "output_type": "execute_result"
    }
   ],
   "source": [
    "len(homi_df[homi_df['Subcircum'].isna()])"
   ]
  },
  {
   "cell_type": "code",
   "execution_count": 45,
   "metadata": {},
   "outputs": [
    {
     "name": "stderr",
     "output_type": "stream",
     "text": [
      "C:\\Users\\phuon\\AppData\\Local\\Temp\\ipykernel_18364\\1506082365.py:1: SettingWithCopyWarning: \n",
      "A value is trying to be set on a copy of a slice from a DataFrame\n",
      "\n",
      "See the caveats in the documentation: https://pandas.pydata.org/pandas-docs/stable/user_guide/indexing.html#returning-a-view-versus-a-copy\n",
      "  homi_df['Subcircum'].replace(np.nan, 'Not specified', inplace=True)\n"
     ]
    }
   ],
   "source": [
    "homi_df['Subcircum'].replace(np.nan, 'Not specified', inplace=True)"
   ]
  },
  {
   "cell_type": "code",
   "execution_count": 46,
   "metadata": {},
   "outputs": [
    {
     "data": {
      "text/plain": [
       "87367"
      ]
     },
     "execution_count": 46,
     "metadata": {},
     "output_type": "execute_result"
    }
   ],
   "source": [
    "len(homi_df[homi_df['Subcircum'] == 'Not specified'])"
   ]
  },
  {
   "attachments": {},
   "cell_type": "markdown",
   "metadata": {},
   "source": [
    "- Kiểm tra lại kiểu dữ liệu"
   ]
  },
  {
   "cell_type": "code",
   "execution_count": 47,
   "metadata": {},
   "outputs": [
    {
     "data": {
      "text/plain": [
       "array([<class 'str'>], dtype=object)"
      ]
     },
     "execution_count": 47,
     "metadata": {},
     "output_type": "execute_result"
    }
   ],
   "source": [
    "new_dtype = homi_df['Subcircum'].apply(lambda i: type(i))\n",
    "new_dtype.unique()"
   ]
  },
  {
   "attachments": {},
   "cell_type": "markdown",
   "metadata": {},
   "source": [
    "---"
   ]
  },
  {
   "cell_type": "code",
   "execution_count": 48,
   "metadata": {},
   "outputs": [
    {
     "data": {
      "text/plain": [
       "array([ 92517.,  11818.,  11317., 110716.,  33017.,  22717.,  51917.,\n",
       "        71216.,  32117.,  82316.,  82416.,  91616., 112216.,  42617.,\n",
       "        20317.,  31717.,  42117.,  81916., 101116.,  33117., 121417.,\n",
       "        30217., 120516.,  41817.,  90717.,  71416.,  71816., 122316.,\n",
       "       101316., 122917.,  82516.,  72116.,  32017.,  21517.,  71316.,\n",
       "        92016., 122216.,  12317., 101216., 111716.,  41217.,  40717.,\n",
       "        41117.,  12017.,  30817., 113016.,  91416.,  12717.,  22117.,\n",
       "        81017.,  30117.,  72216., 111616.,  71916.,  81116., 121916.,\n",
       "        51817.,  11117.,  80417.,  42717.,  50817.,  21216.,  31017.,\n",
       "        40417.,  81417.,  20217.,  51117.,  51517.,  53017.,  42017.,\n",
       "        30317.,  41317., 100716.,  32717.,  90616.,  22817.,  10317.,\n",
       "       120616.,  72616.,  51217.,  51017.,  50417., 100616.,  42817.,\n",
       "       120216.,  40517.,  82817.,  11217., 110816.,  50117.,  82317.,\n",
       "       121917.,  91117., 110117.,  80416., 100316.,  80816.,  92116.,\n",
       "        11717.,  21617., 101816., 111016., 102617.,  41917.,  72816.,\n",
       "       122016.,  81016., 101416.,  80216., 100416.,  30617.,  50217.,\n",
       "       111816.,  92616.,  20117.,  80116., 121317.,  30717.,  92716.,\n",
       "        90817.,  11817.,  21717.,  10218., 121517.,  81517., 121616.,\n",
       "        81216.,  80316.,  52217.,  90916.,  50917., 111416.,  40317.,\n",
       "        83017.,  42517.,  90716., 110916.,  91417.,  80717., 112717.,\n",
       "        80917.,  71516.,  53117., 103017., 112816.,  90816., 112116.,\n",
       "        42417., 103117.,  32217.,  41017., 100516.,  10917.,  10417.,\n",
       "        12617.,  10318.,  90517., 111617.,  60117.,  81516.,  91916.,\n",
       "        81616.,  11917., 120816., 120716.,  41717.,  91516.,  30118.,\n",
       "        21419.,  70618.,  92518.,  91418.,  91718.,  30819., 112818.,\n",
       "        91818.,  21319.,  31519.,  31419.,  12819.,  90618., 101618.,\n",
       "        21119.,  30419.,  92418.,  91318.,  71618.,  22219.,  91118.,\n",
       "        20419.,  30619.,  71718.,  22019.,  22819.,  90718.,  90518.,\n",
       "        71818.,  91218.,  11719.,  31919.,  71318.,     nan,  72718.,\n",
       "        80118.,  73018.,  21919.,  32019.,  82018.,  91018., 112118.,\n",
       "       111318., 111618., 111518., 112918.,  32119., 112718., 110918.,\n",
       "       102918., 110818., 122118.,  22119.,  31819.,  11619.,  21219.,\n",
       "        30719., 102218.,  83118., 102418.,  12219.,  82918.,  71018.,\n",
       "        22719.,  31319.,  81718.,  90418.,  12519., 120618.,  13119.,\n",
       "        92818., 101918.,  12919.,  22519.,  22619.,  20819., 101818.,\n",
       "        81418.,  12419., 111018., 100318.,  82118., 110118., 120318.,\n",
       "        73118., 101118., 102518., 121918.,  80618.,  20519.,  30519.,\n",
       "       110518.,  71118.,  71218.,  13019.,  20719.,  80518.,  92118.,\n",
       "        21519.,  92018.,  20619., 102318.,  41918.,  60118.,  42618.,\n",
       "       122818.,  53118.,  70119., 111418., 100219.,  60518.,  40918.,\n",
       "        92719.,  51618.,  41318., 122718.,  61819.,  81318.,  73119.,\n",
       "        42619.,  80218.,  80818.,  10719.,  41819., 121018., 121218.,\n",
       "        21819.,  70819., 100319.,  11019.,  82219.,  12719., 122018.,\n",
       "        10919.,  52219.,  22218.,  53019.,  22718.,  62419.,  50418.,\n",
       "        32918.,  40919.,  30918.,  30418.,  22618.,  41718.,  71819.,\n",
       "       103018.,  32718.,  21618.,  12218.,  61219.,  12318.,  50218.,\n",
       "        80918.,  32018.,  31918.,  20818.,  11218.,  60419.,  81018.,\n",
       "        82019.,  82218.,  71918.,  70918.,  80718.,  72419.,  72018.,\n",
       "        82718.,  83018.,  72418.,  70518., 121318.,  62218.,  62818.,\n",
       "        61118.,  61918.,  70318.,  82318.,  31418.,  50818.,  40218.,\n",
       "        40418.,  30618.,  62518.,  41118.,  41018.,  32618.,  42518.,\n",
       "        41219.,  30318.,  62619., 123018.,  93019.,  72318.,  62918.,\n",
       "       100918.,  60818.,  11419.,  60718.,  60618.,  50519.,  12319.,\n",
       "        51719.,  71519.,  40819.,  50619., 112618., 122618.,  81619.,\n",
       "        32819.,  51619.,  91918., 110718.,  70519., 102618., 112018.,\n",
       "        43020.,  50420.,  92821.,  83121.,  61421.])"
      ]
     },
     "execution_count": 48,
     "metadata": {},
     "output_type": "execute_result"
    }
   ],
   "source": [
    "homi_df['FileDate'].unique()"
   ]
  },
  {
   "cell_type": "code",
   "execution_count": 49,
   "metadata": {},
   "outputs": [
    {
     "data": {
      "text/plain": [
       "2510"
      ]
     },
     "execution_count": 49,
     "metadata": {},
     "output_type": "execute_result"
    }
   ],
   "source": [
    "len(homi_df[homi_df['FileDate'].isna()])"
   ]
  },
  {
   "attachments": {},
   "cell_type": "markdown",
   "metadata": {},
   "source": [
    "- Ở đây, dữ liệu (khác `nan`) của mỗi dòng là dãy số tượng trưng cho ngày, tháng, năm của thời điểm thực hiện báo cáo về vụ án. Những dòng này đúng ra phải nên được chuyển về dang datetime. Tuy nhiên do tính liên quan đến vấn đề không được chặt chẽ lắm (thời điểm thực hiện báo cáo có thể không trùng với thời điểm gây án, và có thể chỉ là thời điểm được ước tính), nên ta có thể bỏ cột này đi (ở bước ***Xử lý các dòng bị thiếu dữ liệu***)."
   ]
  },
  {
   "attachments": {},
   "cell_type": "markdown",
   "metadata": {},
   "source": [
    "---"
   ]
  },
  {
   "attachments": {},
   "cell_type": "markdown",
   "metadata": {},
   "source": [
    "- Kiểm tra kiểu dữ liệu của tất cả các cột 1 lần nữa"
   ]
  },
  {
   "cell_type": "code",
   "execution_count": 50,
   "metadata": {},
   "outputs": [
    {
     "data": {
      "text/plain": [
       "ID               object\n",
       "CNTYFIPS         object\n",
       "Ori              object\n",
       "State            object\n",
       "Agency           object\n",
       "Agentype         object\n",
       "Source           object\n",
       "Solved           object\n",
       "Year              int64\n",
       "StateName        object\n",
       "Month            object\n",
       "Incident          int64\n",
       "ActionType       object\n",
       "Homicide         object\n",
       "Situation        object\n",
       "VicAge            int64\n",
       "VicSex           object\n",
       "VicRace          object\n",
       "VicEthnic        object\n",
       "OffAge            int64\n",
       "OffSex           object\n",
       "OffRace          object\n",
       "OffEthnic        object\n",
       "Weapon           object\n",
       "Relationship     object\n",
       "Circumstance     object\n",
       "Subcircum        object\n",
       "VicCount          int64\n",
       "OffCount          int64\n",
       "FileDate        float64\n",
       "MSA              object\n",
       "dtype: object"
      ]
     },
     "execution_count": 50,
     "metadata": {},
     "output_type": "execute_result"
    }
   ],
   "source": [
    "homi_df.dtypes"
   ]
  },
  {
   "attachments": {},
   "cell_type": "markdown",
   "metadata": {},
   "source": [
    "- Kiểm tra lại toàn bộ tập dữ liệu"
   ]
  },
  {
   "cell_type": "code",
   "execution_count": 51,
   "metadata": {},
   "outputs": [
    {
     "data": {
      "text/html": [
       "<div>\n",
       "<style scoped>\n",
       "    .dataframe tbody tr th:only-of-type {\n",
       "        vertical-align: middle;\n",
       "    }\n",
       "\n",
       "    .dataframe tbody tr th {\n",
       "        vertical-align: top;\n",
       "    }\n",
       "\n",
       "    .dataframe thead th {\n",
       "        text-align: right;\n",
       "    }\n",
       "</style>\n",
       "<table border=\"1\" class=\"dataframe\">\n",
       "  <thead>\n",
       "    <tr style=\"text-align: right;\">\n",
       "      <th></th>\n",
       "      <th>ID</th>\n",
       "      <th>CNTYFIPS</th>\n",
       "      <th>Ori</th>\n",
       "      <th>State</th>\n",
       "      <th>Agency</th>\n",
       "      <th>Agentype</th>\n",
       "      <th>Source</th>\n",
       "      <th>Solved</th>\n",
       "      <th>Year</th>\n",
       "      <th>StateName</th>\n",
       "      <th>...</th>\n",
       "      <th>OffRace</th>\n",
       "      <th>OffEthnic</th>\n",
       "      <th>Weapon</th>\n",
       "      <th>Relationship</th>\n",
       "      <th>Circumstance</th>\n",
       "      <th>Subcircum</th>\n",
       "      <th>VicCount</th>\n",
       "      <th>OffCount</th>\n",
       "      <th>FileDate</th>\n",
       "      <th>MSA</th>\n",
       "    </tr>\n",
       "  </thead>\n",
       "  <tbody>\n",
       "    <tr>\n",
       "      <th>0</th>\n",
       "      <td>201604266AL06201</td>\n",
       "      <td>Tallapoosa, AL</td>\n",
       "      <td>AL06201</td>\n",
       "      <td>Alabama</td>\n",
       "      <td>Alexander City</td>\n",
       "      <td>Municipal police</td>\n",
       "      <td>MAP</td>\n",
       "      <td>Yes</td>\n",
       "      <td>2016</td>\n",
       "      <td>NaN</td>\n",
       "      <td>...</td>\n",
       "      <td>White</td>\n",
       "      <td>Unknown or not reported</td>\n",
       "      <td>Firearm, type not stated</td>\n",
       "      <td>Relationship not determined</td>\n",
       "      <td>Circumstances undetermined</td>\n",
       "      <td>Not specified</td>\n",
       "      <td>0</td>\n",
       "      <td>0</td>\n",
       "      <td>92517.0</td>\n",
       "      <td>Rural Alabama</td>\n",
       "    </tr>\n",
       "    <tr>\n",
       "      <th>1</th>\n",
       "      <td>201604265AL05003</td>\n",
       "      <td>Marshall, AL</td>\n",
       "      <td>AL05003</td>\n",
       "      <td>Alabama</td>\n",
       "      <td>Arab</td>\n",
       "      <td>Municipal police</td>\n",
       "      <td>MAP</td>\n",
       "      <td>Yes</td>\n",
       "      <td>2016</td>\n",
       "      <td>NaN</td>\n",
       "      <td>...</td>\n",
       "      <td>White</td>\n",
       "      <td>Unknown or not reported</td>\n",
       "      <td>Handgun - pistol, revolver, etc</td>\n",
       "      <td>Relationship not determined</td>\n",
       "      <td>Other negligent handling of gun</td>\n",
       "      <td>Not specified</td>\n",
       "      <td>0</td>\n",
       "      <td>0</td>\n",
       "      <td>92517.0</td>\n",
       "      <td>Rural Alabama</td>\n",
       "    </tr>\n",
       "    <tr>\n",
       "      <th>2</th>\n",
       "      <td>201604529AL04301</td>\n",
       "      <td>Lee, AL</td>\n",
       "      <td>AL04301</td>\n",
       "      <td>Alabama</td>\n",
       "      <td>Auburn</td>\n",
       "      <td>Municipal police</td>\n",
       "      <td>MAP</td>\n",
       "      <td>Yes</td>\n",
       "      <td>2016</td>\n",
       "      <td>NaN</td>\n",
       "      <td>...</td>\n",
       "      <td>Black</td>\n",
       "      <td>Unknown or not reported</td>\n",
       "      <td>Firearm, type not stated</td>\n",
       "      <td>Other family</td>\n",
       "      <td>Other - not specified</td>\n",
       "      <td>Not specified</td>\n",
       "      <td>0</td>\n",
       "      <td>0</td>\n",
       "      <td>92517.0</td>\n",
       "      <td>Auburn-Opelika, AL</td>\n",
       "    </tr>\n",
       "    <tr>\n",
       "      <th>3</th>\n",
       "      <td>201604593AL04301</td>\n",
       "      <td>Lee, AL</td>\n",
       "      <td>AL04301</td>\n",
       "      <td>Alabama</td>\n",
       "      <td>Auburn</td>\n",
       "      <td>Municipal police</td>\n",
       "      <td>MAP</td>\n",
       "      <td>Yes</td>\n",
       "      <td>2016</td>\n",
       "      <td>NaN</td>\n",
       "      <td>...</td>\n",
       "      <td>Black</td>\n",
       "      <td>Unknown or not reported</td>\n",
       "      <td>Firearm, type not stated</td>\n",
       "      <td>Relationship not determined</td>\n",
       "      <td>Other - not specified</td>\n",
       "      <td>Not specified</td>\n",
       "      <td>0</td>\n",
       "      <td>0</td>\n",
       "      <td>92517.0</td>\n",
       "      <td>Auburn-Opelika, AL</td>\n",
       "    </tr>\n",
       "    <tr>\n",
       "      <th>4</th>\n",
       "      <td>201604594AL04301</td>\n",
       "      <td>Lee, AL</td>\n",
       "      <td>AL04301</td>\n",
       "      <td>Alabama</td>\n",
       "      <td>Auburn</td>\n",
       "      <td>Municipal police</td>\n",
       "      <td>MAP</td>\n",
       "      <td>Yes</td>\n",
       "      <td>2016</td>\n",
       "      <td>NaN</td>\n",
       "      <td>...</td>\n",
       "      <td>Black</td>\n",
       "      <td>Unknown or not reported</td>\n",
       "      <td>Firearm, type not stated</td>\n",
       "      <td>Relationship not determined</td>\n",
       "      <td>Other - not specified</td>\n",
       "      <td>Not specified</td>\n",
       "      <td>0</td>\n",
       "      <td>0</td>\n",
       "      <td>92517.0</td>\n",
       "      <td>Auburn-Opelika, AL</td>\n",
       "    </tr>\n",
       "    <tr>\n",
       "      <th>...</th>\n",
       "      <td>...</td>\n",
       "      <td>...</td>\n",
       "      <td>...</td>\n",
       "      <td>...</td>\n",
       "      <td>...</td>\n",
       "      <td>...</td>\n",
       "      <td>...</td>\n",
       "      <td>...</td>\n",
       "      <td>...</td>\n",
       "      <td>...</td>\n",
       "      <td>...</td>\n",
       "      <td>...</td>\n",
       "      <td>...</td>\n",
       "      <td>...</td>\n",
       "      <td>...</td>\n",
       "      <td>...</td>\n",
       "      <td>...</td>\n",
       "      <td>...</td>\n",
       "      <td>...</td>\n",
       "      <td>...</td>\n",
       "      <td>...</td>\n",
       "    </tr>\n",
       "    <tr>\n",
       "      <th>92086</th>\n",
       "      <td>202003001WY01700</td>\n",
       "      <td>Sheridan, WY</td>\n",
       "      <td>WY01700</td>\n",
       "      <td>Wyoming</td>\n",
       "      <td>Sheridan County</td>\n",
       "      <td>Sheriff</td>\n",
       "      <td>FBI</td>\n",
       "      <td>Yes</td>\n",
       "      <td>2020</td>\n",
       "      <td>WYOMIN</td>\n",
       "      <td>...</td>\n",
       "      <td>American Indian or Alaskan Native</td>\n",
       "      <td>Not of Hispanic origin</td>\n",
       "      <td>Handgun - pistol, revolver, etc</td>\n",
       "      <td>Sister</td>\n",
       "      <td>Brawl due to influence of alcohol</td>\n",
       "      <td>Not specified</td>\n",
       "      <td>2</td>\n",
       "      <td>0</td>\n",
       "      <td>83121.0</td>\n",
       "      <td>Rural Wyoming</td>\n",
       "    </tr>\n",
       "    <tr>\n",
       "      <th>92087</th>\n",
       "      <td>202003001WY01700</td>\n",
       "      <td>Sheridan, WY</td>\n",
       "      <td>WY01700</td>\n",
       "      <td>Wyoming</td>\n",
       "      <td>Sheridan County</td>\n",
       "      <td>Sheriff</td>\n",
       "      <td>FBI</td>\n",
       "      <td>Yes</td>\n",
       "      <td>2020</td>\n",
       "      <td>WYOMIN</td>\n",
       "      <td>...</td>\n",
       "      <td>American Indian or Alaskan Native</td>\n",
       "      <td>Not of Hispanic origin</td>\n",
       "      <td>Handgun - pistol, revolver, etc</td>\n",
       "      <td>Sister</td>\n",
       "      <td>Brawl due to influence of alcohol</td>\n",
       "      <td>Not specified</td>\n",
       "      <td>2</td>\n",
       "      <td>0</td>\n",
       "      <td>83121.0</td>\n",
       "      <td>Rural Wyoming</td>\n",
       "    </tr>\n",
       "    <tr>\n",
       "      <th>92088</th>\n",
       "      <td>202005001WY01101</td>\n",
       "      <td>Laramie, WY</td>\n",
       "      <td>WY01101</td>\n",
       "      <td>Wyoming</td>\n",
       "      <td>Cheyenne</td>\n",
       "      <td>Municipal police</td>\n",
       "      <td>FBI</td>\n",
       "      <td>Yes</td>\n",
       "      <td>2020</td>\n",
       "      <td>WYOMIN</td>\n",
       "      <td>...</td>\n",
       "      <td>White</td>\n",
       "      <td>Not of Hispanic origin</td>\n",
       "      <td>Firearm, type not stated</td>\n",
       "      <td>Other - known to victim</td>\n",
       "      <td>Other arguments</td>\n",
       "      <td>Not specified</td>\n",
       "      <td>0</td>\n",
       "      <td>0</td>\n",
       "      <td>83121.0</td>\n",
       "      <td>Cheyenne, WY</td>\n",
       "    </tr>\n",
       "    <tr>\n",
       "      <th>92089</th>\n",
       "      <td>202005001WY01100</td>\n",
       "      <td>Laramie, WY</td>\n",
       "      <td>WY01100</td>\n",
       "      <td>Wyoming</td>\n",
       "      <td>Laramie County</td>\n",
       "      <td>Sheriff</td>\n",
       "      <td>FBI</td>\n",
       "      <td>Yes</td>\n",
       "      <td>2020</td>\n",
       "      <td>WYOMIN</td>\n",
       "      <td>...</td>\n",
       "      <td>White</td>\n",
       "      <td>Hispanic origin</td>\n",
       "      <td>Handgun - pistol, revolver, etc</td>\n",
       "      <td>Boyfriend</td>\n",
       "      <td>Other arguments</td>\n",
       "      <td>Not specified</td>\n",
       "      <td>0</td>\n",
       "      <td>0</td>\n",
       "      <td>83121.0</td>\n",
       "      <td>Cheyenne, WY</td>\n",
       "    </tr>\n",
       "    <tr>\n",
       "      <th>92090</th>\n",
       "      <td>202011001WY00702</td>\n",
       "      <td>Fremont, WY</td>\n",
       "      <td>WY00702</td>\n",
       "      <td>Wyoming</td>\n",
       "      <td>Riverton</td>\n",
       "      <td>Municipal police</td>\n",
       "      <td>FBI</td>\n",
       "      <td>Yes</td>\n",
       "      <td>2020</td>\n",
       "      <td>WYOMIN</td>\n",
       "      <td>...</td>\n",
       "      <td>White</td>\n",
       "      <td>Not of Hispanic origin</td>\n",
       "      <td>Handgun - pistol, revolver, etc</td>\n",
       "      <td>Wife</td>\n",
       "      <td>Other negligent handling of gun</td>\n",
       "      <td>Not specified</td>\n",
       "      <td>0</td>\n",
       "      <td>0</td>\n",
       "      <td>83121.0</td>\n",
       "      <td>Rural Wyoming</td>\n",
       "    </tr>\n",
       "  </tbody>\n",
       "</table>\n",
       "<p>91777 rows × 31 columns</p>\n",
       "</div>"
      ],
      "text/plain": [
       "                     ID        CNTYFIPS      Ori    State           Agency  \\\n",
       "0      201604266AL06201  Tallapoosa, AL  AL06201  Alabama   Alexander City   \n",
       "1      201604265AL05003    Marshall, AL  AL05003  Alabama             Arab   \n",
       "2      201604529AL04301         Lee, AL  AL04301  Alabama           Auburn   \n",
       "3      201604593AL04301         Lee, AL  AL04301  Alabama           Auburn   \n",
       "4      201604594AL04301         Lee, AL  AL04301  Alabama           Auburn   \n",
       "...                 ...             ...      ...      ...              ...   \n",
       "92086  202003001WY01700    Sheridan, WY  WY01700  Wyoming  Sheridan County   \n",
       "92087  202003001WY01700    Sheridan, WY  WY01700  Wyoming  Sheridan County   \n",
       "92088  202005001WY01101     Laramie, WY  WY01101  Wyoming         Cheyenne   \n",
       "92089  202005001WY01100     Laramie, WY  WY01100  Wyoming   Laramie County   \n",
       "92090  202011001WY00702     Fremont, WY  WY00702  Wyoming         Riverton   \n",
       "\n",
       "               Agentype Source Solved  Year StateName  ...  \\\n",
       "0      Municipal police    MAP    Yes  2016       NaN  ...   \n",
       "1      Municipal police    MAP    Yes  2016       NaN  ...   \n",
       "2      Municipal police    MAP    Yes  2016       NaN  ...   \n",
       "3      Municipal police    MAP    Yes  2016       NaN  ...   \n",
       "4      Municipal police    MAP    Yes  2016       NaN  ...   \n",
       "...                 ...    ...    ...   ...       ...  ...   \n",
       "92086           Sheriff    FBI    Yes  2020    WYOMIN  ...   \n",
       "92087           Sheriff    FBI    Yes  2020    WYOMIN  ...   \n",
       "92088  Municipal police    FBI    Yes  2020    WYOMIN  ...   \n",
       "92089           Sheriff    FBI    Yes  2020    WYOMIN  ...   \n",
       "92090  Municipal police    FBI    Yes  2020    WYOMIN  ...   \n",
       "\n",
       "                                 OffRace                OffEthnic  \\\n",
       "0                                  White  Unknown or not reported   \n",
       "1                                  White  Unknown or not reported   \n",
       "2                                  Black  Unknown or not reported   \n",
       "3                                  Black  Unknown or not reported   \n",
       "4                                  Black  Unknown or not reported   \n",
       "...                                  ...                      ...   \n",
       "92086  American Indian or Alaskan Native   Not of Hispanic origin   \n",
       "92087  American Indian or Alaskan Native   Not of Hispanic origin   \n",
       "92088                              White   Not of Hispanic origin   \n",
       "92089                              White          Hispanic origin   \n",
       "92090                              White   Not of Hispanic origin   \n",
       "\n",
       "                                Weapon                 Relationship  \\\n",
       "0             Firearm, type not stated  Relationship not determined   \n",
       "1      Handgun - pistol, revolver, etc  Relationship not determined   \n",
       "2             Firearm, type not stated                 Other family   \n",
       "3             Firearm, type not stated  Relationship not determined   \n",
       "4             Firearm, type not stated  Relationship not determined   \n",
       "...                                ...                          ...   \n",
       "92086  Handgun - pistol, revolver, etc                       Sister   \n",
       "92087  Handgun - pistol, revolver, etc                       Sister   \n",
       "92088         Firearm, type not stated      Other - known to victim   \n",
       "92089  Handgun - pistol, revolver, etc                    Boyfriend   \n",
       "92090  Handgun - pistol, revolver, etc                         Wife   \n",
       "\n",
       "                            Circumstance      Subcircum VicCount OffCount  \\\n",
       "0             Circumstances undetermined  Not specified        0        0   \n",
       "1        Other negligent handling of gun  Not specified        0        0   \n",
       "2                  Other - not specified  Not specified        0        0   \n",
       "3                  Other - not specified  Not specified        0        0   \n",
       "4                  Other - not specified  Not specified        0        0   \n",
       "...                                  ...            ...      ...      ...   \n",
       "92086  Brawl due to influence of alcohol  Not specified        2        0   \n",
       "92087  Brawl due to influence of alcohol  Not specified        2        0   \n",
       "92088                    Other arguments  Not specified        0        0   \n",
       "92089                    Other arguments  Not specified        0        0   \n",
       "92090    Other negligent handling of gun  Not specified        0        0   \n",
       "\n",
       "      FileDate                 MSA  \n",
       "0      92517.0       Rural Alabama  \n",
       "1      92517.0       Rural Alabama  \n",
       "2      92517.0  Auburn-Opelika, AL  \n",
       "3      92517.0  Auburn-Opelika, AL  \n",
       "4      92517.0  Auburn-Opelika, AL  \n",
       "...        ...                 ...  \n",
       "92086  83121.0       Rural Wyoming  \n",
       "92087  83121.0       Rural Wyoming  \n",
       "92088  83121.0        Cheyenne, WY  \n",
       "92089  83121.0        Cheyenne, WY  \n",
       "92090  83121.0       Rural Wyoming  \n",
       "\n",
       "[91777 rows x 31 columns]"
      ]
     },
     "execution_count": 51,
     "metadata": {},
     "output_type": "execute_result"
    }
   ],
   "source": [
    "homi_df"
   ]
  },
  {
   "attachments": {},
   "cell_type": "markdown",
   "metadata": {},
   "source": [
    "---"
   ]
  },
  {
   "cell_type": "code",
   "execution_count": 52,
   "metadata": {},
   "outputs": [
    {
     "data": {
      "text/plain": [
       "389"
      ]
     },
     "execution_count": 52,
     "metadata": {},
     "output_type": "execute_result"
    }
   ],
   "source": [
    "homi_df['FileDate'].nunique()"
   ]
  },
  {
   "attachments": {},
   "cell_type": "markdown",
   "metadata": {},
   "source": [
    "## Tìm sự phân phối của các cột dữ liệu kiểu số"
   ]
  },
  {
   "cell_type": "code",
   "execution_count": 53,
   "metadata": {},
   "outputs": [
    {
     "data": {
      "text/html": [
       "<div>\n",
       "<style scoped>\n",
       "    .dataframe tbody tr th:only-of-type {\n",
       "        vertical-align: middle;\n",
       "    }\n",
       "\n",
       "    .dataframe tbody tr th {\n",
       "        vertical-align: top;\n",
       "    }\n",
       "\n",
       "    .dataframe thead th {\n",
       "        text-align: right;\n",
       "    }\n",
       "</style>\n",
       "<table border=\"1\" class=\"dataframe\">\n",
       "  <thead>\n",
       "    <tr style=\"text-align: right;\">\n",
       "      <th></th>\n",
       "      <th>Year</th>\n",
       "      <th>Incident</th>\n",
       "      <th>VicAge</th>\n",
       "      <th>OffAge</th>\n",
       "      <th>VicCount</th>\n",
       "      <th>OffCount</th>\n",
       "    </tr>\n",
       "  </thead>\n",
       "  <tbody>\n",
       "    <tr>\n",
       "      <th>mising percentage</th>\n",
       "      <td>0.0</td>\n",
       "      <td>0.0</td>\n",
       "      <td>0.0</td>\n",
       "      <td>0.0</td>\n",
       "      <td>0.0</td>\n",
       "      <td>0.0</td>\n",
       "    </tr>\n",
       "    <tr>\n",
       "      <th>min</th>\n",
       "      <td>2016.0</td>\n",
       "      <td>0.0</td>\n",
       "      <td>0.0</td>\n",
       "      <td>0.0</td>\n",
       "      <td>0.0</td>\n",
       "      <td>0.0</td>\n",
       "    </tr>\n",
       "    <tr>\n",
       "      <th>max</th>\n",
       "      <td>2020.0</td>\n",
       "      <td>999.0</td>\n",
       "      <td>999.0</td>\n",
       "      <td>999.0</td>\n",
       "      <td>21.0</td>\n",
       "      <td>40.0</td>\n",
       "    </tr>\n",
       "  </tbody>\n",
       "</table>\n",
       "</div>"
      ],
      "text/plain": [
       "                     Year  Incident  VicAge  OffAge  VicCount  OffCount\n",
       "mising percentage     0.0       0.0     0.0     0.0       0.0       0.0\n",
       "min                2016.0       0.0     0.0     0.0       0.0       0.0\n",
       "max                2020.0     999.0   999.0   999.0      21.0      40.0"
      ]
     },
     "execution_count": 53,
     "metadata": {},
     "output_type": "execute_result"
    }
   ],
   "source": [
    "col_num = ['Year','Incident','VicAge','OffAge','VicCount','OffCount']\n",
    "\n",
    "num_df = homi_df[col_num]\n",
    "\n",
    "mising_percentage = (num_df.isna().sum() / row) * 100       # tỉ lệ giá trị bị thiếu\n",
    "min_values = num_df.min()                                   # các giá trị nhỏ nhất\n",
    "max_values = num_df.max()                                   # các giá trị lớn nhất\n",
    "\n",
    "num_cols_distribution = pd.DataFrame(data = np.array((mising_percentage, min_values, max_values)),\n",
    "                                                      columns = num_df.columns,\n",
    "                                                      index = ['mising percentage', 'min', 'max'])\n",
    "num_cols_distribution"
   ]
  },
  {
   "attachments": {},
   "cell_type": "markdown",
   "metadata": {},
   "source": [
    "## Tìm sự phân phối của các cột dữ liệu kiểu phân loại"
   ]
  },
  {
   "cell_type": "code",
   "execution_count": 54,
   "metadata": {},
   "outputs": [
    {
     "data": {
      "text/html": [
       "<div>\n",
       "<style scoped>\n",
       "    .dataframe tbody tr th:only-of-type {\n",
       "        vertical-align: middle;\n",
       "    }\n",
       "\n",
       "    .dataframe tbody tr th {\n",
       "        vertical-align: top;\n",
       "    }\n",
       "\n",
       "    .dataframe thead th {\n",
       "        text-align: right;\n",
       "    }\n",
       "</style>\n",
       "<table border=\"1\" class=\"dataframe\">\n",
       "  <thead>\n",
       "    <tr style=\"text-align: right;\">\n",
       "      <th></th>\n",
       "      <th>ID</th>\n",
       "      <th>CNTYFIPS</th>\n",
       "      <th>Ori</th>\n",
       "      <th>State</th>\n",
       "      <th>Agency</th>\n",
       "      <th>Agentype</th>\n",
       "      <th>Source</th>\n",
       "      <th>Solved</th>\n",
       "      <th>StateName</th>\n",
       "      <th>Month</th>\n",
       "      <th>...</th>\n",
       "      <th>VicEthnic</th>\n",
       "      <th>OffSex</th>\n",
       "      <th>OffRace</th>\n",
       "      <th>OffEthnic</th>\n",
       "      <th>Weapon</th>\n",
       "      <th>Relationship</th>\n",
       "      <th>Circumstance</th>\n",
       "      <th>Subcircum</th>\n",
       "      <th>FileDate</th>\n",
       "      <th>MSA</th>\n",
       "    </tr>\n",
       "  </thead>\n",
       "  <tbody>\n",
       "    <tr>\n",
       "      <th>mising percentage</th>\n",
       "      <td>0.0</td>\n",
       "      <td>0.0</td>\n",
       "      <td>0.0</td>\n",
       "      <td>0.0</td>\n",
       "      <td>0.0</td>\n",
       "      <td>0.0</td>\n",
       "      <td>0.0</td>\n",
       "      <td>0.0</td>\n",
       "      <td>75.336352</td>\n",
       "      <td>0.0</td>\n",
       "      <td>...</td>\n",
       "      <td>0.0</td>\n",
       "      <td>0.0</td>\n",
       "      <td>0.0</td>\n",
       "      <td>0.0</td>\n",
       "      <td>0.0</td>\n",
       "      <td>0.0</td>\n",
       "      <td>0.0</td>\n",
       "      <td>0.0</td>\n",
       "      <td>2.725565</td>\n",
       "      <td>0.0</td>\n",
       "    </tr>\n",
       "    <tr>\n",
       "      <th>num_diff_vals</th>\n",
       "      <td>86890</td>\n",
       "      <td>2384</td>\n",
       "      <td>7048</td>\n",
       "      <td>52</td>\n",
       "      <td>5589</td>\n",
       "      <td>8</td>\n",
       "      <td>2</td>\n",
       "      <td>2</td>\n",
       "      <td>51</td>\n",
       "      <td>12</td>\n",
       "      <td>...</td>\n",
       "      <td>3</td>\n",
       "      <td>3</td>\n",
       "      <td>6</td>\n",
       "      <td>3</td>\n",
       "      <td>17</td>\n",
       "      <td>29</td>\n",
       "      <td>32</td>\n",
       "      <td>8</td>\n",
       "      <td>389</td>\n",
       "      <td>408</td>\n",
       "    </tr>\n",
       "    <tr>\n",
       "      <th>diff_vals</th>\n",
       "      <td>[201604266AL06201, 201604265AL05003, 201604529AL04301, 201604593AL04301, 201604594AL04301, 201604595AL04301, 201604761AL00500, 201604653AL00101, 201604106AL00102, 201604132AL00102, 201604145AL00102, 201604325AL00102, 201604370AL00102, 201604616AL00102, 201604747AL00102, 201604759AL00102, 201604918AL00102, 201604601AL06103, 201604810AL00204, 201604269AL01902, 201604924AL00104, 201604563AL03004, 201604148AL04101, 201604058AL04701, 201604578AL04701, 201604518AL00113, 201604309AL00100, 201604362AL00100, 201604143AL06104, 201604623AL00201, 201604874AL00201, 201604916AL00301, 201604943AL00301, 201604981AL00301, 201604992AL00301, 201604163AL04302, 201604784AL05209, 201604821AL05209, 201604118AL00202, 201604582AL02701, 201604584AL02701, 201604003AL06000, 201604237AL06000, 201604016AL06301, 201604510AL04902, 201604598AL04902, 201608435AL00312, 201608332AL00101, 201608067AL00102, 201608070AL00102, 201608130AL00102, 201608257AL00102, 201608373AL00102, 201608778AL00102, 201608240AL05201, 201608241AL05201, 201608243AL05201, 201608449AL03102, 201608001AL00112, 201608635AL04701, 201608119AL00100, 201608153AL04300, 201608296AL04300, 201608527AL04300, 201608338AL00107, 201608596AL05701, 201608030AL00202, 201608740AL06100, 201608835AL06301, 201608901AL06301, 201608089AL06300, 201608173AL04601, 201612608AL00102, 201612609AL00102, 201612659AL00102, 201612673AL00102, 201612766AL00102, 201612772AL00102, 201612777AL00102, 201612112AL02700, 201612242AL05201, 201612447AL02900, 201612261AL03400, 201612081AL01001, 201612382AL00110, 201612634AL00119, 201612207AL04701, 201612216AL04701, 201612254AL00100, 201612727AL00120, 201612728AL00120, 201612166AL04500, 201612223AL04702, 201612081AL00201, 201612859AL00201, 201612860AL00201, 201612879AL00201, 201612825AL00200, 201612826AL00200, 201612827AL00200, ...]</td>\n",
       "      <td>[Tallapoosa, AL, Marshall, AL, Lee, AL, Baldwin, AL, Jefferson, AL, Talladega, AL, Mobile, AL, Coffee, AL, Escambia, AL, Lauderdale, AL, Madison, AL, Montgomery, AL, Morgan, AL, Dallas, AL, Sumter, AL, Tuscaloosa, AL, Marion, AL, Etowah, AL, Russell, AL, Macon, AL, Elmore, AL, Geneva, AL, Butler, AL, Lowndes, AL, Shelby, AL, Washington, AL, De Kalb, AL, Covington, AL, Calhoun, AL, Bullock, AL, Walker, AL, Cherokee, AL, Dale, AL, Houston, AL, Pike, AL, Barbour, AL, St. Clair, AL, Pickens, AL, Colbert, AL, Marengo, AL, Monroe, AL, Limestone, AL, Clarke, AL, Cullman, AL, Franklin, AL, Chambers, AL, Autauga, AL, Wilcox, AL, Crenshaw, AL, Blount, AL, Perry, AL, Anchorage, AK, Valdez-Cordova, AK, Fairbanks North Star, AK, Kenai Peninsula, AK, Kodiak Island, AK, Northwest Arctic, AK, Pinal, AZ, Maricopa, AZ, La Paz, AZ, Mohave, AZ, Navajo, AZ, Pima, AZ, Yuma, AZ, Apache, AZ, Cochise, AZ, Yavapai, AZ, Santa Cruz, AZ, Coconino, AZ, Gila, AZ, Craighead, AR, St. Francis, AR, Sebastian, AR, Pulaski, AR, Crittenden, AR, Poinsett, AR, Jackson, AR, Faulkner, AR, Logan, AR, White, AR, Saline, AR, Mississippi, AR, Ouachita, AR, Columbia, AR, Washington, AR, Hempstead, AR, Newton, AR, Carroll, AR, Sevier, AR, Boone, AR, Hot Spring, AR, Van Buren, AR, Arkansas, AR, Union, AR, Miller, AR, Drew, AR, Jefferson, AR, Bradley, AR, Cleburne, AR, Ashley, AR, ...]</td>\n",
       "      <td>[AL06201, AL05003, AL04301, AL00500, AL00101, AL00102, AL06103, AL00204, AL01902, AL00104, AL03004, AL04101, AL04701, AL00113, AL00100, AL06104, AL00201, AL00301, AL04302, AL05209, AL00202, AL02701, AL06000, AL06301, AL04902, AL00312, AL05201, AL03102, AL00112, AL04300, AL00107, AL05701, AL06100, AL06300, AL04601, AL02700, AL02900, AL03400, AL01001, AL00110, AL00119, AL00120, AL04500, AL04702, AL00200, AL05900, AL06500, AL01000, AL02800, AL02303, AL00111, AL04901, AL06311, AL04900, AL01103, AL00901, AL06400, AL01101, AL01300, AL02600, AL00105, AL03800, AL05500, AL00114, AL05700, AL06200, AL02901, AL00501, AL03801, AL01901, AL00601, AL06302, AL05801, AL05400, AL03002, AL04905, AL02000, AL04801, AL03100, AL02801, AL04700, AL05000, AL05101, AL04401, AL01600, AL02500, AL03300, AL01201, AL04100, AL04600, AL00300, AL00401, AL02002, AL06600, AL00400, AL01302, AL02400, AL02501, AL00108, AL00800, ...]</td>\n",
       "      <td>[Alabama, Alaska, Arizona, Arkansas, California, Colorado, Connecticut, Delaware, District of Columbia, Florida, Georgia, Hawaii, Idaho, Illinois, Indiana, Iowa, Kansas, Kentucky, Louisiana, Maine, Maryland, Massachusetts, Michigan, Minnesota, Mississippi, Missouri, Montana, Nebraska, Nevada, New Hampshire, New Jersey, New Mexico, New York, North Carolina, North Dakota, Ohio, Oklahoma, Oregon, Pennsylvania, Rhodes Island, South Carolina, South Dakota, Tennessee, Texas, Utah, Vermont, Virginia, Washington, West Virginia, Wisconsin, Wyoming, PAPSP8]</td>\n",
       "      <td>[Alexander City, Arab, Auburn, Baldwin County, Bessemer, Birmingham, Childersburg, Citronelle, Enterprise, Fairfield, Flomaton, Florence, Huntsville, Irondale, Jefferson County, Lincoln, Mobile, Montgomery, Opelika, Priceville, Prichard, Selma, Sumter County, Tuscaloosa, Winfield, Ala Law Enforce Agency, Decatur, Gadsden, Hoover, Lee County, Midfield, Phenix City, Talladega County, Tuscaloosa County, Tuskegee, Dallas County, Elmore County, Geneva County, Greenville, Homewood, Hueytown, Lipscomb, Lowndes County, Madison, Mobile County, Shelby County, Washington County, Butler County, De Kalb County, Florala, Fultondale, Hamilton, Lake View, Marion County, Piedmont, Union Springs, Walker County, Anniston, Cherokee County, Dale County, Gardendale, Houston County, Pike County, Pleasant Grove, Russell County, Tallapoosa County, Wetumpka, Bay Minette, Dothan, Elba, Eufaula, Northport, Pell City, Pickens County, Brewton, Brilliant, Colbert County, Demopolis, Etowah County, Fort Payne, Madison County, Marshall County, Monroeville, Athens, Clarke County, Cullman County, Franklin County, Lafayette, Lauderdale County, Macon County, Montgomery County, Prattville, Tuscumbia, Wilcox County, Autauga County, Cedar Bluff, Crenshaw County, Cullman, Tarrant City, Blount County, ...]</td>\n",
       "      <td>[Municipal police, Sheriff, Primary state LE, Special police, Tribal, County police, Regional police, 4]</td>\n",
       "      <td>[MAP, FBI]</td>\n",
       "      <td>[Yes, No]</td>\n",
       "      <td>[FLA, ALABAM, ALASKA, ARIZON, ARKANS, CALIFO, COLORA, CONNEC, DELAWA, FEDERA, DISTRI, FLORID, GEORGI, HAWAII, IDAHO, ILLINO, INDIAN, IOWA, KANSAS, KENTUC, LOUISI, MAINE, MARYLA, MASSAC, MICHIG, MINNES, MISSIS, MISSOU, MONTAN, NEBRAS, NEVADA, NEW HA, NEW JE, NEW ME, NEW YO, NORTH, OHIO, OKLAHO, OREGON, PENNSY, RHODE, SOUTH, TENNES, TEXAS, UTAH, VERMON, VIRGIN, WASHIN, WEST V, WISCON, WYOMIN]</td>\n",
       "      <td>[April, August, December, February, January, July, June, March, May, November, October, September]</td>\n",
       "      <td>...</td>\n",
       "      <td>[Unknown or not reported, Not of Hispanic origin, Hispanic origin]</td>\n",
       "      <td>[Male, Unknown, Female]</td>\n",
       "      <td>[White, Black, Unknown, Asian, American Indian or Alaskan Native, Native Hawaiian or Pacific Islander]</td>\n",
       "      <td>[Unknown or not reported, Not of Hispanic origin, Hispanic origin]</td>\n",
       "      <td>[Firearm, type not stated, Handgun - pistol, revolver, etc, Personal weapons, includes beating, Knife or cutting instrument, Other or type unknown, Fire, Blunt object - hammer, club, etc, Shotgun, Rifle, Poison - does not include gas, Narcotics or drugs, sleeping pills, Asphyxiation - includes death by gas, Strangulation - hanging, Other gun, Drowning, Pushed or thrown out window, Explosives]</td>\n",
       "      <td>[Relationship not determined, Other family, Boyfriend, Girlfriend, Acquaintance, Husband, Other - known to victim, Stranger, Father, Mother, Friend, Neighbor, Son, Wife, Sister, In-law, Stepfather, Stepson, Homosexual relationship, Daughter, Brother, Ex-wife, Stepmother, Common-law wife, Employer, Common-law husband, Stepdaughter, Ex-husband, Employee]</td>\n",
       "      <td>[Circumstances undetermined, Other negligent handling of gun, Other - not specified, Other arguments, Robbery, Brawl due to influence of alcohol, Burglary, Other, Argument over money or property, Gambling, Felon killed by private citizen, Rape, Narcotic drug laws, Gangland killings, All other manslaughter by negligence, Felon killed by police, Children playing with gun, Prostitution and commercialized vice, Arson, Motor vehicle theft, Lovers triangle, Child killed by babysitter, All suspected felony type, Brawl due to influence of narcotics, Juvenile gang killings, Victim shot in hunting accident, Institutional killings, Larceny, Gun-cleaning death - other than self, Other sex offense, Sniper attack, Abortion]</td>\n",
       "      <td>[Not specified, Felon killed in commission of a crime, Felon attacked police officer, Felon attacked a civilian, Not enough information to determine, Felon attacked fellow police officer, Felon resisted arrest, Felon attempted flight from a crime]</td>\n",
       "      <td>[92517.0, 11818.0, 11317.0, 110716.0, 33017.0, 22717.0, 51917.0, 71216.0, 32117.0, 82316.0, 82416.0, 91616.0, 112216.0, 42617.0, 20317.0, 31717.0, 42117.0, 81916.0, 101116.0, 33117.0, 121417.0, 30217.0, 120516.0, 41817.0, 90717.0, 71416.0, 71816.0, 122316.0, 101316.0, 122917.0, 82516.0, 72116.0, 32017.0, 21517.0, 71316.0, 92016.0, 122216.0, 12317.0, 101216.0, 111716.0, 41217.0, 40717.0, 41117.0, 12017.0, 30817.0, 113016.0, 91416.0, 12717.0, 22117.0, 81017.0, 30117.0, 72216.0, 111616.0, 71916.0, 81116.0, 121916.0, 51817.0, 11117.0, 80417.0, 42717.0, 50817.0, 21216.0, 31017.0, 40417.0, 81417.0, 20217.0, 51117.0, 51517.0, 53017.0, 42017.0, 30317.0, 41317.0, 100716.0, 32717.0, 90616.0, 22817.0, 10317.0, 120616.0, 72616.0, 51217.0, 51017.0, 50417.0, 100616.0, 42817.0, 120216.0, 40517.0, 82817.0, 11217.0, 110816.0, 50117.0, 82317.0, 121917.0, 91117.0, 110117.0, 80416.0, 100316.0, 80816.0, 92116.0, 11717.0, 21617.0, ...]</td>\n",
       "      <td>[Rural Alabama, Auburn-Opelika, AL, Birmingham-Hoover, AL, Mobile, AL, Florence-Muscle Shoals, AL, Huntsville, AL, Montgomery, AL, Decatur, AL, Tuscaloosa, AL, Gadsden, AL, Columbus, GA-AL, Dothan, AL, Anniston-Oxford, AL, Anchorage, AK, Rural Alaska, Fairbanks, AK, Phoenix-Mesa-Scottsdale, AZ, Rural Arizona, Tucson, AZ, Yuma, AZ, Prescott, AZ, Flagstaff, AZ, Jonesboro, AR, Rural Arkansas, Fort Smith, AR-OK, Little Rock-North Little Rock, AR, Memphis, TN-MS-AR, Fayetteville-Springdale-Rogers, AR-MO, Texarkana, TX-Texarkana, AR, Pine Bluff, AR, Hot Springs, AR, San Francisco-Oakland-Fremont, CA, Bakersfield, CA, Los Angeles-Long Beach, CA, Riverside-San Bernardino, CA, Rural California, Oxnard-Thousand Oaks-Ventura, CA, Hanford-Corcoran, CA, San Diego-Carlsbad-San Marcos, CA, Vallejo-Fairfield, CA, Fresno, CA, Salinas, CA, El Centro, CA, Stockton, CA, Modesto, CA, Redding, CA, Sacramento-Roseville, CA, San Jose-Sunnyvale-Santa Clara, CA, Visalia-Porterville, CA, Yuba City, CA, Madera, CA, San Luis Obispo-Paso Robles, CA, Santa Cruz-Watsonville, CA, Chico, CA, Santa Rosa-Petaluma, CA, Merced, CA, Santa Barbara-Santa Maria, CA, Napa, CA, Rural Colorado, Denver-Aurora, CO, Colorado Springs, CO, Fort Collins-Loveland, CO, Pueblo, CO, Grand Junction, CO, Boulder, CO, Greeley, CO, New Haven-Milford, CT, Bridgeport-Stamford-Norwalk, CT, Hartford, CT, Norwich-New London, CT, Rural Connecticut, Philadelphia-Camden-Wilmington, PA-NJ-DE, Dover, DE, Rural Delaware, Washington-Arlington-Alexandria, DC-VA-MD-WV, Miami-Fort Lauderdale, FL, Punta Gorda, FL, Rural Florida, Tampa-St. Petersburg-Clearwater, FL, Palm Bay-Melbourne-Titusville, FL, Deltona-Daytona Beach-Ormond Beach, FL, Pensacola-Ferry Pass-Brent, FL, Orlando-Kissimmee, FL, Cape Coral-Fort Myers, FL, Port St. Lucie-Fort Pierce, FL, Jacksonville, FL, Ocala, FL, Lakeland, FL, Tallahassee, FL, Sarasota-Bradenton-Venice, FL, Fort Walton Beach-Destin, FL, Naples-Marco Island, FL, Vero Beach, FL, Panama City-Lynn Haven, FL, Gainesville, FL, Albany, GA, Atlanta-Sandy Springs-Marietta, GA, Rural Georgia, Athens-Clarke County, GA, Macon, GA, ...]</td>\n",
       "    </tr>\n",
       "  </tbody>\n",
       "</table>\n",
       "<p>3 rows × 25 columns</p>\n",
       "</div>"
      ],
      "text/plain": [
       "                                                                                                                                                                                                                                                                                                                                                                                                                                                                                                                                                                                                                                                                                                                                                                                                                                                                                                                                                                                                                                                                                                                                                                                                                                                                                                                                                                                                                                                                                                                                                                                                                                                                                                                                                                                                                                                                                              ID  \\\n",
       "mising percentage                                                                                                                                                                                                                                                                                                                                                                                                                                                                                                                                                                                                                                                                                                                                                                                                                                                                                                                                                                                                                                                                                                                                                                                                                                                                                                                                                                                                                                                                                                                                                                                                                                                                                                                                                                                                                                                                            0.0   \n",
       "num_diff_vals                                                                                                                                                                                                                                                                                                                                                                                                                                                                                                                                                                                                                                                                                                                                                                                                                                                                                                                                                                                                                                                                                                                                                                                                                                                                                                                                                                                                                                                                                                                                                                                                                                                                                                                                                                                                                                                                              86890   \n",
       "diff_vals          [201604266AL06201, 201604265AL05003, 201604529AL04301, 201604593AL04301, 201604594AL04301, 201604595AL04301, 201604761AL00500, 201604653AL00101, 201604106AL00102, 201604132AL00102, 201604145AL00102, 201604325AL00102, 201604370AL00102, 201604616AL00102, 201604747AL00102, 201604759AL00102, 201604918AL00102, 201604601AL06103, 201604810AL00204, 201604269AL01902, 201604924AL00104, 201604563AL03004, 201604148AL04101, 201604058AL04701, 201604578AL04701, 201604518AL00113, 201604309AL00100, 201604362AL00100, 201604143AL06104, 201604623AL00201, 201604874AL00201, 201604916AL00301, 201604943AL00301, 201604981AL00301, 201604992AL00301, 201604163AL04302, 201604784AL05209, 201604821AL05209, 201604118AL00202, 201604582AL02701, 201604584AL02701, 201604003AL06000, 201604237AL06000, 201604016AL06301, 201604510AL04902, 201604598AL04902, 201608435AL00312, 201608332AL00101, 201608067AL00102, 201608070AL00102, 201608130AL00102, 201608257AL00102, 201608373AL00102, 201608778AL00102, 201608240AL05201, 201608241AL05201, 201608243AL05201, 201608449AL03102, 201608001AL00112, 201608635AL04701, 201608119AL00100, 201608153AL04300, 201608296AL04300, 201608527AL04300, 201608338AL00107, 201608596AL05701, 201608030AL00202, 201608740AL06100, 201608835AL06301, 201608901AL06301, 201608089AL06300, 201608173AL04601, 201612608AL00102, 201612609AL00102, 201612659AL00102, 201612673AL00102, 201612766AL00102, 201612772AL00102, 201612777AL00102, 201612112AL02700, 201612242AL05201, 201612447AL02900, 201612261AL03400, 201612081AL01001, 201612382AL00110, 201612634AL00119, 201612207AL04701, 201612216AL04701, 201612254AL00100, 201612727AL00120, 201612728AL00120, 201612166AL04500, 201612223AL04702, 201612081AL00201, 201612859AL00201, 201612860AL00201, 201612879AL00201, 201612825AL00200, 201612826AL00200, 201612827AL00200, ...]   \n",
       "\n",
       "                                                                                                                                                                                                                                                                                                                                                                                                                                                                                                                                                                                                                                                                                                                                                                                                                                                                                                                                                                                                                                                                                                                                                                                                                                                                                                                                                                                                                         CNTYFIPS  \\\n",
       "mising percentage                                                                                                                                                                                                                                                                                                                                                                                                                                                                                                                                                                                                                                                                                                                                                                                                                                                                                                                                                                                                                                                                                                                                                                                                                                                                                                                                                                                                             0.0   \n",
       "num_diff_vals                                                                                                                                                                                                                                                                                                                                                                                                                                                                                                                                                                                                                                                                                                                                                                                                                                                                                                                                                                                                                                                                                                                                                                                                                                                                                                                                                                                                                2384   \n",
       "diff_vals          [Tallapoosa, AL, Marshall, AL, Lee, AL, Baldwin, AL, Jefferson, AL, Talladega, AL, Mobile, AL, Coffee, AL, Escambia, AL, Lauderdale, AL, Madison, AL, Montgomery, AL, Morgan, AL, Dallas, AL, Sumter, AL, Tuscaloosa, AL, Marion, AL, Etowah, AL, Russell, AL, Macon, AL, Elmore, AL, Geneva, AL, Butler, AL, Lowndes, AL, Shelby, AL, Washington, AL, De Kalb, AL, Covington, AL, Calhoun, AL, Bullock, AL, Walker, AL, Cherokee, AL, Dale, AL, Houston, AL, Pike, AL, Barbour, AL, St. Clair, AL, Pickens, AL, Colbert, AL, Marengo, AL, Monroe, AL, Limestone, AL, Clarke, AL, Cullman, AL, Franklin, AL, Chambers, AL, Autauga, AL, Wilcox, AL, Crenshaw, AL, Blount, AL, Perry, AL, Anchorage, AK, Valdez-Cordova, AK, Fairbanks North Star, AK, Kenai Peninsula, AK, Kodiak Island, AK, Northwest Arctic, AK, Pinal, AZ, Maricopa, AZ, La Paz, AZ, Mohave, AZ, Navajo, AZ, Pima, AZ, Yuma, AZ, Apache, AZ, Cochise, AZ, Yavapai, AZ, Santa Cruz, AZ, Coconino, AZ, Gila, AZ, Craighead, AR, St. Francis, AR, Sebastian, AR, Pulaski, AR, Crittenden, AR, Poinsett, AR, Jackson, AR, Faulkner, AR, Logan, AR, White, AR, Saline, AR, Mississippi, AR, Ouachita, AR, Columbia, AR, Washington, AR, Hempstead, AR, Newton, AR, Carroll, AR, Sevier, AR, Boone, AR, Hot Spring, AR, Van Buren, AR, Arkansas, AR, Union, AR, Miller, AR, Drew, AR, Jefferson, AR, Bradley, AR, Cleburne, AR, Ashley, AR, ...]   \n",
       "\n",
       "                                                                                                                                                                                                                                                                                                                                                                                                                                                                                                                                                                                                                                                                                                                                                                                                                                                                                                                                                         Ori  \\\n",
       "mising percentage                                                                                                                                                                                                                                                                                                                                                                                                                                                                                                                                                                                                                                                                                                                                                                                                                                                                                                                                        0.0   \n",
       "num_diff_vals                                                                                                                                                                                                                                                                                                                                                                                                                                                                                                                                                                                                                                                                                                                                                                                                                                                                                                                                           7048   \n",
       "diff_vals          [AL06201, AL05003, AL04301, AL00500, AL00101, AL00102, AL06103, AL00204, AL01902, AL00104, AL03004, AL04101, AL04701, AL00113, AL00100, AL06104, AL00201, AL00301, AL04302, AL05209, AL00202, AL02701, AL06000, AL06301, AL04902, AL00312, AL05201, AL03102, AL00112, AL04300, AL00107, AL05701, AL06100, AL06300, AL04601, AL02700, AL02900, AL03400, AL01001, AL00110, AL00119, AL00120, AL04500, AL04702, AL00200, AL05900, AL06500, AL01000, AL02800, AL02303, AL00111, AL04901, AL06311, AL04900, AL01103, AL00901, AL06400, AL01101, AL01300, AL02600, AL00105, AL03800, AL05500, AL00114, AL05700, AL06200, AL02901, AL00501, AL03801, AL01901, AL00601, AL06302, AL05801, AL05400, AL03002, AL04905, AL02000, AL04801, AL03100, AL02801, AL04700, AL05000, AL05101, AL04401, AL01600, AL02500, AL03300, AL01201, AL04100, AL04600, AL00300, AL00401, AL02002, AL06600, AL00400, AL01302, AL02400, AL02501, AL00108, AL00800, ...]   \n",
       "\n",
       "                                                                                                                                                                                                                                                                                                                                                                                                                                                                                                                                                                                       State  \\\n",
       "mising percentage                                                                                                                                                                                                                                                                                                                                                                                                                                                                                                                                                                        0.0   \n",
       "num_diff_vals                                                                                                                                                                                                                                                                                                                                                                                                                                                                                                                                                                             52   \n",
       "diff_vals          [Alabama, Alaska, Arizona, Arkansas, California, Colorado, Connecticut, Delaware, District of Columbia, Florida, Georgia, Hawaii, Idaho, Illinois, Indiana, Iowa, Kansas, Kentucky, Louisiana, Maine, Maryland, Massachusetts, Michigan, Minnesota, Mississippi, Missouri, Montana, Nebraska, Nevada, New Hampshire, New Jersey, New Mexico, New York, North Carolina, North Dakota, Ohio, Oklahoma, Oregon, Pennsylvania, Rhodes Island, South Carolina, South Dakota, Tennessee, Texas, Utah, Vermont, Virginia, Washington, West Virginia, Wisconsin, Wyoming, PAPSP8]   \n",
       "\n",
       "                                                                                                                                                                                                                                                                                                                                                                                                                                                                                                                                                                                                                                                                                                                                                                                                                                                                                                                                                                                                                                                                                                                                                                                                                                                                                                                                                 Agency  \\\n",
       "mising percentage                                                                                                                                                                                                                                                                                                                                                                                                                                                                                                                                                                                                                                                                                                                                                                                                                                                                                                                                                                                                                                                                                                                                                                                                                                                                                                                                   0.0   \n",
       "num_diff_vals                                                                                                                                                                                                                                                                                                                                                                                                                                                                                                                                                                                                                                                                                                                                                                                                                                                                                                                                                                                                                                                                                                                                                                                                                                                                                                                                      5589   \n",
       "diff_vals          [Alexander City, Arab, Auburn, Baldwin County, Bessemer, Birmingham, Childersburg, Citronelle, Enterprise, Fairfield, Flomaton, Florence, Huntsville, Irondale, Jefferson County, Lincoln, Mobile, Montgomery, Opelika, Priceville, Prichard, Selma, Sumter County, Tuscaloosa, Winfield, Ala Law Enforce Agency, Decatur, Gadsden, Hoover, Lee County, Midfield, Phenix City, Talladega County, Tuscaloosa County, Tuskegee, Dallas County, Elmore County, Geneva County, Greenville, Homewood, Hueytown, Lipscomb, Lowndes County, Madison, Mobile County, Shelby County, Washington County, Butler County, De Kalb County, Florala, Fultondale, Hamilton, Lake View, Marion County, Piedmont, Union Springs, Walker County, Anniston, Cherokee County, Dale County, Gardendale, Houston County, Pike County, Pleasant Grove, Russell County, Tallapoosa County, Wetumpka, Bay Minette, Dothan, Elba, Eufaula, Northport, Pell City, Pickens County, Brewton, Brilliant, Colbert County, Demopolis, Etowah County, Fort Payne, Madison County, Marshall County, Monroeville, Athens, Clarke County, Cullman County, Franklin County, Lafayette, Lauderdale County, Macon County, Montgomery County, Prattville, Tuscumbia, Wilcox County, Autauga County, Cedar Bluff, Crenshaw County, Cullman, Tarrant City, Blount County, ...]   \n",
       "\n",
       "                                                                                                                   Agentype  \\\n",
       "mising percentage                                                                                                       0.0   \n",
       "num_diff_vals                                                                                                             8   \n",
       "diff_vals          [Municipal police, Sheriff, Primary state LE, Special police, Tribal, County police, Regional police, 4]   \n",
       "\n",
       "                       Source     Solved  \\\n",
       "mising percentage         0.0        0.0   \n",
       "num_diff_vals               2          2   \n",
       "diff_vals          [MAP, FBI]  [Yes, No]   \n",
       "\n",
       "                                                                                                                                                                                                                                                                                                                                                                                                                   StateName  \\\n",
       "mising percentage                                                                                                                                                                                                                                                                                                                                                                                                  75.336352   \n",
       "num_diff_vals                                                                                                                                                                                                                                                                                                                                                                                                             51   \n",
       "diff_vals          [FLA, ALABAM, ALASKA, ARIZON, ARKANS, CALIFO, COLORA, CONNEC, DELAWA, FEDERA, DISTRI, FLORID, GEORGI, HAWAII, IDAHO, ILLINO, INDIAN, IOWA, KANSAS, KENTUC, LOUISI, MAINE, MARYLA, MASSAC, MICHIG, MINNES, MISSIS, MISSOU, MONTAN, NEBRAS, NEVADA, NEW HA, NEW JE, NEW ME, NEW YO, NORTH, OHIO, OKLAHO, OREGON, PENNSY, RHODE, SOUTH, TENNES, TEXAS, UTAH, VERMON, VIRGIN, WASHIN, WEST V, WISCON, WYOMIN]   \n",
       "\n",
       "                                                                                                                Month  \\\n",
       "mising percentage                                                                                                 0.0   \n",
       "num_diff_vals                                                                                                      12   \n",
       "diff_vals          [April, August, December, February, January, July, June, March, May, November, October, September]   \n",
       "\n",
       "                   ...  \\\n",
       "mising percentage  ...   \n",
       "num_diff_vals      ...   \n",
       "diff_vals          ...   \n",
       "\n",
       "                                                                            VicEthnic  \\\n",
       "mising percentage                                                                 0.0   \n",
       "num_diff_vals                                                                       3   \n",
       "diff_vals          [Unknown or not reported, Not of Hispanic origin, Hispanic origin]   \n",
       "\n",
       "                                    OffSex  \\\n",
       "mising percentage                      0.0   \n",
       "num_diff_vals                            3   \n",
       "diff_vals          [Male, Unknown, Female]   \n",
       "\n",
       "                                                                                                                  OffRace  \\\n",
       "mising percentage                                                                                                     0.0   \n",
       "num_diff_vals                                                                                                           6   \n",
       "diff_vals          [White, Black, Unknown, Asian, American Indian or Alaskan Native, Native Hawaiian or Pacific Islander]   \n",
       "\n",
       "                                                                            OffEthnic  \\\n",
       "mising percentage                                                                 0.0   \n",
       "num_diff_vals                                                                       3   \n",
       "diff_vals          [Unknown or not reported, Not of Hispanic origin, Hispanic origin]   \n",
       "\n",
       "                                                                                                                                                                                                                                                                                                                                                                                                                        Weapon  \\\n",
       "mising percentage                                                                                                                                                                                                                                                                                                                                                                                                          0.0   \n",
       "num_diff_vals                                                                                                                                                                                                                                                                                                                                                                                                               17   \n",
       "diff_vals          [Firearm, type not stated, Handgun - pistol, revolver, etc, Personal weapons, includes beating, Knife or cutting instrument, Other or type unknown, Fire, Blunt object - hammer, club, etc, Shotgun, Rifle, Poison - does not include gas, Narcotics or drugs, sleeping pills, Asphyxiation - includes death by gas, Strangulation - hanging, Other gun, Drowning, Pushed or thrown out window, Explosives]   \n",
       "\n",
       "                                                                                                                                                                                                                                                                                                                                                                         Relationship  \\\n",
       "mising percentage                                                                                                                                                                                                                                                                                                                                                                 0.0   \n",
       "num_diff_vals                                                                                                                                                                                                                                                                                                                                                                      29   \n",
       "diff_vals          [Relationship not determined, Other family, Boyfriend, Girlfriend, Acquaintance, Husband, Other - known to victim, Stranger, Father, Mother, Friend, Neighbor, Son, Wife, Sister, In-law, Stepfather, Stepson, Homosexual relationship, Daughter, Brother, Ex-wife, Stepmother, Common-law wife, Employer, Common-law husband, Stepdaughter, Ex-husband, Employee]   \n",
       "\n",
       "                                                                                                                                                                                                                                                                                                                                                                                                                                                                                                                                                                                                                                                                                                                                                      Circumstance  \\\n",
       "mising percentage                                                                                                                                                                                                                                                                                                                                                                                                                                                                                                                                                                                                                                                                                                                                              0.0   \n",
       "num_diff_vals                                                                                                                                                                                                                                                                                                                                                                                                                                                                                                                                                                                                                                                                                                                                                   32   \n",
       "diff_vals          [Circumstances undetermined, Other negligent handling of gun, Other - not specified, Other arguments, Robbery, Brawl due to influence of alcohol, Burglary, Other, Argument over money or property, Gambling, Felon killed by private citizen, Rape, Narcotic drug laws, Gangland killings, All other manslaughter by negligence, Felon killed by police, Children playing with gun, Prostitution and commercialized vice, Arson, Motor vehicle theft, Lovers triangle, Child killed by babysitter, All suspected felony type, Brawl due to influence of narcotics, Juvenile gang killings, Victim shot in hunting accident, Institutional killings, Larceny, Gun-cleaning death - other than self, Other sex offense, Sniper attack, Abortion]   \n",
       "\n",
       "                                                                                                                                                                                                                                                                 Subcircum  \\\n",
       "mising percentage                                                                                                                                                                                                                                                      0.0   \n",
       "num_diff_vals                                                                                                                                                                                                                                                            8   \n",
       "diff_vals          [Not specified, Felon killed in commission of a crime, Felon attacked police officer, Felon attacked a civilian, Not enough information to determine, Felon attacked fellow police officer, Felon resisted arrest, Felon attempted flight from a crime]   \n",
       "\n",
       "                                                                                                                                                                                                                                                                                                                                                                                                                                                                                                                                                                                                                                                                                                                                                                                                                                                                                                                                                                          FileDate  \\\n",
       "mising percentage                                                                                                                                                                                                                                                                                                                                                                                                                                                                                                                                                                                                                                                                                                                                                                                                                                                                                                                                                         2.725565   \n",
       "num_diff_vals                                                                                                                                                                                                                                                                                                                                                                                                                                                                                                                                                                                                                                                                                                                                                                                                                                                                                                                                                                  389   \n",
       "diff_vals          [92517.0, 11818.0, 11317.0, 110716.0, 33017.0, 22717.0, 51917.0, 71216.0, 32117.0, 82316.0, 82416.0, 91616.0, 112216.0, 42617.0, 20317.0, 31717.0, 42117.0, 81916.0, 101116.0, 33117.0, 121417.0, 30217.0, 120516.0, 41817.0, 90717.0, 71416.0, 71816.0, 122316.0, 101316.0, 122917.0, 82516.0, 72116.0, 32017.0, 21517.0, 71316.0, 92016.0, 122216.0, 12317.0, 101216.0, 111716.0, 41217.0, 40717.0, 41117.0, 12017.0, 30817.0, 113016.0, 91416.0, 12717.0, 22117.0, 81017.0, 30117.0, 72216.0, 111616.0, 71916.0, 81116.0, 121916.0, 51817.0, 11117.0, 80417.0, 42717.0, 50817.0, 21216.0, 31017.0, 40417.0, 81417.0, 20217.0, 51117.0, 51517.0, 53017.0, 42017.0, 30317.0, 41317.0, 100716.0, 32717.0, 90616.0, 22817.0, 10317.0, 120616.0, 72616.0, 51217.0, 51017.0, 50417.0, 100616.0, 42817.0, 120216.0, 40517.0, 82817.0, 11217.0, 110816.0, 50117.0, 82317.0, 121917.0, 91117.0, 110117.0, 80416.0, 100316.0, 80816.0, 92116.0, 11717.0, 21617.0, ...]   \n",
       "\n",
       "                                                                                                                                                                                                                                                                                                                                                                                                                                                                                                                                                                                                                                                                                                                                                                                                                                                                                                                                                                                                                                                                                                                                                                                                                                                                                                                                                                                                                                                                                                                                                                                                                                                                                                                                                                                                                                                                                                                                                                                                                                                                                                                                                                                                                       MSA  \n",
       "mising percentage                                                                                                                                                                                                                                                                                                                                                                                                                                                                                                                                                                                                                                                                                                                                                                                                                                                                                                                                                                                                                                                                                                                                                                                                                                                                                                                                                                                                                                                                                                                                                                                                                                                                                                                                                                                                                                                                                                                                                                                                                                                                                                                                                                                                      0.0  \n",
       "num_diff_vals                                                                                                                                                                                                                                                                                                                                                                                                                                                                                                                                                                                                                                                                                                                                                                                                                                                                                                                                                                                                                                                                                                                                                                                                                                                                                                                                                                                                                                                                                                                                                                                                                                                                                                                                                                                                                                                                                                                                                                                                                                                                                                                                                                                                          408  \n",
       "diff_vals          [Rural Alabama, Auburn-Opelika, AL, Birmingham-Hoover, AL, Mobile, AL, Florence-Muscle Shoals, AL, Huntsville, AL, Montgomery, AL, Decatur, AL, Tuscaloosa, AL, Gadsden, AL, Columbus, GA-AL, Dothan, AL, Anniston-Oxford, AL, Anchorage, AK, Rural Alaska, Fairbanks, AK, Phoenix-Mesa-Scottsdale, AZ, Rural Arizona, Tucson, AZ, Yuma, AZ, Prescott, AZ, Flagstaff, AZ, Jonesboro, AR, Rural Arkansas, Fort Smith, AR-OK, Little Rock-North Little Rock, AR, Memphis, TN-MS-AR, Fayetteville-Springdale-Rogers, AR-MO, Texarkana, TX-Texarkana, AR, Pine Bluff, AR, Hot Springs, AR, San Francisco-Oakland-Fremont, CA, Bakersfield, CA, Los Angeles-Long Beach, CA, Riverside-San Bernardino, CA, Rural California, Oxnard-Thousand Oaks-Ventura, CA, Hanford-Corcoran, CA, San Diego-Carlsbad-San Marcos, CA, Vallejo-Fairfield, CA, Fresno, CA, Salinas, CA, El Centro, CA, Stockton, CA, Modesto, CA, Redding, CA, Sacramento-Roseville, CA, San Jose-Sunnyvale-Santa Clara, CA, Visalia-Porterville, CA, Yuba City, CA, Madera, CA, San Luis Obispo-Paso Robles, CA, Santa Cruz-Watsonville, CA, Chico, CA, Santa Rosa-Petaluma, CA, Merced, CA, Santa Barbara-Santa Maria, CA, Napa, CA, Rural Colorado, Denver-Aurora, CO, Colorado Springs, CO, Fort Collins-Loveland, CO, Pueblo, CO, Grand Junction, CO, Boulder, CO, Greeley, CO, New Haven-Milford, CT, Bridgeport-Stamford-Norwalk, CT, Hartford, CT, Norwich-New London, CT, Rural Connecticut, Philadelphia-Camden-Wilmington, PA-NJ-DE, Dover, DE, Rural Delaware, Washington-Arlington-Alexandria, DC-VA-MD-WV, Miami-Fort Lauderdale, FL, Punta Gorda, FL, Rural Florida, Tampa-St. Petersburg-Clearwater, FL, Palm Bay-Melbourne-Titusville, FL, Deltona-Daytona Beach-Ormond Beach, FL, Pensacola-Ferry Pass-Brent, FL, Orlando-Kissimmee, FL, Cape Coral-Fort Myers, FL, Port St. Lucie-Fort Pierce, FL, Jacksonville, FL, Ocala, FL, Lakeland, FL, Tallahassee, FL, Sarasota-Bradenton-Venice, FL, Fort Walton Beach-Destin, FL, Naples-Marco Island, FL, Vero Beach, FL, Panama City-Lynn Haven, FL, Gainesville, FL, Albany, GA, Atlanta-Sandy Springs-Marietta, GA, Rural Georgia, Athens-Clarke County, GA, Macon, GA, ...]  \n",
       "\n",
       "[3 rows x 25 columns]"
      ]
     },
     "execution_count": 54,
     "metadata": {},
     "output_type": "execute_result"
    }
   ],
   "source": [
    "cat_df = homi_df.copy().drop(columns=col_num)\n",
    "\n",
    "mising_percentage = (cat_df.isna().sum() / row) * 100           # tỉ lệ giá trị bị thiếu\n",
    "num_diff_vals = cat_df.apply(lambda col: col.nunique())         # số giá trị khác nhau\n",
    "diff_vals = cat_df.apply(lambda col: col.dropna().unique())     # các giá trị khác nhau\n",
    "\n",
    "cat_cols_distribution = pd.DataFrame(data = np.array((mising_percentage, num_diff_vals, diff_vals)),\n",
    "                                     columns = cat_df.columns,\n",
    "                                     index = ['mising percentage', 'num_diff_vals', 'diff_vals'])\n",
    "cat_cols_distribution"
   ]
  },
  {
   "attachments": {},
   "cell_type": "markdown",
   "metadata": {},
   "source": [
    "## Xử lý các dòng bị thiếu dữ liệu"
   ]
  },
  {
   "attachments": {},
   "cell_type": "markdown",
   "metadata": {},
   "source": [
    "- Xóa các cột `StateName` và `FileDate` như đã đề cập ở bước ***Kiểm tra dữ liệu của các cột và điều chỉnh cho phù hợp***."
   ]
  },
  {
   "cell_type": "code",
   "execution_count": 55,
   "metadata": {},
   "outputs": [],
   "source": [
    "homi_df = homi_df.drop(columns = ['StateName', 'FileDate'], axis = 1)"
   ]
  },
  {
   "cell_type": "code",
   "execution_count": 56,
   "metadata": {},
   "outputs": [
    {
     "data": {
      "text/html": [
       "<div>\n",
       "<style scoped>\n",
       "    .dataframe tbody tr th:only-of-type {\n",
       "        vertical-align: middle;\n",
       "    }\n",
       "\n",
       "    .dataframe tbody tr th {\n",
       "        vertical-align: top;\n",
       "    }\n",
       "\n",
       "    .dataframe thead th {\n",
       "        text-align: right;\n",
       "    }\n",
       "</style>\n",
       "<table border=\"1\" class=\"dataframe\">\n",
       "  <thead>\n",
       "    <tr style=\"text-align: right;\">\n",
       "      <th></th>\n",
       "      <th>ID</th>\n",
       "      <th>CNTYFIPS</th>\n",
       "      <th>Ori</th>\n",
       "      <th>State</th>\n",
       "      <th>Agency</th>\n",
       "      <th>Agentype</th>\n",
       "      <th>Source</th>\n",
       "      <th>Solved</th>\n",
       "      <th>Year</th>\n",
       "      <th>Month</th>\n",
       "      <th>...</th>\n",
       "      <th>OffSex</th>\n",
       "      <th>OffRace</th>\n",
       "      <th>OffEthnic</th>\n",
       "      <th>Weapon</th>\n",
       "      <th>Relationship</th>\n",
       "      <th>Circumstance</th>\n",
       "      <th>Subcircum</th>\n",
       "      <th>VicCount</th>\n",
       "      <th>OffCount</th>\n",
       "      <th>MSA</th>\n",
       "    </tr>\n",
       "  </thead>\n",
       "  <tbody>\n",
       "    <tr>\n",
       "      <th>0</th>\n",
       "      <td>201604266AL06201</td>\n",
       "      <td>Tallapoosa, AL</td>\n",
       "      <td>AL06201</td>\n",
       "      <td>Alabama</td>\n",
       "      <td>Alexander City</td>\n",
       "      <td>Municipal police</td>\n",
       "      <td>MAP</td>\n",
       "      <td>Yes</td>\n",
       "      <td>2016</td>\n",
       "      <td>April</td>\n",
       "      <td>...</td>\n",
       "      <td>Male</td>\n",
       "      <td>White</td>\n",
       "      <td>Unknown or not reported</td>\n",
       "      <td>Firearm, type not stated</td>\n",
       "      <td>Relationship not determined</td>\n",
       "      <td>Circumstances undetermined</td>\n",
       "      <td>Not specified</td>\n",
       "      <td>0</td>\n",
       "      <td>0</td>\n",
       "      <td>Rural Alabama</td>\n",
       "    </tr>\n",
       "    <tr>\n",
       "      <th>1</th>\n",
       "      <td>201604265AL05003</td>\n",
       "      <td>Marshall, AL</td>\n",
       "      <td>AL05003</td>\n",
       "      <td>Alabama</td>\n",
       "      <td>Arab</td>\n",
       "      <td>Municipal police</td>\n",
       "      <td>MAP</td>\n",
       "      <td>Yes</td>\n",
       "      <td>2016</td>\n",
       "      <td>April</td>\n",
       "      <td>...</td>\n",
       "      <td>Male</td>\n",
       "      <td>White</td>\n",
       "      <td>Unknown or not reported</td>\n",
       "      <td>Handgun - pistol, revolver, etc</td>\n",
       "      <td>Relationship not determined</td>\n",
       "      <td>Other negligent handling of gun</td>\n",
       "      <td>Not specified</td>\n",
       "      <td>0</td>\n",
       "      <td>0</td>\n",
       "      <td>Rural Alabama</td>\n",
       "    </tr>\n",
       "    <tr>\n",
       "      <th>2</th>\n",
       "      <td>201604529AL04301</td>\n",
       "      <td>Lee, AL</td>\n",
       "      <td>AL04301</td>\n",
       "      <td>Alabama</td>\n",
       "      <td>Auburn</td>\n",
       "      <td>Municipal police</td>\n",
       "      <td>MAP</td>\n",
       "      <td>Yes</td>\n",
       "      <td>2016</td>\n",
       "      <td>April</td>\n",
       "      <td>...</td>\n",
       "      <td>Male</td>\n",
       "      <td>Black</td>\n",
       "      <td>Unknown or not reported</td>\n",
       "      <td>Firearm, type not stated</td>\n",
       "      <td>Other family</td>\n",
       "      <td>Other - not specified</td>\n",
       "      <td>Not specified</td>\n",
       "      <td>0</td>\n",
       "      <td>0</td>\n",
       "      <td>Auburn-Opelika, AL</td>\n",
       "    </tr>\n",
       "    <tr>\n",
       "      <th>3</th>\n",
       "      <td>201604593AL04301</td>\n",
       "      <td>Lee, AL</td>\n",
       "      <td>AL04301</td>\n",
       "      <td>Alabama</td>\n",
       "      <td>Auburn</td>\n",
       "      <td>Municipal police</td>\n",
       "      <td>MAP</td>\n",
       "      <td>Yes</td>\n",
       "      <td>2016</td>\n",
       "      <td>April</td>\n",
       "      <td>...</td>\n",
       "      <td>Male</td>\n",
       "      <td>Black</td>\n",
       "      <td>Unknown or not reported</td>\n",
       "      <td>Firearm, type not stated</td>\n",
       "      <td>Relationship not determined</td>\n",
       "      <td>Other - not specified</td>\n",
       "      <td>Not specified</td>\n",
       "      <td>0</td>\n",
       "      <td>0</td>\n",
       "      <td>Auburn-Opelika, AL</td>\n",
       "    </tr>\n",
       "    <tr>\n",
       "      <th>4</th>\n",
       "      <td>201604594AL04301</td>\n",
       "      <td>Lee, AL</td>\n",
       "      <td>AL04301</td>\n",
       "      <td>Alabama</td>\n",
       "      <td>Auburn</td>\n",
       "      <td>Municipal police</td>\n",
       "      <td>MAP</td>\n",
       "      <td>Yes</td>\n",
       "      <td>2016</td>\n",
       "      <td>April</td>\n",
       "      <td>...</td>\n",
       "      <td>Male</td>\n",
       "      <td>Black</td>\n",
       "      <td>Unknown or not reported</td>\n",
       "      <td>Firearm, type not stated</td>\n",
       "      <td>Relationship not determined</td>\n",
       "      <td>Other - not specified</td>\n",
       "      <td>Not specified</td>\n",
       "      <td>0</td>\n",
       "      <td>0</td>\n",
       "      <td>Auburn-Opelika, AL</td>\n",
       "    </tr>\n",
       "    <tr>\n",
       "      <th>...</th>\n",
       "      <td>...</td>\n",
       "      <td>...</td>\n",
       "      <td>...</td>\n",
       "      <td>...</td>\n",
       "      <td>...</td>\n",
       "      <td>...</td>\n",
       "      <td>...</td>\n",
       "      <td>...</td>\n",
       "      <td>...</td>\n",
       "      <td>...</td>\n",
       "      <td>...</td>\n",
       "      <td>...</td>\n",
       "      <td>...</td>\n",
       "      <td>...</td>\n",
       "      <td>...</td>\n",
       "      <td>...</td>\n",
       "      <td>...</td>\n",
       "      <td>...</td>\n",
       "      <td>...</td>\n",
       "      <td>...</td>\n",
       "      <td>...</td>\n",
       "    </tr>\n",
       "    <tr>\n",
       "      <th>92086</th>\n",
       "      <td>202003001WY01700</td>\n",
       "      <td>Sheridan, WY</td>\n",
       "      <td>WY01700</td>\n",
       "      <td>Wyoming</td>\n",
       "      <td>Sheridan County</td>\n",
       "      <td>Sheriff</td>\n",
       "      <td>FBI</td>\n",
       "      <td>Yes</td>\n",
       "      <td>2020</td>\n",
       "      <td>March</td>\n",
       "      <td>...</td>\n",
       "      <td>Male</td>\n",
       "      <td>American Indian or Alaskan Native</td>\n",
       "      <td>Not of Hispanic origin</td>\n",
       "      <td>Handgun - pistol, revolver, etc</td>\n",
       "      <td>Sister</td>\n",
       "      <td>Brawl due to influence of alcohol</td>\n",
       "      <td>Not specified</td>\n",
       "      <td>2</td>\n",
       "      <td>0</td>\n",
       "      <td>Rural Wyoming</td>\n",
       "    </tr>\n",
       "    <tr>\n",
       "      <th>92087</th>\n",
       "      <td>202003001WY01700</td>\n",
       "      <td>Sheridan, WY</td>\n",
       "      <td>WY01700</td>\n",
       "      <td>Wyoming</td>\n",
       "      <td>Sheridan County</td>\n",
       "      <td>Sheriff</td>\n",
       "      <td>FBI</td>\n",
       "      <td>Yes</td>\n",
       "      <td>2020</td>\n",
       "      <td>March</td>\n",
       "      <td>...</td>\n",
       "      <td>Male</td>\n",
       "      <td>American Indian or Alaskan Native</td>\n",
       "      <td>Not of Hispanic origin</td>\n",
       "      <td>Handgun - pistol, revolver, etc</td>\n",
       "      <td>Sister</td>\n",
       "      <td>Brawl due to influence of alcohol</td>\n",
       "      <td>Not specified</td>\n",
       "      <td>2</td>\n",
       "      <td>0</td>\n",
       "      <td>Rural Wyoming</td>\n",
       "    </tr>\n",
       "    <tr>\n",
       "      <th>92088</th>\n",
       "      <td>202005001WY01101</td>\n",
       "      <td>Laramie, WY</td>\n",
       "      <td>WY01101</td>\n",
       "      <td>Wyoming</td>\n",
       "      <td>Cheyenne</td>\n",
       "      <td>Municipal police</td>\n",
       "      <td>FBI</td>\n",
       "      <td>Yes</td>\n",
       "      <td>2020</td>\n",
       "      <td>May</td>\n",
       "      <td>...</td>\n",
       "      <td>Male</td>\n",
       "      <td>White</td>\n",
       "      <td>Not of Hispanic origin</td>\n",
       "      <td>Firearm, type not stated</td>\n",
       "      <td>Other - known to victim</td>\n",
       "      <td>Other arguments</td>\n",
       "      <td>Not specified</td>\n",
       "      <td>0</td>\n",
       "      <td>0</td>\n",
       "      <td>Cheyenne, WY</td>\n",
       "    </tr>\n",
       "    <tr>\n",
       "      <th>92089</th>\n",
       "      <td>202005001WY01100</td>\n",
       "      <td>Laramie, WY</td>\n",
       "      <td>WY01100</td>\n",
       "      <td>Wyoming</td>\n",
       "      <td>Laramie County</td>\n",
       "      <td>Sheriff</td>\n",
       "      <td>FBI</td>\n",
       "      <td>Yes</td>\n",
       "      <td>2020</td>\n",
       "      <td>May</td>\n",
       "      <td>...</td>\n",
       "      <td>Female</td>\n",
       "      <td>White</td>\n",
       "      <td>Hispanic origin</td>\n",
       "      <td>Handgun - pistol, revolver, etc</td>\n",
       "      <td>Boyfriend</td>\n",
       "      <td>Other arguments</td>\n",
       "      <td>Not specified</td>\n",
       "      <td>0</td>\n",
       "      <td>0</td>\n",
       "      <td>Cheyenne, WY</td>\n",
       "    </tr>\n",
       "    <tr>\n",
       "      <th>92090</th>\n",
       "      <td>202011001WY00702</td>\n",
       "      <td>Fremont, WY</td>\n",
       "      <td>WY00702</td>\n",
       "      <td>Wyoming</td>\n",
       "      <td>Riverton</td>\n",
       "      <td>Municipal police</td>\n",
       "      <td>FBI</td>\n",
       "      <td>Yes</td>\n",
       "      <td>2020</td>\n",
       "      <td>November</td>\n",
       "      <td>...</td>\n",
       "      <td>Male</td>\n",
       "      <td>White</td>\n",
       "      <td>Not of Hispanic origin</td>\n",
       "      <td>Handgun - pistol, revolver, etc</td>\n",
       "      <td>Wife</td>\n",
       "      <td>Other negligent handling of gun</td>\n",
       "      <td>Not specified</td>\n",
       "      <td>0</td>\n",
       "      <td>0</td>\n",
       "      <td>Rural Wyoming</td>\n",
       "    </tr>\n",
       "  </tbody>\n",
       "</table>\n",
       "<p>91777 rows × 29 columns</p>\n",
       "</div>"
      ],
      "text/plain": [
       "                     ID        CNTYFIPS      Ori    State           Agency  \\\n",
       "0      201604266AL06201  Tallapoosa, AL  AL06201  Alabama   Alexander City   \n",
       "1      201604265AL05003    Marshall, AL  AL05003  Alabama             Arab   \n",
       "2      201604529AL04301         Lee, AL  AL04301  Alabama           Auburn   \n",
       "3      201604593AL04301         Lee, AL  AL04301  Alabama           Auburn   \n",
       "4      201604594AL04301         Lee, AL  AL04301  Alabama           Auburn   \n",
       "...                 ...             ...      ...      ...              ...   \n",
       "92086  202003001WY01700    Sheridan, WY  WY01700  Wyoming  Sheridan County   \n",
       "92087  202003001WY01700    Sheridan, WY  WY01700  Wyoming  Sheridan County   \n",
       "92088  202005001WY01101     Laramie, WY  WY01101  Wyoming         Cheyenne   \n",
       "92089  202005001WY01100     Laramie, WY  WY01100  Wyoming   Laramie County   \n",
       "92090  202011001WY00702     Fremont, WY  WY00702  Wyoming         Riverton   \n",
       "\n",
       "               Agentype Source Solved  Year     Month  ...  OffSex  \\\n",
       "0      Municipal police    MAP    Yes  2016     April  ...    Male   \n",
       "1      Municipal police    MAP    Yes  2016     April  ...    Male   \n",
       "2      Municipal police    MAP    Yes  2016     April  ...    Male   \n",
       "3      Municipal police    MAP    Yes  2016     April  ...    Male   \n",
       "4      Municipal police    MAP    Yes  2016     April  ...    Male   \n",
       "...                 ...    ...    ...   ...       ...  ...     ...   \n",
       "92086           Sheriff    FBI    Yes  2020     March  ...    Male   \n",
       "92087           Sheriff    FBI    Yes  2020     March  ...    Male   \n",
       "92088  Municipal police    FBI    Yes  2020       May  ...    Male   \n",
       "92089           Sheriff    FBI    Yes  2020       May  ...  Female   \n",
       "92090  Municipal police    FBI    Yes  2020  November  ...    Male   \n",
       "\n",
       "                                 OffRace                OffEthnic  \\\n",
       "0                                  White  Unknown or not reported   \n",
       "1                                  White  Unknown or not reported   \n",
       "2                                  Black  Unknown or not reported   \n",
       "3                                  Black  Unknown or not reported   \n",
       "4                                  Black  Unknown or not reported   \n",
       "...                                  ...                      ...   \n",
       "92086  American Indian or Alaskan Native   Not of Hispanic origin   \n",
       "92087  American Indian or Alaskan Native   Not of Hispanic origin   \n",
       "92088                              White   Not of Hispanic origin   \n",
       "92089                              White          Hispanic origin   \n",
       "92090                              White   Not of Hispanic origin   \n",
       "\n",
       "                                Weapon                 Relationship  \\\n",
       "0             Firearm, type not stated  Relationship not determined   \n",
       "1      Handgun - pistol, revolver, etc  Relationship not determined   \n",
       "2             Firearm, type not stated                 Other family   \n",
       "3             Firearm, type not stated  Relationship not determined   \n",
       "4             Firearm, type not stated  Relationship not determined   \n",
       "...                                ...                          ...   \n",
       "92086  Handgun - pistol, revolver, etc                       Sister   \n",
       "92087  Handgun - pistol, revolver, etc                       Sister   \n",
       "92088         Firearm, type not stated      Other - known to victim   \n",
       "92089  Handgun - pistol, revolver, etc                    Boyfriend   \n",
       "92090  Handgun - pistol, revolver, etc                         Wife   \n",
       "\n",
       "                            Circumstance      Subcircum VicCount  OffCount  \\\n",
       "0             Circumstances undetermined  Not specified        0         0   \n",
       "1        Other negligent handling of gun  Not specified        0         0   \n",
       "2                  Other - not specified  Not specified        0         0   \n",
       "3                  Other - not specified  Not specified        0         0   \n",
       "4                  Other - not specified  Not specified        0         0   \n",
       "...                                  ...            ...      ...       ...   \n",
       "92086  Brawl due to influence of alcohol  Not specified        2         0   \n",
       "92087  Brawl due to influence of alcohol  Not specified        2         0   \n",
       "92088                    Other arguments  Not specified        0         0   \n",
       "92089                    Other arguments  Not specified        0         0   \n",
       "92090    Other negligent handling of gun  Not specified        0         0   \n",
       "\n",
       "                      MSA  \n",
       "0           Rural Alabama  \n",
       "1           Rural Alabama  \n",
       "2      Auburn-Opelika, AL  \n",
       "3      Auburn-Opelika, AL  \n",
       "4      Auburn-Opelika, AL  \n",
       "...                   ...  \n",
       "92086       Rural Wyoming  \n",
       "92087       Rural Wyoming  \n",
       "92088        Cheyenne, WY  \n",
       "92089        Cheyenne, WY  \n",
       "92090       Rural Wyoming  \n",
       "\n",
       "[91777 rows x 29 columns]"
      ]
     },
     "execution_count": 56,
     "metadata": {},
     "output_type": "execute_result"
    }
   ],
   "source": [
    "homi_df"
   ]
  },
  {
   "attachments": {},
   "cell_type": "markdown",
   "metadata": {},
   "source": [
    "---"
   ]
  },
  {
   "attachments": {},
   "cell_type": "markdown",
   "metadata": {},
   "source": [
    "# **Phân tích dữ liệu**"
   ]
  },
  {
   "attachments": {},
   "cell_type": "markdown",
   "metadata": {},
   "source": [
    "## **Câu hỏi số 1**"
   ]
  },
  {
   "attachments": {},
   "cell_type": "markdown",
   "metadata": {},
   "source": [
    "- (Nhập câu hỏi)\n",
    "- (Lợi ích của việc tìm câu trả lời cho câu hỏi này)"
   ]
  },
  {
   "attachments": {},
   "cell_type": "markdown",
   "metadata": {},
   "source": [
    "### Tiền xử lý"
   ]
  },
  {
   "cell_type": "code",
   "execution_count": null,
   "metadata": {},
   "outputs": [],
   "source": []
  },
  {
   "attachments": {},
   "cell_type": "markdown",
   "metadata": {},
   "source": [
    "### Phân tích"
   ]
  },
  {
   "cell_type": "code",
   "execution_count": null,
   "metadata": {},
   "outputs": [],
   "source": []
  },
  {
   "attachments": {},
   "cell_type": "markdown",
   "metadata": {},
   "source": [
    "### Trực quan hóa"
   ]
  },
  {
   "cell_type": "code",
   "execution_count": null,
   "metadata": {},
   "outputs": [],
   "source": []
  },
  {
   "attachments": {},
   "cell_type": "markdown",
   "metadata": {},
   "source": [
    "### Trả lời câu hỏi"
   ]
  },
  {
   "attachments": {},
   "cell_type": "markdown",
   "metadata": {},
   "source": [
    "- (Nhập câu trả lời và giải thích)"
   ]
  },
  {
   "attachments": {},
   "cell_type": "markdown",
   "metadata": {},
   "source": [
    "---"
   ]
  },
  {
   "attachments": {},
   "cell_type": "markdown",
   "metadata": {},
   "source": [
    "## **Câu hỏi số 2**"
   ]
  },
  {
   "attachments": {},
   "cell_type": "markdown",
   "metadata": {},
   "source": [
    "- (Nhập câu hỏi)\n",
    "- (Lợi ích của việc tìm câu trả lời cho câu hỏi này)"
   ]
  },
  {
   "attachments": {},
   "cell_type": "markdown",
   "metadata": {},
   "source": [
    "### Tiền xử lý"
   ]
  },
  {
   "cell_type": "code",
   "execution_count": null,
   "metadata": {},
   "outputs": [],
   "source": []
  },
  {
   "attachments": {},
   "cell_type": "markdown",
   "metadata": {},
   "source": [
    "### Phân tích"
   ]
  },
  {
   "cell_type": "code",
   "execution_count": null,
   "metadata": {},
   "outputs": [],
   "source": []
  },
  {
   "attachments": {},
   "cell_type": "markdown",
   "metadata": {},
   "source": [
    "### Trực quan hóa"
   ]
  },
  {
   "cell_type": "code",
   "execution_count": null,
   "metadata": {},
   "outputs": [],
   "source": []
  },
  {
   "attachments": {},
   "cell_type": "markdown",
   "metadata": {},
   "source": [
    "### Trả lời câu hỏi"
   ]
  },
  {
   "attachments": {},
   "cell_type": "markdown",
   "metadata": {},
   "source": [
    "- (Nhập câu trả lời và giải thích)"
   ]
  },
  {
   "attachments": {},
   "cell_type": "markdown",
   "metadata": {},
   "source": [
    "---"
   ]
  },
  {
   "attachments": {},
   "cell_type": "markdown",
   "metadata": {},
   "source": [
    "## **Câu hỏi số 3**"
   ]
  },
  {
   "attachments": {},
   "cell_type": "markdown",
   "metadata": {},
   "source": [
    "- (Nhập câu hỏi)\n",
    "- (Lợi ích của việc tìm câu trả lời cho câu hỏi này)"
   ]
  },
  {
   "attachments": {},
   "cell_type": "markdown",
   "metadata": {},
   "source": [
    "### Tiền xử lý"
   ]
  },
  {
   "cell_type": "code",
   "execution_count": null,
   "metadata": {},
   "outputs": [],
   "source": []
  },
  {
   "attachments": {},
   "cell_type": "markdown",
   "metadata": {},
   "source": [
    "### Phân tích"
   ]
  },
  {
   "cell_type": "code",
   "execution_count": null,
   "metadata": {},
   "outputs": [],
   "source": []
  },
  {
   "attachments": {},
   "cell_type": "markdown",
   "metadata": {},
   "source": [
    "### Trực quan hóa"
   ]
  },
  {
   "cell_type": "code",
   "execution_count": null,
   "metadata": {},
   "outputs": [],
   "source": []
  },
  {
   "attachments": {},
   "cell_type": "markdown",
   "metadata": {},
   "source": [
    "### Trả lời câu hỏi"
   ]
  },
  {
   "attachments": {},
   "cell_type": "markdown",
   "metadata": {},
   "source": [
    "- (Nhập câu trả lời và giải thích)"
   ]
  },
  {
   "attachments": {},
   "cell_type": "markdown",
   "metadata": {},
   "source": [
    "---"
   ]
  },
  {
   "attachments": {},
   "cell_type": "markdown",
   "metadata": {},
   "source": [
    "## **Câu hỏi số 4**"
   ]
  },
  {
   "attachments": {},
   "cell_type": "markdown",
   "metadata": {},
   "source": [
    "- (Nhập câu hỏi)\n",
    "- (Lợi ích của việc tìm câu trả lời cho câu hỏi này)"
   ]
  },
  {
   "attachments": {},
   "cell_type": "markdown",
   "metadata": {},
   "source": [
    "### Tiền xử lý"
   ]
  },
  {
   "cell_type": "code",
   "execution_count": null,
   "metadata": {},
   "outputs": [],
   "source": []
  },
  {
   "attachments": {},
   "cell_type": "markdown",
   "metadata": {},
   "source": [
    "### Phân tích"
   ]
  },
  {
   "cell_type": "code",
   "execution_count": null,
   "metadata": {},
   "outputs": [],
   "source": []
  },
  {
   "attachments": {},
   "cell_type": "markdown",
   "metadata": {},
   "source": [
    "### Trực quan hóa"
   ]
  },
  {
   "cell_type": "code",
   "execution_count": null,
   "metadata": {},
   "outputs": [],
   "source": []
  },
  {
   "attachments": {},
   "cell_type": "markdown",
   "metadata": {},
   "source": [
    "### Trả lời câu hỏi"
   ]
  },
  {
   "attachments": {},
   "cell_type": "markdown",
   "metadata": {},
   "source": [
    "- (Nhập câu trả lời và giải thích)"
   ]
  },
  {
   "attachments": {},
   "cell_type": "markdown",
   "metadata": {},
   "source": [
    "---"
   ]
  },
  {
   "attachments": {},
   "cell_type": "markdown",
   "metadata": {},
   "source": [
    "# **Đôi điều về đồ án**"
   ]
  },
  {
   "attachments": {},
   "cell_type": "markdown",
   "metadata": {},
   "source": [
    "- Mỗi thành viên gặp khó khăn gì?\n",
    "- Mỗi thành viên học được những gì?\n",
    "- Nếu có thêm thời gian, sẽ làm những gì?"
   ]
  },
  {
   "attachments": {},
   "cell_type": "markdown",
   "metadata": {},
   "source": [
    "---"
   ]
  },
  {
   "attachments": {},
   "cell_type": "markdown",
   "metadata": {},
   "source": [
    "# **Các nguồn tham khảo**"
   ]
  },
  {
   "attachments": {},
   "cell_type": "markdown",
   "metadata": {},
   "source": [
    "https://www.kaggle.com/code/nevil7/homicide-data-identifying-the-serial-killers"
   ]
  }
 ],
 "metadata": {
  "kernelspec": {
   "display_name": "Python 3",
   "language": "python",
   "name": "python3"
  },
  "language_info": {
   "codemirror_mode": {
    "name": "ipython",
    "version": 3
   },
   "file_extension": ".py",
   "mimetype": "text/x-python",
   "name": "python",
   "nbconvert_exporter": "python",
   "pygments_lexer": "ipython3",
   "version": "3.10.5"
  },
  "orig_nbformat": 4,
  "vscode": {
   "interpreter": {
    "hash": "31fd7f76f8009355209fe3881fbaf958d9747068dc2a273c2a9f3914650997fe"
   }
  }
 },
 "nbformat": 4,
 "nbformat_minor": 2
}
