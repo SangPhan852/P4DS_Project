{
 "cells": [
  {
   "attachments": {},
   "cell_type": "markdown",
   "metadata": {},
   "source": [
    "<center>\n",
    "\n",
    "# **Đồ án cuối kì**\n",
    "\n",
    "# **Môn Lập trình cho khoa học dữ liệu**\n",
    "\n",
    "## **Chủ đề: Các vụ án mạng ở Mỹ từ năm 2016 đến năm 2020**\n",
    "\n",
    "</center>"
   ]
  },
  {
   "attachments": {},
   "cell_type": "markdown",
   "metadata": {},
   "source": [
    "<center>\n",
    "\n",
    "# **Mục lục**\n",
    "\n",
    "</center>"
   ]
  },
  {
   "cell_type": "markdown",
   "metadata": {},
   "source": []
  },
  {
   "attachments": {},
   "cell_type": "markdown",
   "metadata": {},
   "source": [
    "# **Các thư viện sử dụng**"
   ]
  },
  {
   "cell_type": "code",
   "execution_count": 21,
   "metadata": {},
   "outputs": [],
   "source": [
    "# Libraries and Modules used\n",
    "import numpy as np\n",
    "import pandas as pd\n",
    "import matplotlib.pyplot as plt\n"
   ]
  },
  {
   "attachments": {},
   "cell_type": "markdown",
   "metadata": {},
   "source": [
    "---"
   ]
  },
  {
   "attachments": {},
   "cell_type": "markdown",
   "metadata": {},
   "source": [
    "# **Mô tả tập dữ liệu**"
   ]
  },
  {
   "attachments": {},
   "cell_type": "markdown",
   "metadata": {},
   "source": [
    "- Tập dữ liệu này được thu thập từ [**Murder Accountability Project**](https://www.murderdata.org/p/data-docs.html), do Thomas Hargrove sáng lập và công bố. Nhìn chung, tập dữ liệu mô tả về các vụ án giết người được xảy ra ở khắp mọi bang trên nước Mỹ từ năm 1976 đến năm 2020.\n",
    "\n",
    "- Tập dữ liệu này là một tập dữ liệu mở được công bố dưới bản quyền [***Creative Commons CC-BY license***](https://creativecommons.org/licenses/by/4.0/), cho phép sử dụng không hạn chế dưới mọi hình thức, miễn là người dùng giữ nguyên tập dữ liệu gốc.\n",
    "\n",
    "- Tập dữ liệu bao gồm những vụ án mạng được tổng hợp từ báo cáo của FBI và dữ liệu của Freedom of Information Act về các vụ án mạng không được báo cáo cho Justice Department.\n",
    "\n",
    "- Do tập dữ liệu có kích cỡ quá lớn (khoảng 290MB) nên nhóm chúng em chỉ lọc lấy những vụ án từ năm 2016 đến năm 2020."
   ]
  },
  {
   "attachments": {},
   "cell_type": "markdown",
   "metadata": {},
   "source": [
    "---"
   ]
  },
  {
   "attachments": {},
   "cell_type": "markdown",
   "metadata": {},
   "source": [
    "# **Tiền xử lý dữ liệu**"
   ]
  },
  {
   "attachments": {},
   "cell_type": "markdown",
   "metadata": {},
   "source": [
    "## Đọc dữ liệu vào Dataframe"
   ]
  },
  {
   "cell_type": "code",
   "execution_count": 22,
   "metadata": {},
   "outputs": [
    {
     "name": "stderr",
     "output_type": "stream",
     "text": [
      "C:\\Users\\phuon\\AppData\\Local\\Temp\\ipykernel_5048\\3899079463.py:1: DtypeWarning: Columns (9) have mixed types. Specify dtype option on import or set low_memory=False.\n",
      "  homi_df = pd.read_csv('homicide.csv')\n"
     ]
    },
    {
     "data": {
      "text/html": [
       "<div>\n",
       "<style scoped>\n",
       "    .dataframe tbody tr th:only-of-type {\n",
       "        vertical-align: middle;\n",
       "    }\n",
       "\n",
       "    .dataframe tbody tr th {\n",
       "        vertical-align: top;\n",
       "    }\n",
       "\n",
       "    .dataframe thead th {\n",
       "        text-align: right;\n",
       "    }\n",
       "</style>\n",
       "<table border=\"1\" class=\"dataframe\">\n",
       "  <thead>\n",
       "    <tr style=\"text-align: right;\">\n",
       "      <th></th>\n",
       "      <th>ID</th>\n",
       "      <th>CNTYFIPS</th>\n",
       "      <th>Ori</th>\n",
       "      <th>State</th>\n",
       "      <th>Agency</th>\n",
       "      <th>Agentype</th>\n",
       "      <th>Source</th>\n",
       "      <th>Solved</th>\n",
       "      <th>Year</th>\n",
       "      <th>StateName</th>\n",
       "      <th>...</th>\n",
       "      <th>OffRace</th>\n",
       "      <th>OffEthnic</th>\n",
       "      <th>Weapon</th>\n",
       "      <th>Relationship</th>\n",
       "      <th>Circumstance</th>\n",
       "      <th>Subcircum</th>\n",
       "      <th>VicCount</th>\n",
       "      <th>OffCount</th>\n",
       "      <th>FileDate</th>\n",
       "      <th>MSA</th>\n",
       "    </tr>\n",
       "  </thead>\n",
       "  <tbody>\n",
       "    <tr>\n",
       "      <th>0</th>\n",
       "      <td>201604266AL06201</td>\n",
       "      <td>Tallapoosa, AL</td>\n",
       "      <td>AL06201</td>\n",
       "      <td>Alabama</td>\n",
       "      <td>Alexander City</td>\n",
       "      <td>Municipal police</td>\n",
       "      <td>MAP</td>\n",
       "      <td>Yes</td>\n",
       "      <td>2016</td>\n",
       "      <td>NaN</td>\n",
       "      <td>...</td>\n",
       "      <td>White</td>\n",
       "      <td>Unknown or not reported</td>\n",
       "      <td>Firearm, type not stated</td>\n",
       "      <td>Relationship not determined</td>\n",
       "      <td>Circumstances undetermined</td>\n",
       "      <td>NaN</td>\n",
       "      <td>0</td>\n",
       "      <td>0</td>\n",
       "      <td>92517.0</td>\n",
       "      <td>Rural Alabama</td>\n",
       "    </tr>\n",
       "    <tr>\n",
       "      <th>1</th>\n",
       "      <td>201604265AL05003</td>\n",
       "      <td>Marshall, AL</td>\n",
       "      <td>AL05003</td>\n",
       "      <td>Alabama</td>\n",
       "      <td>Arab</td>\n",
       "      <td>Municipal police</td>\n",
       "      <td>MAP</td>\n",
       "      <td>Yes</td>\n",
       "      <td>2016</td>\n",
       "      <td>NaN</td>\n",
       "      <td>...</td>\n",
       "      <td>White</td>\n",
       "      <td>Unknown or not reported</td>\n",
       "      <td>Handgun - pistol, revolver, etc</td>\n",
       "      <td>Relationship not determined</td>\n",
       "      <td>Other negligent handling of gun</td>\n",
       "      <td>NaN</td>\n",
       "      <td>0</td>\n",
       "      <td>0</td>\n",
       "      <td>92517.0</td>\n",
       "      <td>Rural Alabama</td>\n",
       "    </tr>\n",
       "    <tr>\n",
       "      <th>2</th>\n",
       "      <td>201604529AL04301</td>\n",
       "      <td>Lee, AL</td>\n",
       "      <td>AL04301</td>\n",
       "      <td>Alabama</td>\n",
       "      <td>Auburn</td>\n",
       "      <td>Municipal police</td>\n",
       "      <td>MAP</td>\n",
       "      <td>Yes</td>\n",
       "      <td>2016</td>\n",
       "      <td>NaN</td>\n",
       "      <td>...</td>\n",
       "      <td>Black</td>\n",
       "      <td>Unknown or not reported</td>\n",
       "      <td>Firearm, type not stated</td>\n",
       "      <td>Other family</td>\n",
       "      <td>Other - not specified</td>\n",
       "      <td>NaN</td>\n",
       "      <td>0</td>\n",
       "      <td>0</td>\n",
       "      <td>92517.0</td>\n",
       "      <td>Auburn-Opelika, AL</td>\n",
       "    </tr>\n",
       "    <tr>\n",
       "      <th>3</th>\n",
       "      <td>201604593AL04301</td>\n",
       "      <td>Lee, AL</td>\n",
       "      <td>AL04301</td>\n",
       "      <td>Alabama</td>\n",
       "      <td>Auburn</td>\n",
       "      <td>Municipal police</td>\n",
       "      <td>MAP</td>\n",
       "      <td>Yes</td>\n",
       "      <td>2016</td>\n",
       "      <td>NaN</td>\n",
       "      <td>...</td>\n",
       "      <td>Black</td>\n",
       "      <td>Unknown or not reported</td>\n",
       "      <td>Firearm, type not stated</td>\n",
       "      <td>Relationship not determined</td>\n",
       "      <td>Other - not specified</td>\n",
       "      <td>NaN</td>\n",
       "      <td>0</td>\n",
       "      <td>0</td>\n",
       "      <td>92517.0</td>\n",
       "      <td>Auburn-Opelika, AL</td>\n",
       "    </tr>\n",
       "    <tr>\n",
       "      <th>4</th>\n",
       "      <td>201604594AL04301</td>\n",
       "      <td>Lee, AL</td>\n",
       "      <td>AL04301</td>\n",
       "      <td>Alabama</td>\n",
       "      <td>Auburn</td>\n",
       "      <td>Municipal police</td>\n",
       "      <td>MAP</td>\n",
       "      <td>Yes</td>\n",
       "      <td>2016</td>\n",
       "      <td>NaN</td>\n",
       "      <td>...</td>\n",
       "      <td>Black</td>\n",
       "      <td>Unknown or not reported</td>\n",
       "      <td>Firearm, type not stated</td>\n",
       "      <td>Relationship not determined</td>\n",
       "      <td>Other - not specified</td>\n",
       "      <td>NaN</td>\n",
       "      <td>0</td>\n",
       "      <td>0</td>\n",
       "      <td>92517.0</td>\n",
       "      <td>Auburn-Opelika, AL</td>\n",
       "    </tr>\n",
       "    <tr>\n",
       "      <th>...</th>\n",
       "      <td>...</td>\n",
       "      <td>...</td>\n",
       "      <td>...</td>\n",
       "      <td>...</td>\n",
       "      <td>...</td>\n",
       "      <td>...</td>\n",
       "      <td>...</td>\n",
       "      <td>...</td>\n",
       "      <td>...</td>\n",
       "      <td>...</td>\n",
       "      <td>...</td>\n",
       "      <td>...</td>\n",
       "      <td>...</td>\n",
       "      <td>...</td>\n",
       "      <td>...</td>\n",
       "      <td>...</td>\n",
       "      <td>...</td>\n",
       "      <td>...</td>\n",
       "      <td>...</td>\n",
       "      <td>...</td>\n",
       "      <td>...</td>\n",
       "    </tr>\n",
       "    <tr>\n",
       "      <th>92086</th>\n",
       "      <td>202003001WY01700</td>\n",
       "      <td>Sheridan, WY</td>\n",
       "      <td>WY01700</td>\n",
       "      <td>Wyoming</td>\n",
       "      <td>Sheridan County</td>\n",
       "      <td>Sheriff</td>\n",
       "      <td>FBI</td>\n",
       "      <td>Yes</td>\n",
       "      <td>2020</td>\n",
       "      <td>WYOMIN</td>\n",
       "      <td>...</td>\n",
       "      <td>American Indian or Alaskan Native</td>\n",
       "      <td>Not of Hispanic origin</td>\n",
       "      <td>Handgun - pistol, revolver, etc</td>\n",
       "      <td>Sister</td>\n",
       "      <td>Brawl due to influence of alcohol</td>\n",
       "      <td>NaN</td>\n",
       "      <td>2</td>\n",
       "      <td>0</td>\n",
       "      <td>83121.0</td>\n",
       "      <td>Rural Wyoming</td>\n",
       "    </tr>\n",
       "    <tr>\n",
       "      <th>92087</th>\n",
       "      <td>202003001WY01700</td>\n",
       "      <td>Sheridan, WY</td>\n",
       "      <td>WY01700</td>\n",
       "      <td>Wyoming</td>\n",
       "      <td>Sheridan County</td>\n",
       "      <td>Sheriff</td>\n",
       "      <td>FBI</td>\n",
       "      <td>Yes</td>\n",
       "      <td>2020</td>\n",
       "      <td>WYOMIN</td>\n",
       "      <td>...</td>\n",
       "      <td>American Indian or Alaskan Native</td>\n",
       "      <td>Not of Hispanic origin</td>\n",
       "      <td>Handgun - pistol, revolver, etc</td>\n",
       "      <td>Sister</td>\n",
       "      <td>Brawl due to influence of alcohol</td>\n",
       "      <td>NaN</td>\n",
       "      <td>2</td>\n",
       "      <td>0</td>\n",
       "      <td>83121.0</td>\n",
       "      <td>Rural Wyoming</td>\n",
       "    </tr>\n",
       "    <tr>\n",
       "      <th>92088</th>\n",
       "      <td>202005001WY01101</td>\n",
       "      <td>Laramie, WY</td>\n",
       "      <td>WY01101</td>\n",
       "      <td>Wyoming</td>\n",
       "      <td>Cheyenne</td>\n",
       "      <td>Municipal police</td>\n",
       "      <td>FBI</td>\n",
       "      <td>Yes</td>\n",
       "      <td>2020</td>\n",
       "      <td>WYOMIN</td>\n",
       "      <td>...</td>\n",
       "      <td>White</td>\n",
       "      <td>Not of Hispanic origin</td>\n",
       "      <td>Firearm, type not stated</td>\n",
       "      <td>Other - known to victim</td>\n",
       "      <td>Other arguments</td>\n",
       "      <td>NaN</td>\n",
       "      <td>0</td>\n",
       "      <td>0</td>\n",
       "      <td>83121.0</td>\n",
       "      <td>Cheyenne, WY</td>\n",
       "    </tr>\n",
       "    <tr>\n",
       "      <th>92089</th>\n",
       "      <td>202005001WY01100</td>\n",
       "      <td>Laramie, WY</td>\n",
       "      <td>WY01100</td>\n",
       "      <td>Wyoming</td>\n",
       "      <td>Laramie County</td>\n",
       "      <td>Sheriff</td>\n",
       "      <td>FBI</td>\n",
       "      <td>Yes</td>\n",
       "      <td>2020</td>\n",
       "      <td>WYOMIN</td>\n",
       "      <td>...</td>\n",
       "      <td>White</td>\n",
       "      <td>Hispanic origin</td>\n",
       "      <td>Handgun - pistol, revolver, etc</td>\n",
       "      <td>Boyfriend</td>\n",
       "      <td>Other arguments</td>\n",
       "      <td>NaN</td>\n",
       "      <td>0</td>\n",
       "      <td>0</td>\n",
       "      <td>83121.0</td>\n",
       "      <td>Cheyenne, WY</td>\n",
       "    </tr>\n",
       "    <tr>\n",
       "      <th>92090</th>\n",
       "      <td>202011001WY00702</td>\n",
       "      <td>Fremont, WY</td>\n",
       "      <td>WY00702</td>\n",
       "      <td>Wyoming</td>\n",
       "      <td>Riverton</td>\n",
       "      <td>Municipal police</td>\n",
       "      <td>FBI</td>\n",
       "      <td>Yes</td>\n",
       "      <td>2020</td>\n",
       "      <td>WYOMIN</td>\n",
       "      <td>...</td>\n",
       "      <td>White</td>\n",
       "      <td>Not of Hispanic origin</td>\n",
       "      <td>Handgun - pistol, revolver, etc</td>\n",
       "      <td>Wife</td>\n",
       "      <td>Other negligent handling of gun</td>\n",
       "      <td>NaN</td>\n",
       "      <td>0</td>\n",
       "      <td>0</td>\n",
       "      <td>83121.0</td>\n",
       "      <td>Rural Wyoming</td>\n",
       "    </tr>\n",
       "  </tbody>\n",
       "</table>\n",
       "<p>92091 rows × 31 columns</p>\n",
       "</div>"
      ],
      "text/plain": [
       "                     ID        CNTYFIPS      Ori    State           Agency  \\\n",
       "0      201604266AL06201  Tallapoosa, AL  AL06201  Alabama   Alexander City   \n",
       "1      201604265AL05003    Marshall, AL  AL05003  Alabama             Arab   \n",
       "2      201604529AL04301         Lee, AL  AL04301  Alabama           Auburn   \n",
       "3      201604593AL04301         Lee, AL  AL04301  Alabama           Auburn   \n",
       "4      201604594AL04301         Lee, AL  AL04301  Alabama           Auburn   \n",
       "...                 ...             ...      ...      ...              ...   \n",
       "92086  202003001WY01700    Sheridan, WY  WY01700  Wyoming  Sheridan County   \n",
       "92087  202003001WY01700    Sheridan, WY  WY01700  Wyoming  Sheridan County   \n",
       "92088  202005001WY01101     Laramie, WY  WY01101  Wyoming         Cheyenne   \n",
       "92089  202005001WY01100     Laramie, WY  WY01100  Wyoming   Laramie County   \n",
       "92090  202011001WY00702     Fremont, WY  WY00702  Wyoming         Riverton   \n",
       "\n",
       "               Agentype Source Solved  Year StateName  ...  \\\n",
       "0      Municipal police    MAP    Yes  2016       NaN  ...   \n",
       "1      Municipal police    MAP    Yes  2016       NaN  ...   \n",
       "2      Municipal police    MAP    Yes  2016       NaN  ...   \n",
       "3      Municipal police    MAP    Yes  2016       NaN  ...   \n",
       "4      Municipal police    MAP    Yes  2016       NaN  ...   \n",
       "...                 ...    ...    ...   ...       ...  ...   \n",
       "92086           Sheriff    FBI    Yes  2020    WYOMIN  ...   \n",
       "92087           Sheriff    FBI    Yes  2020    WYOMIN  ...   \n",
       "92088  Municipal police    FBI    Yes  2020    WYOMIN  ...   \n",
       "92089           Sheriff    FBI    Yes  2020    WYOMIN  ...   \n",
       "92090  Municipal police    FBI    Yes  2020    WYOMIN  ...   \n",
       "\n",
       "                                 OffRace                OffEthnic  \\\n",
       "0                                  White  Unknown or not reported   \n",
       "1                                  White  Unknown or not reported   \n",
       "2                                  Black  Unknown or not reported   \n",
       "3                                  Black  Unknown or not reported   \n",
       "4                                  Black  Unknown or not reported   \n",
       "...                                  ...                      ...   \n",
       "92086  American Indian or Alaskan Native   Not of Hispanic origin   \n",
       "92087  American Indian or Alaskan Native   Not of Hispanic origin   \n",
       "92088                              White   Not of Hispanic origin   \n",
       "92089                              White          Hispanic origin   \n",
       "92090                              White   Not of Hispanic origin   \n",
       "\n",
       "                                Weapon                 Relationship  \\\n",
       "0             Firearm, type not stated  Relationship not determined   \n",
       "1      Handgun - pistol, revolver, etc  Relationship not determined   \n",
       "2             Firearm, type not stated                 Other family   \n",
       "3             Firearm, type not stated  Relationship not determined   \n",
       "4             Firearm, type not stated  Relationship not determined   \n",
       "...                                ...                          ...   \n",
       "92086  Handgun - pistol, revolver, etc                       Sister   \n",
       "92087  Handgun - pistol, revolver, etc                       Sister   \n",
       "92088         Firearm, type not stated      Other - known to victim   \n",
       "92089  Handgun - pistol, revolver, etc                    Boyfriend   \n",
       "92090  Handgun - pistol, revolver, etc                         Wife   \n",
       "\n",
       "                            Circumstance  Subcircum VicCount OffCount  \\\n",
       "0             Circumstances undetermined        NaN        0        0   \n",
       "1        Other negligent handling of gun        NaN        0        0   \n",
       "2                  Other - not specified        NaN        0        0   \n",
       "3                  Other - not specified        NaN        0        0   \n",
       "4                  Other - not specified        NaN        0        0   \n",
       "...                                  ...        ...      ...      ...   \n",
       "92086  Brawl due to influence of alcohol        NaN        2        0   \n",
       "92087  Brawl due to influence of alcohol        NaN        2        0   \n",
       "92088                    Other arguments        NaN        0        0   \n",
       "92089                    Other arguments        NaN        0        0   \n",
       "92090    Other negligent handling of gun        NaN        0        0   \n",
       "\n",
       "      FileDate                 MSA  \n",
       "0      92517.0       Rural Alabama  \n",
       "1      92517.0       Rural Alabama  \n",
       "2      92517.0  Auburn-Opelika, AL  \n",
       "3      92517.0  Auburn-Opelika, AL  \n",
       "4      92517.0  Auburn-Opelika, AL  \n",
       "...        ...                 ...  \n",
       "92086  83121.0       Rural Wyoming  \n",
       "92087  83121.0       Rural Wyoming  \n",
       "92088  83121.0        Cheyenne, WY  \n",
       "92089  83121.0        Cheyenne, WY  \n",
       "92090  83121.0       Rural Wyoming  \n",
       "\n",
       "[92091 rows x 31 columns]"
      ]
     },
     "execution_count": 22,
     "metadata": {},
     "output_type": "execute_result"
    }
   ],
   "source": [
    "homi_df = pd.read_csv('homicide.csv')\n",
    "homi_df"
   ]
  },
  {
   "attachments": {},
   "cell_type": "markdown",
   "metadata": {},
   "source": [
    "## Số dòng và số cột của tập dữ liệu"
   ]
  },
  {
   "cell_type": "code",
   "execution_count": 23,
   "metadata": {},
   "outputs": [
    {
     "name": "stdout",
     "output_type": "stream",
     "text": [
      "Số dòng: 92091\n",
      "Số cột 31\n"
     ]
    }
   ],
   "source": [
    "row = homi_df.shape[0]\n",
    "col = homi_df.shape[1]\n",
    "print('Số dòng:', row)\n",
    "print('Số cột', col)"
   ]
  },
  {
   "attachments": {},
   "cell_type": "markdown",
   "metadata": {},
   "source": [
    "## Ý nghĩa của mỗi dòng"
   ]
  },
  {
   "attachments": {},
   "cell_type": "markdown",
   "metadata": {},
   "source": [
    "Mỗi dòng là thông tin của 1 vụ án bao gồm thời gian, địa điểm và thông tin liên quan đến nạn nhân và hung thủ."
   ]
  },
  {
   "attachments": {},
   "cell_type": "markdown",
   "metadata": {},
   "source": [
    "## Kiểm tra các dòng bị trùng lắp"
   ]
  },
  {
   "cell_type": "code",
   "execution_count": 24,
   "metadata": {},
   "outputs": [
    {
     "name": "stdout",
     "output_type": "stream",
     "text": [
      "Số dòng bị trùng lắp: 314\n"
     ]
    },
    {
     "data": {
      "text/html": [
       "<div>\n",
       "<style scoped>\n",
       "    .dataframe tbody tr th:only-of-type {\n",
       "        vertical-align: middle;\n",
       "    }\n",
       "\n",
       "    .dataframe tbody tr th {\n",
       "        vertical-align: top;\n",
       "    }\n",
       "\n",
       "    .dataframe thead th {\n",
       "        text-align: right;\n",
       "    }\n",
       "</style>\n",
       "<table border=\"1\" class=\"dataframe\">\n",
       "  <thead>\n",
       "    <tr style=\"text-align: right;\">\n",
       "      <th></th>\n",
       "      <th>ID</th>\n",
       "      <th>CNTYFIPS</th>\n",
       "      <th>Ori</th>\n",
       "      <th>State</th>\n",
       "      <th>Agency</th>\n",
       "      <th>Agentype</th>\n",
       "      <th>Source</th>\n",
       "      <th>Solved</th>\n",
       "      <th>Year</th>\n",
       "      <th>StateName</th>\n",
       "      <th>...</th>\n",
       "      <th>OffRace</th>\n",
       "      <th>OffEthnic</th>\n",
       "      <th>Weapon</th>\n",
       "      <th>Relationship</th>\n",
       "      <th>Circumstance</th>\n",
       "      <th>Subcircum</th>\n",
       "      <th>VicCount</th>\n",
       "      <th>OffCount</th>\n",
       "      <th>FileDate</th>\n",
       "      <th>MSA</th>\n",
       "    </tr>\n",
       "  </thead>\n",
       "  <tbody>\n",
       "    <tr>\n",
       "      <th>1046</th>\n",
       "      <td>201607001AR07001</td>\n",
       "      <td>Union, AR</td>\n",
       "      <td>AR07001</td>\n",
       "      <td>Arkansas</td>\n",
       "      <td>El Dorado</td>\n",
       "      <td>Municipal police</td>\n",
       "      <td>FBI</td>\n",
       "      <td>No</td>\n",
       "      <td>2016</td>\n",
       "      <td>NaN</td>\n",
       "      <td>...</td>\n",
       "      <td>Unknown</td>\n",
       "      <td>Unknown or not reported</td>\n",
       "      <td>Firearm, type not stated</td>\n",
       "      <td>Relationship not determined</td>\n",
       "      <td>Circumstances undetermined</td>\n",
       "      <td>NaN</td>\n",
       "      <td>2</td>\n",
       "      <td>0</td>\n",
       "      <td>11818.0</td>\n",
       "      <td>Rural Arkansas</td>\n",
       "    </tr>\n",
       "    <tr>\n",
       "      <th>1482</th>\n",
       "      <td>201608003CA03300</td>\n",
       "      <td>Riverside, CA</td>\n",
       "      <td>CA03300</td>\n",
       "      <td>California</td>\n",
       "      <td>Riverside County</td>\n",
       "      <td>Sheriff</td>\n",
       "      <td>FBI</td>\n",
       "      <td>Yes</td>\n",
       "      <td>2016</td>\n",
       "      <td>NaN</td>\n",
       "      <td>...</td>\n",
       "      <td>White</td>\n",
       "      <td>Not of Hispanic origin</td>\n",
       "      <td>Handgun - pistol, revolver, etc</td>\n",
       "      <td>Other - known to victim</td>\n",
       "      <td>Circumstances undetermined</td>\n",
       "      <td>NaN</td>\n",
       "      <td>3</td>\n",
       "      <td>0</td>\n",
       "      <td>32017.0</td>\n",
       "      <td>Riverside-San Bernardino, CA</td>\n",
       "    </tr>\n",
       "    <tr>\n",
       "      <th>1579</th>\n",
       "      <td>201612001CA03604</td>\n",
       "      <td>San Bernardino, CA</td>\n",
       "      <td>CA03604</td>\n",
       "      <td>California</td>\n",
       "      <td>Fontana</td>\n",
       "      <td>Municipal police</td>\n",
       "      <td>FBI</td>\n",
       "      <td>Yes</td>\n",
       "      <td>2016</td>\n",
       "      <td>NaN</td>\n",
       "      <td>...</td>\n",
       "      <td>White</td>\n",
       "      <td>Hispanic origin</td>\n",
       "      <td>Firearm, type not stated</td>\n",
       "      <td>Acquaintance</td>\n",
       "      <td>Narcotic drug laws</td>\n",
       "      <td>NaN</td>\n",
       "      <td>1</td>\n",
       "      <td>1</td>\n",
       "      <td>21517.0</td>\n",
       "      <td>Riverside-San Bernardino, CA</td>\n",
       "    </tr>\n",
       "    <tr>\n",
       "      <th>2005</th>\n",
       "      <td>201601002CA04204</td>\n",
       "      <td>Santa Barbara, CA</td>\n",
       "      <td>CA04204</td>\n",
       "      <td>California</td>\n",
       "      <td>Santa Maria</td>\n",
       "      <td>Municipal police</td>\n",
       "      <td>FBI</td>\n",
       "      <td>No</td>\n",
       "      <td>2016</td>\n",
       "      <td>NaN</td>\n",
       "      <td>...</td>\n",
       "      <td>Unknown</td>\n",
       "      <td>Unknown or not reported</td>\n",
       "      <td>Handgun - pistol, revolver, etc</td>\n",
       "      <td>Relationship not determined</td>\n",
       "      <td>Circumstances undetermined</td>\n",
       "      <td>NaN</td>\n",
       "      <td>1</td>\n",
       "      <td>0</td>\n",
       "      <td>71316.0</td>\n",
       "      <td>Santa Barbara-Santa Maria, CA</td>\n",
       "    </tr>\n",
       "    <tr>\n",
       "      <th>2007</th>\n",
       "      <td>201601003CA04204</td>\n",
       "      <td>Santa Barbara, CA</td>\n",
       "      <td>CA04204</td>\n",
       "      <td>California</td>\n",
       "      <td>Santa Maria</td>\n",
       "      <td>Municipal police</td>\n",
       "      <td>FBI</td>\n",
       "      <td>No</td>\n",
       "      <td>2016</td>\n",
       "      <td>NaN</td>\n",
       "      <td>...</td>\n",
       "      <td>Unknown</td>\n",
       "      <td>Unknown or not reported</td>\n",
       "      <td>Handgun - pistol, revolver, etc</td>\n",
       "      <td>Relationship not determined</td>\n",
       "      <td>Circumstances undetermined</td>\n",
       "      <td>NaN</td>\n",
       "      <td>1</td>\n",
       "      <td>0</td>\n",
       "      <td>71316.0</td>\n",
       "      <td>Santa Barbara-Santa Maria, CA</td>\n",
       "    </tr>\n",
       "    <tr>\n",
       "      <th>...</th>\n",
       "      <td>...</td>\n",
       "      <td>...</td>\n",
       "      <td>...</td>\n",
       "      <td>...</td>\n",
       "      <td>...</td>\n",
       "      <td>...</td>\n",
       "      <td>...</td>\n",
       "      <td>...</td>\n",
       "      <td>...</td>\n",
       "      <td>...</td>\n",
       "      <td>...</td>\n",
       "      <td>...</td>\n",
       "      <td>...</td>\n",
       "      <td>...</td>\n",
       "      <td>...</td>\n",
       "      <td>...</td>\n",
       "      <td>...</td>\n",
       "      <td>...</td>\n",
       "      <td>...</td>\n",
       "      <td>...</td>\n",
       "      <td>...</td>\n",
       "    </tr>\n",
       "    <tr>\n",
       "      <th>90792</th>\n",
       "      <td>202001002VA11900</td>\n",
       "      <td>Petersburg, VA</td>\n",
       "      <td>VA11900</td>\n",
       "      <td>Virginia</td>\n",
       "      <td>Petersburg</td>\n",
       "      <td>Municipal police</td>\n",
       "      <td>FBI</td>\n",
       "      <td>No</td>\n",
       "      <td>2020</td>\n",
       "      <td>VIRGIN</td>\n",
       "      <td>...</td>\n",
       "      <td>Unknown</td>\n",
       "      <td>Unknown or not reported</td>\n",
       "      <td>Rifle</td>\n",
       "      <td>Relationship not determined</td>\n",
       "      <td>Other</td>\n",
       "      <td>NaN</td>\n",
       "      <td>1</td>\n",
       "      <td>0</td>\n",
       "      <td>83121.0</td>\n",
       "      <td>Richmond, VA</td>\n",
       "    </tr>\n",
       "    <tr>\n",
       "      <th>90909</th>\n",
       "      <td>202006004VA12200</td>\n",
       "      <td>Richmond, VA</td>\n",
       "      <td>VA12200</td>\n",
       "      <td>Virginia</td>\n",
       "      <td>Richmond</td>\n",
       "      <td>Municipal police</td>\n",
       "      <td>FBI</td>\n",
       "      <td>Yes</td>\n",
       "      <td>2020</td>\n",
       "      <td>VIRGIN</td>\n",
       "      <td>...</td>\n",
       "      <td>Black</td>\n",
       "      <td>Not of Hispanic origin</td>\n",
       "      <td>Handgun - pistol, revolver, etc</td>\n",
       "      <td>Relationship not determined</td>\n",
       "      <td>Circumstances undetermined</td>\n",
       "      <td>NaN</td>\n",
       "      <td>1</td>\n",
       "      <td>0</td>\n",
       "      <td>83121.0</td>\n",
       "      <td>Richmond, VA</td>\n",
       "    </tr>\n",
       "    <tr>\n",
       "      <th>91495</th>\n",
       "      <td>202010002WA03700</td>\n",
       "      <td>Whatcom, WA</td>\n",
       "      <td>WA03700</td>\n",
       "      <td>Washington</td>\n",
       "      <td>Whatcom County</td>\n",
       "      <td>Sheriff</td>\n",
       "      <td>FBI</td>\n",
       "      <td>Yes</td>\n",
       "      <td>2020</td>\n",
       "      <td>WASHIN</td>\n",
       "      <td>...</td>\n",
       "      <td>White</td>\n",
       "      <td>Not of Hispanic origin</td>\n",
       "      <td>Handgun - pistol, revolver, etc</td>\n",
       "      <td>Daughter</td>\n",
       "      <td>Other</td>\n",
       "      <td>NaN</td>\n",
       "      <td>1</td>\n",
       "      <td>0</td>\n",
       "      <td>83121.0</td>\n",
       "      <td>Bellingham, WA</td>\n",
       "    </tr>\n",
       "    <tr>\n",
       "      <th>91559</th>\n",
       "      <td>202012001WV02000</td>\n",
       "      <td>Kanawha, WV</td>\n",
       "      <td>WV02000</td>\n",
       "      <td>West Virginia</td>\n",
       "      <td>Kanawha County</td>\n",
       "      <td>Sheriff</td>\n",
       "      <td>FBI</td>\n",
       "      <td>Yes</td>\n",
       "      <td>2020</td>\n",
       "      <td>WEST V</td>\n",
       "      <td>...</td>\n",
       "      <td>White</td>\n",
       "      <td>Unknown or not reported</td>\n",
       "      <td>Firearm, type not stated</td>\n",
       "      <td>Acquaintance</td>\n",
       "      <td>Other</td>\n",
       "      <td>NaN</td>\n",
       "      <td>3</td>\n",
       "      <td>1</td>\n",
       "      <td>83121.0</td>\n",
       "      <td>Charleston, WV</td>\n",
       "    </tr>\n",
       "    <tr>\n",
       "      <th>91605</th>\n",
       "      <td>202003001WV02800</td>\n",
       "      <td>Mercer, WV</td>\n",
       "      <td>WV02800</td>\n",
       "      <td>West Virginia</td>\n",
       "      <td>Mercer County</td>\n",
       "      <td>Sheriff</td>\n",
       "      <td>FBI</td>\n",
       "      <td>Yes</td>\n",
       "      <td>2020</td>\n",
       "      <td>WEST V</td>\n",
       "      <td>...</td>\n",
       "      <td>White</td>\n",
       "      <td>Unknown or not reported</td>\n",
       "      <td>Handgun - pistol, revolver, etc</td>\n",
       "      <td>Friend</td>\n",
       "      <td>Circumstances undetermined</td>\n",
       "      <td>NaN</td>\n",
       "      <td>1</td>\n",
       "      <td>0</td>\n",
       "      <td>83121.0</td>\n",
       "      <td>Rural West Virginia</td>\n",
       "    </tr>\n",
       "  </tbody>\n",
       "</table>\n",
       "<p>314 rows × 31 columns</p>\n",
       "</div>"
      ],
      "text/plain": [
       "                     ID            CNTYFIPS      Ori          State  \\\n",
       "1046   201607001AR07001           Union, AR  AR07001       Arkansas   \n",
       "1482   201608003CA03300       Riverside, CA  CA03300     California   \n",
       "1579   201612001CA03604  San Bernardino, CA  CA03604     California   \n",
       "2005   201601002CA04204   Santa Barbara, CA  CA04204     California   \n",
       "2007   201601003CA04204   Santa Barbara, CA  CA04204     California   \n",
       "...                 ...                 ...      ...            ...   \n",
       "90792  202001002VA11900      Petersburg, VA  VA11900       Virginia   \n",
       "90909  202006004VA12200        Richmond, VA  VA12200       Virginia   \n",
       "91495  202010002WA03700         Whatcom, WA  WA03700     Washington   \n",
       "91559  202012001WV02000         Kanawha, WV  WV02000  West Virginia   \n",
       "91605  202003001WV02800          Mercer, WV  WV02800  West Virginia   \n",
       "\n",
       "                 Agency          Agentype Source Solved  Year StateName  ...  \\\n",
       "1046          El Dorado  Municipal police    FBI     No  2016       NaN  ...   \n",
       "1482   Riverside County           Sheriff    FBI    Yes  2016       NaN  ...   \n",
       "1579            Fontana  Municipal police    FBI    Yes  2016       NaN  ...   \n",
       "2005        Santa Maria  Municipal police    FBI     No  2016       NaN  ...   \n",
       "2007        Santa Maria  Municipal police    FBI     No  2016       NaN  ...   \n",
       "...                 ...               ...    ...    ...   ...       ...  ...   \n",
       "90792        Petersburg  Municipal police    FBI     No  2020    VIRGIN  ...   \n",
       "90909          Richmond  Municipal police    FBI    Yes  2020    VIRGIN  ...   \n",
       "91495    Whatcom County           Sheriff    FBI    Yes  2020    WASHIN  ...   \n",
       "91559    Kanawha County           Sheriff    FBI    Yes  2020    WEST V  ...   \n",
       "91605     Mercer County           Sheriff    FBI    Yes  2020    WEST V  ...   \n",
       "\n",
       "       OffRace                OffEthnic                           Weapon  \\\n",
       "1046   Unknown  Unknown or not reported         Firearm, type not stated   \n",
       "1482     White   Not of Hispanic origin  Handgun - pistol, revolver, etc   \n",
       "1579     White          Hispanic origin         Firearm, type not stated   \n",
       "2005   Unknown  Unknown or not reported  Handgun - pistol, revolver, etc   \n",
       "2007   Unknown  Unknown or not reported  Handgun - pistol, revolver, etc   \n",
       "...        ...                      ...                              ...   \n",
       "90792  Unknown  Unknown or not reported                            Rifle   \n",
       "90909    Black   Not of Hispanic origin  Handgun - pistol, revolver, etc   \n",
       "91495    White   Not of Hispanic origin  Handgun - pistol, revolver, etc   \n",
       "91559    White  Unknown or not reported         Firearm, type not stated   \n",
       "91605    White  Unknown or not reported  Handgun - pistol, revolver, etc   \n",
       "\n",
       "                      Relationship                Circumstance  Subcircum  \\\n",
       "1046   Relationship not determined  Circumstances undetermined        NaN   \n",
       "1482       Other - known to victim  Circumstances undetermined        NaN   \n",
       "1579                  Acquaintance          Narcotic drug laws        NaN   \n",
       "2005   Relationship not determined  Circumstances undetermined        NaN   \n",
       "2007   Relationship not determined  Circumstances undetermined        NaN   \n",
       "...                            ...                         ...        ...   \n",
       "90792  Relationship not determined                       Other        NaN   \n",
       "90909  Relationship not determined  Circumstances undetermined        NaN   \n",
       "91495                     Daughter                       Other        NaN   \n",
       "91559                 Acquaintance                       Other        NaN   \n",
       "91605                       Friend  Circumstances undetermined        NaN   \n",
       "\n",
       "      VicCount OffCount FileDate                            MSA  \n",
       "1046         2        0  11818.0                 Rural Arkansas  \n",
       "1482         3        0  32017.0   Riverside-San Bernardino, CA  \n",
       "1579         1        1  21517.0   Riverside-San Bernardino, CA  \n",
       "2005         1        0  71316.0  Santa Barbara-Santa Maria, CA  \n",
       "2007         1        0  71316.0  Santa Barbara-Santa Maria, CA  \n",
       "...        ...      ...      ...                            ...  \n",
       "90792        1        0  83121.0                   Richmond, VA  \n",
       "90909        1        0  83121.0                   Richmond, VA  \n",
       "91495        1        0  83121.0                 Bellingham, WA  \n",
       "91559        3        1  83121.0                 Charleston, WV  \n",
       "91605        1        0  83121.0            Rural West Virginia  \n",
       "\n",
       "[314 rows x 31 columns]"
      ]
     },
     "execution_count": 24,
     "metadata": {},
     "output_type": "execute_result"
    }
   ],
   "source": [
    "duplicated = homi_df.duplicated()\n",
    "duplicated_line = homi_df[duplicated == True]\n",
    "print('Số dòng bị trùng lắp:', len(duplicated_line))\n",
    "duplicated_line"
   ]
  },
  {
   "attachments": {},
   "cell_type": "markdown",
   "metadata": {},
   "source": [
    "## Ý nghĩa của mỗi cột"
   ]
  },
  {
   "cell_type": "code",
   "execution_count": 8,
   "metadata": {},
   "outputs": [
    {
     "data": {
      "text/html": [
       "<div>\n",
       "<style scoped>\n",
       "    .dataframe tbody tr th:only-of-type {\n",
       "        vertical-align: middle;\n",
       "    }\n",
       "\n",
       "    .dataframe tbody tr th {\n",
       "        vertical-align: top;\n",
       "    }\n",
       "\n",
       "    .dataframe thead th {\n",
       "        text-align: right;\n",
       "    }\n",
       "</style>\n",
       "<table border=\"1\" class=\"dataframe\">\n",
       "  <thead>\n",
       "    <tr style=\"text-align: right;\">\n",
       "      <th></th>\n",
       "      <th>Đặc trưng</th>\n",
       "      <th>Mô tả</th>\n",
       "    </tr>\n",
       "  </thead>\n",
       "  <tbody>\n",
       "    <tr>\n",
       "      <th>0</th>\n",
       "      <td>ID</td>\n",
       "      <td>ID của vụ án</td>\n",
       "    </tr>\n",
       "  </tbody>\n",
       "</table>\n",
       "</div>"
      ],
      "text/plain": [
       "  Đặc trưng         Mô tả\n",
       "0        ID  ID của vụ án"
      ]
     },
     "execution_count": 8,
     "metadata": {},
     "output_type": "execute_result"
    }
   ],
   "source": [
    "des_df = pd.read_csv('description.csv')\n",
    "des_df"
   ]
  },
  {
   "attachments": {},
   "cell_type": "markdown",
   "metadata": {},
   "source": [
    "## Kiểm tra kiểu dữ liệu của các cột và điều chỉnh cho phù hợp"
   ]
  },
  {
   "cell_type": "code",
   "execution_count": 25,
   "metadata": {},
   "outputs": [
    {
     "name": "stdout",
     "output_type": "stream",
     "text": [
      "92091\n",
      "ID\n",
      "86890\n",
      "CNTYFIPS\n",
      "2384\n",
      "Ori\n",
      "7048\n",
      "State\n",
      "52\n",
      "Agency\n",
      "5589\n",
      "Agentype\n",
      "8\n",
      "Source\n",
      "2\n",
      "Solved\n",
      "2\n",
      "Year\n",
      "5\n",
      "StateName\n",
      "51\n",
      "Month\n",
      "12\n",
      "Incident\n",
      "1000\n",
      "ActionType\n",
      "2\n",
      "Homicide\n",
      "2\n",
      "Situation\n",
      "6\n",
      "VicAge\n",
      "101\n",
      "VicSex\n",
      "3\n",
      "VicRace\n",
      "6\n",
      "VicEthnic\n",
      "3\n",
      "OffAge\n",
      "100\n",
      "OffSex\n",
      "3\n",
      "OffRace\n",
      "6\n",
      "OffEthnic\n",
      "3\n",
      "Weapon\n",
      "17\n",
      "Relationship\n",
      "29\n",
      "Circumstance\n",
      "32\n",
      "Subcircum\n",
      "7\n",
      "VicCount\n",
      "13\n",
      "OffCount\n",
      "16\n",
      "FileDate\n",
      "389\n",
      "MSA\n",
      "408\n"
     ]
    }
   ],
   "source": [
    "print(homi_df.shape[0])\n",
    "for i in homi_df.columns:\n",
    "    print(i)\n",
    "    print(homi_df[i].nunique())"
   ]
  },
  {
   "attachments": {},
   "cell_type": "markdown",
   "metadata": {},
   "source": [
    "## Tìm sự phân phối của các cột dữ liệu kiểu số"
   ]
  },
  {
   "cell_type": "code",
   "execution_count": 26,
   "metadata": {},
   "outputs": [
    {
     "data": {
      "text/html": [
       "<div>\n",
       "<style scoped>\n",
       "    .dataframe tbody tr th:only-of-type {\n",
       "        vertical-align: middle;\n",
       "    }\n",
       "\n",
       "    .dataframe tbody tr th {\n",
       "        vertical-align: top;\n",
       "    }\n",
       "\n",
       "    .dataframe thead th {\n",
       "        text-align: right;\n",
       "    }\n",
       "</style>\n",
       "<table border=\"1\" class=\"dataframe\">\n",
       "  <thead>\n",
       "    <tr style=\"text-align: right;\">\n",
       "      <th></th>\n",
       "      <th>Year</th>\n",
       "      <th>Incident</th>\n",
       "      <th>VicAge</th>\n",
       "      <th>OffAge</th>\n",
       "      <th>VicCount</th>\n",
       "      <th>OffCount</th>\n",
       "    </tr>\n",
       "  </thead>\n",
       "  <tbody>\n",
       "    <tr>\n",
       "      <th>mising percentage</th>\n",
       "      <td>0.0</td>\n",
       "      <td>0.0</td>\n",
       "      <td>0.0</td>\n",
       "      <td>0.0</td>\n",
       "      <td>0.0</td>\n",
       "      <td>0.0</td>\n",
       "    </tr>\n",
       "    <tr>\n",
       "      <th>min</th>\n",
       "      <td>2016.0</td>\n",
       "      <td>0.0</td>\n",
       "      <td>0.0</td>\n",
       "      <td>0.0</td>\n",
       "      <td>0.0</td>\n",
       "      <td>0.0</td>\n",
       "    </tr>\n",
       "    <tr>\n",
       "      <th>max</th>\n",
       "      <td>2020.0</td>\n",
       "      <td>999.0</td>\n",
       "      <td>999.0</td>\n",
       "      <td>999.0</td>\n",
       "      <td>21.0</td>\n",
       "      <td>40.0</td>\n",
       "    </tr>\n",
       "  </tbody>\n",
       "</table>\n",
       "</div>"
      ],
      "text/plain": [
       "                     Year  Incident  VicAge  OffAge  VicCount  OffCount\n",
       "mising percentage     0.0       0.0     0.0     0.0       0.0       0.0\n",
       "min                2016.0       0.0     0.0     0.0       0.0       0.0\n",
       "max                2020.0     999.0   999.0   999.0      21.0      40.0"
      ]
     },
     "execution_count": 26,
     "metadata": {},
     "output_type": "execute_result"
    }
   ],
   "source": [
    "col_num = ['Year','Incident','VicAge','OffAge','VicCount','OffCount']\n",
    "\n",
    "num_df = homi_df[col_num]\n",
    "\n",
    "mising_percentage = (num_df.isna().sum() / row) * 100       # tỉ lệ giá trị bị thiếu\n",
    "min_values = num_df.min()                                   # các giá trị nhỏ nhất\n",
    "max_values = num_df.max()                                   # các giá trị lớn nhất\n",
    "\n",
    "num_cols_distribution = pd.DataFrame(data = np.array((mising_percentage, min_values, max_values)),\n",
    "                                                      columns = num_df.columns,\n",
    "                                                      index = ['mising percentage', 'min', 'max'])\n",
    "num_cols_distribution"
   ]
  },
  {
   "attachments": {},
   "cell_type": "markdown",
   "metadata": {},
   "source": [
    "## Tìm sự phân phối của các cột dữ liệu kiểu phân loại"
   ]
  },
  {
   "cell_type": "code",
   "execution_count": null,
   "metadata": {},
   "outputs": [],
   "source": []
  },
  {
   "attachments": {},
   "cell_type": "markdown",
   "metadata": {},
   "source": [
    "## Xử lý các dòng bị thiếu dữ liệu"
   ]
  },
  {
   "cell_type": "code",
   "execution_count": null,
   "metadata": {},
   "outputs": [],
   "source": []
  },
  {
   "attachments": {},
   "cell_type": "markdown",
   "metadata": {},
   "source": [
    "---"
   ]
  },
  {
   "attachments": {},
   "cell_type": "markdown",
   "metadata": {},
   "source": [
    "# **Phân tích dữ liệu**"
   ]
  },
  {
   "attachments": {},
   "cell_type": "markdown",
   "metadata": {},
   "source": [
    "## **Câu hỏi số 1**"
   ]
  },
  {
   "attachments": {},
   "cell_type": "markdown",
   "metadata": {},
   "source": [
    "- (Nhập câu hỏi)\n",
    "- (Lợi ích của việc tìm câu trả lời cho câu hỏi này)"
   ]
  },
  {
   "attachments": {},
   "cell_type": "markdown",
   "metadata": {},
   "source": [
    "### Tiền xử lý"
   ]
  },
  {
   "cell_type": "code",
   "execution_count": null,
   "metadata": {},
   "outputs": [],
   "source": []
  },
  {
   "attachments": {},
   "cell_type": "markdown",
   "metadata": {},
   "source": [
    "### Phân tích"
   ]
  },
  {
   "cell_type": "code",
   "execution_count": null,
   "metadata": {},
   "outputs": [],
   "source": []
  },
  {
   "attachments": {},
   "cell_type": "markdown",
   "metadata": {},
   "source": [
    "### Trực quan hóa"
   ]
  },
  {
   "cell_type": "code",
   "execution_count": null,
   "metadata": {},
   "outputs": [],
   "source": []
  },
  {
   "attachments": {},
   "cell_type": "markdown",
   "metadata": {},
   "source": [
    "### Trả lời câu hỏi"
   ]
  },
  {
   "attachments": {},
   "cell_type": "markdown",
   "metadata": {},
   "source": [
    "- (Nhập câu trả lời và giải thích)"
   ]
  },
  {
   "attachments": {},
   "cell_type": "markdown",
   "metadata": {},
   "source": [
    "---"
   ]
  },
  {
   "attachments": {},
   "cell_type": "markdown",
   "metadata": {},
   "source": [
    "## **Câu hỏi số 2**"
   ]
  },
  {
   "attachments": {},
   "cell_type": "markdown",
   "metadata": {},
   "source": [
    "- (Nhập câu hỏi)\n",
    "- (Lợi ích của việc tìm câu trả lời cho câu hỏi này)"
   ]
  },
  {
   "attachments": {},
   "cell_type": "markdown",
   "metadata": {},
   "source": [
    "### Tiền xử lý"
   ]
  },
  {
   "cell_type": "code",
   "execution_count": null,
   "metadata": {},
   "outputs": [],
   "source": []
  },
  {
   "attachments": {},
   "cell_type": "markdown",
   "metadata": {},
   "source": [
    "### Phân tích"
   ]
  },
  {
   "cell_type": "code",
   "execution_count": null,
   "metadata": {},
   "outputs": [],
   "source": []
  },
  {
   "attachments": {},
   "cell_type": "markdown",
   "metadata": {},
   "source": [
    "### Trực quan hóa"
   ]
  },
  {
   "cell_type": "code",
   "execution_count": null,
   "metadata": {},
   "outputs": [],
   "source": []
  },
  {
   "attachments": {},
   "cell_type": "markdown",
   "metadata": {},
   "source": [
    "### Trả lời câu hỏi"
   ]
  },
  {
   "attachments": {},
   "cell_type": "markdown",
   "metadata": {},
   "source": [
    "- (Nhập câu trả lời và giải thích)"
   ]
  },
  {
   "attachments": {},
   "cell_type": "markdown",
   "metadata": {},
   "source": [
    "---"
   ]
  },
  {
   "attachments": {},
   "cell_type": "markdown",
   "metadata": {},
   "source": [
    "## **Câu hỏi số 3**"
   ]
  },
  {
   "attachments": {},
   "cell_type": "markdown",
   "metadata": {},
   "source": [
    "- (Nhập câu hỏi)\n",
    "- (Lợi ích của việc tìm câu trả lời cho câu hỏi này)"
   ]
  },
  {
   "attachments": {},
   "cell_type": "markdown",
   "metadata": {},
   "source": [
    "### Tiền xử lý"
   ]
  },
  {
   "cell_type": "code",
   "execution_count": null,
   "metadata": {},
   "outputs": [],
   "source": []
  },
  {
   "attachments": {},
   "cell_type": "markdown",
   "metadata": {},
   "source": [
    "### Phân tích"
   ]
  },
  {
   "cell_type": "code",
   "execution_count": null,
   "metadata": {},
   "outputs": [],
   "source": []
  },
  {
   "attachments": {},
   "cell_type": "markdown",
   "metadata": {},
   "source": [
    "### Trực quan hóa"
   ]
  },
  {
   "cell_type": "code",
   "execution_count": null,
   "metadata": {},
   "outputs": [],
   "source": []
  },
  {
   "attachments": {},
   "cell_type": "markdown",
   "metadata": {},
   "source": [
    "### Trả lời câu hỏi"
   ]
  },
  {
   "attachments": {},
   "cell_type": "markdown",
   "metadata": {},
   "source": [
    "- (Nhập câu trả lời và giải thích)"
   ]
  },
  {
   "attachments": {},
   "cell_type": "markdown",
   "metadata": {},
   "source": [
    "---"
   ]
  },
  {
   "attachments": {},
   "cell_type": "markdown",
   "metadata": {},
   "source": [
    "## **Câu hỏi số 4**"
   ]
  },
  {
   "attachments": {},
   "cell_type": "markdown",
   "metadata": {},
   "source": [
    "- (Nhập câu hỏi)\n",
    "- (Lợi ích của việc tìm câu trả lời cho câu hỏi này)"
   ]
  },
  {
   "attachments": {},
   "cell_type": "markdown",
   "metadata": {},
   "source": [
    "### Tiền xử lý"
   ]
  },
  {
   "cell_type": "code",
   "execution_count": null,
   "metadata": {},
   "outputs": [],
   "source": []
  },
  {
   "attachments": {},
   "cell_type": "markdown",
   "metadata": {},
   "source": [
    "### Phân tích"
   ]
  },
  {
   "cell_type": "code",
   "execution_count": null,
   "metadata": {},
   "outputs": [],
   "source": []
  },
  {
   "attachments": {},
   "cell_type": "markdown",
   "metadata": {},
   "source": [
    "### Trực quan hóa"
   ]
  },
  {
   "cell_type": "code",
   "execution_count": null,
   "metadata": {},
   "outputs": [],
   "source": []
  },
  {
   "attachments": {},
   "cell_type": "markdown",
   "metadata": {},
   "source": [
    "### Trả lời câu hỏi"
   ]
  },
  {
   "attachments": {},
   "cell_type": "markdown",
   "metadata": {},
   "source": [
    "- (Nhập câu trả lời và giải thích)"
   ]
  },
  {
   "attachments": {},
   "cell_type": "markdown",
   "metadata": {},
   "source": [
    "---"
   ]
  },
  {
   "attachments": {},
   "cell_type": "markdown",
   "metadata": {},
   "source": [
    "# **Đôi điều về đồ án**"
   ]
  },
  {
   "attachments": {},
   "cell_type": "markdown",
   "metadata": {},
   "source": [
    "- Mỗi thành viên gặp khó khăn gì?\n",
    "- Mỗi thành viên học được những gì?\n",
    "- Nếu có thêm thời gian, sẽ làm những gì?"
   ]
  },
  {
   "attachments": {},
   "cell_type": "markdown",
   "metadata": {},
   "source": [
    "---"
   ]
  },
  {
   "attachments": {},
   "cell_type": "markdown",
   "metadata": {},
   "source": [
    "# **Các nguồn tham khảo**"
   ]
  },
  {
   "attachments": {},
   "cell_type": "markdown",
   "metadata": {},
   "source": [
    "https://www.kaggle.com/code/nevil7/homicide-data-identifying-the-serial-killers"
   ]
  }
 ],
 "metadata": {
  "kernelspec": {
   "display_name": "Python 3",
   "language": "python",
   "name": "python3"
  },
  "language_info": {
   "codemirror_mode": {
    "name": "ipython",
    "version": 3
   },
   "file_extension": ".py",
   "mimetype": "text/x-python",
   "name": "python",
   "nbconvert_exporter": "python",
   "pygments_lexer": "ipython3",
   "version": "3.10.5"
  },
  "orig_nbformat": 4,
  "vscode": {
   "interpreter": {
    "hash": "31fd7f76f8009355209fe3881fbaf958d9747068dc2a273c2a9f3914650997fe"
   }
  }
 },
 "nbformat": 4,
 "nbformat_minor": 2
}
