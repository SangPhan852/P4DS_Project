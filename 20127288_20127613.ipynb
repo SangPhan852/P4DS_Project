{
 "cells": [
  {
   "attachments": {},
   "cell_type": "markdown",
   "metadata": {},
   "source": [
    "<center>\n",
    "\n",
    "# **Đồ án cuối kì**\n",
    "\n",
    "# **Môn Lập trình cho khoa học dữ liệu**\n",
    "\n",
    "## **Chủ đề: Các vụ án mạng ở Mỹ từ năm 2016 đến năm 2020**\n",
    "\n",
    "</center>"
   ]
  },
  {
   "attachments": {},
   "cell_type": "markdown",
   "metadata": {},
   "source": [
    "<center>\n",
    "\n",
    "# **Mục lục**\n",
    "\n",
    "</center>"
   ]
  },
  {
   "cell_type": "markdown",
   "metadata": {},
   "source": []
  },
  {
   "attachments": {},
   "cell_type": "markdown",
   "metadata": {},
   "source": [
    "# **Các thư viện sử dụng**"
   ]
  },
  {
   "cell_type": "code",
   "execution_count": null,
   "metadata": {},
   "outputs": [],
   "source": [
    "# Libraries and Modules used\n",
    "import numpy as np\n",
    "import pandas as pd\n",
    "import matplotlib.pyplot as plt\n",
    "import seaborn as sns #visualization\n",
    "sns.set_style('whitegrid')"
   ]
  },
  {
   "attachments": {},
   "cell_type": "markdown",
   "metadata": {},
   "source": [
    "---"
   ]
  },
  {
   "attachments": {},
   "cell_type": "markdown",
   "metadata": {},
   "source": [
    "# **Mô tả tập dữ liệu**"
   ]
  },
  {
   "attachments": {},
   "cell_type": "markdown",
   "metadata": {},
   "source": [
    "- Tập dữ liệu này được thu thập từ [**Murder Accountability Project**](https://www.murderdata.org/p/data-docs.html), do Thomas Hargrove sáng lập và công bố. Nhìn chung, tập dữ liệu mô tả về các vụ án giết người được xảy ra ở khắp mọi bang trên nước Mỹ từ năm 1976 đến năm 2020.\n",
    "\n",
    "- Tập dữ liệu này là một tập dữ liệu mở được công bố dưới bản quyền [***Creative Commons CC-BY license***](https://creativecommons.org/licenses/by/4.0/), cho phép sử dụng không hạn chế dưới mọi hình thức, miễn là người dùng giữ nguyên tập dữ liệu gốc.\n",
    "\n",
    "- Tập dữ liệu bao gồm những vụ án mạng được tổng hợp từ báo cáo của FBI và dữ liệu của Freedom of Information Act về các vụ án mạng không được báo cáo cho Justice Department.\n",
    "\n",
    "- Do tập dữ liệu có kích cỡ quá lớn (khoảng 290MB) nên nhóm chúng em chỉ lọc lấy những vụ án từ năm 2016 đến năm 2020."
   ]
  },
  {
   "attachments": {},
   "cell_type": "markdown",
   "metadata": {},
   "source": [
    "---"
   ]
  },
  {
   "attachments": {},
   "cell_type": "markdown",
   "metadata": {},
   "source": [
    "# **Tiền xử lý dữ liệu**"
   ]
  },
  {
   "attachments": {},
   "cell_type": "markdown",
   "metadata": {},
   "source": [
    "## Đọc dữ liệu vào Dataframe"
   ]
  },
  {
   "cell_type": "code",
   "execution_count": null,
   "metadata": {},
   "outputs": [],
   "source": [
    "homi_df = pd.read_csv('homicide.csv')\n",
    "homi_df"
   ]
  },
  {
   "attachments": {},
   "cell_type": "markdown",
   "metadata": {},
   "source": [
    "## Số dòng và số cột của tập dữ liệu"
   ]
  },
  {
   "cell_type": "code",
   "execution_count": null,
   "metadata": {},
   "outputs": [],
   "source": [
    "row = homi_df.shape[0]\n",
    "col = homi_df.shape[1]\n",
    "print('Số dòng:', row)\n",
    "print('Số cột', col)"
   ]
  },
  {
   "attachments": {},
   "cell_type": "markdown",
   "metadata": {},
   "source": [
    "## Ý nghĩa của mỗi dòng"
   ]
  },
  {
   "attachments": {},
   "cell_type": "markdown",
   "metadata": {},
   "source": [
    "Mỗi dòng là thông tin của 1 vụ án bao gồm thời gian, địa điểm và thông tin liên quan đến nạn nhân và hung thủ."
   ]
  },
  {
   "attachments": {},
   "cell_type": "markdown",
   "metadata": {},
   "source": [
    "## Kiểm tra các dòng bị trùng lắp"
   ]
  },
  {
   "attachments": {},
   "cell_type": "markdown",
   "metadata": {},
   "source": [
    "- Thực hiện xóa các dòng bị trùng lắp do trong đó có nhiều nạn nhân liên quan tới cùng 1 vụ án."
   ]
  },
  {
   "cell_type": "code",
   "execution_count": null,
   "metadata": {},
   "outputs": [],
   "source": [
    "# homi_df = homi_df['ID'].ddrop_duplicates() "
   ]
  },
  {
   "cell_type": "code",
   "execution_count": null,
   "metadata": {},
   "outputs": [],
   "source": [
    "# duplicated = homi_df.duplicated()\n",
    "# print('Số dòng bị trùng:', len(duplicated[duplicated==True]))"
   ]
  },
  {
   "attachments": {},
   "cell_type": "markdown",
   "metadata": {},
   "source": [
    "## Ý nghĩa của mỗi cột"
   ]
  },
  {
   "cell_type": "code",
   "execution_count": null,
   "metadata": {},
   "outputs": [],
   "source": [
    "des_df = pd.read_csv('description.csv')\n",
    "pd.set_option('display.max_colwidth', None)\n",
    "des_df"
   ]
  },
  {
   "attachments": {},
   "cell_type": "markdown",
   "metadata": {},
   "source": [
    "## Kiểm tra kiểu dữ liệu của các cột và điều chỉnh cho phù hợp"
   ]
  },
  {
   "attachments": {},
   "cell_type": "markdown",
   "metadata": {},
   "source": [
    "- Kiểm tra kiểu dữ liệu của từng cột"
   ]
  },
  {
   "cell_type": "code",
   "execution_count": null,
   "metadata": {},
   "outputs": [],
   "source": [
    "homi_df.dtypes"
   ]
  },
  {
   "attachments": {},
   "cell_type": "markdown",
   "metadata": {},
   "source": [
    "---"
   ]
  },
  {
   "cell_type": "code",
   "execution_count": null,
   "metadata": {},
   "outputs": [],
   "source": [
    "homi_df['StateName'].unique()"
   ]
  },
  {
   "cell_type": "code",
   "execution_count": null,
   "metadata": {},
   "outputs": [],
   "source": [
    "dtype = homi_df['StateName'].apply(lambda i: type(i))\n",
    "dtype.unique()"
   ]
  },
  {
   "cell_type": "code",
   "execution_count": null,
   "metadata": {},
   "outputs": [],
   "source": [
    "len(homi_df[homi_df['StateName'].isna()])"
   ]
  },
  {
   "attachments": {},
   "cell_type": "markdown",
   "metadata": {},
   "source": [
    "- Ta thấy cột `StateName` chứa dữ liệu hỗn hợp với dữ liệu `nan` là float và tên các bang là string. Tuy nhiên có đến 69378 dòng là nan. Hơn nữa, tên bang cũng đã được lưu trong cột dữ liệu `State`. Cho nên, ta có thể xóa cột dữ liệu này (ở bước ***Xử lý các dòng bị thiếu dữ liệu***)."
   ]
  },
  {
   "cell_type": "markdown",
   "metadata": {},
   "source": [
    "---"
   ]
  },
  {
   "cell_type": "code",
   "execution_count": null,
   "metadata": {},
   "outputs": [],
   "source": [
    "np.sort(homi_df['VicAge'].unique())"
   ]
  },
  {
   "attachments": {},
   "cell_type": "markdown",
   "metadata": {},
   "source": [
    "- Ta thấy có những dòng mà tuổi của nạn nhân là 999. Ở đây, do kiểu dữ liệu của cột VicAge là số nguyên cho nên tác giả dùng 1 con số đặc biệt để biểu thị cho giá trị không biết của tuổi nạn nhân, cụ thể là 999. Việc này có thể xem bình thường cho nên không cần thay đổi gì cả."
   ]
  },
  {
   "attachments": {},
   "cell_type": "markdown",
   "metadata": {},
   "source": [
    "---"
   ]
  },
  {
   "cell_type": "code",
   "execution_count": null,
   "metadata": {},
   "outputs": [],
   "source": [
    "np.sort(homi_df['OffAge'].unique())"
   ]
  },
  {
   "attachments": {},
   "cell_type": "markdown",
   "metadata": {},
   "source": [
    "- Đối với cột OffAge thì lý giải cũng tương tự như đối với cột VicAge."
   ]
  },
  {
   "attachments": {},
   "cell_type": "markdown",
   "metadata": {},
   "source": [
    "---"
   ]
  },
  {
   "cell_type": "code",
   "execution_count": null,
   "metadata": {},
   "outputs": [],
   "source": [
    "homi_df['Subcircum'].unique()"
   ]
  },
  {
   "cell_type": "code",
   "execution_count": null,
   "metadata": {},
   "outputs": [],
   "source": [
    "dtype = homi_df['Subcircum'].apply(lambda i: type(i))\n",
    "dtype.unique()"
   ]
  },
  {
   "attachments": {},
   "cell_type": "markdown",
   "metadata": {},
   "source": [
    "- Ta thấy cột `Subcircum` cũng chứa dữ liệu hỗn hợp như cột StateName. Tuy nhiên, các dòng chứa dữ liệu khác `nan` có vai trò làm rõ cho hoàn cảnh gây án. Do đó, chúng ta sẽ không bỏ cột này đi, và thay các giá trị `nan` bằng `Not specified`."
   ]
  },
  {
   "cell_type": "code",
   "execution_count": null,
   "metadata": {},
   "outputs": [],
   "source": [
    "len(homi_df[homi_df['Subcircum'].isna()])"
   ]
  },
  {
   "cell_type": "code",
   "execution_count": null,
   "metadata": {},
   "outputs": [],
   "source": [
    "homi_df['Subcircum'].replace(np.nan, 'Not specified', inplace=True)"
   ]
  },
  {
   "cell_type": "code",
   "execution_count": null,
   "metadata": {},
   "outputs": [],
   "source": [
    "len(homi_df[homi_df['Subcircum'] == 'Not specified'])"
   ]
  },
  {
   "attachments": {},
   "cell_type": "markdown",
   "metadata": {},
   "source": [
    "- Kiểm tra lại kiểu dữ liệu"
   ]
  },
  {
   "cell_type": "code",
   "execution_count": null,
   "metadata": {},
   "outputs": [],
   "source": [
    "new_dtype = homi_df['Subcircum'].apply(lambda i: type(i))\n",
    "new_dtype.unique()"
   ]
  },
  {
   "attachments": {},
   "cell_type": "markdown",
   "metadata": {},
   "source": [
    "---"
   ]
  },
  {
   "cell_type": "code",
   "execution_count": null,
   "metadata": {},
   "outputs": [],
   "source": [
    "homi_df['FileDate'].unique()"
   ]
  },
  {
   "cell_type": "code",
   "execution_count": null,
   "metadata": {},
   "outputs": [],
   "source": [
    "len(homi_df[homi_df['FileDate'].isna()])"
   ]
  },
  {
   "attachments": {},
   "cell_type": "markdown",
   "metadata": {},
   "source": [
    "- Ở đây, dữ liệu (khác `nan`) của mỗi dòng là dãy số tượng trưng cho ngày, tháng, năm của thời điểm thực hiện báo cáo về vụ án. Những dòng này đúng ra phải nên được chuyển về dang datetime. Tuy nhiên do tính liên quan đến vấn đề không được chặt chẽ lắm (thời điểm thực hiện báo cáo có thể không trùng với thời điểm gây án, và có thể chỉ là thời điểm được ước tính), nên ta có thể bỏ cột này đi (ở bước ***Xử lý các dòng bị thiếu dữ liệu***)."
   ]
  },
  {
   "attachments": {},
   "cell_type": "markdown",
   "metadata": {},
   "source": [
    "---"
   ]
  },
  {
   "attachments": {},
   "cell_type": "markdown",
   "metadata": {},
   "source": [
    "- Kiểm tra kiểu dữ liệu của tất cả các cột 1 lần nữa"
   ]
  },
  {
   "cell_type": "code",
   "execution_count": null,
   "metadata": {},
   "outputs": [],
   "source": [
    "homi_df.dtypes"
   ]
  },
  {
   "attachments": {},
   "cell_type": "markdown",
   "metadata": {},
   "source": [
    "- Kiểm tra lại toàn bộ tập dữ liệu"
   ]
  },
  {
   "cell_type": "code",
   "execution_count": null,
   "metadata": {},
   "outputs": [],
   "source": [
    "homi_df"
   ]
  },
  {
   "attachments": {},
   "cell_type": "markdown",
   "metadata": {},
   "source": [
    "---"
   ]
  },
  {
   "cell_type": "code",
   "execution_count": null,
   "metadata": {},
   "outputs": [],
   "source": [
    "homi_df['FileDate'].nunique()"
   ]
  },
  {
   "attachments": {},
   "cell_type": "markdown",
   "metadata": {},
   "source": [
    "## Tìm sự phân phối của các cột dữ liệu kiểu số"
   ]
  },
  {
   "cell_type": "code",
   "execution_count": null,
   "metadata": {},
   "outputs": [],
   "source": [
    "col_num = ['Year','Incident','VicAge','OffAge','VicCount','OffCount']\n",
    "\n",
    "num_df = homi_df[col_num]\n",
    "\n",
    "mising_percentage = (num_df.isna().sum() / row) * 100       # tỉ lệ giá trị bị thiếu\n",
    "min_values = num_df.min()                                   # các giá trị nhỏ nhất\n",
    "max_values = num_df.max()                                   # các giá trị lớn nhất\n",
    "\n",
    "num_cols_distribution = pd.DataFrame(data = np.array((mising_percentage, min_values, max_values)),\n",
    "                                                      columns = num_df.columns,\n",
    "                                                      index = ['mising percentage', 'min', 'max'])\n",
    "num_cols_distribution"
   ]
  },
  {
   "attachments": {},
   "cell_type": "markdown",
   "metadata": {},
   "source": [
    "## Tìm sự phân phối của các cột dữ liệu kiểu phân loại"
   ]
  },
  {
   "cell_type": "code",
   "execution_count": null,
   "metadata": {},
   "outputs": [],
   "source": [
    "cat_df = homi_df.copy().drop(columns=col_num)\n",
    "\n",
    "mising_percentage = (cat_df.isna().sum() / row) * 100           # tỉ lệ giá trị bị thiếu\n",
    "num_diff_vals = cat_df.apply(lambda col: col.nunique())         # số giá trị khác nhau\n",
    "diff_vals = cat_df.apply(lambda col: col.dropna().unique())     # các giá trị khác nhau\n",
    "\n",
    "cat_cols_distribution = pd.DataFrame(data = np.array((mising_percentage, num_diff_vals, diff_vals)),\n",
    "                                     columns = cat_df.columns,\n",
    "                                     index = ['mising percentage', 'num_diff_vals', 'diff_vals'])\n",
    "cat_cols_distribution"
   ]
  },
  {
   "attachments": {},
   "cell_type": "markdown",
   "metadata": {},
   "source": [
    "## Xử lý các dòng bị thiếu dữ liệu"
   ]
  },
  {
   "attachments": {},
   "cell_type": "markdown",
   "metadata": {},
   "source": [
    "- Xóa các cột `StateName` và `FileDate` như đã đề cập ở bước ***Kiểm tra dữ liệu của các cột và điều chỉnh cho phù hợp***."
   ]
  },
  {
   "cell_type": "code",
   "execution_count": null,
   "metadata": {},
   "outputs": [],
   "source": [
    "homi_df = homi_df.drop(columns = ['StateName', 'FileDate'], axis = 1)"
   ]
  },
  {
   "cell_type": "code",
   "execution_count": null,
   "metadata": {},
   "outputs": [],
   "source": [
    "homi_df"
   ]
  },
  {
   "attachments": {},
   "cell_type": "markdown",
   "metadata": {},
   "source": [
    "---"
   ]
  },
  {
   "attachments": {},
   "cell_type": "markdown",
   "metadata": {},
   "source": [
    "# **Phân tích dữ liệu**"
   ]
  },
  {
   "attachments": {},
   "cell_type": "markdown",
   "metadata": {},
   "source": [
    "## **Câu hỏi số 1**"
   ]
  },
  {
   "attachments": {},
   "cell_type": "markdown",
   "metadata": {},
   "source": []
  },
  {
   "attachments": {},
   "cell_type": "markdown",
   "metadata": {},
   "source": [
    "### Tiền xử lý"
   ]
  },
  {
   "cell_type": "code",
   "execution_count": null,
   "metadata": {},
   "outputs": [],
   "source": []
  },
  {
   "attachments": {},
   "cell_type": "markdown",
   "metadata": {},
   "source": [
    "### Phân tích"
   ]
  },
  {
   "cell_type": "code",
   "execution_count": null,
   "metadata": {},
   "outputs": [],
   "source": []
  },
  {
   "attachments": {},
   "cell_type": "markdown",
   "metadata": {},
   "source": [
    "### Trực quan hóa"
   ]
  },
  {
   "cell_type": "code",
   "execution_count": null,
   "metadata": {},
   "outputs": [],
   "source": []
  },
  {
   "attachments": {},
   "cell_type": "markdown",
   "metadata": {},
   "source": [
    "### Trả lời câu hỏi"
   ]
  },
  {
   "attachments": {},
   "cell_type": "markdown",
   "metadata": {},
   "source": [
    "- (Nhập câu trả lời và giải thích)"
   ]
  },
  {
   "attachments": {},
   "cell_type": "markdown",
   "metadata": {},
   "source": [
    "---"
   ]
  },
  {
   "attachments": {},
   "cell_type": "markdown",
   "metadata": {},
   "source": [
    "## **Câu hỏi số 2**"
   ]
  },
  {
   "attachments": {},
   "cell_type": "markdown",
   "metadata": {},
   "source": [
    "- (Nhập câu hỏi)\n",
    "- (Lợi ích của việc tìm câu trả lời cho câu hỏi này)"
   ]
  },
  {
   "attachments": {},
   "cell_type": "markdown",
   "metadata": {},
   "source": [
    "### Tiền xử lý"
   ]
  },
  {
   "cell_type": "code",
   "execution_count": null,
   "metadata": {},
   "outputs": [],
   "source": []
  },
  {
   "attachments": {},
   "cell_type": "markdown",
   "metadata": {},
   "source": [
    "### Phân tích"
   ]
  },
  {
   "cell_type": "code",
   "execution_count": null,
   "metadata": {},
   "outputs": [],
   "source": []
  },
  {
   "attachments": {},
   "cell_type": "markdown",
   "metadata": {},
   "source": [
    "### Trực quan hóa"
   ]
  },
  {
   "cell_type": "code",
   "execution_count": null,
   "metadata": {},
   "outputs": [],
   "source": []
  },
  {
   "attachments": {},
   "cell_type": "markdown",
   "metadata": {},
   "source": [
    "### Trả lời câu hỏi"
   ]
  },
  {
   "attachments": {},
   "cell_type": "markdown",
   "metadata": {},
   "source": [
    "- (Nhập câu trả lời và giải thích)"
   ]
  },
  {
   "attachments": {},
   "cell_type": "markdown",
   "metadata": {},
   "source": [
    "---"
   ]
  },
  {
   "attachments": {},
   "cell_type": "markdown",
   "metadata": {},
   "source": [
    "## **Câu hỏi số 3**"
   ]
  },
  {
   "attachments": {},
   "cell_type": "markdown",
   "metadata": {},
   "source": [
    "### **3 bang nào có các vụ án có thủ phạm là người trong gia đình nhiều nhất.**"
   ]
  },
  {
   "attachments": {},
   "cell_type": "markdown",
   "metadata": {},
   "source": [
    "- Từ việc trả lời câu hỏi trên, ta có thể đưa ra những phương pháp để bảo vệ khỏi những chuyện đáng tiếc không nên xảy ra, nâng cao ý thức cũng như trách nhiệm của mỗi người trong gia đình."
   ]
  },
  {
   "attachments": {},
   "cell_type": "markdown",
   "metadata": {},
   "source": [
    "### Tiền xử lý"
   ]
  },
  {
   "attachments": {},
   "cell_type": "markdown",
   "metadata": {},
   "source": [
    "- Để có thể lấy được những vụ án có thủ phạm là người trong gia đình thì ta sẽ lấy những cột có liên quan như: \n",
    "    - ID: Để có thể chọn lọc những vụ án.\n",
    "    - State: Để tìm ra những ban có liên quan.\n",
    "    - Year: Để xem chiều hướng của các vụ án đó.\n",
    "    - Homicide: Để chọn được những vụ án có liên quan đến câu hỏi.\n",
    "    - Relationship: Để tìm ra mối quan hệ ruột thịt giữa nạn nhân và hung thủ.   \n"
   ]
  },
  {
   "cell_type": "code",
   "execution_count": null,
   "metadata": {},
   "outputs": [],
   "source": [
    "df = homi_df[['ID', 'State', 'Year', 'Homicide', 'Relationship']]\n",
    "df"
   ]
  },
  {
   "attachments": {},
   "cell_type": "markdown",
   "metadata": {},
   "source": [
    "- Trước tiên ta xóa những dòng trùng lắp ID của các vụ báo cáo vì: Trong data của chúng ta, báo cáo sẽ bao gồm thông tin của nạn nhân và hung thủ. Mà có thể bị trùng ID do là nạn nhân khác trong cùng một vụ án.\n",
    "    "
   ]
  },
  {
   "cell_type": "code",
   "execution_count": null,
   "metadata": {},
   "outputs": [],
   "source": [
    "df = df.drop_duplicates(subset='ID', keep=\"first\", inplace= False).reset_index(drop = True)\n",
    "df"
   ]
  },
  {
   "attachments": {},
   "cell_type": "markdown",
   "metadata": {},
   "source": [
    "### Phân tích"
   ]
  },
  {
   "attachments": {},
   "cell_type": "markdown",
   "metadata": {},
   "source": [
    "- Bây giờ ta sẽ xem xét mối quan hệ của từng vụ án"
   ]
  },
  {
   "cell_type": "code",
   "execution_count": null,
   "metadata": {},
   "outputs": [],
   "source": [
    "relationship = df['Relationship'].unique()\n",
    "relationship"
   ]
  },
  {
   "attachments": {},
   "cell_type": "markdown",
   "metadata": {},
   "source": [
    "- Từ đó, ta có thể chọn lọc được những vụ án mà hung thủ có mối quan hệ trong gia đình với nạn nhân. Ví dụ như là: Husband, Wife, Sister, In-law, Stepfather, Stepson, Daughter, Brother, Stepmother, Common-law wife, Common-law husband, Stepdaughter. Nhưng ở đây ta sẽ không chọn những mối quan hệ như `Ex-wife`, `Ex-husband` vì đã không còn trong mối quan hệ gia đình."
   ]
  },
  {
   "cell_type": "code",
   "execution_count": null,
   "metadata": {},
   "outputs": [],
   "source": [
    "family_rel = ['Husband', 'Wife', 'Sister', 'In-law', 'Stepfather', 'Stepson', 'Daughter', 'Brother', 'Stepmother', 'Common-law wife', 'Common-law husband', 'Stepdaughter']\n",
    "family_df = df[df['Relationship'].isin(family_rel)]\n",
    "family_df"
   ]
  },
  {
   "attachments": {},
   "cell_type": "markdown",
   "metadata": {},
   "source": [
    "Tiếp theo, ta sẽ thống kê các vụ án cũng như là đếm từng vụ án theo mối quan hệ theo từng bang."
   ]
  },
  {
   "cell_type": "code",
   "execution_count": null,
   "metadata": {},
   "outputs": [],
   "source": [
    "count = pd.DataFrame(family_df.groupby(['State', 'Relationship']).size().rename('Count')).reset_index()\n",
    "count"
   ]
  },
  {
   "attachments": {},
   "cell_type": "markdown",
   "metadata": {},
   "source": [
    "Sau khi thống kê các vụ án, ta sẽ thực hiện bước tính tổng các vụ án và sắp xếp theo chiều hướng giảm dần để có thể nhìn thấy được bang nào có nhiều vụ án nhất. "
   ]
  },
  {
   "cell_type": "code",
   "execution_count": null,
   "metadata": {},
   "outputs": [],
   "source": [
    "count_state = count.groupby('State').apply(lambda x: x['Count'].sum()).rename('Sum').reset_index()\n",
    "count_state = count_state.sort_values(by=['Sum'], ascending = False)\n",
    "count_state "
   ]
  },
  {
   "attachments": {},
   "cell_type": "markdown",
   "metadata": {},
   "source": [
    "Ở phần đặt câu hỏi này, ta sẽ lấy 3 bang có nhiều vụ án có hung thủ là người trong gia đình để ta có thể dễ nhìn hơn. Khi có được 3 bang, ta có thể dễ dàng tìm thấy 5 mối quan hệ có liên quan đến án mạng nhiều nhất."
   ]
  },
  {
   "cell_type": "code",
   "execution_count": null,
   "metadata": {},
   "outputs": [],
   "source": [
    "top_3_state = count_state['State'][:3].values\n",
    "top_3_state_incident = count[count['State'].isin(top_3_state)]\n",
    "top_3_rel_incident = top_3_state_incident.groupby('State').apply(lambda x: x.nlargest(5, 'Count')).reset_index(drop=True)\n",
    "top_3_rel_incident "
   ]
  },
  {
   "attachments": {},
   "cell_type": "markdown",
   "metadata": {},
   "source": [
    "### Trực quan hóa"
   ]
  },
  {
   "attachments": {},
   "cell_type": "markdown",
   "metadata": {},
   "source": [
    "- Còn đây là top 3 bang có số vụ án liên quan đến gia đình nhiều nhất."
   ]
  },
  {
   "cell_type": "code",
   "execution_count": null,
   "metadata": {},
   "outputs": [],
   "source": [
    "top_3_state = count_state[:3]\n",
    "\n",
    "# plt.figure(figsize = (10, 5))\n",
    "\n",
    "plt.title(\"Top 3 States with most incidents relating to family relationship\")\n",
    "plt.ylabel(\"Number of incidents\")\n",
    "plt.xlabel(\"State\")\n",
    "plt.bar(top_3_state['State'], top_3_state['Sum'], width=0.5)\n",
    "plt.show()"
   ]
  },
  {
   "attachments": {},
   "cell_type": "markdown",
   "metadata": {},
   "source": [
    "- Từ việc phân tích trên, ta có thể dễ dàng vẽ được biểu đồ về 5 mối quan hệ của  mỗi bang có liên quan đến án mạng nhất."
   ]
  },
  {
   "cell_type": "code",
   "execution_count": null,
   "metadata": {},
   "outputs": [],
   "source": [
    "fig, axs = plt.subplots(1, 3, figsize = (20, 10))\n",
    "\n",
    "texas_df = top_3_rel_incident[top_3_rel_incident['State'] == 'Texas']\n",
    "axs[0].set_title('TEXAS')\n",
    "axs[0].set(xlabel = 'Relationship', ylabel = 'Number of incident')\n",
    "axs[0].bar(texas_df['Relationship'], texas_df['Count'])\n",
    "axs[0].set_xticks(texas_df['Relationship'])\n",
    "axs[0].set_xticklabels(texas_df['Relationship'], rotation = 40);\n",
    "\n",
    "california_df = top_3_rel_incident[top_3_rel_incident['State'] == 'California']\n",
    "axs[1].set_title('CALIFORNIA')\n",
    "axs[1].set(xlabel = 'Relationship', ylabel = 'Number of incident')\n",
    "axs[1].bar(california_df['Relationship'], california_df['Count'])\n",
    "axs[1].set_xticks(california_df['Relationship'])\n",
    "axs[1].set_xticklabels(california_df['Relationship'], rotation = 40);\n",
    "\n",
    "florida_df = top_3_rel_incident[top_3_rel_incident['State'] == 'Florida']\n",
    "axs[2].set_title('FLORIDA')\n",
    "axs[2].set(xlabel = 'Relationship', ylabel = 'Number of incident')\n",
    "axs[2].bar(florida_df['Relationship'], florida_df['Count'])\n",
    "axs[2].set_xticks(florida_df['Relationship'])\n",
    "axs[2].set_xticklabels(florida_df['Relationship'], rotation = 40);\n"
   ]
  },
  {
   "attachments": {},
   "cell_type": "markdown",
   "metadata": {},
   "source": [
    "### Trả lời câu hỏi"
   ]
  },
  {
   "attachments": {},
   "cell_type": "markdown",
   "metadata": {},
   "source": [
    "- Quan sát biểu đồ top 5 mối quan hệ có số vụ án nhiều nhất, ta thấy số vụ án có vợ là nạn nhân cao hơn tương đối nhiều so với các quan hệ còn lại. Do đó các quan chức năng cần quan tâm hơn và chú trọng các quyền bảo vệ phụ nữ nhiều hơn. Bên cạnh đó, họ cần đặc biệt chú ý về vấn đề bạo lực gia đình của chồng đối với vợ, bởi vì đây rất có thể sẽ là mầm mống dẫn tới các vụ án mạng có liên quan. Sâu xa hơn nữa, hệ thống giáo dục cần đề cao việc giáo dục trong gia đình để không xảy ra những sự việc đáng tiếc. Một gia đình hạnh phúc mới có thể tạo nên một xã hội tốt đẹp."
   ]
  },
  {
   "attachments": {},
   "cell_type": "markdown",
   "metadata": {},
   "source": [
    "---"
   ]
  },
  {
   "attachments": {},
   "cell_type": "markdown",
   "metadata": {},
   "source": [
    "## **Câu hỏi số 4**"
   ]
  },
  {
   "attachments": {},
   "cell_type": "markdown",
   "metadata": {},
   "source": [
    "### **So sánh số vụ án của các chủng tộc phạm tội theo độ tuổi**"
   ]
  },
  {
   "attachments": {},
   "cell_type": "markdown",
   "metadata": {},
   "source": [
    "- Từ việc trả lời câu hỏi này, ta có thể so sánh được trình độ dân trí giữa các chủng tộc theo từng nhóm tuổi. Từ đó, đưa ra những chính sách giáo dục hợp lí để cải thiện xã hội ở Mỹ."
   ]
  },
  {
   "attachments": {},
   "cell_type": "markdown",
   "metadata": {},
   "source": [
    "### Tiền xử lý"
   ]
  },
  {
   "attachments": {},
   "cell_type": "markdown",
   "metadata": {},
   "source": [
    "- Để có thể trả lời câu hỏi này, chúng ta chỉ cần lấy 1 vài cột như:\n",
    "    - ID: Để chọn lọc vụ án\n",
    "    - OffRace: Để có thể so sánh các nhóm chủng tộc của hung thủ\n",
    "    - OffAge: Đê chia nhóm tuổi của các hung thủ"
   ]
  },
  {
   "cell_type": "code",
   "execution_count": null,
   "metadata": {},
   "outputs": [],
   "source": [
    "col_name = ['ID', 'OffRace', 'OffAge']\n",
    "df = homi_df[col_name].copy()\n",
    "df"
   ]
  },
  {
   "attachments": {},
   "cell_type": "markdown",
   "metadata": {},
   "source": [
    "- Tiếp theo ta sẽ loại bỏ những vụ án có trùng ID vì: Những vụ án đó có thể là do có nhiều nạn nhân trong cùng 1 một vụ án nên nó sẽ tạo ra nhiều báo cáo có cùng ID."
   ]
  },
  {
   "cell_type": "code",
   "execution_count": null,
   "metadata": {},
   "outputs": [],
   "source": [
    "df = df.drop_duplicates(subset='ID', keep=\"first\", inplace= False).reset_index(drop = True)\n",
    "df"
   ]
  },
  {
   "attachments": {},
   "cell_type": "markdown",
   "metadata": {},
   "source": [
    "- Ta sẽ loại bỏ những dòng có độ tuổi không phù hợp như: 999. Đó có thể là do tác giả định nghĩa không xác điịnh độ tuổi thành 999 để có thể phân biệt rõ với tuổi khác."
   ]
  },
  {
   "cell_type": "code",
   "execution_count": null,
   "metadata": {},
   "outputs": [],
   "source": [
    "df = df[df['OffAge'] != 999]\n",
    "df"
   ]
  },
  {
   "attachments": {},
   "cell_type": "markdown",
   "metadata": {},
   "source": [
    "### Phân tích"
   ]
  },
  {
   "attachments": {},
   "cell_type": "markdown",
   "metadata": {},
   "source": [
    "- Trước tiên chúng ta sẽ tạo 1 hàm để chia độ tuổi cho phù hợp. Ở đây ta sẽ chia làm 3 nhóm tuổi: [0, 17],[18, 40], (40, 99). Sau đó ta sẽ tạo thêm cột GroupAge."
   ]
  },
  {
   "cell_type": "code",
   "execution_count": null,
   "metadata": {},
   "outputs": [],
   "source": [
    "bins = [0, 17, 40,99]\n",
    "labels = ['0-17', '18-40', '40-99']\n",
    "df['GroupAge'] = pd.cut(df['OffAge'], bins=bins, labels = labels,include_lowest = True)\n",
    "df"
   ]
  },
  {
   "attachments": {},
   "cell_type": "markdown",
   "metadata": {},
   "source": [
    "- Lúc này, chúng ta bỏ 2 cột không cần thiết nữa đó là ID và OffAge."
   ]
  },
  {
   "cell_type": "code",
   "execution_count": null,
   "metadata": {},
   "outputs": [],
   "source": [
    "df = df.drop(['ID','OffAge'], axis=1)\n",
    "df"
   ]
  },
  {
   "attachments": {},
   "cell_type": "markdown",
   "metadata": {},
   "source": [
    "- Cuối cùng ta sẽ tính tổng số vụ án theo độ tuổi quy định ban đầu cho mỗi chủng tộc."
   ]
  },
  {
   "cell_type": "code",
   "execution_count": null,
   "metadata": {},
   "outputs": [],
   "source": [
    "count = pd.DataFrame(df.groupby(['OffRace', 'GroupAge']).size().rename('Count')).reset_index()\n",
    "count"
   ]
  },
  {
   "attachments": {},
   "cell_type": "markdown",
   "metadata": {},
   "source": [
    "### Trực quan hóa"
   ]
  },
  {
   "attachments": {},
   "cell_type": "markdown",
   "metadata": {},
   "source": [
    "- Từ dữ liệu trên, ta có thể vẽ biểu đồ như sau:"
   ]
  },
  {
   "cell_type": "code",
   "execution_count": null,
   "metadata": {},
   "outputs": [],
   "source": [
    "fig, axs = plt.subplots(2, 3, figsize = (20, 15),  sharey=True)\n",
    "\n",
    "Race_1 = count[count['OffRace'] == 'Black']\n",
    "axs[0,0].set_title('Black')\n",
    "axs[0,0].bar([0, 0.5, 1], Race_1['Count'], width = 0.4)\n",
    "axs[0,0].set_xticks([0, 0.5, 1], Race_1['GroupAge'])\n",
    "\n",
    "Race_2 = count[count['OffRace'] == 'American Indian or Alaskan Native']\n",
    "axs[0,1].set_title('American Indian or Alaskan Native')\n",
    "axs[0,1].bar([0, 0.5, 1], Race_2['Count'], width = 0.4)\n",
    "axs[0,1].set_xticks([0, 0.5, 1], Race_2['GroupAge'])\n",
    "\n",
    "Race_3 = count[count['OffRace'] == 'Asian']\n",
    "axs[0,2].set_title('Asian')\n",
    "axs[0,2].bar([0, 0.5, 1], Race_3['Count'], width = 0.4)\n",
    "axs[0,2].set_xticks([0, 0.5, 1], Race_3['GroupAge'])\n",
    "\n",
    "Race_4 = count[count['OffRace'] == 'White']\n",
    "axs[1,0].set_title('White')\n",
    "axs[1,0].bar([0, 0.5, 1], Race_4['Count'], width = 0.4)\n",
    "axs[1,0].set_xticks([0, 0.5, 1], Race_4['GroupAge'])\n",
    "\n",
    "Race_5 = count[count['OffRace'] == 'Native Hawaiian or Pacific Islander']\n",
    "axs[1,1].set_title('Native Hawaiian or Pacific Islander')\n",
    "axs[1,1].bar([0, 0.5, 1], Race_5['Count'], width = 0.4)\n",
    "axs[1,1].set_xticks([0, 0.5, 1], Race_5['GroupAge'])\n",
    "\n",
    "Race_6 = count[count['OffRace'] == 'Unknown']\n",
    "axs[1,2].set_title('Unknown')\n",
    "axs[1,2].bar([0, 0.5, 1], Race_6['Count'], width = 0.4)\n",
    "axs[1,2].set_xticks([0, 0.5, 1], Race_6['GroupAge']);\n"
   ]
  },
  {
   "attachments": {},
   "cell_type": "markdown",
   "metadata": {},
   "source": [
    "### Trả lời câu hỏi"
   ]
  },
  {
   "attachments": {},
   "cell_type": "markdown",
   "metadata": {},
   "source": [
    "- Nhìn sơ bộ về biểu đồ, ta thấy hung thủ của các vụ án thường liên quan đến 2 chủng tộc chính là người da trắng và người da đen, tập trung chủ yếu ở nhóm tuổi từ 18-40. Tuy số hung thủ là người da đen nhiều hơn số hung thủ là người da trắng, số vụ án gây ra của 2 chủng tộc này vẫn ở mức khá cao. Từ đó, có thể suy ra 1 phần nào đó của các vụ án này có liên quan đến nạn phân biệt chủng tộc. Vì vậy, các bang chức trách cần tuyên truyền và nâng cao nhận thức cho người dân, giáo dục cho các thế hệ trẻ ý thức để chống lại nạn phân biệt chủng tộc nhằm hạn chế số vụ án có liên quan."
   ]
  },
  {
   "attachments": {},
   "cell_type": "markdown",
   "metadata": {},
   "source": [
    "---"
   ]
  },
  {
   "attachments": {},
   "cell_type": "markdown",
   "metadata": {},
   "source": [
    "# **Đôi điều về đồ án**"
   ]
  },
  {
   "attachments": {},
   "cell_type": "markdown",
   "metadata": {},
   "source": [
    "- Mỗi thành viên gặp khó khăn gì?\n",
    "    - Tập dữ liệu ban đầu bị bias, phải tìm 1 tập dữ khác nên tốn khá nhiều thời gian.\n",
    "    - Không có đủ thời gian để làm đồ án vì thời gian cận thi cuối kì và phải làm những đồ án khác.\n",
    "- Mỗi thành viên học được những gì?\n",
    "    - Học được cách sử dụng git.\n",
    "    - Biết thêm tình trạng tội phạm ở Mỹ trong những năm gần đây.\n",
    "    - Biết cách phân bổ thời gian hợp lí.\n",
    "- Nếu có thêm thời gian, sẽ làm những gì?\n",
    "    - Xem lại những câu hỏi cũ, có thể là cụ thể hóa những câu hỏi đó để có thể tìm được đáp án gần chính xác nhất.\n",
    "    - Có thể áp dụng các mô hình học máy khác để tìm ra được mô hình tô nhất, từ đó có thể phục vụ cho các câu hỏi liên quan."
   ]
  },
  {
   "attachments": {},
   "cell_type": "markdown",
   "metadata": {},
   "source": [
    "---"
   ]
  },
  {
   "attachments": {},
   "cell_type": "markdown",
   "metadata": {},
   "source": [
    "# **Các nguồn tham khảo**"
   ]
  },
  {
   "attachments": {},
   "cell_type": "markdown",
   "metadata": {},
   "source": [
    "https://www.kaggle.com/code/nevil7/homicide-data-identifying-the-serial-killers\n",
    "https://www.geeksforgeeks.org/pandas-cut-method-in-python/\n",
    "https://stackoverflow.com/questions/32093829/remove-duplicates-from-dataframe-based-on-two-columns-a-b-keeping-row-with-max\n",
    "https://sparkbyexamples.com/pandas/pandas-remove-duplicate-columns-from-dataframe/#:~:text=To%20drop%20duplicate%20columns%20from%20pandas%20DataFrame%20use%20df.,data%20regardless%20of%20column%20names"
   ]
  },
  {
   "cell_type": "markdown",
   "metadata": {},
   "source": []
  }
 ],
 "metadata": {
  "kernelspec": {
   "display_name": "Python 3",
   "language": "python",
   "name": "python3"
  },
  "language_info": {
   "codemirror_mode": {
    "name": "ipython",
    "version": 3
   },
   "file_extension": ".py",
   "mimetype": "text/x-python",
   "name": "python",
   "nbconvert_exporter": "python",
   "pygments_lexer": "ipython3",
   "version": "3.10.5"
  },
  "orig_nbformat": 4,
  "vscode": {
   "interpreter": {
    "hash": "31fd7f76f8009355209fe3881fbaf958d9747068dc2a273c2a9f3914650997fe"
   }
  }
 },
 "nbformat": 4,
 "nbformat_minor": 2
}
