{
 "cells": [
  {
   "attachments": {},
   "cell_type": "markdown",
   "metadata": {},
   "source": [
    "<center>\n",
    "\n",
    "# **Đồ án cuối kì**\n",
    "\n",
    "# **Môn Lập trình cho khoa học dữ liệu**\n",
    "\n",
    "## **Chủ đề: Các vụ án mạng ở Mỹ từ năm 2016 đến năm 2020**\n",
    "\n",
    "</center>"
   ]
  },
  {
   "attachments": {},
   "cell_type": "markdown",
   "metadata": {},
   "source": [
    "<center>\n",
    "\n",
    "# **Mục lục**\n",
    "\n",
    "</center>"
   ]
  },
  {
   "cell_type": "markdown",
   "metadata": {},
   "source": []
  },
  {
   "attachments": {},
   "cell_type": "markdown",
   "metadata": {},
   "source": [
    "# **Các thư viện sử dụng**"
   ]
  },
  {
   "cell_type": "code",
   "execution_count": 246,
   "metadata": {},
   "outputs": [],
   "source": [
    "# Libraries and Modules used\n",
    "import numpy as np\n",
    "import pandas as pd\n",
    "import matplotlib.pyplot as plt\n"
   ]
  },
  {
   "attachments": {},
   "cell_type": "markdown",
   "metadata": {},
   "source": [
    "---"
   ]
  },
  {
   "attachments": {},
   "cell_type": "markdown",
   "metadata": {},
   "source": [
    "# **Mô tả tập dữ liệu**"
   ]
  },
  {
   "attachments": {},
   "cell_type": "markdown",
   "metadata": {},
   "source": [
    "- Tập dữ liệu này được thu thập từ [**Murder Accountability Project**](https://www.murderdata.org/p/data-docs.html), do Thomas Hargrove sáng lập và công bố. Nhìn chung, tập dữ liệu mô tả về các vụ án giết người được xảy ra ở khắp mọi bang trên nước Mỹ từ năm 1976 đến năm 2020.\n",
    "\n",
    "- Tập dữ liệu này là một tập dữ liệu mở được công bố dưới bản quyền [***Creative Commons CC-BY license***](https://creativecommons.org/licenses/by/4.0/), cho phép sử dụng không hạn chế dưới mọi hình thức, miễn là người dùng giữ nguyên tập dữ liệu gốc.\n",
    "\n",
    "- Tập dữ liệu bao gồm những vụ án mạng được tổng hợp từ báo cáo của FBI và dữ liệu của Freedom of Information Act về các vụ án mạng không được báo cáo cho Justice Department.\n",
    "\n",
    "- Do tập dữ liệu có kích cỡ quá lớn (khoảng 290MB) nên nhóm chúng em chỉ lọc lấy những vụ án từ năm 2016 đến năm 2020."
   ]
  },
  {
   "attachments": {},
   "cell_type": "markdown",
   "metadata": {},
   "source": [
    "---"
   ]
  },
  {
   "attachments": {},
   "cell_type": "markdown",
   "metadata": {},
   "source": [
    "# **Tiền xử lý dữ liệu**"
   ]
  },
  {
   "attachments": {},
   "cell_type": "markdown",
   "metadata": {},
   "source": [
    "## Đọc dữ liệu vào Dataframe"
   ]
  },
  {
   "cell_type": "code",
   "execution_count": 247,
   "metadata": {},
   "outputs": [
    {
     "name": "stderr",
     "output_type": "stream",
     "text": [
      "c:\\Users\\Admin\\AppData\\Local\\Programs\\Python\\Python310\\lib\\site-packages\\IPython\\core\\interactiveshell.py:3369: DtypeWarning: Columns (9) have mixed types.Specify dtype option on import or set low_memory=False.\n",
      "  exec(code_obj, self.user_global_ns, self.user_ns)\n"
     ]
    },
    {
     "data": {
      "text/html": [
       "<div>\n",
       "<style scoped>\n",
       "    .dataframe tbody tr th:only-of-type {\n",
       "        vertical-align: middle;\n",
       "    }\n",
       "\n",
       "    .dataframe tbody tr th {\n",
       "        vertical-align: top;\n",
       "    }\n",
       "\n",
       "    .dataframe thead th {\n",
       "        text-align: right;\n",
       "    }\n",
       "</style>\n",
       "<table border=\"1\" class=\"dataframe\">\n",
       "  <thead>\n",
       "    <tr style=\"text-align: right;\">\n",
       "      <th></th>\n",
       "      <th>ID</th>\n",
       "      <th>CNTYFIPS</th>\n",
       "      <th>Ori</th>\n",
       "      <th>State</th>\n",
       "      <th>Agency</th>\n",
       "      <th>Agentype</th>\n",
       "      <th>Source</th>\n",
       "      <th>Solved</th>\n",
       "      <th>Year</th>\n",
       "      <th>StateName</th>\n",
       "      <th>...</th>\n",
       "      <th>OffRace</th>\n",
       "      <th>OffEthnic</th>\n",
       "      <th>Weapon</th>\n",
       "      <th>Relationship</th>\n",
       "      <th>Circumstance</th>\n",
       "      <th>Subcircum</th>\n",
       "      <th>VicCount</th>\n",
       "      <th>OffCount</th>\n",
       "      <th>FileDate</th>\n",
       "      <th>MSA</th>\n",
       "    </tr>\n",
       "  </thead>\n",
       "  <tbody>\n",
       "    <tr>\n",
       "      <th>0</th>\n",
       "      <td>201604266AL06201</td>\n",
       "      <td>Tallapoosa, AL</td>\n",
       "      <td>AL06201</td>\n",
       "      <td>Alabama</td>\n",
       "      <td>Alexander City</td>\n",
       "      <td>Municipal police</td>\n",
       "      <td>MAP</td>\n",
       "      <td>Yes</td>\n",
       "      <td>2016</td>\n",
       "      <td>NaN</td>\n",
       "      <td>...</td>\n",
       "      <td>White</td>\n",
       "      <td>Unknown or not reported</td>\n",
       "      <td>Firearm, type not stated</td>\n",
       "      <td>Relationship not determined</td>\n",
       "      <td>Circumstances undetermined</td>\n",
       "      <td>NaN</td>\n",
       "      <td>0</td>\n",
       "      <td>0</td>\n",
       "      <td>92517.0</td>\n",
       "      <td>Rural Alabama</td>\n",
       "    </tr>\n",
       "    <tr>\n",
       "      <th>1</th>\n",
       "      <td>201604265AL05003</td>\n",
       "      <td>Marshall, AL</td>\n",
       "      <td>AL05003</td>\n",
       "      <td>Alabama</td>\n",
       "      <td>Arab</td>\n",
       "      <td>Municipal police</td>\n",
       "      <td>MAP</td>\n",
       "      <td>Yes</td>\n",
       "      <td>2016</td>\n",
       "      <td>NaN</td>\n",
       "      <td>...</td>\n",
       "      <td>White</td>\n",
       "      <td>Unknown or not reported</td>\n",
       "      <td>Handgun - pistol, revolver, etc</td>\n",
       "      <td>Relationship not determined</td>\n",
       "      <td>Other negligent handling of gun</td>\n",
       "      <td>NaN</td>\n",
       "      <td>0</td>\n",
       "      <td>0</td>\n",
       "      <td>92517.0</td>\n",
       "      <td>Rural Alabama</td>\n",
       "    </tr>\n",
       "    <tr>\n",
       "      <th>2</th>\n",
       "      <td>201604529AL04301</td>\n",
       "      <td>Lee, AL</td>\n",
       "      <td>AL04301</td>\n",
       "      <td>Alabama</td>\n",
       "      <td>Auburn</td>\n",
       "      <td>Municipal police</td>\n",
       "      <td>MAP</td>\n",
       "      <td>Yes</td>\n",
       "      <td>2016</td>\n",
       "      <td>NaN</td>\n",
       "      <td>...</td>\n",
       "      <td>Black</td>\n",
       "      <td>Unknown or not reported</td>\n",
       "      <td>Firearm, type not stated</td>\n",
       "      <td>Other family</td>\n",
       "      <td>Other - not specified</td>\n",
       "      <td>NaN</td>\n",
       "      <td>0</td>\n",
       "      <td>0</td>\n",
       "      <td>92517.0</td>\n",
       "      <td>Auburn-Opelika, AL</td>\n",
       "    </tr>\n",
       "    <tr>\n",
       "      <th>3</th>\n",
       "      <td>201604593AL04301</td>\n",
       "      <td>Lee, AL</td>\n",
       "      <td>AL04301</td>\n",
       "      <td>Alabama</td>\n",
       "      <td>Auburn</td>\n",
       "      <td>Municipal police</td>\n",
       "      <td>MAP</td>\n",
       "      <td>Yes</td>\n",
       "      <td>2016</td>\n",
       "      <td>NaN</td>\n",
       "      <td>...</td>\n",
       "      <td>Black</td>\n",
       "      <td>Unknown or not reported</td>\n",
       "      <td>Firearm, type not stated</td>\n",
       "      <td>Relationship not determined</td>\n",
       "      <td>Other - not specified</td>\n",
       "      <td>NaN</td>\n",
       "      <td>0</td>\n",
       "      <td>0</td>\n",
       "      <td>92517.0</td>\n",
       "      <td>Auburn-Opelika, AL</td>\n",
       "    </tr>\n",
       "    <tr>\n",
       "      <th>4</th>\n",
       "      <td>201604594AL04301</td>\n",
       "      <td>Lee, AL</td>\n",
       "      <td>AL04301</td>\n",
       "      <td>Alabama</td>\n",
       "      <td>Auburn</td>\n",
       "      <td>Municipal police</td>\n",
       "      <td>MAP</td>\n",
       "      <td>Yes</td>\n",
       "      <td>2016</td>\n",
       "      <td>NaN</td>\n",
       "      <td>...</td>\n",
       "      <td>Black</td>\n",
       "      <td>Unknown or not reported</td>\n",
       "      <td>Firearm, type not stated</td>\n",
       "      <td>Relationship not determined</td>\n",
       "      <td>Other - not specified</td>\n",
       "      <td>NaN</td>\n",
       "      <td>0</td>\n",
       "      <td>0</td>\n",
       "      <td>92517.0</td>\n",
       "      <td>Auburn-Opelika, AL</td>\n",
       "    </tr>\n",
       "    <tr>\n",
       "      <th>...</th>\n",
       "      <td>...</td>\n",
       "      <td>...</td>\n",
       "      <td>...</td>\n",
       "      <td>...</td>\n",
       "      <td>...</td>\n",
       "      <td>...</td>\n",
       "      <td>...</td>\n",
       "      <td>...</td>\n",
       "      <td>...</td>\n",
       "      <td>...</td>\n",
       "      <td>...</td>\n",
       "      <td>...</td>\n",
       "      <td>...</td>\n",
       "      <td>...</td>\n",
       "      <td>...</td>\n",
       "      <td>...</td>\n",
       "      <td>...</td>\n",
       "      <td>...</td>\n",
       "      <td>...</td>\n",
       "      <td>...</td>\n",
       "      <td>...</td>\n",
       "    </tr>\n",
       "    <tr>\n",
       "      <th>92086</th>\n",
       "      <td>202003001WY01700</td>\n",
       "      <td>Sheridan, WY</td>\n",
       "      <td>WY01700</td>\n",
       "      <td>Wyoming</td>\n",
       "      <td>Sheridan County</td>\n",
       "      <td>Sheriff</td>\n",
       "      <td>FBI</td>\n",
       "      <td>Yes</td>\n",
       "      <td>2020</td>\n",
       "      <td>WYOMIN</td>\n",
       "      <td>...</td>\n",
       "      <td>American Indian or Alaskan Native</td>\n",
       "      <td>Not of Hispanic origin</td>\n",
       "      <td>Handgun - pistol, revolver, etc</td>\n",
       "      <td>Sister</td>\n",
       "      <td>Brawl due to influence of alcohol</td>\n",
       "      <td>NaN</td>\n",
       "      <td>2</td>\n",
       "      <td>0</td>\n",
       "      <td>83121.0</td>\n",
       "      <td>Rural Wyoming</td>\n",
       "    </tr>\n",
       "    <tr>\n",
       "      <th>92087</th>\n",
       "      <td>202003001WY01700</td>\n",
       "      <td>Sheridan, WY</td>\n",
       "      <td>WY01700</td>\n",
       "      <td>Wyoming</td>\n",
       "      <td>Sheridan County</td>\n",
       "      <td>Sheriff</td>\n",
       "      <td>FBI</td>\n",
       "      <td>Yes</td>\n",
       "      <td>2020</td>\n",
       "      <td>WYOMIN</td>\n",
       "      <td>...</td>\n",
       "      <td>American Indian or Alaskan Native</td>\n",
       "      <td>Not of Hispanic origin</td>\n",
       "      <td>Handgun - pistol, revolver, etc</td>\n",
       "      <td>Sister</td>\n",
       "      <td>Brawl due to influence of alcohol</td>\n",
       "      <td>NaN</td>\n",
       "      <td>2</td>\n",
       "      <td>0</td>\n",
       "      <td>83121.0</td>\n",
       "      <td>Rural Wyoming</td>\n",
       "    </tr>\n",
       "    <tr>\n",
       "      <th>92088</th>\n",
       "      <td>202005001WY01101</td>\n",
       "      <td>Laramie, WY</td>\n",
       "      <td>WY01101</td>\n",
       "      <td>Wyoming</td>\n",
       "      <td>Cheyenne</td>\n",
       "      <td>Municipal police</td>\n",
       "      <td>FBI</td>\n",
       "      <td>Yes</td>\n",
       "      <td>2020</td>\n",
       "      <td>WYOMIN</td>\n",
       "      <td>...</td>\n",
       "      <td>White</td>\n",
       "      <td>Not of Hispanic origin</td>\n",
       "      <td>Firearm, type not stated</td>\n",
       "      <td>Other - known to victim</td>\n",
       "      <td>Other arguments</td>\n",
       "      <td>NaN</td>\n",
       "      <td>0</td>\n",
       "      <td>0</td>\n",
       "      <td>83121.0</td>\n",
       "      <td>Cheyenne, WY</td>\n",
       "    </tr>\n",
       "    <tr>\n",
       "      <th>92089</th>\n",
       "      <td>202005001WY01100</td>\n",
       "      <td>Laramie, WY</td>\n",
       "      <td>WY01100</td>\n",
       "      <td>Wyoming</td>\n",
       "      <td>Laramie County</td>\n",
       "      <td>Sheriff</td>\n",
       "      <td>FBI</td>\n",
       "      <td>Yes</td>\n",
       "      <td>2020</td>\n",
       "      <td>WYOMIN</td>\n",
       "      <td>...</td>\n",
       "      <td>White</td>\n",
       "      <td>Hispanic origin</td>\n",
       "      <td>Handgun - pistol, revolver, etc</td>\n",
       "      <td>Boyfriend</td>\n",
       "      <td>Other arguments</td>\n",
       "      <td>NaN</td>\n",
       "      <td>0</td>\n",
       "      <td>0</td>\n",
       "      <td>83121.0</td>\n",
       "      <td>Cheyenne, WY</td>\n",
       "    </tr>\n",
       "    <tr>\n",
       "      <th>92090</th>\n",
       "      <td>202011001WY00702</td>\n",
       "      <td>Fremont, WY</td>\n",
       "      <td>WY00702</td>\n",
       "      <td>Wyoming</td>\n",
       "      <td>Riverton</td>\n",
       "      <td>Municipal police</td>\n",
       "      <td>FBI</td>\n",
       "      <td>Yes</td>\n",
       "      <td>2020</td>\n",
       "      <td>WYOMIN</td>\n",
       "      <td>...</td>\n",
       "      <td>White</td>\n",
       "      <td>Not of Hispanic origin</td>\n",
       "      <td>Handgun - pistol, revolver, etc</td>\n",
       "      <td>Wife</td>\n",
       "      <td>Other negligent handling of gun</td>\n",
       "      <td>NaN</td>\n",
       "      <td>0</td>\n",
       "      <td>0</td>\n",
       "      <td>83121.0</td>\n",
       "      <td>Rural Wyoming</td>\n",
       "    </tr>\n",
       "  </tbody>\n",
       "</table>\n",
       "<p>92091 rows × 31 columns</p>\n",
       "</div>"
      ],
      "text/plain": [
       "                     ID        CNTYFIPS      Ori    State           Agency  \\\n",
       "0      201604266AL06201  Tallapoosa, AL  AL06201  Alabama   Alexander City   \n",
       "1      201604265AL05003    Marshall, AL  AL05003  Alabama             Arab   \n",
       "2      201604529AL04301         Lee, AL  AL04301  Alabama           Auburn   \n",
       "3      201604593AL04301         Lee, AL  AL04301  Alabama           Auburn   \n",
       "4      201604594AL04301         Lee, AL  AL04301  Alabama           Auburn   \n",
       "...                 ...             ...      ...      ...              ...   \n",
       "92086  202003001WY01700    Sheridan, WY  WY01700  Wyoming  Sheridan County   \n",
       "92087  202003001WY01700    Sheridan, WY  WY01700  Wyoming  Sheridan County   \n",
       "92088  202005001WY01101     Laramie, WY  WY01101  Wyoming         Cheyenne   \n",
       "92089  202005001WY01100     Laramie, WY  WY01100  Wyoming   Laramie County   \n",
       "92090  202011001WY00702     Fremont, WY  WY00702  Wyoming         Riverton   \n",
       "\n",
       "               Agentype Source Solved  Year StateName  ...  \\\n",
       "0      Municipal police    MAP    Yes  2016       NaN  ...   \n",
       "1      Municipal police    MAP    Yes  2016       NaN  ...   \n",
       "2      Municipal police    MAP    Yes  2016       NaN  ...   \n",
       "3      Municipal police    MAP    Yes  2016       NaN  ...   \n",
       "4      Municipal police    MAP    Yes  2016       NaN  ...   \n",
       "...                 ...    ...    ...   ...       ...  ...   \n",
       "92086           Sheriff    FBI    Yes  2020    WYOMIN  ...   \n",
       "92087           Sheriff    FBI    Yes  2020    WYOMIN  ...   \n",
       "92088  Municipal police    FBI    Yes  2020    WYOMIN  ...   \n",
       "92089           Sheriff    FBI    Yes  2020    WYOMIN  ...   \n",
       "92090  Municipal police    FBI    Yes  2020    WYOMIN  ...   \n",
       "\n",
       "                                 OffRace                OffEthnic  \\\n",
       "0                                  White  Unknown or not reported   \n",
       "1                                  White  Unknown or not reported   \n",
       "2                                  Black  Unknown or not reported   \n",
       "3                                  Black  Unknown or not reported   \n",
       "4                                  Black  Unknown or not reported   \n",
       "...                                  ...                      ...   \n",
       "92086  American Indian or Alaskan Native   Not of Hispanic origin   \n",
       "92087  American Indian or Alaskan Native   Not of Hispanic origin   \n",
       "92088                              White   Not of Hispanic origin   \n",
       "92089                              White          Hispanic origin   \n",
       "92090                              White   Not of Hispanic origin   \n",
       "\n",
       "                                Weapon                 Relationship  \\\n",
       "0             Firearm, type not stated  Relationship not determined   \n",
       "1      Handgun - pistol, revolver, etc  Relationship not determined   \n",
       "2             Firearm, type not stated                 Other family   \n",
       "3             Firearm, type not stated  Relationship not determined   \n",
       "4             Firearm, type not stated  Relationship not determined   \n",
       "...                                ...                          ...   \n",
       "92086  Handgun - pistol, revolver, etc                       Sister   \n",
       "92087  Handgun - pistol, revolver, etc                       Sister   \n",
       "92088         Firearm, type not stated      Other - known to victim   \n",
       "92089  Handgun - pistol, revolver, etc                    Boyfriend   \n",
       "92090  Handgun - pistol, revolver, etc                         Wife   \n",
       "\n",
       "                            Circumstance  Subcircum VicCount OffCount  \\\n",
       "0             Circumstances undetermined        NaN        0        0   \n",
       "1        Other negligent handling of gun        NaN        0        0   \n",
       "2                  Other - not specified        NaN        0        0   \n",
       "3                  Other - not specified        NaN        0        0   \n",
       "4                  Other - not specified        NaN        0        0   \n",
       "...                                  ...        ...      ...      ...   \n",
       "92086  Brawl due to influence of alcohol        NaN        2        0   \n",
       "92087  Brawl due to influence of alcohol        NaN        2        0   \n",
       "92088                    Other arguments        NaN        0        0   \n",
       "92089                    Other arguments        NaN        0        0   \n",
       "92090    Other negligent handling of gun        NaN        0        0   \n",
       "\n",
       "      FileDate                 MSA  \n",
       "0      92517.0       Rural Alabama  \n",
       "1      92517.0       Rural Alabama  \n",
       "2      92517.0  Auburn-Opelika, AL  \n",
       "3      92517.0  Auburn-Opelika, AL  \n",
       "4      92517.0  Auburn-Opelika, AL  \n",
       "...        ...                 ...  \n",
       "92086  83121.0       Rural Wyoming  \n",
       "92087  83121.0       Rural Wyoming  \n",
       "92088  83121.0        Cheyenne, WY  \n",
       "92089  83121.0        Cheyenne, WY  \n",
       "92090  83121.0       Rural Wyoming  \n",
       "\n",
       "[92091 rows x 31 columns]"
      ]
     },
     "execution_count": 247,
     "metadata": {},
     "output_type": "execute_result"
    }
   ],
   "source": [
    "homi_df = pd.read_csv('homicide.csv')\n",
    "homi_df"
   ]
  },
  {
   "attachments": {},
   "cell_type": "markdown",
   "metadata": {},
   "source": [
    "## Số dòng và số cột của tập dữ liệu"
   ]
  },
  {
   "cell_type": "code",
   "execution_count": 248,
   "metadata": {},
   "outputs": [
    {
     "name": "stdout",
     "output_type": "stream",
     "text": [
      "Số dòng: 92091\n",
      "Số cột 31\n"
     ]
    }
   ],
   "source": [
    "row = homi_df.shape[0]\n",
    "col = homi_df.shape[1]\n",
    "print('Số dòng:', row)\n",
    "print('Số cột', col)"
   ]
  },
  {
   "attachments": {},
   "cell_type": "markdown",
   "metadata": {},
   "source": [
    "## Ý nghĩa của mỗi dòng"
   ]
  },
  {
   "attachments": {},
   "cell_type": "markdown",
   "metadata": {},
   "source": [
    "Mỗi dòng là thông tin của 1 vụ án bao gồm thời gian, địa điểm và thông tin liên quan đến nạn nhân và hung thủ."
   ]
  },
  {
   "attachments": {},
   "cell_type": "markdown",
   "metadata": {},
   "source": [
    "## Kiểm tra các dòng bị trùng lắp"
   ]
  },
  {
   "attachments": {},
   "cell_type": "markdown",
   "metadata": {},
   "source": [
    "- Thực hiện xóa các dòng bị trùng lắp do trong đó có nhiều nạn nhân liên quan tới cùng 1 vụ án."
   ]
  },
  {
   "cell_type": "code",
   "execution_count": 249,
   "metadata": {},
   "outputs": [],
   "source": [
    "homi_df = homi_df.drop_duplicates() "
   ]
  },
  {
   "cell_type": "code",
   "execution_count": 250,
   "metadata": {},
   "outputs": [
    {
     "name": "stdout",
     "output_type": "stream",
     "text": [
      "Số dòng bị trùng: 0\n"
     ]
    }
   ],
   "source": [
    "duplicated = homi_df.duplicated()\n",
    "print('Số dòng bị trùng:', len(duplicated[duplicated==True]))"
   ]
  },
  {
   "attachments": {},
   "cell_type": "markdown",
   "metadata": {},
   "source": [
    "## Ý nghĩa của mỗi cột"
   ]
  },
  {
   "cell_type": "code",
   "execution_count": 251,
   "metadata": {},
   "outputs": [
    {
     "data": {
      "text/html": [
       "<div>\n",
       "<style scoped>\n",
       "    .dataframe tbody tr th:only-of-type {\n",
       "        vertical-align: middle;\n",
       "    }\n",
       "\n",
       "    .dataframe tbody tr th {\n",
       "        vertical-align: top;\n",
       "    }\n",
       "\n",
       "    .dataframe thead th {\n",
       "        text-align: right;\n",
       "    }\n",
       "</style>\n",
       "<table border=\"1\" class=\"dataframe\">\n",
       "  <thead>\n",
       "    <tr style=\"text-align: right;\">\n",
       "      <th></th>\n",
       "      <th>Đặc trưng</th>\n",
       "      <th>Mô tả</th>\n",
       "    </tr>\n",
       "  </thead>\n",
       "  <tbody>\n",
       "    <tr>\n",
       "      <th>0</th>\n",
       "      <td>ID</td>\n",
       "      <td>ID của vụ án</td>\n",
       "    </tr>\n",
       "    <tr>\n",
       "      <th>1</th>\n",
       "      <td>CNTYFIPS</td>\n",
       "      <td>Mã Federal Information Processing Standards (FIPS) cho bang và hạt của cơ quan hành pháp</td>\n",
       "    </tr>\n",
       "    <tr>\n",
       "      <th>2</th>\n",
       "      <td>Ori</td>\n",
       "      <td>Mã của cơ quan hành pháp</td>\n",
       "    </tr>\n",
       "    <tr>\n",
       "      <th>3</th>\n",
       "      <td>State</td>\n",
       "      <td>Tên bang</td>\n",
       "    </tr>\n",
       "    <tr>\n",
       "      <th>4</th>\n",
       "      <td>Agency</td>\n",
       "      <td>Tên cơ quan hành pháp</td>\n",
       "    </tr>\n",
       "    <tr>\n",
       "      <th>5</th>\n",
       "      <td>Agentype</td>\n",
       "      <td>Phân loại cơ quan hành pháp</td>\n",
       "    </tr>\n",
       "    <tr>\n",
       "      <th>6</th>\n",
       "      <td>Source</td>\n",
       "      <td>Nguồn thông tin</td>\n",
       "    </tr>\n",
       "    <tr>\n",
       "      <th>7</th>\n",
       "      <td>Solved</td>\n",
       "      <td>Vụ án có được phá tại thời điểm thực hiện báo cáo hay không</td>\n",
       "    </tr>\n",
       "    <tr>\n",
       "      <th>8</th>\n",
       "      <td>Year</td>\n",
       "      <td>Năm xảy ra vụ án</td>\n",
       "    </tr>\n",
       "    <tr>\n",
       "      <th>9</th>\n",
       "      <td>StateName</td>\n",
       "      <td>Tên bang</td>\n",
       "    </tr>\n",
       "    <tr>\n",
       "      <th>10</th>\n",
       "      <td>Month</td>\n",
       "      <td>Tháng xảy ra vụ án</td>\n",
       "    </tr>\n",
       "    <tr>\n",
       "      <th>11</th>\n",
       "      <td>Incident</td>\n",
       "      <td>Thứ tự của vụ án trong tháng</td>\n",
       "    </tr>\n",
       "    <tr>\n",
       "      <th>12</th>\n",
       "      <td>ActionType</td>\n",
       "      <td>Loại của báo cáo</td>\n",
       "    </tr>\n",
       "    <tr>\n",
       "      <th>13</th>\n",
       "      <td>Homicide</td>\n",
       "      <td>Loại giết người</td>\n",
       "    </tr>\n",
       "    <tr>\n",
       "      <th>14</th>\n",
       "      <td>Situation</td>\n",
       "      <td>Tình huống của vụ án (1 nạn nhân hoặc nhiều nạn nhân và 1 hung thủ hoặc nhiều hung thủ)</td>\n",
       "    </tr>\n",
       "    <tr>\n",
       "      <th>15</th>\n",
       "      <td>VicAge</td>\n",
       "      <td>Tuổi của nạn nhân</td>\n",
       "    </tr>\n",
       "    <tr>\n",
       "      <th>16</th>\n",
       "      <td>VicSex</td>\n",
       "      <td>Giới tính của nạn nhân</td>\n",
       "    </tr>\n",
       "    <tr>\n",
       "      <th>17</th>\n",
       "      <td>VicRace</td>\n",
       "      <td>Chủng tộc của nạn nhân</td>\n",
       "    </tr>\n",
       "    <tr>\n",
       "      <th>18</th>\n",
       "      <td>VicEthnic</td>\n",
       "      <td>Dân tộc của nạn nhân</td>\n",
       "    </tr>\n",
       "    <tr>\n",
       "      <th>19</th>\n",
       "      <td>OffAge</td>\n",
       "      <td>Tuổi của hung thủ</td>\n",
       "    </tr>\n",
       "    <tr>\n",
       "      <th>20</th>\n",
       "      <td>OffSex</td>\n",
       "      <td>Giới tính của hung thủ</td>\n",
       "    </tr>\n",
       "    <tr>\n",
       "      <th>21</th>\n",
       "      <td>OffRace</td>\n",
       "      <td>Chủng tộc của hung thủ</td>\n",
       "    </tr>\n",
       "    <tr>\n",
       "      <th>22</th>\n",
       "      <td>OffEthnic</td>\n",
       "      <td>Dân tộc của hung thủ</td>\n",
       "    </tr>\n",
       "    <tr>\n",
       "      <th>23</th>\n",
       "      <td>Weapon</td>\n",
       "      <td>Hung khí gây án</td>\n",
       "    </tr>\n",
       "    <tr>\n",
       "      <th>24</th>\n",
       "      <td>Relationship</td>\n",
       "      <td>Quan hệ giữa nạn nhân và hung thủ</td>\n",
       "    </tr>\n",
       "    <tr>\n",
       "      <th>25</th>\n",
       "      <td>Circumstance</td>\n",
       "      <td>Hoàn cảnh gây án</td>\n",
       "    </tr>\n",
       "    <tr>\n",
       "      <th>26</th>\n",
       "      <td>Subcircum</td>\n",
       "      <td>Hoàn cảnh mà nạn nhân được xem là 1 tội phạm hình sự</td>\n",
       "    </tr>\n",
       "    <tr>\n",
       "      <th>27</th>\n",
       "      <td>VicCount</td>\n",
       "      <td>Số nạn nhân liên can (không kể nạn nhân trong bản báo cáo hiện tại)</td>\n",
       "    </tr>\n",
       "    <tr>\n",
       "      <th>28</th>\n",
       "      <td>OffCount</td>\n",
       "      <td>Số hung thủ liên can (không kể hung thủ trong bản báo cáo hiện tại)</td>\n",
       "    </tr>\n",
       "    <tr>\n",
       "      <th>29</th>\n",
       "      <td>FileDate</td>\n",
       "      <td>Ngày vụ án được báo cáo</td>\n",
       "    </tr>\n",
       "    <tr>\n",
       "      <th>30</th>\n",
       "      <td>MSA</td>\n",
       "      <td>Mã Federal Information Processing Standards (FIPS) của Khu Đô Thị</td>\n",
       "    </tr>\n",
       "  </tbody>\n",
       "</table>\n",
       "</div>"
      ],
      "text/plain": [
       "       Đặc trưng  \\\n",
       "0             ID   \n",
       "1       CNTYFIPS   \n",
       "2            Ori   \n",
       "3          State   \n",
       "4         Agency   \n",
       "5       Agentype   \n",
       "6         Source   \n",
       "7         Solved   \n",
       "8           Year   \n",
       "9      StateName   \n",
       "10         Month   \n",
       "11      Incident   \n",
       "12    ActionType   \n",
       "13      Homicide   \n",
       "14     Situation   \n",
       "15        VicAge   \n",
       "16        VicSex   \n",
       "17       VicRace   \n",
       "18     VicEthnic   \n",
       "19        OffAge   \n",
       "20        OffSex   \n",
       "21       OffRace   \n",
       "22     OffEthnic   \n",
       "23        Weapon   \n",
       "24  Relationship   \n",
       "25  Circumstance   \n",
       "26     Subcircum   \n",
       "27      VicCount   \n",
       "28      OffCount   \n",
       "29      FileDate   \n",
       "30           MSA   \n",
       "\n",
       "                                                                                       Mô tả  \n",
       "0                                                                               ID của vụ án  \n",
       "1   Mã Federal Information Processing Standards (FIPS) cho bang và hạt của cơ quan hành pháp  \n",
       "2                                                                   Mã của cơ quan hành pháp  \n",
       "3                                                                                   Tên bang  \n",
       "4                                                                      Tên cơ quan hành pháp  \n",
       "5                                                                Phân loại cơ quan hành pháp  \n",
       "6                                                                            Nguồn thông tin  \n",
       "7                                Vụ án có được phá tại thời điểm thực hiện báo cáo hay không  \n",
       "8                                                                           Năm xảy ra vụ án  \n",
       "9                                                                                   Tên bang  \n",
       "10                                                                        Tháng xảy ra vụ án  \n",
       "11                                                              Thứ tự của vụ án trong tháng  \n",
       "12                                                                          Loại của báo cáo  \n",
       "13                                                                           Loại giết người  \n",
       "14   Tình huống của vụ án (1 nạn nhân hoặc nhiều nạn nhân và 1 hung thủ hoặc nhiều hung thủ)  \n",
       "15                                                                         Tuổi của nạn nhân  \n",
       "16                                                                    Giới tính của nạn nhân  \n",
       "17                                                                    Chủng tộc của nạn nhân  \n",
       "18                                                                      Dân tộc của nạn nhân  \n",
       "19                                                                         Tuổi của hung thủ  \n",
       "20                                                                    Giới tính của hung thủ  \n",
       "21                                                                    Chủng tộc của hung thủ  \n",
       "22                                                                      Dân tộc của hung thủ  \n",
       "23                                                                           Hung khí gây án  \n",
       "24                                                         Quan hệ giữa nạn nhân và hung thủ  \n",
       "25                                                                          Hoàn cảnh gây án  \n",
       "26                                      Hoàn cảnh mà nạn nhân được xem là 1 tội phạm hình sự  \n",
       "27                       Số nạn nhân liên can (không kể nạn nhân trong bản báo cáo hiện tại)  \n",
       "28                       Số hung thủ liên can (không kể hung thủ trong bản báo cáo hiện tại)  \n",
       "29                                                                   Ngày vụ án được báo cáo  \n",
       "30                         Mã Federal Information Processing Standards (FIPS) của Khu Đô Thị  "
      ]
     },
     "execution_count": 251,
     "metadata": {},
     "output_type": "execute_result"
    }
   ],
   "source": [
    "des_df = pd.read_csv('description.csv')\n",
    "pd.set_option('display.max_colwidth', None)\n",
    "des_df"
   ]
  },
  {
   "attachments": {},
   "cell_type": "markdown",
   "metadata": {},
   "source": [
    "## Kiểm tra kiểu dữ liệu của các cột và điều chỉnh cho phù hợp"
   ]
  },
  {
   "attachments": {},
   "cell_type": "markdown",
   "metadata": {},
   "source": [
    "- Kiểm tra kiểu dữ liệu của từng cột"
   ]
  },
  {
   "cell_type": "code",
   "execution_count": 252,
   "metadata": {},
   "outputs": [
    {
     "data": {
      "text/plain": [
       "ID               object\n",
       "CNTYFIPS         object\n",
       "Ori              object\n",
       "State            object\n",
       "Agency           object\n",
       "Agentype         object\n",
       "Source           object\n",
       "Solved           object\n",
       "Year              int64\n",
       "StateName        object\n",
       "Month            object\n",
       "Incident          int64\n",
       "ActionType       object\n",
       "Homicide         object\n",
       "Situation        object\n",
       "VicAge            int64\n",
       "VicSex           object\n",
       "VicRace          object\n",
       "VicEthnic        object\n",
       "OffAge            int64\n",
       "OffSex           object\n",
       "OffRace          object\n",
       "OffEthnic        object\n",
       "Weapon           object\n",
       "Relationship     object\n",
       "Circumstance     object\n",
       "Subcircum        object\n",
       "VicCount          int64\n",
       "OffCount          int64\n",
       "FileDate        float64\n",
       "MSA              object\n",
       "dtype: object"
      ]
     },
     "execution_count": 252,
     "metadata": {},
     "output_type": "execute_result"
    }
   ],
   "source": [
    "homi_df.dtypes"
   ]
  },
  {
   "attachments": {},
   "cell_type": "markdown",
   "metadata": {},
   "source": [
    "---"
   ]
  },
  {
   "cell_type": "code",
   "execution_count": 253,
   "metadata": {},
   "outputs": [
    {
     "data": {
      "text/plain": [
       "array([nan, 'FLA', 'ALABAM', 'ALASKA', 'ARIZON', 'ARKANS', 'CALIFO',\n",
       "       'COLORA', 'CONNEC', 'DELAWA', 'FEDERA', 'DISTRI', 'FLORID',\n",
       "       'GEORGI', 'HAWAII', 'IDAHO', 'ILLINO', 'INDIAN', 'IOWA', 'KANSAS',\n",
       "       'KENTUC', 'LOUISI', 'MAINE', 'MARYLA', 'MASSAC', 'MICHIG',\n",
       "       'MINNES', 'MISSIS', 'MISSOU', 'MONTAN', 'NEBRAS', 'NEVADA',\n",
       "       'NEW HA', 'NEW JE', 'NEW ME', 'NEW YO', 'NORTH', 'OHIO', 'OKLAHO',\n",
       "       'OREGON', 'PENNSY', 'RHODE', 'SOUTH', 'TENNES', 'TEXAS', 'UTAH',\n",
       "       'VERMON', 'VIRGIN', 'WASHIN', 'WEST V', 'WISCON', 'WYOMIN'],\n",
       "      dtype=object)"
      ]
     },
     "execution_count": 253,
     "metadata": {},
     "output_type": "execute_result"
    }
   ],
   "source": [
    "homi_df['StateName'].unique()"
   ]
  },
  {
   "cell_type": "code",
   "execution_count": 254,
   "metadata": {},
   "outputs": [
    {
     "data": {
      "text/plain": [
       "array([<class 'float'>, <class 'str'>], dtype=object)"
      ]
     },
     "execution_count": 254,
     "metadata": {},
     "output_type": "execute_result"
    }
   ],
   "source": [
    "dtype = homi_df['StateName'].apply(lambda i: type(i))\n",
    "dtype.unique()"
   ]
  },
  {
   "cell_type": "code",
   "execution_count": 255,
   "metadata": {},
   "outputs": [
    {
     "data": {
      "text/plain": [
       "69378"
      ]
     },
     "execution_count": 255,
     "metadata": {},
     "output_type": "execute_result"
    }
   ],
   "source": [
    "len(homi_df[homi_df['StateName'].isna()])"
   ]
  },
  {
   "attachments": {},
   "cell_type": "markdown",
   "metadata": {},
   "source": [
    "- Ta thấy cột `StateName` chứa dữ liệu hỗn hợp với dữ liệu `nan` là float và tên các bang là string. Tuy nhiên có đến 69378 dòng là nan. Hơn nữa, tên bang cũng đã được lưu trong cột dữ liệu `State`. Cho nên, ta có thể xóa cột dữ liệu này (ở bước ***Xử lý các dòng bị thiếu dữ liệu***)."
   ]
  },
  {
   "cell_type": "markdown",
   "metadata": {},
   "source": [
    "---"
   ]
  },
  {
   "cell_type": "code",
   "execution_count": 256,
   "metadata": {},
   "outputs": [
    {
     "data": {
      "text/plain": [
       "array([  0,   1,   2,   3,   4,   5,   6,   7,   8,   9,  10,  11,  12,\n",
       "        13,  14,  15,  16,  17,  18,  19,  20,  21,  22,  23,  24,  25,\n",
       "        26,  27,  28,  29,  30,  31,  32,  33,  34,  35,  36,  37,  38,\n",
       "        39,  40,  41,  42,  43,  44,  45,  46,  47,  48,  49,  50,  51,\n",
       "        52,  53,  54,  55,  56,  57,  58,  59,  60,  61,  62,  63,  64,\n",
       "        65,  66,  67,  68,  69,  70,  71,  72,  73,  74,  75,  76,  77,\n",
       "        78,  79,  80,  81,  82,  83,  84,  85,  86,  87,  88,  89,  90,\n",
       "        91,  92,  93,  94,  95,  96,  97,  98,  99, 999], dtype=int64)"
      ]
     },
     "execution_count": 256,
     "metadata": {},
     "output_type": "execute_result"
    }
   ],
   "source": [
    "np.sort(homi_df['VicAge'].unique())"
   ]
  },
  {
   "attachments": {},
   "cell_type": "markdown",
   "metadata": {},
   "source": [
    "- Ta thấy có những dòng mà tuổi của nạn nhân là 999. Ở đây, do kiểu dữ liệu của cột VicAge là số nguyên cho nên tác giả dùng 1 con số đặc biệt để biểu thị cho giá trị không biết của tuổi nạn nhân, cụ thể là 999. Việc này có thể xem bình thường cho nên không cần thay đổi gì cả."
   ]
  },
  {
   "attachments": {},
   "cell_type": "markdown",
   "metadata": {},
   "source": [
    "---"
   ]
  },
  {
   "cell_type": "code",
   "execution_count": 257,
   "metadata": {},
   "outputs": [
    {
     "data": {
      "text/plain": [
       "array([  0,   1,   3,   4,   5,   6,   7,   8,   9,  10,  11,  12,  13,\n",
       "        14,  15,  16,  17,  18,  19,  20,  21,  22,  23,  24,  25,  26,\n",
       "        27,  28,  29,  30,  31,  32,  33,  34,  35,  36,  37,  38,  39,\n",
       "        40,  41,  42,  43,  44,  45,  46,  47,  48,  49,  50,  51,  52,\n",
       "        53,  54,  55,  56,  57,  58,  59,  60,  61,  62,  63,  64,  65,\n",
       "        66,  67,  68,  69,  70,  71,  72,  73,  74,  75,  76,  77,  78,\n",
       "        79,  80,  81,  82,  83,  84,  85,  86,  87,  88,  89,  90,  91,\n",
       "        92,  93,  94,  95,  96,  97,  98,  99, 999], dtype=int64)"
      ]
     },
     "execution_count": 257,
     "metadata": {},
     "output_type": "execute_result"
    }
   ],
   "source": [
    "np.sort(homi_df['OffAge'].unique())"
   ]
  },
  {
   "attachments": {},
   "cell_type": "markdown",
   "metadata": {},
   "source": [
    "- Đối với cột OffAge thì lý giải cũng tương tự như đối với cột VicAge."
   ]
  },
  {
   "attachments": {},
   "cell_type": "markdown",
   "metadata": {},
   "source": [
    "---"
   ]
  },
  {
   "cell_type": "code",
   "execution_count": 258,
   "metadata": {},
   "outputs": [
    {
     "data": {
      "text/plain": [
       "array([nan, 'Felon killed in commission of a crime',\n",
       "       'Felon attacked police officer', 'Felon attacked a civilian',\n",
       "       'Not enough information to determine',\n",
       "       'Felon attacked fellow police officer', 'Felon resisted arrest',\n",
       "       'Felon attempted flight from a crime'], dtype=object)"
      ]
     },
     "execution_count": 258,
     "metadata": {},
     "output_type": "execute_result"
    }
   ],
   "source": [
    "homi_df['Subcircum'].unique()"
   ]
  },
  {
   "cell_type": "code",
   "execution_count": 259,
   "metadata": {},
   "outputs": [
    {
     "data": {
      "text/plain": [
       "array([<class 'float'>, <class 'str'>], dtype=object)"
      ]
     },
     "execution_count": 259,
     "metadata": {},
     "output_type": "execute_result"
    }
   ],
   "source": [
    "dtype = homi_df['Subcircum'].apply(lambda i: type(i))\n",
    "dtype.unique()"
   ]
  },
  {
   "attachments": {},
   "cell_type": "markdown",
   "metadata": {},
   "source": [
    "- Ta thấy cột `Subcircum` cũng chứa dữ liệu hỗn hợp như cột StateName. Tuy nhiên, các dòng chứa dữ liệu khác `nan` có vai trò làm rõ cho hoàn cảnh gây án. Do đó, chúng ta sẽ không bỏ cột này đi, và thay các giá trị `nan` bằng `Not specified`."
   ]
  },
  {
   "cell_type": "code",
   "execution_count": 260,
   "metadata": {},
   "outputs": [
    {
     "data": {
      "text/plain": [
       "87367"
      ]
     },
     "execution_count": 260,
     "metadata": {},
     "output_type": "execute_result"
    }
   ],
   "source": [
    "len(homi_df[homi_df['Subcircum'].isna()])"
   ]
  },
  {
   "cell_type": "code",
   "execution_count": 261,
   "metadata": {},
   "outputs": [
    {
     "name": "stderr",
     "output_type": "stream",
     "text": [
      "c:\\Users\\Admin\\AppData\\Local\\Programs\\Python\\Python310\\lib\\site-packages\\pandas\\core\\generic.py:6619: SettingWithCopyWarning: \n",
      "A value is trying to be set on a copy of a slice from a DataFrame\n",
      "\n",
      "See the caveats in the documentation: https://pandas.pydata.org/pandas-docs/stable/user_guide/indexing.html#returning-a-view-versus-a-copy\n",
      "  return self._update_inplace(result)\n"
     ]
    }
   ],
   "source": [
    "homi_df['Subcircum'].replace(np.nan, 'Not specified', inplace=True)"
   ]
  },
  {
   "cell_type": "code",
   "execution_count": 262,
   "metadata": {},
   "outputs": [
    {
     "data": {
      "text/plain": [
       "87367"
      ]
     },
     "execution_count": 262,
     "metadata": {},
     "output_type": "execute_result"
    }
   ],
   "source": [
    "len(homi_df[homi_df['Subcircum'] == 'Not specified'])"
   ]
  },
  {
   "attachments": {},
   "cell_type": "markdown",
   "metadata": {},
   "source": [
    "- Kiểm tra lại kiểu dữ liệu"
   ]
  },
  {
   "cell_type": "code",
   "execution_count": 263,
   "metadata": {},
   "outputs": [
    {
     "data": {
      "text/plain": [
       "array([<class 'str'>], dtype=object)"
      ]
     },
     "execution_count": 263,
     "metadata": {},
     "output_type": "execute_result"
    }
   ],
   "source": [
    "new_dtype = homi_df['Subcircum'].apply(lambda i: type(i))\n",
    "new_dtype.unique()"
   ]
  },
  {
   "attachments": {},
   "cell_type": "markdown",
   "metadata": {},
   "source": [
    "---"
   ]
  },
  {
   "cell_type": "code",
   "execution_count": 265,
   "metadata": {},
   "outputs": [
    {
     "data": {
      "text/plain": [
       "array([ 92517.,  11818.,  11317., 110716.,  33017.,  22717.,  51917.,\n",
       "        71216.,  32117.,  82316.,  82416.,  91616., 112216.,  42617.,\n",
       "        20317.,  31717.,  42117.,  81916., 101116.,  33117., 121417.,\n",
       "        30217., 120516.,  41817.,  90717.,  71416.,  71816., 122316.,\n",
       "       101316., 122917.,  82516.,  72116.,  32017.,  21517.,  71316.,\n",
       "        92016., 122216.,  12317., 101216., 111716.,  41217.,  40717.,\n",
       "        41117.,  12017.,  30817., 113016.,  91416.,  12717.,  22117.,\n",
       "        81017.,  30117.,  72216., 111616.,  71916.,  81116., 121916.,\n",
       "        51817.,  11117.,  80417.,  42717.,  50817.,  21216.,  31017.,\n",
       "        40417.,  81417.,  20217.,  51117.,  51517.,  53017.,  42017.,\n",
       "        30317.,  41317., 100716.,  32717.,  90616.,  22817.,  10317.,\n",
       "       120616.,  72616.,  51217.,  51017.,  50417., 100616.,  42817.,\n",
       "       120216.,  40517.,  82817.,  11217., 110816.,  50117.,  82317.,\n",
       "       121917.,  91117., 110117.,  80416., 100316.,  80816.,  92116.,\n",
       "        11717.,  21617., 101816., 111016., 102617.,  41917.,  72816.,\n",
       "       122016.,  81016., 101416.,  80216., 100416.,  30617.,  50217.,\n",
       "       111816.,  92616.,  20117.,  80116., 121317.,  30717.,  92716.,\n",
       "        90817.,  11817.,  21717.,  10218., 121517.,  81517., 121616.,\n",
       "        81216.,  80316.,  52217.,  90916.,  50917., 111416.,  40317.,\n",
       "        83017.,  42517.,  90716., 110916.,  91417.,  80717., 112717.,\n",
       "        80917.,  71516.,  53117., 103017., 112816.,  90816., 112116.,\n",
       "        42417., 103117.,  32217.,  41017., 100516.,  10917.,  10417.,\n",
       "        12617.,  10318.,  90517., 111617.,  60117.,  81516.,  91916.,\n",
       "        81616.,  11917., 120816., 120716.,  41717.,  91516.,  30118.,\n",
       "        21419.,  70618.,  92518.,  91418.,  91718.,  30819., 112818.,\n",
       "        91818.,  21319.,  31519.,  31419.,  12819.,  90618., 101618.,\n",
       "        21119.,  30419.,  92418.,  91318.,  71618.,  22219.,  91118.,\n",
       "        20419.,  30619.,  71718.,  22019.,  22819.,  90718.,  90518.,\n",
       "        71818.,  91218.,  11719.,  31919.,  71318.,     nan,  72718.,\n",
       "        80118.,  73018.,  21919.,  32019.,  82018.,  91018., 112118.,\n",
       "       111318., 111618., 111518., 112918.,  32119., 112718., 110918.,\n",
       "       102918., 110818., 122118.,  22119.,  31819.,  11619.,  21219.,\n",
       "        30719., 102218.,  83118., 102418.,  12219.,  82918.,  71018.,\n",
       "        22719.,  31319.,  81718.,  90418.,  12519., 120618.,  13119.,\n",
       "        92818., 101918.,  12919.,  22519.,  22619.,  20819., 101818.,\n",
       "        81418.,  12419., 111018., 100318.,  82118., 110118., 120318.,\n",
       "        73118., 101118., 102518., 121918.,  80618.,  20519.,  30519.,\n",
       "       110518.,  71118.,  71218.,  13019.,  20719.,  80518.,  92118.,\n",
       "        21519.,  92018.,  20619., 102318.,  41918.,  60118.,  42618.,\n",
       "       122818.,  53118.,  70119., 111418., 100219.,  60518.,  40918.,\n",
       "        92719.,  51618.,  41318., 122718.,  61819.,  81318.,  73119.,\n",
       "        42619.,  80218.,  80818.,  10719.,  41819., 121018., 121218.,\n",
       "        21819.,  70819., 100319.,  11019.,  82219.,  12719., 122018.,\n",
       "        10919.,  52219.,  22218.,  53019.,  22718.,  62419.,  50418.,\n",
       "        32918.,  40919.,  30918.,  30418.,  22618.,  41718.,  71819.,\n",
       "       103018.,  32718.,  21618.,  12218.,  61219.,  12318.,  50218.,\n",
       "        80918.,  32018.,  31918.,  20818.,  11218.,  60419.,  81018.,\n",
       "        82019.,  82218.,  71918.,  70918.,  80718.,  72419.,  72018.,\n",
       "        82718.,  83018.,  72418.,  70518., 121318.,  62218.,  62818.,\n",
       "        61118.,  61918.,  70318.,  82318.,  31418.,  50818.,  40218.,\n",
       "        40418.,  30618.,  62518.,  41118.,  41018.,  32618.,  42518.,\n",
       "        41219.,  30318.,  62619., 123018.,  93019.,  72318.,  62918.,\n",
       "       100918.,  60818.,  11419.,  60718.,  60618.,  50519.,  12319.,\n",
       "        51719.,  71519.,  40819.,  50619., 112618., 122618.,  81619.,\n",
       "        32819.,  51619.,  91918., 110718.,  70519., 102618., 112018.,\n",
       "        43020.,  50420.,  92821.,  83121.,  61421.])"
      ]
     },
     "execution_count": 265,
     "metadata": {},
     "output_type": "execute_result"
    }
   ],
   "source": [
    "homi_df['FileDate'].unique()"
   ]
  },
  {
   "cell_type": "code",
   "execution_count": 267,
   "metadata": {},
   "outputs": [
    {
     "data": {
      "text/plain": [
       "2510"
      ]
     },
     "execution_count": 267,
     "metadata": {},
     "output_type": "execute_result"
    }
   ],
   "source": [
    "len(homi_df[homi_df['FileDate'].isna()])"
   ]
  },
  {
   "attachments": {},
   "cell_type": "markdown",
   "metadata": {},
   "source": [
    "- Ở đây, dữ liệu (khác `nan`) của mỗi dòng là dãy số tượng trưng cho ngày, tháng, năm của thời điểm thực hiện báo cáo về vụ án. Những dòng này đúng ra phải nên được chuyển về dang datetime. Tuy nhiên do tính liên quan đến vấn đề không được chặt chẽ lắm (thời điểm thực hiện báo cáo có thể không trùng với thời điểm gây án, và có thể chỉ là thời điểm được ước tính), nên ta có thể bỏ cột này đi (ở bước ***Xử lý các dòng bị thiếu dữ liệu***)."
   ]
  },
  {
   "attachments": {},
   "cell_type": "markdown",
   "metadata": {},
   "source": [
    "---"
   ]
  },
  {
   "attachments": {},
   "cell_type": "markdown",
   "metadata": {},
   "source": [
    "- Kiểm tra kiểu dữ liệu của tất cả các cột 1 lần nữa"
   ]
  },
  {
   "cell_type": "code",
   "execution_count": 268,
   "metadata": {},
   "outputs": [
    {
     "data": {
      "text/plain": [
       "ID               object\n",
       "CNTYFIPS         object\n",
       "Ori              object\n",
       "State            object\n",
       "Agency           object\n",
       "Agentype         object\n",
       "Source           object\n",
       "Solved           object\n",
       "Year              int64\n",
       "StateName        object\n",
       "Month            object\n",
       "Incident          int64\n",
       "ActionType       object\n",
       "Homicide         object\n",
       "Situation        object\n",
       "VicAge            int64\n",
       "VicSex           object\n",
       "VicRace          object\n",
       "VicEthnic        object\n",
       "OffAge            int64\n",
       "OffSex           object\n",
       "OffRace          object\n",
       "OffEthnic        object\n",
       "Weapon           object\n",
       "Relationship     object\n",
       "Circumstance     object\n",
       "Subcircum        object\n",
       "VicCount          int64\n",
       "OffCount          int64\n",
       "FileDate        float64\n",
       "MSA              object\n",
       "dtype: object"
      ]
     },
     "execution_count": 268,
     "metadata": {},
     "output_type": "execute_result"
    }
   ],
   "source": [
    "homi_df.dtypes"
   ]
  },
  {
   "attachments": {},
   "cell_type": "markdown",
   "metadata": {},
   "source": [
    "- Kiểm tra lại toàn bộ tập dữ liệu"
   ]
  },
  {
   "cell_type": "code",
   "execution_count": 269,
   "metadata": {},
   "outputs": [
    {
     "data": {
      "text/html": [
       "<div>\n",
       "<style scoped>\n",
       "    .dataframe tbody tr th:only-of-type {\n",
       "        vertical-align: middle;\n",
       "    }\n",
       "\n",
       "    .dataframe tbody tr th {\n",
       "        vertical-align: top;\n",
       "    }\n",
       "\n",
       "    .dataframe thead th {\n",
       "        text-align: right;\n",
       "    }\n",
       "</style>\n",
       "<table border=\"1\" class=\"dataframe\">\n",
       "  <thead>\n",
       "    <tr style=\"text-align: right;\">\n",
       "      <th></th>\n",
       "      <th>ID</th>\n",
       "      <th>CNTYFIPS</th>\n",
       "      <th>Ori</th>\n",
       "      <th>State</th>\n",
       "      <th>Agency</th>\n",
       "      <th>Agentype</th>\n",
       "      <th>Source</th>\n",
       "      <th>Solved</th>\n",
       "      <th>Year</th>\n",
       "      <th>StateName</th>\n",
       "      <th>...</th>\n",
       "      <th>OffRace</th>\n",
       "      <th>OffEthnic</th>\n",
       "      <th>Weapon</th>\n",
       "      <th>Relationship</th>\n",
       "      <th>Circumstance</th>\n",
       "      <th>Subcircum</th>\n",
       "      <th>VicCount</th>\n",
       "      <th>OffCount</th>\n",
       "      <th>FileDate</th>\n",
       "      <th>MSA</th>\n",
       "    </tr>\n",
       "  </thead>\n",
       "  <tbody>\n",
       "    <tr>\n",
       "      <th>0</th>\n",
       "      <td>201604266AL06201</td>\n",
       "      <td>Tallapoosa, AL</td>\n",
       "      <td>AL06201</td>\n",
       "      <td>Alabama</td>\n",
       "      <td>Alexander City</td>\n",
       "      <td>Municipal police</td>\n",
       "      <td>MAP</td>\n",
       "      <td>Yes</td>\n",
       "      <td>2016</td>\n",
       "      <td>NaN</td>\n",
       "      <td>...</td>\n",
       "      <td>White</td>\n",
       "      <td>Unknown or not reported</td>\n",
       "      <td>Firearm, type not stated</td>\n",
       "      <td>Relationship not determined</td>\n",
       "      <td>Circumstances undetermined</td>\n",
       "      <td>Not specified</td>\n",
       "      <td>0</td>\n",
       "      <td>0</td>\n",
       "      <td>92517.0</td>\n",
       "      <td>Rural Alabama</td>\n",
       "    </tr>\n",
       "    <tr>\n",
       "      <th>1</th>\n",
       "      <td>201604265AL05003</td>\n",
       "      <td>Marshall, AL</td>\n",
       "      <td>AL05003</td>\n",
       "      <td>Alabama</td>\n",
       "      <td>Arab</td>\n",
       "      <td>Municipal police</td>\n",
       "      <td>MAP</td>\n",
       "      <td>Yes</td>\n",
       "      <td>2016</td>\n",
       "      <td>NaN</td>\n",
       "      <td>...</td>\n",
       "      <td>White</td>\n",
       "      <td>Unknown or not reported</td>\n",
       "      <td>Handgun - pistol, revolver, etc</td>\n",
       "      <td>Relationship not determined</td>\n",
       "      <td>Other negligent handling of gun</td>\n",
       "      <td>Not specified</td>\n",
       "      <td>0</td>\n",
       "      <td>0</td>\n",
       "      <td>92517.0</td>\n",
       "      <td>Rural Alabama</td>\n",
       "    </tr>\n",
       "    <tr>\n",
       "      <th>2</th>\n",
       "      <td>201604529AL04301</td>\n",
       "      <td>Lee, AL</td>\n",
       "      <td>AL04301</td>\n",
       "      <td>Alabama</td>\n",
       "      <td>Auburn</td>\n",
       "      <td>Municipal police</td>\n",
       "      <td>MAP</td>\n",
       "      <td>Yes</td>\n",
       "      <td>2016</td>\n",
       "      <td>NaN</td>\n",
       "      <td>...</td>\n",
       "      <td>Black</td>\n",
       "      <td>Unknown or not reported</td>\n",
       "      <td>Firearm, type not stated</td>\n",
       "      <td>Other family</td>\n",
       "      <td>Other - not specified</td>\n",
       "      <td>Not specified</td>\n",
       "      <td>0</td>\n",
       "      <td>0</td>\n",
       "      <td>92517.0</td>\n",
       "      <td>Auburn-Opelika, AL</td>\n",
       "    </tr>\n",
       "    <tr>\n",
       "      <th>3</th>\n",
       "      <td>201604593AL04301</td>\n",
       "      <td>Lee, AL</td>\n",
       "      <td>AL04301</td>\n",
       "      <td>Alabama</td>\n",
       "      <td>Auburn</td>\n",
       "      <td>Municipal police</td>\n",
       "      <td>MAP</td>\n",
       "      <td>Yes</td>\n",
       "      <td>2016</td>\n",
       "      <td>NaN</td>\n",
       "      <td>...</td>\n",
       "      <td>Black</td>\n",
       "      <td>Unknown or not reported</td>\n",
       "      <td>Firearm, type not stated</td>\n",
       "      <td>Relationship not determined</td>\n",
       "      <td>Other - not specified</td>\n",
       "      <td>Not specified</td>\n",
       "      <td>0</td>\n",
       "      <td>0</td>\n",
       "      <td>92517.0</td>\n",
       "      <td>Auburn-Opelika, AL</td>\n",
       "    </tr>\n",
       "    <tr>\n",
       "      <th>4</th>\n",
       "      <td>201604594AL04301</td>\n",
       "      <td>Lee, AL</td>\n",
       "      <td>AL04301</td>\n",
       "      <td>Alabama</td>\n",
       "      <td>Auburn</td>\n",
       "      <td>Municipal police</td>\n",
       "      <td>MAP</td>\n",
       "      <td>Yes</td>\n",
       "      <td>2016</td>\n",
       "      <td>NaN</td>\n",
       "      <td>...</td>\n",
       "      <td>Black</td>\n",
       "      <td>Unknown or not reported</td>\n",
       "      <td>Firearm, type not stated</td>\n",
       "      <td>Relationship not determined</td>\n",
       "      <td>Other - not specified</td>\n",
       "      <td>Not specified</td>\n",
       "      <td>0</td>\n",
       "      <td>0</td>\n",
       "      <td>92517.0</td>\n",
       "      <td>Auburn-Opelika, AL</td>\n",
       "    </tr>\n",
       "    <tr>\n",
       "      <th>...</th>\n",
       "      <td>...</td>\n",
       "      <td>...</td>\n",
       "      <td>...</td>\n",
       "      <td>...</td>\n",
       "      <td>...</td>\n",
       "      <td>...</td>\n",
       "      <td>...</td>\n",
       "      <td>...</td>\n",
       "      <td>...</td>\n",
       "      <td>...</td>\n",
       "      <td>...</td>\n",
       "      <td>...</td>\n",
       "      <td>...</td>\n",
       "      <td>...</td>\n",
       "      <td>...</td>\n",
       "      <td>...</td>\n",
       "      <td>...</td>\n",
       "      <td>...</td>\n",
       "      <td>...</td>\n",
       "      <td>...</td>\n",
       "      <td>...</td>\n",
       "    </tr>\n",
       "    <tr>\n",
       "      <th>92086</th>\n",
       "      <td>202003001WY01700</td>\n",
       "      <td>Sheridan, WY</td>\n",
       "      <td>WY01700</td>\n",
       "      <td>Wyoming</td>\n",
       "      <td>Sheridan County</td>\n",
       "      <td>Sheriff</td>\n",
       "      <td>FBI</td>\n",
       "      <td>Yes</td>\n",
       "      <td>2020</td>\n",
       "      <td>WYOMIN</td>\n",
       "      <td>...</td>\n",
       "      <td>American Indian or Alaskan Native</td>\n",
       "      <td>Not of Hispanic origin</td>\n",
       "      <td>Handgun - pistol, revolver, etc</td>\n",
       "      <td>Sister</td>\n",
       "      <td>Brawl due to influence of alcohol</td>\n",
       "      <td>Not specified</td>\n",
       "      <td>2</td>\n",
       "      <td>0</td>\n",
       "      <td>83121.0</td>\n",
       "      <td>Rural Wyoming</td>\n",
       "    </tr>\n",
       "    <tr>\n",
       "      <th>92087</th>\n",
       "      <td>202003001WY01700</td>\n",
       "      <td>Sheridan, WY</td>\n",
       "      <td>WY01700</td>\n",
       "      <td>Wyoming</td>\n",
       "      <td>Sheridan County</td>\n",
       "      <td>Sheriff</td>\n",
       "      <td>FBI</td>\n",
       "      <td>Yes</td>\n",
       "      <td>2020</td>\n",
       "      <td>WYOMIN</td>\n",
       "      <td>...</td>\n",
       "      <td>American Indian or Alaskan Native</td>\n",
       "      <td>Not of Hispanic origin</td>\n",
       "      <td>Handgun - pistol, revolver, etc</td>\n",
       "      <td>Sister</td>\n",
       "      <td>Brawl due to influence of alcohol</td>\n",
       "      <td>Not specified</td>\n",
       "      <td>2</td>\n",
       "      <td>0</td>\n",
       "      <td>83121.0</td>\n",
       "      <td>Rural Wyoming</td>\n",
       "    </tr>\n",
       "    <tr>\n",
       "      <th>92088</th>\n",
       "      <td>202005001WY01101</td>\n",
       "      <td>Laramie, WY</td>\n",
       "      <td>WY01101</td>\n",
       "      <td>Wyoming</td>\n",
       "      <td>Cheyenne</td>\n",
       "      <td>Municipal police</td>\n",
       "      <td>FBI</td>\n",
       "      <td>Yes</td>\n",
       "      <td>2020</td>\n",
       "      <td>WYOMIN</td>\n",
       "      <td>...</td>\n",
       "      <td>White</td>\n",
       "      <td>Not of Hispanic origin</td>\n",
       "      <td>Firearm, type not stated</td>\n",
       "      <td>Other - known to victim</td>\n",
       "      <td>Other arguments</td>\n",
       "      <td>Not specified</td>\n",
       "      <td>0</td>\n",
       "      <td>0</td>\n",
       "      <td>83121.0</td>\n",
       "      <td>Cheyenne, WY</td>\n",
       "    </tr>\n",
       "    <tr>\n",
       "      <th>92089</th>\n",
       "      <td>202005001WY01100</td>\n",
       "      <td>Laramie, WY</td>\n",
       "      <td>WY01100</td>\n",
       "      <td>Wyoming</td>\n",
       "      <td>Laramie County</td>\n",
       "      <td>Sheriff</td>\n",
       "      <td>FBI</td>\n",
       "      <td>Yes</td>\n",
       "      <td>2020</td>\n",
       "      <td>WYOMIN</td>\n",
       "      <td>...</td>\n",
       "      <td>White</td>\n",
       "      <td>Hispanic origin</td>\n",
       "      <td>Handgun - pistol, revolver, etc</td>\n",
       "      <td>Boyfriend</td>\n",
       "      <td>Other arguments</td>\n",
       "      <td>Not specified</td>\n",
       "      <td>0</td>\n",
       "      <td>0</td>\n",
       "      <td>83121.0</td>\n",
       "      <td>Cheyenne, WY</td>\n",
       "    </tr>\n",
       "    <tr>\n",
       "      <th>92090</th>\n",
       "      <td>202011001WY00702</td>\n",
       "      <td>Fremont, WY</td>\n",
       "      <td>WY00702</td>\n",
       "      <td>Wyoming</td>\n",
       "      <td>Riverton</td>\n",
       "      <td>Municipal police</td>\n",
       "      <td>FBI</td>\n",
       "      <td>Yes</td>\n",
       "      <td>2020</td>\n",
       "      <td>WYOMIN</td>\n",
       "      <td>...</td>\n",
       "      <td>White</td>\n",
       "      <td>Not of Hispanic origin</td>\n",
       "      <td>Handgun - pistol, revolver, etc</td>\n",
       "      <td>Wife</td>\n",
       "      <td>Other negligent handling of gun</td>\n",
       "      <td>Not specified</td>\n",
       "      <td>0</td>\n",
       "      <td>0</td>\n",
       "      <td>83121.0</td>\n",
       "      <td>Rural Wyoming</td>\n",
       "    </tr>\n",
       "  </tbody>\n",
       "</table>\n",
       "<p>91777 rows × 31 columns</p>\n",
       "</div>"
      ],
      "text/plain": [
       "                     ID        CNTYFIPS      Ori    State           Agency  \\\n",
       "0      201604266AL06201  Tallapoosa, AL  AL06201  Alabama   Alexander City   \n",
       "1      201604265AL05003    Marshall, AL  AL05003  Alabama             Arab   \n",
       "2      201604529AL04301         Lee, AL  AL04301  Alabama           Auburn   \n",
       "3      201604593AL04301         Lee, AL  AL04301  Alabama           Auburn   \n",
       "4      201604594AL04301         Lee, AL  AL04301  Alabama           Auburn   \n",
       "...                 ...             ...      ...      ...              ...   \n",
       "92086  202003001WY01700    Sheridan, WY  WY01700  Wyoming  Sheridan County   \n",
       "92087  202003001WY01700    Sheridan, WY  WY01700  Wyoming  Sheridan County   \n",
       "92088  202005001WY01101     Laramie, WY  WY01101  Wyoming         Cheyenne   \n",
       "92089  202005001WY01100     Laramie, WY  WY01100  Wyoming   Laramie County   \n",
       "92090  202011001WY00702     Fremont, WY  WY00702  Wyoming         Riverton   \n",
       "\n",
       "               Agentype Source Solved  Year StateName  ...  \\\n",
       "0      Municipal police    MAP    Yes  2016       NaN  ...   \n",
       "1      Municipal police    MAP    Yes  2016       NaN  ...   \n",
       "2      Municipal police    MAP    Yes  2016       NaN  ...   \n",
       "3      Municipal police    MAP    Yes  2016       NaN  ...   \n",
       "4      Municipal police    MAP    Yes  2016       NaN  ...   \n",
       "...                 ...    ...    ...   ...       ...  ...   \n",
       "92086           Sheriff    FBI    Yes  2020    WYOMIN  ...   \n",
       "92087           Sheriff    FBI    Yes  2020    WYOMIN  ...   \n",
       "92088  Municipal police    FBI    Yes  2020    WYOMIN  ...   \n",
       "92089           Sheriff    FBI    Yes  2020    WYOMIN  ...   \n",
       "92090  Municipal police    FBI    Yes  2020    WYOMIN  ...   \n",
       "\n",
       "                                 OffRace                OffEthnic  \\\n",
       "0                                  White  Unknown or not reported   \n",
       "1                                  White  Unknown or not reported   \n",
       "2                                  Black  Unknown or not reported   \n",
       "3                                  Black  Unknown or not reported   \n",
       "4                                  Black  Unknown or not reported   \n",
       "...                                  ...                      ...   \n",
       "92086  American Indian or Alaskan Native   Not of Hispanic origin   \n",
       "92087  American Indian or Alaskan Native   Not of Hispanic origin   \n",
       "92088                              White   Not of Hispanic origin   \n",
       "92089                              White          Hispanic origin   \n",
       "92090                              White   Not of Hispanic origin   \n",
       "\n",
       "                                Weapon                 Relationship  \\\n",
       "0             Firearm, type not stated  Relationship not determined   \n",
       "1      Handgun - pistol, revolver, etc  Relationship not determined   \n",
       "2             Firearm, type not stated                 Other family   \n",
       "3             Firearm, type not stated  Relationship not determined   \n",
       "4             Firearm, type not stated  Relationship not determined   \n",
       "...                                ...                          ...   \n",
       "92086  Handgun - pistol, revolver, etc                       Sister   \n",
       "92087  Handgun - pistol, revolver, etc                       Sister   \n",
       "92088         Firearm, type not stated      Other - known to victim   \n",
       "92089  Handgun - pistol, revolver, etc                    Boyfriend   \n",
       "92090  Handgun - pistol, revolver, etc                         Wife   \n",
       "\n",
       "                            Circumstance      Subcircum VicCount OffCount  \\\n",
       "0             Circumstances undetermined  Not specified        0        0   \n",
       "1        Other negligent handling of gun  Not specified        0        0   \n",
       "2                  Other - not specified  Not specified        0        0   \n",
       "3                  Other - not specified  Not specified        0        0   \n",
       "4                  Other - not specified  Not specified        0        0   \n",
       "...                                  ...            ...      ...      ...   \n",
       "92086  Brawl due to influence of alcohol  Not specified        2        0   \n",
       "92087  Brawl due to influence of alcohol  Not specified        2        0   \n",
       "92088                    Other arguments  Not specified        0        0   \n",
       "92089                    Other arguments  Not specified        0        0   \n",
       "92090    Other negligent handling of gun  Not specified        0        0   \n",
       "\n",
       "      FileDate                 MSA  \n",
       "0      92517.0       Rural Alabama  \n",
       "1      92517.0       Rural Alabama  \n",
       "2      92517.0  Auburn-Opelika, AL  \n",
       "3      92517.0  Auburn-Opelika, AL  \n",
       "4      92517.0  Auburn-Opelika, AL  \n",
       "...        ...                 ...  \n",
       "92086  83121.0       Rural Wyoming  \n",
       "92087  83121.0       Rural Wyoming  \n",
       "92088  83121.0        Cheyenne, WY  \n",
       "92089  83121.0        Cheyenne, WY  \n",
       "92090  83121.0       Rural Wyoming  \n",
       "\n",
       "[91777 rows x 31 columns]"
      ]
     },
     "execution_count": 269,
     "metadata": {},
     "output_type": "execute_result"
    }
   ],
   "source": [
    "homi_df"
   ]
  },
  {
   "attachments": {},
   "cell_type": "markdown",
   "metadata": {},
   "source": [
    "---"
   ]
  },
  {
   "attachments": {},
   "cell_type": "markdown",
   "metadata": {},
   "source": [
    "## Tìm sự phân phối của các cột dữ liệu kiểu số"
   ]
  },
  {
   "cell_type": "code",
   "execution_count": 264,
   "metadata": {},
   "outputs": [
    {
     "data": {
      "text/html": [
       "<div>\n",
       "<style scoped>\n",
       "    .dataframe tbody tr th:only-of-type {\n",
       "        vertical-align: middle;\n",
       "    }\n",
       "\n",
       "    .dataframe tbody tr th {\n",
       "        vertical-align: top;\n",
       "    }\n",
       "\n",
       "    .dataframe thead th {\n",
       "        text-align: right;\n",
       "    }\n",
       "</style>\n",
       "<table border=\"1\" class=\"dataframe\">\n",
       "  <thead>\n",
       "    <tr style=\"text-align: right;\">\n",
       "      <th></th>\n",
       "      <th>Year</th>\n",
       "      <th>Incident</th>\n",
       "      <th>VicAge</th>\n",
       "      <th>OffAge</th>\n",
       "      <th>VicCount</th>\n",
       "      <th>OffCount</th>\n",
       "    </tr>\n",
       "  </thead>\n",
       "  <tbody>\n",
       "    <tr>\n",
       "      <th>mising percentage</th>\n",
       "      <td>0.0</td>\n",
       "      <td>0.0</td>\n",
       "      <td>0.0</td>\n",
       "      <td>0.0</td>\n",
       "      <td>0.0</td>\n",
       "      <td>0.0</td>\n",
       "    </tr>\n",
       "    <tr>\n",
       "      <th>min</th>\n",
       "      <td>2016.0</td>\n",
       "      <td>0.0</td>\n",
       "      <td>0.0</td>\n",
       "      <td>0.0</td>\n",
       "      <td>0.0</td>\n",
       "      <td>0.0</td>\n",
       "    </tr>\n",
       "    <tr>\n",
       "      <th>max</th>\n",
       "      <td>2020.0</td>\n",
       "      <td>999.0</td>\n",
       "      <td>999.0</td>\n",
       "      <td>999.0</td>\n",
       "      <td>21.0</td>\n",
       "      <td>40.0</td>\n",
       "    </tr>\n",
       "  </tbody>\n",
       "</table>\n",
       "</div>"
      ],
      "text/plain": [
       "                     Year  Incident  VicAge  OffAge  VicCount  OffCount\n",
       "mising percentage     0.0       0.0     0.0     0.0       0.0       0.0\n",
       "min                2016.0       0.0     0.0     0.0       0.0       0.0\n",
       "max                2020.0     999.0   999.0   999.0      21.0      40.0"
      ]
     },
     "execution_count": 264,
     "metadata": {},
     "output_type": "execute_result"
    }
   ],
   "source": [
    "col_num = ['Year','Incident','VicAge','OffAge','VicCount','OffCount']\n",
    "\n",
    "num_df = homi_df[col_num]\n",
    "\n",
    "mising_percentage = (num_df.isna().sum() / row) * 100       # tỉ lệ giá trị bị thiếu\n",
    "min_values = num_df.min()                                   # các giá trị nhỏ nhất\n",
    "max_values = num_df.max()                                   # các giá trị lớn nhất\n",
    "\n",
    "num_cols_distribution = pd.DataFrame(data = np.array((mising_percentage, min_values, max_values)),\n",
    "                                                      columns = num_df.columns,\n",
    "                                                      index = ['mising percentage', 'min', 'max'])\n",
    "num_cols_distribution"
   ]
  },
  {
   "attachments": {},
   "cell_type": "markdown",
   "metadata": {},
   "source": [
    "## Tìm sự phân phối của các cột dữ liệu kiểu phân loại"
   ]
  },
  {
   "cell_type": "code",
   "execution_count": null,
   "metadata": {},
   "outputs": [],
   "source": []
  },
  {
   "attachments": {},
   "cell_type": "markdown",
   "metadata": {},
   "source": [
    "## Xử lý các dòng bị thiếu dữ liệu"
   ]
  },
  {
   "cell_type": "code",
   "execution_count": null,
   "metadata": {},
   "outputs": [],
   "source": []
  },
  {
   "attachments": {},
   "cell_type": "markdown",
   "metadata": {},
   "source": [
    "---"
   ]
  },
  {
   "attachments": {},
   "cell_type": "markdown",
   "metadata": {},
   "source": [
    "# **Phân tích dữ liệu**"
   ]
  },
  {
   "attachments": {},
   "cell_type": "markdown",
   "metadata": {},
   "source": [
    "## **Câu hỏi số 1**"
   ]
  },
  {
   "attachments": {},
   "cell_type": "markdown",
   "metadata": {},
   "source": [
    "- (Nhập câu hỏi)\n",
    "- (Lợi ích của việc tìm câu trả lời cho câu hỏi này)"
   ]
  },
  {
   "attachments": {},
   "cell_type": "markdown",
   "metadata": {},
   "source": [
    "### Tiền xử lý"
   ]
  },
  {
   "cell_type": "code",
   "execution_count": null,
   "metadata": {},
   "outputs": [],
   "source": []
  },
  {
   "attachments": {},
   "cell_type": "markdown",
   "metadata": {},
   "source": [
    "### Phân tích"
   ]
  },
  {
   "cell_type": "code",
   "execution_count": null,
   "metadata": {},
   "outputs": [],
   "source": []
  },
  {
   "attachments": {},
   "cell_type": "markdown",
   "metadata": {},
   "source": [
    "### Trực quan hóa"
   ]
  },
  {
   "cell_type": "code",
   "execution_count": null,
   "metadata": {},
   "outputs": [],
   "source": []
  },
  {
   "attachments": {},
   "cell_type": "markdown",
   "metadata": {},
   "source": [
    "### Trả lời câu hỏi"
   ]
  },
  {
   "attachments": {},
   "cell_type": "markdown",
   "metadata": {},
   "source": [
    "- (Nhập câu trả lời và giải thích)"
   ]
  },
  {
   "attachments": {},
   "cell_type": "markdown",
   "metadata": {},
   "source": [
    "---"
   ]
  },
  {
   "attachments": {},
   "cell_type": "markdown",
   "metadata": {},
   "source": [
    "## **Câu hỏi số 2**"
   ]
  },
  {
   "attachments": {},
   "cell_type": "markdown",
   "metadata": {},
   "source": [
    "- (Nhập câu hỏi)\n",
    "- (Lợi ích của việc tìm câu trả lời cho câu hỏi này)"
   ]
  },
  {
   "attachments": {},
   "cell_type": "markdown",
   "metadata": {},
   "source": [
    "### Tiền xử lý"
   ]
  },
  {
   "cell_type": "code",
   "execution_count": null,
   "metadata": {},
   "outputs": [],
   "source": []
  },
  {
   "attachments": {},
   "cell_type": "markdown",
   "metadata": {},
   "source": [
    "### Phân tích"
   ]
  },
  {
   "cell_type": "code",
   "execution_count": null,
   "metadata": {},
   "outputs": [],
   "source": []
  },
  {
   "attachments": {},
   "cell_type": "markdown",
   "metadata": {},
   "source": [
    "### Trực quan hóa"
   ]
  },
  {
   "cell_type": "code",
   "execution_count": null,
   "metadata": {},
   "outputs": [],
   "source": []
  },
  {
   "attachments": {},
   "cell_type": "markdown",
   "metadata": {},
   "source": [
    "### Trả lời câu hỏi"
   ]
  },
  {
   "attachments": {},
   "cell_type": "markdown",
   "metadata": {},
   "source": [
    "- (Nhập câu trả lời và giải thích)"
   ]
  },
  {
   "attachments": {},
   "cell_type": "markdown",
   "metadata": {},
   "source": [
    "---"
   ]
  },
  {
   "attachments": {},
   "cell_type": "markdown",
   "metadata": {},
   "source": [
    "## **Câu hỏi số 3**"
   ]
  },
  {
   "attachments": {},
   "cell_type": "markdown",
   "metadata": {},
   "source": [
    "- (Nhập câu hỏi)\n",
    "- (Lợi ích của việc tìm câu trả lời cho câu hỏi này)"
   ]
  },
  {
   "attachments": {},
   "cell_type": "markdown",
   "metadata": {},
   "source": [
    "### Tiền xử lý"
   ]
  },
  {
   "cell_type": "code",
   "execution_count": null,
   "metadata": {},
   "outputs": [],
   "source": []
  },
  {
   "attachments": {},
   "cell_type": "markdown",
   "metadata": {},
   "source": [
    "### Phân tích"
   ]
  },
  {
   "cell_type": "code",
   "execution_count": null,
   "metadata": {},
   "outputs": [],
   "source": []
  },
  {
   "attachments": {},
   "cell_type": "markdown",
   "metadata": {},
   "source": [
    "### Trực quan hóa"
   ]
  },
  {
   "cell_type": "code",
   "execution_count": null,
   "metadata": {},
   "outputs": [],
   "source": []
  },
  {
   "attachments": {},
   "cell_type": "markdown",
   "metadata": {},
   "source": [
    "### Trả lời câu hỏi"
   ]
  },
  {
   "attachments": {},
   "cell_type": "markdown",
   "metadata": {},
   "source": [
    "- (Nhập câu trả lời và giải thích)"
   ]
  },
  {
   "attachments": {},
   "cell_type": "markdown",
   "metadata": {},
   "source": [
    "---"
   ]
  },
  {
   "attachments": {},
   "cell_type": "markdown",
   "metadata": {},
   "source": [
    "## **Câu hỏi số 4**"
   ]
  },
  {
   "attachments": {},
   "cell_type": "markdown",
   "metadata": {},
   "source": [
    "- (Nhập câu hỏi)\n",
    "- (Lợi ích của việc tìm câu trả lời cho câu hỏi này)"
   ]
  },
  {
   "attachments": {},
   "cell_type": "markdown",
   "metadata": {},
   "source": [
    "### Tiền xử lý"
   ]
  },
  {
   "cell_type": "code",
   "execution_count": null,
   "metadata": {},
   "outputs": [],
   "source": []
  },
  {
   "attachments": {},
   "cell_type": "markdown",
   "metadata": {},
   "source": [
    "### Phân tích"
   ]
  },
  {
   "cell_type": "code",
   "execution_count": null,
   "metadata": {},
   "outputs": [],
   "source": []
  },
  {
   "attachments": {},
   "cell_type": "markdown",
   "metadata": {},
   "source": [
    "### Trực quan hóa"
   ]
  },
  {
   "cell_type": "code",
   "execution_count": null,
   "metadata": {},
   "outputs": [],
   "source": []
  },
  {
   "attachments": {},
   "cell_type": "markdown",
   "metadata": {},
   "source": [
    "### Trả lời câu hỏi"
   ]
  },
  {
   "attachments": {},
   "cell_type": "markdown",
   "metadata": {},
   "source": [
    "- (Nhập câu trả lời và giải thích)"
   ]
  },
  {
   "attachments": {},
   "cell_type": "markdown",
   "metadata": {},
   "source": [
    "---"
   ]
  },
  {
   "attachments": {},
   "cell_type": "markdown",
   "metadata": {},
   "source": [
    "# **Đôi điều về đồ án**"
   ]
  },
  {
   "attachments": {},
   "cell_type": "markdown",
   "metadata": {},
   "source": [
    "- Mỗi thành viên gặp khó khăn gì?\n",
    "- Mỗi thành viên học được những gì?\n",
    "- Nếu có thêm thời gian, sẽ làm những gì?"
   ]
  },
  {
   "attachments": {},
   "cell_type": "markdown",
   "metadata": {},
   "source": [
    "---"
   ]
  },
  {
   "attachments": {},
   "cell_type": "markdown",
   "metadata": {},
   "source": [
    "# **Các nguồn tham khảo**"
   ]
  },
  {
   "attachments": {},
   "cell_type": "markdown",
   "metadata": {},
   "source": [
    "https://www.kaggle.com/code/nevil7/homicide-data-identifying-the-serial-killers"
   ]
  }
 ],
 "metadata": {
  "kernelspec": {
   "display_name": "Python 3",
   "language": "python",
   "name": "python3"
  },
  "language_info": {
   "codemirror_mode": {
    "name": "ipython",
    "version": 3
   },
   "file_extension": ".py",
   "mimetype": "text/x-python",
   "name": "python",
   "nbconvert_exporter": "python",
   "pygments_lexer": "ipython3",
   "version": "3.10.5"
  },
  "orig_nbformat": 4,
  "vscode": {
   "interpreter": {
    "hash": "31fd7f76f8009355209fe3881fbaf958d9747068dc2a273c2a9f3914650997fe"
   }
  }
 },
 "nbformat": 4,
 "nbformat_minor": 2
}
